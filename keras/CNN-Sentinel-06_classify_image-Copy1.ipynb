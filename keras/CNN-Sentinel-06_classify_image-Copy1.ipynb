{
 "cells": [
  {
   "cell_type": "code",
   "execution_count": 44,
   "metadata": {},
   "outputs": [],
   "source": [
    "import numpy as np\n",
    "from skimage.io import imread\n",
    "from skimage.util import pad\n",
    "from keras.models import load_model\n",
    "import gdal\n",
    "from tqdm import tqdm\n",
    "import tensorflow as tf"
   ]
  },
  {
   "cell_type": "code",
   "execution_count": 45,
   "metadata": {},
   "outputs": [],
   "source": [
    "def preprocessing_image_rgb(x):\n",
    "    # define mean and std values\n",
    "    mean = [87.845, 96.965, 103.947]\n",
    "    std = [23.657, 16.474, 13.793]\n",
    "    # loop over image channels\n",
    "    for idx, mean_value in enumerate(mean):\n",
    "        x[..., idx] -= mean_value\n",
    "        x[..., idx] /= std[idx]\n",
    "    return x\n",
    "\n",
    "\n",
    "def preprocessing_image_ms(x):\n",
    "    # define mean and std values\n",
    "    mean = [1353.036, 1116.468, 1041.475, 945.344, 1198.498, 2004.878,\n",
    "            2376.699, 2303.738, 732.957, 12.092, 1818.820, 1116.271, 2602.579]\n",
    "    std = [65.479, 154.008, 187.997, 278.508, 228.122, 356.598, 456.035,\n",
    "           531.570, 98.947, 1.188, 378.993, 303.851, 503.181]\n",
    "    # loop over image channels\n",
    "    for idx, mean_value in enumerate(mean):\n",
    "        x[..., idx] -= mean_value\n",
    "        x[..., idx] /= std[idx]\n",
    "    return x\n",
    "\n",
    "\n",
    "def categorical_label_from_full_file_name(files, class_indices):\n",
    "    from keras.utils import to_categorical\n",
    "    import os\n",
    "    # file basename without extension\n",
    "    base_name = [os.path.splitext(os.path.basename(i))[0] for i in files]\n",
    "    # class label from filename\n",
    "    base_name = [i.split(\"_\")[0] for i in base_name]\n",
    "    # label to indices\n",
    "    image_class = [class_indices[i] for i in base_name]\n",
    "    # class indices to one-hot-label\n",
    "    return to_categorical(image_class, num_classes=len(class_indices))\n",
    "\n",
    "\n",
    "def simple_image_generator(files, class_indices, batch_size=32,\n",
    "                           rotation_range=0, horizontal_flip=False,\n",
    "                           vertical_flip=False):\n",
    "    from skimage.io import imread\n",
    "    from skimage.transform import rotate\n",
    "    import numpy as np\n",
    "    from random import sample, choice\n",
    "\n",
    "    while True:\n",
    "        # select batch_size number of samples without replacement\n",
    "        batch_files = sample(files, batch_size)\n",
    "        # get one_hot_label\n",
    "        batch_Y = categorical_label_from_full_file_name(batch_files,\n",
    "                                                        class_indices)\n",
    "        # array for images\n",
    "        batch_X = []\n",
    "        # loop over images of the current batch\n",
    "        for idx, input_path in enumerate(batch_files):\n",
    "            image = np.array(imread(input_path), dtype=float)\n",
    "            image = preprocessing_image_ms(image)\n",
    "            # process image\n",
    "            if horizontal_flip:\n",
    "                # randomly flip image up/down\n",
    "                if choice([True, False]):\n",
    "                    image = np.flipud(image)\n",
    "            if vertical_flip:\n",
    "                # randomly flip image left/right\n",
    "                if choice([True, False]):\n",
    "                    image = np.fliplr(image)\n",
    "            # rotate image by random angle between\n",
    "            # -rotation_range <= angle < rotation_range\n",
    "            if rotation_range is not 0:\n",
    "                angle = np.random.uniform(low=-abs(rotation_range),\n",
    "                                          high=abs(rotation_range))\n",
    "                image = rotate(image, angle, mode='reflect',\n",
    "                               order=1, preserve_range=True)\n",
    "            # put all together\n",
    "            batch_X += [image]\n",
    "        # convert lists to np.array\n",
    "        X = np.array(batch_X)\n",
    "        Y = np.array(batch_Y)\n",
    "\n",
    "        yield(X, Y)\n"
   ]
  },
  {
   "cell_type": "code",
   "execution_count": 46,
   "metadata": {},
   "outputs": [],
   "source": [
    "path_to_image = \"C:/Users/user/harbor16.tif\""
   ]
  },
  {
   "cell_type": "code",
   "execution_count": 47,
   "metadata": {},
   "outputs": [],
   "source": [
    "path_to_model = \"E:/PAPER_RS_DEEPLEARNING/image/RGB/vgg_rgb_transfer_final.06-0.703.hdf5\""
   ]
  },
  {
   "cell_type": "code",
   "execution_count": 48,
   "metadata": {},
   "outputs": [],
   "source": [
    "path_to_label_image = \"E:/PAPER_RS_DEEPLEARNING/image/RGB/harbor16_label.tif\""
   ]
  },
  {
   "cell_type": "code",
   "execution_count": 49,
   "metadata": {},
   "outputs": [],
   "source": [
    "path_to_prob_image = \"E:/PAPER_RS_DEEPLEARNING/image/RGB/harbor16_prob.tif\""
   ]
  },
  {
   "cell_type": "code",
   "execution_count": 50,
   "metadata": {},
   "outputs": [],
   "source": [
    "image = np.array(imread(path_to_image), dtype=float)"
   ]
  },
  {
   "cell_type": "code",
   "execution_count": 51,
   "metadata": {},
   "outputs": [],
   "source": [
    "_, num_cols_unpadded, _ = image.shape"
   ]
  },
  {
   "cell_type": "code",
   "execution_count": 52,
   "metadata": {
    "scrolled": true
   },
   "outputs": [],
   "source": [
    "model = load_model(path_to_model)"
   ]
  },
  {
   "cell_type": "code",
   "execution_count": 53,
   "metadata": {},
   "outputs": [],
   "source": [
    "_, input_rows, input_cols, input_channels = model.layers[0].input_shape"
   ]
  },
  {
   "cell_type": "code",
   "execution_count": 54,
   "metadata": {},
   "outputs": [],
   "source": [
    "_, output_classes = model.layers[-1].output_shape"
   ]
  },
  {
   "cell_type": "code",
   "execution_count": 55,
   "metadata": {},
   "outputs": [
    {
     "data": {
      "text/plain": [
       "(None, 64, 64, 3, 45)"
      ]
     },
     "execution_count": 55,
     "metadata": {},
     "output_type": "execute_result"
    }
   ],
   "source": [
    "_, input_rows, input_cols, input_channels, output_classes"
   ]
  },
  {
   "cell_type": "code",
   "execution_count": 56,
   "metadata": {},
   "outputs": [],
   "source": [
    "in_rows_half = int(input_rows/2)"
   ]
  },
  {
   "cell_type": "code",
   "execution_count": 57,
   "metadata": {},
   "outputs": [],
   "source": [
    "in_cols_half = int(input_cols/2)"
   ]
  },
  {
   "cell_type": "code",
   "execution_count": 58,
   "metadata": {
    "scrolled": true
   },
   "outputs": [],
   "source": [
    "image = preprocessing_image_rgb(image)"
   ]
  },
  {
   "cell_type": "code",
   "execution_count": 59,
   "metadata": {},
   "outputs": [
    {
     "data": {
      "text/plain": [
       "(256, 256, 3)"
      ]
     },
     "execution_count": 59,
     "metadata": {},
     "output_type": "execute_result"
    }
   ],
   "source": [
    "image.shape"
   ]
  },
  {
   "cell_type": "code",
   "execution_count": 60,
   "metadata": {},
   "outputs": [],
   "source": [
    "num_rows, num_cols, _ = image.shape"
   ]
  },
  {
   "cell_type": "code",
   "execution_count": 61,
   "metadata": {},
   "outputs": [],
   "source": [
    "image_classified_prob = np.zeros((num_rows, num_cols, output_classes))"
   ]
  },
  {
   "cell_type": "code",
   "execution_count": null,
   "metadata": {},
   "outputs": [],
   "source": []
  },
  {
   "cell_type": "code",
   "execution_count": 62,
   "metadata": {},
   "outputs": [],
   "source": [
    "row_images = np.zeros((num_cols_unpadded, input_rows, input_cols, input_channels))"
   ]
  },
  {
   "cell_type": "code",
   "execution_count": 63,
   "metadata": {},
   "outputs": [
    {
     "data": {
      "text/plain": [
       "(64, 320)"
      ]
     },
     "execution_count": 63,
     "metadata": {},
     "output_type": "execute_result"
    }
   ],
   "source": [
    "input_cols, num_cols + input_cols"
   ]
  },
  {
   "cell_type": "code",
   "execution_count": 64,
   "metadata": {},
   "outputs": [],
   "source": [
    "config = tf.ConfigProto()\n",
    "config.gpu_options.allow_growth = True\n",
    "session = tf.Session(config=config)"
   ]
  },
  {
   "cell_type": "code",
   "execution_count": 65,
   "metadata": {
    "scrolled": false
   },
   "outputs": [
    {
     "name": "stderr",
     "output_type": "stream",
     "text": [
      "Processing...: 100%|█████████████████████████████████████████████████████████████████| 128/128 [00:35<00:00,  3.67it/s]\n"
     ]
    }
   ],
   "source": [
    "for row in tqdm(range(input_rows, num_rows-input_rows), desc=\"Processing...\"):\n",
    "    for idx, col in enumerate(range(input_cols, num_cols-input_cols)):\n",
    "        row_images[idx, ... ] = image[row-in_rows_half:row+in_rows_half,\n",
    "                                     col-in_cols_half:col+in_cols_half, :]\n",
    "    row_classified = model.predict(row_images, batch_size=128, verbose=0)\n",
    "    image_classified_prob[row, :, : ] = row_classified"
   ]
  },
  {
   "cell_type": "code",
   "execution_count": 66,
   "metadata": {},
   "outputs": [],
   "source": [
    "image_classified_prob = image_classified_prob[input_rows:num_rows-input_rows, \n",
    "                                               input_cols:num_cols-input_cols, :] \n"
   ]
  },
  {
   "cell_type": "code",
   "execution_count": 67,
   "metadata": {},
   "outputs": [
    {
     "data": {
      "text/plain": [
       "(256, 45)"
      ]
     },
     "execution_count": 67,
     "metadata": {},
     "output_type": "execute_result"
    }
   ],
   "source": [
    "row_classified.shape"
   ]
  },
  {
   "cell_type": "code",
   "execution_count": 68,
   "metadata": {},
   "outputs": [
    {
     "data": {
      "text/plain": [
       "array([3.36917874e-04, 8.12971921e-05, 4.11036599e-04, 5.31207828e-04,\n",
       "       2.84259440e-03, 6.38214260e-05, 3.00089027e-07, 1.05941668e-01,\n",
       "       1.45641332e-06, 4.48789634e-03, 3.84237677e-01, 5.79819549e-03,\n",
       "       2.94220672e-06, 5.78468243e-05, 7.33589550e-05, 9.17406869e-05,\n",
       "       1.52382324e-03, 2.07820073e-01, 4.48145962e-04, 6.47111847e-06,\n",
       "       2.89743650e-03, 2.10048573e-04, 4.10645316e-06, 4.87991609e-04,\n",
       "       2.43038740e-02, 2.99552516e-06, 2.72829175e-06, 9.50503871e-02,\n",
       "       2.63555936e-04, 2.92998593e-05, 2.84127571e-04, 1.58397302e-06,\n",
       "       7.12058900e-05, 3.51332856e-05, 3.84150655e-04, 3.11665563e-03,\n",
       "       9.85642895e-02, 4.90578823e-05, 1.40921402e-04, 3.17259803e-02,\n",
       "       1.64499562e-02, 4.36643255e-04, 2.30386081e-06, 1.04453750e-02,\n",
       "       2.81665183e-04])"
      ]
     },
     "execution_count": 68,
     "metadata": {},
     "output_type": "execute_result"
    }
   ],
   "source": [
    "image_classified_prob[0,0]"
   ]
  },
  {
   "cell_type": "code",
   "execution_count": 69,
   "metadata": {},
   "outputs": [],
   "source": [
    "image_classified_label = np.argmax(image_classified_prob, axis=-1) \n",
    "image_classified_prob = np.sort(image_classified_prob, axis=-1)[..., -1] \n"
   ]
  },
  {
   "cell_type": "code",
   "execution_count": 70,
   "metadata": {},
   "outputs": [],
   "source": [
    "image = gdal.Open(path_to_image, gdal.GA_ReadOnly)"
   ]
  },
  {
   "cell_type": "code",
   "execution_count": 71,
   "metadata": {},
   "outputs": [],
   "source": [
    "geotransform = image.GetGeoTransform()"
   ]
  },
  {
   "cell_type": "code",
   "execution_count": 72,
   "metadata": {},
   "outputs": [],
   "source": [
    "driver = gdal.GetDriverByName('GTiff')"
   ]
  },
  {
   "cell_type": "code",
   "execution_count": 73,
   "metadata": {},
   "outputs": [],
   "source": [
    "file = driver.Create(path_to_label_image, \n",
    "                      image_classified_label.shape[1], \n",
    "                      image_classified_label.shape[0], \n",
    "                      1, \n",
    "                      gdal.GDT_Byte, \n",
    "                      ['TFW=YES', 'NUM_THREADS=1']) \n",
    "\n",
    "# write label file \n",
    "\n"
   ]
  },
  {
   "cell_type": "code",
   "execution_count": 74,
   "metadata": {},
   "outputs": [
    {
     "data": {
      "text/plain": [
       "0"
      ]
     },
     "execution_count": 74,
     "metadata": {},
     "output_type": "execute_result"
    }
   ],
   "source": [
    "file.SetGeoTransform(geotransform) "
   ]
  },
  {
   "cell_type": "code",
   "execution_count": 75,
   "metadata": {},
   "outputs": [
    {
     "data": {
      "text/plain": [
       "0"
      ]
     },
     "execution_count": 75,
     "metadata": {},
     "output_type": "execute_result"
    }
   ],
   "source": [
    "file.SetProjection(image.GetProjection()) "
   ]
  },
  {
   "cell_type": "code",
   "execution_count": 76,
   "metadata": {},
   "outputs": [
    {
     "data": {
      "text/plain": [
       "0"
      ]
     },
     "execution_count": 76,
     "metadata": {},
     "output_type": "execute_result"
    }
   ],
   "source": [
    "file.GetRasterBand(1).WriteArray(image_classified_label)"
   ]
  },
  {
   "cell_type": "code",
   "execution_count": 77,
   "metadata": {},
   "outputs": [],
   "source": [
    "file = None "
   ]
  },
  {
   "cell_type": "code",
   "execution_count": 78,
   "metadata": {},
   "outputs": [],
   "source": [
    "file = driver.Create(path_to_prob_image, \n",
    "                      image_classified_prob.shape[1], \n",
    "                      image_classified_prob.shape[0], \n",
    "                      1, \n",
    "                      gdal.GDT_Float32, \n",
    "                      ['TFW=YES', 'NUM_THREADS=1']) "
   ]
  },
  {
   "cell_type": "code",
   "execution_count": 79,
   "metadata": {},
   "outputs": [
    {
     "data": {
      "text/plain": [
       "0"
      ]
     },
     "execution_count": 79,
     "metadata": {},
     "output_type": "execute_result"
    }
   ],
   "source": [
    "file.SetGeoTransform(geotransform) "
   ]
  },
  {
   "cell_type": "code",
   "execution_count": 80,
   "metadata": {},
   "outputs": [
    {
     "data": {
      "text/plain": [
       "0"
      ]
     },
     "execution_count": 80,
     "metadata": {},
     "output_type": "execute_result"
    }
   ],
   "source": [
    "file.SetProjection(image.GetProjection()) \n",
    "# write label file \n"
   ]
  },
  {
   "cell_type": "code",
   "execution_count": 81,
   "metadata": {},
   "outputs": [
    {
     "data": {
      "text/plain": [
       "0"
      ]
     },
     "execution_count": 81,
     "metadata": {},
     "output_type": "execute_result"
    }
   ],
   "source": [
    "file.GetRasterBand(1).WriteArray(image_classified_prob) "
   ]
  },
  {
   "cell_type": "code",
   "execution_count": 82,
   "metadata": {},
   "outputs": [],
   "source": [
    "file = None \n",
    "image = None "
   ]
  },
  {
   "cell_type": "code",
   "execution_count": 85,
   "metadata": {},
   "outputs": [],
   "source": [
    "import glob\n",
    "from osgeo import gdal\n",
    "import numpy as np\n",
    "import os\n",
    "\n"
   ]
  },
  {
   "cell_type": "code",
   "execution_count": 86,
   "metadata": {},
   "outputs": [],
   "source": [
    "\n",
    "def getMeanStd(path, n_bands=3, n_max=-1):\n",
    "    \"\"\"Get mean and standard deviation from images.\n",
    "\n",
    "    Parameters\n",
    "    ----------\n",
    "    path : str\n",
    "        Path to training images\n",
    "    n_bands : int\n",
    "        Number of spectral bands (3 for RGB, 13 for Sentinel-2)\n",
    "    n_max : int\n",
    "        Maximum number of iterations (-1 = all)\n",
    "\n",
    "    Return\n",
    "    ------\n",
    "\n",
    "    \"\"\"\n",
    "    if not os.path.isdir(path):\n",
    "        print(\"Error: Directory does not exist.\")\n",
    "        return 0\n",
    "    \n",
    "    mean_array = [[] for _ in range(n_bands)]\n",
    "    std_array = [[] for _ in range(n_bands)]\n",
    "\n",
    "    # iterate over the images\n",
    "    i = 0\n",
    "    for tif in glob.glob(path+\"harbor16.tif\"):\n",
    "        if (i < n_max) or (n_max == -1):\n",
    "            ds = gdal.Open(tif)\n",
    "            for band in range(n_bands):\n",
    "                mean_array[band].append(\n",
    "                    np.mean(ds.GetRasterBand(band+1).ReadAsArray()))\n",
    "                std_array[band].append(\n",
    "                    np.std(ds.GetRasterBand(band+1).ReadAsArray()))\n",
    "            i+=1\n",
    "        else:\n",
    "            break\n",
    "\n",
    "    # results\n",
    "    res_mean = [np.mean(mean_array[band]) for band in range(n_bands)]\n",
    "    res_std = [np.mean(std_array[band]) for band in range(n_bands)]\n",
    "\n",
    "    # print results table\n",
    "    print(\"Band |   Mean   |   Std\")\n",
    "    print(\"-\"*28)\n",
    "    for band in range(n_bands):\n",
    "        print(\"{band:4d} | {mean:8.3f} | {std:8.3f}\".format(\n",
    "            band=band, mean=res_mean[band], std=res_std[band]))\n",
    "    \n",
    "    return res_mean, res_std\n",
    "\n"
   ]
  },
  {
   "cell_type": "code",
   "execution_count": 87,
   "metadata": {},
   "outputs": [
    {
     "name": "stdout",
     "output_type": "stream",
     "text": [
      "Band |   Mean   |   Std\n",
      "----------------------------\n",
      "   0 |   97.323 |   80.164\n",
      "   1 |  121.246 |   67.701\n",
      "   2 |  113.442 |   69.944\n"
     ]
    }
   ],
   "source": [
    "if __name__ == \"__main__\":\n",
    "    getMeanStd(path='C:/Users/user/', n_bands=3)"
   ]
  },
  {
   "cell_type": "code",
   "execution_count": null,
   "metadata": {},
   "outputs": [],
   "source": []
  }
 ],
 "metadata": {
  "kernelspec": {
   "display_name": "Python 3",
   "language": "python",
   "name": "python3"
  },
  "language_info": {
   "codemirror_mode": {
    "name": "ipython",
    "version": 3
   },
   "file_extension": ".py",
   "mimetype": "text/x-python",
   "name": "python",
   "nbconvert_exporter": "python",
   "pygments_lexer": "ipython3",
   "version": "3.5.3"
  }
 },
 "nbformat": 4,
 "nbformat_minor": 2
}
