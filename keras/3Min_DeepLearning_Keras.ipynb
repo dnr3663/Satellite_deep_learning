{
 "cells": [
  {
   "cell_type": "code",
   "execution_count": 1,
   "metadata": {},
   "outputs": [
    {
     "name": "stderr",
     "output_type": "stream",
     "text": [
      "Using TensorFlow backend.\n"
     ]
    }
   ],
   "source": [
    "from keras import layers, models"
   ]
  },
  {
   "cell_type": "code",
   "execution_count": 3,
   "metadata": {},
   "outputs": [],
   "source": [
    "def ANN_models_func(Nin, Nh, Nout):\n",
    "    x = layers.Input(shape=(Nin,))\n",
    "    h = layers.Activation('relu')(layers.Dense(Nh)(x))\n",
    "    y = layers.Activation('softmax')(layers.Dense(Nout)(h))\n",
    "    model = models.Model(x, y)\n",
    "    model.compile(loss='categorical_crossentropy', optimizer='adam', metrics=['accuracy'])\n",
    "    return model\n",
    "\n",
    "\n",
    "def ANN_seq_func(Nin, Nh, Nout):\n",
    "    model = models.Sequential()\n",
    "    model.add(layers.Dense(Nh, activation='relu', input_shape=(Nin,)))\n",
    "    model.add(layers.Dense(Nout, activation='softmax'))\n",
    "    model.compile(loss='categorical_crossentropy',\n",
    "                  optimizer='adam', metrics=['accuracy'])\n",
    "    return model"
   ]
  },
  {
   "cell_type": "code",
   "execution_count": 4,
   "metadata": {},
   "outputs": [],
   "source": [
    "class ANN_models_class(models.Model):\n",
    "    def __init__(self, Nin, Nh, Nout):\n",
    "        # Prepare network layers and activate functions\n",
    "        hidden = layers.Dense(Nh)\n",
    "        output = layers.Dense(Nout)\n",
    "        relu = layers.Activation('relu')\n",
    "        softmax = layers.Activation('softmax')\n",
    "\n",
    "        # Connect network elements\n",
    "        x = layers.Input(shape=(Nin,))\n",
    "        h = relu(hidden(x))\n",
    "        y = softmax(output(h))\n",
    "\n",
    "        super().__init__(x, y)\n",
    "        self.compile(loss='categorical_crossentropy',\n",
    "                     optimizer='adam', metrics=['accuracy'])"
   ]
  },
  {
   "cell_type": "code",
   "execution_count": 5,
   "metadata": {},
   "outputs": [],
   "source": [
    "class ANN_seq_class(models.Sequential):\n",
    "    def __init__(self, Nin, Nh, Nout):\n",
    "        super().__init__()\n",
    "        self.add(layers.Dense(Nh, activation='relu', input_shape=(Nin,)))\n",
    "        self.add(layers.Dense(Nout, activation='softmax'))\n",
    "        self.compile(loss='categorical_crossentropy',\n",
    "                     optimizer='adam', metrics=['accuracy'])"
   ]
  },
  {
   "cell_type": "code",
   "execution_count": 6,
   "metadata": {},
   "outputs": [],
   "source": [
    "import numpy as np\n",
    "from keras import datasets  # mnist\n",
    "from keras.utils import np_utils  # to_categorical"
   ]
  },
  {
   "cell_type": "code",
   "execution_count": 7,
   "metadata": {},
   "outputs": [],
   "source": [
    "def Data_func():\n",
    "    (X_train, y_train), (X_test, y_test) = datasets.mnist.load_data()\n",
    "\n",
    "    Y_train = np_utils.to_categorical(y_train)\n",
    "    Y_test = np_utils.to_categorical(y_test)\n",
    "\n",
    "    L, W, H = X_train.shape\n",
    "    X_train = X_train.reshape(-1, W * H)\n",
    "    X_test = X_test.reshape(-1, W * H)\n",
    "\n",
    "    X_train = X_train / 255.0\n",
    "    X_test = X_test / 255.0\n",
    "\n",
    "    return (X_train, Y_train), (X_test, Y_test)\n"
   ]
  },
  {
   "cell_type": "code",
   "execution_count": 12,
   "metadata": {},
   "outputs": [],
   "source": [
    "def plot_history(history):\n",
    "    plt.figure(figsize=(15, 5))\n",
    "    plt.subplot(1, 2, 1)\n",
    "    plot_acc(history)\n",
    "    plt.subplot(1, 2, 2)\n",
    "    plot_loss(history)\n",
    "\n",
    "    \n",
    "def plot_loss_acc(history):\n",
    "    plot_loss(history, '(a) Loss trajectory')\n",
    "    plt.show()            \n",
    "    plot_acc(history, '(b) Accracy trajectory')\n",
    "    plt.show()\n",
    "    \n",
    "    \n",
    "def plot_acc_loss(history):\n",
    "    plot_acc(history, '(a) Accracy trajectory')\n",
    "    plt.show()\n",
    "    plot_loss(history, '(b) Loss trajectory')\n",
    "    plt.show()       "
   ]
  },
  {
   "cell_type": "code",
   "execution_count": 13,
   "metadata": {},
   "outputs": [],
   "source": [
    "def save_history_history(fname, history_history, fold=''):\n",
    "    np.save(os.path.join(fold, fname), history_history)\n",
    "\n",
    "\n",
    "def load_history_history(fname, fold=''):\n",
    "    history_history = np.load(os.path.join(fold, fname)).item(0)\n",
    "    return history_history"
   ]
  },
  {
   "cell_type": "code",
   "execution_count": 10,
   "metadata": {},
   "outputs": [],
   "source": [
    "import matplotlib.pyplot as plt\n",
    "\n",
    "\n",
    "def plot_acc(history, title=None):\n",
    "    # summarize history for accuracy\n",
    "    if not isinstance(history, dict):\n",
    "        history = history.history\n",
    "\n",
    "    plt.plot(history['acc'])\n",
    "    plt.plot(history['val_acc'])\n",
    "    if title is not None:\n",
    "        plt.title(title)\n",
    "    plt.ylabel('Accuracy')\n",
    "    plt.xlabel('Epoch')\n",
    "    plt.legend(['Training', 'Verification'], loc=0)\n",
    "    # plt.show()\n"
   ]
  },
  {
   "cell_type": "code",
   "execution_count": 11,
   "metadata": {},
   "outputs": [],
   "source": [
    "def plot_loss(history, title=None):\n",
    "    # summarize history for loss\n",
    "    if not isinstance(history, dict):\n",
    "        history = history.history\n",
    "\n",
    "    plt.plot(history['loss'])\n",
    "    plt.plot(history['val_loss'])\n",
    "    if title is not None:\n",
    "        plt.title(title)\n",
    "    plt.ylabel('Loss')\n",
    "    plt.xlabel('Epoch')\n",
    "    plt.legend(['Training', 'Verification'], loc=0)\n",
    "    # plt.show()\n"
   ]
  },
  {
   "cell_type": "code",
   "execution_count": 10,
   "metadata": {},
   "outputs": [],
   "source": [
    "def main():\n",
    "    Nin = 784\n",
    "    Nh = 100\n",
    "    number_of_class = 10\n",
    "    Nout = number_of_class\n",
    "\n",
    "    # model = ANN_models_func(Nin, Nh, Nout)\n",
    "    # model = ANN_models_class(Nin, Nh, Nout)\n",
    "    model = ANN_seq_class(Nin, Nh, Nout)\n",
    "    (X_train, Y_train), (X_test, Y_test) = Data_func()\n",
    "\n",
    "    ##############################################\n",
    "    # Training\n",
    "    ##############################################\n",
    "    history = model.fit(X_train, Y_train, epochs=15, batch_size=100, validation_split=0.2)\n",
    "    performace_test = model.evaluate(X_test, Y_test, batch_size=100)\n",
    "    print('Test Loss and Accuracy ->', performace_test)\n",
    "\n",
    "    plot_loss(history)\n",
    "    plt.show()\n",
    "    plot_acc(history)\n",
    "    plt.show()"
   ]
  },
  {
   "cell_type": "code",
   "execution_count": 34,
   "metadata": {},
   "outputs": [
    {
     "name": "stdout",
     "output_type": "stream",
     "text": [
      "Train on 48000 samples, validate on 12000 samples\n",
      "Epoch 1/15\n",
      "48000/48000 [==============================] - 5s 102us/step - loss: 0.3985 - acc: 0.8907 - val_loss: 0.2169 - val_acc: 0.9394\n",
      "Epoch 2/15\n",
      "48000/48000 [==============================] - 2s 34us/step - loss: 0.1858 - acc: 0.9473 - val_loss: 0.1629 - val_acc: 0.9548\n",
      "Epoch 3/15\n",
      "48000/48000 [==============================] - 2s 33us/step - loss: 0.1362 - acc: 0.9616 - val_loss: 0.1320 - val_acc: 0.9615\n",
      "Epoch 4/15\n",
      "48000/48000 [==============================] - 2s 33us/step - loss: 0.1074 - acc: 0.9699 - val_loss: 0.1202 - val_acc: 0.9656\n",
      "Epoch 5/15\n",
      "48000/48000 [==============================] - 2s 32us/step - loss: 0.0888 - acc: 0.9746 - val_loss: 0.1091 - val_acc: 0.9681\n",
      "Epoch 6/15\n",
      "48000/48000 [==============================] - 2s 33us/step - loss: 0.0740 - acc: 0.9787 - val_loss: 0.1002 - val_acc: 0.9717\n",
      "Epoch 7/15\n",
      "48000/48000 [==============================] - 2s 32us/step - loss: 0.0631 - acc: 0.9819 - val_loss: 0.0973 - val_acc: 0.9708\n",
      "Epoch 8/15\n",
      "48000/48000 [==============================] - 2s 32us/step - loss: 0.0531 - acc: 0.9849 - val_loss: 0.0918 - val_acc: 0.9733\n",
      "Epoch 9/15\n",
      "48000/48000 [==============================] - 1s 31us/step - loss: 0.0465 - acc: 0.9874 - val_loss: 0.0913 - val_acc: 0.9737\n",
      "Epoch 10/15\n",
      "48000/48000 [==============================] - 1s 31us/step - loss: 0.0398 - acc: 0.9891 - val_loss: 0.0946 - val_acc: 0.9727\n",
      "Epoch 11/15\n",
      "48000/48000 [==============================] - 1s 31us/step - loss: 0.0341 - acc: 0.9910 - val_loss: 0.0922 - val_acc: 0.9743\n",
      "Epoch 12/15\n",
      "48000/48000 [==============================] - 1s 31us/step - loss: 0.0296 - acc: 0.9922 - val_loss: 0.0920 - val_acc: 0.9739\n",
      "Epoch 13/15\n",
      "48000/48000 [==============================] - 2s 31us/step - loss: 0.0249 - acc: 0.9936 - val_loss: 0.0910 - val_acc: 0.9747\n",
      "Epoch 14/15\n",
      "48000/48000 [==============================] - 1s 31us/step - loss: 0.0216 - acc: 0.9945 - val_loss: 0.0921 - val_acc: 0.9752\n",
      "Epoch 15/15\n",
      "48000/48000 [==============================] - 2s 32us/step - loss: 0.0189 - acc: 0.9957 - val_loss: 0.0884 - val_acc: 0.9755\n",
      "10000/10000 [==============================] - 0s 13us/step\n",
      "Test Loss and Accuracy -> [0.08772020888813131, 0.9744000047445297]\n"
     ]
    },
    {
     "data": {
      "image/png": "[encoded data removed]",
      "text/plain": [
       "<Figure size 432x288 with 1 Axes>"
      ]
     },
     "metadata": {
      "needs_background": "light"
     },
     "output_type": "display_data"
    },
    {
     "data": {
      "image/png": "[encoded data removed]",
      "text/plain": [
       "<Figure size 432x288 with 1 Axes>"
      ]
     },
     "metadata": {
      "needs_background": "light"
     },
     "output_type": "display_data"
    }
   ],
   "source": [
    "if __name__ == '__main__':\n",
    "    main()\n"
   ]
  },
  {
   "cell_type": "code",
   "execution_count": 11,
   "metadata": {},
   "outputs": [],
   "source": [
    "###############p90. 회귀 ANN 모델"
   ]
  },
  {
   "cell_type": "code",
   "execution_count": 11,
   "metadata": {},
   "outputs": [],
   "source": [
    "class ANN(models.Model):\n",
    "    def __init__(self, Nin, Nh, Nout):\n",
    "        hidden = layers.Dense(Nh)\n",
    "        output = layers.Dense(Nout)\n",
    "        relu = layers.Activation('relu')\n",
    "        x = layers.Input(shape=(Nin,))\n",
    "        h = relu(hidden(x))\n",
    "        y = output(h)\n",
    "        super().__init__(x,y)\n",
    "        self.compile(loss='mse', optimizer='adam')"
   ]
  },
  {
   "cell_type": "code",
   "execution_count": 12,
   "metadata": {},
   "outputs": [],
   "source": [
    "from sklearn import preprocessing"
   ]
  },
  {
   "cell_type": "code",
   "execution_count": 13,
   "metadata": {},
   "outputs": [],
   "source": [
    "def Data_func():\n",
    "    (X_train, y_train), (X_test, y_test) = datasets.boston_housing.load_data()\n",
    "    scaler = preprocessing.MinMaxScaler()\n",
    "    X_train = scaler.fit_transform(X_train)\n",
    "    X_test = scaler.transform(X_test)\n",
    "    return (X_train, y_train), (X_test, y_test)"
   ]
  },
  {
   "cell_type": "code",
   "execution_count": 13,
   "metadata": {},
   "outputs": [],
   "source": [
    "def main():\n",
    "    Nin = 13\n",
    "    Nh = 5\n",
    "    Nout = 1\n",
    "    model = ANN(Nin, Nh, Nout)\n",
    "    (X_train, y_train), (X_test, y_test) = Data_func()\n",
    "    history = model.fit(X_train, y_train, epochs=100, batch_size = 100, validation_split=0.2, verbose=2)\n",
    "    \n",
    "    performance_test = model.evaluate(X_test, y_test, batch_size=100)\n",
    "    print(performance_test)\n",
    "    plot_loss(history)\n",
    "    plt.show()"
   ]
  },
  {
   "cell_type": "code",
   "execution_count": 39,
   "metadata": {},
   "outputs": [
    {
     "name": "stdout",
     "output_type": "stream",
     "text": [
      "Train on 323 samples, validate on 81 samples\n",
      "Epoch 1/100\n",
      " - 0s - loss: 561.8189 - val_loss: 631.3386\n",
      "Epoch 2/100\n",
      " - 0s - loss: 559.9683 - val_loss: 629.2991\n",
      "Epoch 3/100\n",
      " - 0s - loss: 558.0128 - val_loss: 627.1374\n",
      "Epoch 4/100\n",
      " - 0s - loss: 555.9458 - val_loss: 624.9171\n",
      "Epoch 5/100\n",
      " - 0s - loss: 553.8473 - val_loss: 622.6412\n",
      "Epoch 6/100\n",
      " - 0s - loss: 551.7017 - val_loss: 620.2795\n",
      "Epoch 7/100\n",
      " - 0s - loss: 549.5056 - val_loss: 617.8658\n",
      "Epoch 8/100\n",
      " - 0s - loss: 547.2700 - val_loss: 615.4124\n",
      "Epoch 9/100\n",
      " - 0s - loss: 544.9658 - val_loss: 612.9025\n",
      "Epoch 10/100\n",
      " - 0s - loss: 542.5979 - val_loss: 610.3292\n",
      "Epoch 11/100\n",
      " - 0s - loss: 540.1584 - val_loss: 607.6727\n",
      "Epoch 12/100\n",
      " - 0s - loss: 537.6360 - val_loss: 604.9661\n",
      "Epoch 13/100\n",
      " - 0s - loss: 534.9898 - val_loss: 602.2267\n",
      "Epoch 14/100\n",
      " - 0s - loss: 532.3349 - val_loss: 599.4005\n",
      "Epoch 15/100\n",
      " - 0s - loss: 529.6415 - val_loss: 596.5141\n",
      "Epoch 16/100\n",
      " - 0s - loss: 526.8791 - val_loss: 593.6062\n",
      "Epoch 17/100\n",
      " - 0s - loss: 524.1045 - val_loss: 590.6907\n",
      "Epoch 18/100\n",
      " - 0s - loss: 521.3500 - val_loss: 587.7417\n",
      "Epoch 19/100\n",
      " - 0s - loss: 518.5613 - val_loss: 584.7609\n",
      "Epoch 20/100\n",
      " - 0s - loss: 515.7201 - val_loss: 581.7573\n",
      "Epoch 21/100\n",
      " - 0s - loss: 512.8996 - val_loss: 578.7056\n",
      "Epoch 22/100\n",
      " - 0s - loss: 510.0100 - val_loss: 575.6263\n",
      "Epoch 23/100\n",
      " - 0s - loss: 507.0671 - val_loss: 572.5267\n",
      "Epoch 24/100\n",
      " - 0s - loss: 504.1822 - val_loss: 569.3901\n",
      "Epoch 25/100\n",
      " - 0s - loss: 501.2077 - val_loss: 566.2407\n",
      "Epoch 26/100\n",
      " - 0s - loss: 498.2011 - val_loss: 563.0702\n",
      "Epoch 27/100\n",
      " - 0s - loss: 495.1819 - val_loss: 559.8542\n",
      "Epoch 28/100\n",
      " - 0s - loss: 492.1378 - val_loss: 556.5819\n",
      "Epoch 29/100\n",
      " - 0s - loss: 489.0818 - val_loss: 553.2430\n",
      "Epoch 30/100\n",
      " - 0s - loss: 485.9357 - val_loss: 549.8942\n",
      "Epoch 31/100\n",
      " - 0s - loss: 482.8055 - val_loss: 546.5262\n",
      "Epoch 32/100\n",
      " - 0s - loss: 479.6143 - val_loss: 543.1562\n",
      "Epoch 33/100\n",
      " - 0s - loss: 476.4500 - val_loss: 539.7346\n",
      "Epoch 34/100\n",
      " - 0s - loss: 473.2452 - val_loss: 536.2892\n",
      "Epoch 35/100\n",
      " - 0s - loss: 470.0279 - val_loss: 532.8202\n",
      "Epoch 36/100\n",
      " - 0s - loss: 466.7912 - val_loss: 529.3201\n",
      "Epoch 37/100\n",
      " - 0s - loss: 463.4912 - val_loss: 525.7965\n",
      "Epoch 38/100\n",
      " - 0s - loss: 460.1922 - val_loss: 522.2713\n",
      "Epoch 39/100\n",
      " - 0s - loss: 456.8916 - val_loss: 518.7195\n",
      "Epoch 40/100\n",
      " - 0s - loss: 453.5396 - val_loss: 515.1614\n",
      "Epoch 41/100\n",
      " - 0s - loss: 450.1874 - val_loss: 511.5828\n",
      "Epoch 42/100\n",
      " - 0s - loss: 446.8806 - val_loss: 507.9550\n",
      "Epoch 43/100\n",
      " - 0s - loss: 443.4802 - val_loss: 504.3117\n",
      "Epoch 44/100\n",
      " - 0s - loss: 440.0568 - val_loss: 500.6390\n",
      "Epoch 45/100\n",
      " - 0s - loss: 436.6624 - val_loss: 496.9572\n",
      "Epoch 46/100\n",
      " - 0s - loss: 433.2168 - val_loss: 493.2719\n",
      "Epoch 47/100\n",
      " - 0s - loss: 429.7887 - val_loss: 489.5962\n",
      "Epoch 48/100\n",
      " - 0s - loss: 426.3762 - val_loss: 485.9196\n",
      "Epoch 49/100\n",
      " - 0s - loss: 422.9578 - val_loss: 482.2339\n",
      "Epoch 50/100\n",
      " - 0s - loss: 419.5071 - val_loss: 478.5412\n",
      "Epoch 51/100\n",
      " - 0s - loss: 416.0816 - val_loss: 474.8280\n",
      "Epoch 52/100\n",
      " - 0s - loss: 412.6601 - val_loss: 471.0699\n",
      "Epoch 53/100\n",
      " - 0s - loss: 409.1727 - val_loss: 467.3082\n",
      "Epoch 54/100\n",
      " - 0s - loss: 405.6436 - val_loss: 463.5481\n",
      "Epoch 55/100\n",
      " - 0s - loss: 402.2057 - val_loss: 459.7618\n",
      "Epoch 56/100\n",
      " - 0s - loss: 398.6880 - val_loss: 455.9981\n",
      "Epoch 57/100\n",
      " - 0s - loss: 395.2133 - val_loss: 452.2223\n",
      "Epoch 58/100\n",
      " - 0s - loss: 391.7095 - val_loss: 448.4323\n",
      "Epoch 59/100\n",
      " - 0s - loss: 388.1759 - val_loss: 444.6323\n",
      "Epoch 60/100\n",
      " - 0s - loss: 384.7192 - val_loss: 440.8136\n",
      "Epoch 61/100\n",
      " - 0s - loss: 381.1998 - val_loss: 437.0070\n",
      "Epoch 62/100\n",
      " - 0s - loss: 377.6851 - val_loss: 433.1824\n",
      "Epoch 63/100\n",
      " - 0s - loss: 374.1819 - val_loss: 429.3407\n",
      "Epoch 64/100\n",
      " - 0s - loss: 370.5805 - val_loss: 425.5046\n",
      "Epoch 65/100\n",
      " - 0s - loss: 367.1139 - val_loss: 421.6306\n",
      "Epoch 66/100\n",
      " - 0s - loss: 363.5673 - val_loss: 417.7772\n",
      "Epoch 67/100\n",
      " - 0s - loss: 360.0229 - val_loss: 413.9442\n",
      "Epoch 68/100\n",
      " - 0s - loss: 356.5143 - val_loss: 410.1048\n",
      "Epoch 69/100\n",
      " - 0s - loss: 353.0174 - val_loss: 406.2422\n",
      "Epoch 70/100\n",
      " - 0s - loss: 349.4939 - val_loss: 402.3746\n",
      "Epoch 71/100\n",
      " - 0s - loss: 345.9832 - val_loss: 398.5634\n",
      "Epoch 72/100\n",
      " - 0s - loss: 342.4492 - val_loss: 394.7927\n",
      "Epoch 73/100\n",
      " - 0s - loss: 339.0637 - val_loss: 391.0341\n",
      "Epoch 74/100\n",
      " - 0s - loss: 335.6727 - val_loss: 387.3123\n",
      "Epoch 75/100\n",
      " - 0s - loss: 332.2748 - val_loss: 383.6197\n",
      "Epoch 76/100\n",
      " - 0s - loss: 328.9084 - val_loss: 379.9122\n",
      "Epoch 77/100\n",
      " - 0s - loss: 325.5459 - val_loss: 376.1967\n",
      "Epoch 78/100\n",
      " - 0s - loss: 322.2077 - val_loss: 372.4990\n",
      "Epoch 79/100\n",
      " - 0s - loss: 318.8471 - val_loss: 368.8287\n",
      "Epoch 80/100\n",
      " - 0s - loss: 315.4818 - val_loss: 365.1322\n",
      "Epoch 81/100\n",
      " - 0s - loss: 312.1394 - val_loss: 361.4133\n",
      "Epoch 82/100\n",
      " - 0s - loss: 308.7599 - val_loss: 357.7158\n",
      "Epoch 83/100\n",
      " - 0s - loss: 305.4769 - val_loss: 354.0347\n",
      "Epoch 84/100\n",
      " - 0s - loss: 302.1691 - val_loss: 350.3939\n",
      "Epoch 85/100\n",
      " - 0s - loss: 298.9111 - val_loss: 346.7667\n",
      "Epoch 86/100\n",
      " - 0s - loss: 295.6441 - val_loss: 343.1864\n",
      "Epoch 87/100\n",
      " - 0s - loss: 292.4440 - val_loss: 339.6140\n",
      "Epoch 88/100\n",
      " - 0s - loss: 289.2122 - val_loss: 336.0172\n",
      "Epoch 89/100\n",
      " - 0s - loss: 285.9865 - val_loss: 332.4196\n",
      "Epoch 90/100\n",
      " - 0s - loss: 282.7654 - val_loss: 328.8689\n",
      "Epoch 91/100\n",
      " - 0s - loss: 279.5903 - val_loss: 325.3004\n",
      "Epoch 92/100\n",
      " - 0s - loss: 276.3875 - val_loss: 321.7662\n",
      "Epoch 93/100\n",
      " - 0s - loss: 273.2391 - val_loss: 318.2502\n",
      "Epoch 94/100\n",
      " - 0s - loss: 270.0752 - val_loss: 314.7399\n",
      "Epoch 95/100\n",
      " - 0s - loss: 266.9597 - val_loss: 311.2415\n",
      "Epoch 96/100\n",
      " - 0s - loss: 263.8157 - val_loss: 307.6973\n",
      "Epoch 97/100\n",
      " - 0s - loss: 260.7026 - val_loss: 304.1294\n",
      "Epoch 98/100\n",
      " - 0s - loss: 257.5437 - val_loss: 300.5210\n",
      "Epoch 99/100\n",
      " - 0s - loss: 254.3485 - val_loss: 296.8955\n",
      "Epoch 100/100\n",
      " - 0s - loss: 251.1545 - val_loss: 293.3097\n",
      "102/102 [==============================] - 0s 29us/step\n",
      "274.6525483972886\n"
     ]
    },
    {
     "data": {
      "image/png": "[encoded data removed]",
      "text/plain": [
       "<Figure size 432x288 with 1 Axes>"
      ]
     },
     "metadata": {
      "needs_background": "light"
     },
     "output_type": "display_data"
    }
   ],
   "source": [
    "if __name__ == '__main__':\n",
    "    main()"
   ]
  },
  {
   "cell_type": "code",
   "execution_count": 14,
   "metadata": {},
   "outputs": [],
   "source": [
    "Nin = 784\n",
    "Nh_l = [100,50]\n",
    "number_of_class = 10\n",
    "Nout = number_of_class "
   ]
  },
  {
   "cell_type": "code",
   "execution_count": 14,
   "metadata": {},
   "outputs": [],
   "source": [
    "class DNN(models.Sequential):\n",
    "    def __init__(self, Nin, Nh_l, Nout):\n",
    "        super().__init__()\n",
    "        self.add(layers.Dense(Nh_l[0], activation='relu', input_shape=(Nin,), name='Hidden-1'))\n",
    "        self.add(layers.Dropout(0.2))\n",
    "        self.add(layers.Dense(Nh_l[1], activation='relu', name='Hidden-2'))\n",
    "        self.add(layers.Dropout(0.2))\n",
    "        self.add(layers.Dense(Nout, activation='softmax'))\n",
    "        self.compile(loss = 'categorical_crossentropy', optimizer='adam', metrics=['accuracy'])"
   ]
  },
  {
   "cell_type": "code",
   "execution_count": 15,
   "metadata": {},
   "outputs": [],
   "source": [
    "import numpy as np\n",
    "from keras import datasets\n",
    "from keras.utils import np_utils"
   ]
  },
  {
   "cell_type": "code",
   "execution_count": 16,
   "metadata": {},
   "outputs": [],
   "source": [
    "(X_train, y_train), (X_test, y_test) = datasets.mnist.load_data()\n",
    "y_train = np_utils.to_categorical(y_train)\n",
    "y_test = np_utils.to_categorical(y_test)\n",
    "L, W, H = X_train.shape\n",
    "X_train = X_train.reshape(-1, W*H)\n",
    "X_test = X_test.reshape(-1, W*H)\n",
    "X_train = X_train / 255.0\n",
    "X_test = X_test / 255.0"
   ]
  },
  {
   "cell_type": "code",
   "execution_count": 62,
   "metadata": {},
   "outputs": [
    {
     "name": "stdout",
     "output_type": "stream",
     "text": [
      "Train on 48000 samples, validate on 12000 samples\n",
      "Epoch 1/10\n",
      "48000/48000 [==============================] - 3s 60us/step - loss: 0.5264 - acc: 0.8409 - val_loss: 0.1872 - val_acc: 0.9444\n",
      "Epoch 2/10\n",
      "48000/48000 [==============================] - 3s 52us/step - loss: 0.2335 - acc: 0.9317 - val_loss: 0.1400 - val_acc: 0.9597\n",
      "Epoch 3/10\n",
      "48000/48000 [==============================] - 2s 42us/step - loss: 0.1798 - acc: 0.9474 - val_loss: 0.1121 - val_acc: 0.9663\n",
      "Epoch 4/10\n",
      "48000/48000 [==============================] - 2s 43us/step - loss: 0.1516 - acc: 0.9553 - val_loss: 0.1067 - val_acc: 0.9681\n",
      "Epoch 5/10\n",
      "48000/48000 [==============================] - 2s 41us/step - loss: 0.1317 - acc: 0.9614 - val_loss: 0.1033 - val_acc: 0.9702\n",
      "Epoch 6/10\n",
      "48000/48000 [==============================] - 2s 40us/step - loss: 0.1144 - acc: 0.9658 - val_loss: 0.1044 - val_acc: 0.9693\n",
      "Epoch 7/10\n",
      "48000/48000 [==============================] - 2s 42us/step - loss: 0.1085 - acc: 0.9684 - val_loss: 0.0923 - val_acc: 0.9735\n",
      "Epoch 8/10\n",
      "48000/48000 [==============================] - 2s 39us/step - loss: 0.0966 - acc: 0.9706 - val_loss: 0.0908 - val_acc: 0.9724\n",
      "Epoch 9/10\n",
      "48000/48000 [==============================] - 2s 38us/step - loss: 0.0904 - acc: 0.9726 - val_loss: 0.0888 - val_acc: 0.9733\n",
      "Epoch 10/10\n",
      "48000/48000 [==============================] - 2s 38us/step - loss: 0.0834 - acc: 0.9741 - val_loss: 0.0864 - val_acc: 0.9742\n"
     ]
    }
   ],
   "source": [
    "model = DNN(Nin, Nh_l, Nout)\n",
    "history = model.fit(X_train, y_train, epochs=10, batch_size=100, validation_split=0.2)"
   ]
  },
  {
   "cell_type": "code",
   "execution_count": 18,
   "metadata": {},
   "outputs": [
    {
     "ename": "NameError",
     "evalue": "name 'model' is not defined",
     "output_type": "error",
     "traceback": [
      "\u001b[1;31m---------------------------------------------------------------------------\u001b[0m",
      "\u001b[1;31mNameError\u001b[0m                                 Traceback (most recent call last)",
      "\u001b[1;32m<ipython-input-18-92272c307e05>\u001b[0m in \u001b[0;36m<module>\u001b[1;34m()\u001b[0m\n\u001b[1;32m----> 1\u001b[1;33m \u001b[0mperformance_test\u001b[0m \u001b[1;33m=\u001b[0m \u001b[0mmodel\u001b[0m\u001b[1;33m.\u001b[0m\u001b[0mevaluate\u001b[0m\u001b[1;33m(\u001b[0m\u001b[0mX_test\u001b[0m\u001b[1;33m,\u001b[0m \u001b[0my_test\u001b[0m\u001b[1;33m,\u001b[0m \u001b[0mbatch_size\u001b[0m\u001b[1;33m=\u001b[0m\u001b[1;36m100\u001b[0m\u001b[1;33m)\u001b[0m\u001b[1;33m\u001b[0m\u001b[0m\n\u001b[0m",
      "\u001b[1;31mNameError\u001b[0m: name 'model' is not defined"
     ]
    }
   ],
   "source": [
    "performance_test = model.evaluate(X_test, y_test, batch_size=100)"
   ]
  },
  {
   "cell_type": "code",
   "execution_count": 19,
   "metadata": {},
   "outputs": [
    {
     "ename": "NameError",
     "evalue": "name 'performance_test' is not defined",
     "output_type": "error",
     "traceback": [
      "\u001b[1;31m---------------------------------------------------------------------------\u001b[0m",
      "\u001b[1;31mNameError\u001b[0m                                 Traceback (most recent call last)",
      "\u001b[1;32m<ipython-input-19-e3b05deb0016>\u001b[0m in \u001b[0;36m<module>\u001b[1;34m()\u001b[0m\n\u001b[1;32m----> 1\u001b[1;33m \u001b[0mprint\u001b[0m\u001b[1;33m(\u001b[0m\u001b[1;34m'Test Loss and Accuracy -> '\u001b[0m\u001b[1;33m,\u001b[0m \u001b[0mperformance_test\u001b[0m\u001b[1;33m)\u001b[0m\u001b[1;33m\u001b[0m\u001b[0m\n\u001b[0m",
      "\u001b[1;31mNameError\u001b[0m: name 'performance_test' is not defined"
     ]
    }
   ],
   "source": [
    "print('Test Loss and Accuracy -> ', performance_test)"
   ]
  },
  {
   "cell_type": "code",
   "execution_count": 20,
   "metadata": {},
   "outputs": [],
   "source": [
    "##########CIFAR-10"
   ]
  },
  {
   "cell_type": "code",
   "execution_count": 17,
   "metadata": {},
   "outputs": [],
   "source": [
    "import numpy as np\n",
    "from keras import datasets\n",
    "from keras.utils import np_utils\n",
    "import matplotlib.pyplot as plt"
   ]
  },
  {
   "cell_type": "code",
   "execution_count": 18,
   "metadata": {},
   "outputs": [],
   "source": [
    "def Data_func():\n",
    "    (X_train, y_train), (X_test, y_test) = datasets.cifar10.load_data()\n",
    "    Y_train = np_utils.to_categorical(y_train)\n",
    "    Y_test = np_utils.to_categorical(y_test)\n",
    "    L,W,H,C = X_train.shape\n",
    "    X_train = X_train.reshape(-1, W*H*C)\n",
    "    X_test = X_test.reshape(-1, W*H*C)\n",
    "    \n",
    "    X_train = X_train / 255\n",
    "    X_test = X_test / 255\n",
    "    return (X_train, Y_train), (X_test, Y_test)\n",
    "    "
   ]
  },
  {
   "cell_type": "code",
   "execution_count": 19,
   "metadata": {},
   "outputs": [],
   "source": [
    "from keras import layers, models"
   ]
  },
  {
   "cell_type": "code",
   "execution_count": 24,
   "metadata": {},
   "outputs": [],
   "source": [
    "class DNN(models.Sequential):\n",
    "    def __init__(self, Nin, Nh_l, Pd_l, Nout):\n",
    "        super().__init__()\n",
    "        \n",
    "        self.add(layers.Dense(Nh_l[0], activation = 'relu', input_shape=(Nin,), name='Hidden-1'))\n",
    "        self.add(layers.Dropout(Pd_l[0]))\n",
    "        self.add(layers.Dense(Nh_l[1], activation='relu', input_shape=(Nin,), name='Hidden-2'))\n",
    "        self.add(layers.Dropout(Pd_l[1]))\n",
    "        self.add(layers.Dense(Nout, activation='softmax'))\n",
    "        self.compile(loss = 'categorical_crossentropy', optimizer='adam', metrics=['accuracy'])\n",
    "        "
   ]
  },
  {
   "cell_type": "code",
   "execution_count": 25,
   "metadata": {},
   "outputs": [],
   "source": [
    "def main():\n",
    "    Nh_l = [100, 50]\n",
    "    Pd_l = [0.02, 0.5]\n",
    "    number_of_class = 10\n",
    "    Nout = number_of_class\n",
    "    \n",
    "    (X_train, Y_train), (X_test, Y_test) = Data_func()\n",
    "    model = DNN(X_train.shape[1], Nh_l, Pd_l, Nout)\n",
    "    history = model.fit(X_train, Y_train, epochs = 20, batch_size = 100, validation_split = 0.2)\n",
    "    performance_test = model.evaluate(X_test, Y_test, batch_size=100)\n",
    "    print('Test Loss and Accuracy -> ', performance_test)\n",
    "    plot_acc(history)\n",
    "    plt.show()\n",
    "    plot_loss(history)\n",
    "    plt.show()\n",
    "    "
   ]
  },
  {
   "cell_type": "code",
   "execution_count": 130,
   "metadata": {},
   "outputs": [
    {
     "name": "stdout",
     "output_type": "stream",
     "text": [
      "Train on 40000 samples, validate on 10000 samples\n",
      "Epoch 1/20\n",
      "40000/40000 [==============================] - 29s 726us/step - loss: 2.1225 - acc: 0.2087 - val_loss: 1.9459 - val_acc: 0.2683\n",
      "Epoch 2/20\n",
      "40000/40000 [==============================] - 4s 88us/step - loss: 1.9518 - acc: 0.2837 - val_loss: 1.8589 - val_acc: 0.3174\n",
      "Epoch 3/20\n",
      "40000/40000 [==============================] - 4s 88us/step - loss: 1.8995 - acc: 0.3073 - val_loss: 1.8134 - val_acc: 0.3443\n",
      "Epoch 4/20\n",
      "40000/40000 [==============================] - 4s 92us/step - loss: 1.8677 - acc: 0.3199 - val_loss: 1.7871 - val_acc: 0.3510\n",
      "Epoch 5/20\n",
      "40000/40000 [==============================] - 4s 91us/step - loss: 1.8472 - acc: 0.3310 - val_loss: 1.7924 - val_acc: 0.3490\n",
      "Epoch 6/20\n",
      "40000/40000 [==============================] - 4s 91us/step - loss: 1.8271 - acc: 0.3374 - val_loss: 1.7800 - val_acc: 0.3523\n",
      "Epoch 7/20\n",
      "40000/40000 [==============================] - 4s 91us/step - loss: 1.8205 - acc: 0.3372 - val_loss: 1.7800 - val_acc: 0.3480\n",
      "Epoch 8/20\n",
      "40000/40000 [==============================] - 4s 91us/step - loss: 1.8081 - acc: 0.3438 - val_loss: 1.7602 - val_acc: 0.3634\n",
      "Epoch 9/20\n",
      "40000/40000 [==============================] - 4s 92us/step - loss: 1.7966 - acc: 0.3489 - val_loss: 1.7407 - val_acc: 0.3676\n",
      "Epoch 10/20\n",
      "40000/40000 [==============================] - 4s 90us/step - loss: 1.7896 - acc: 0.3496 - val_loss: 1.7422 - val_acc: 0.3627\n",
      "Epoch 11/20\n",
      "40000/40000 [==============================] - 4s 88us/step - loss: 1.7965 - acc: 0.3460 - val_loss: 1.8678 - val_acc: 0.3359\n",
      "Epoch 12/20\n",
      "40000/40000 [==============================] - 3s 87us/step - loss: 1.7815 - acc: 0.3547 - val_loss: 1.7412 - val_acc: 0.3715\n",
      "Epoch 13/20\n",
      "40000/40000 [==============================] - 4s 90us/step - loss: 1.7771 - acc: 0.3536 - val_loss: 1.7233 - val_acc: 0.3771\n",
      "Epoch 14/20\n",
      "40000/40000 [==============================] - 4s 90us/step - loss: 1.7774 - acc: 0.3588 - val_loss: 1.7214 - val_acc: 0.3717\n",
      "Epoch 15/20\n",
      "40000/40000 [==============================] - 4s 92us/step - loss: 1.7667 - acc: 0.3601 - val_loss: 1.7181 - val_acc: 0.3741\n",
      "Epoch 16/20\n",
      "40000/40000 [==============================] - 4s 92us/step - loss: 1.7635 - acc: 0.3596 - val_loss: 1.7364 - val_acc: 0.3670\n",
      "Epoch 17/20\n",
      "40000/40000 [==============================] - 4s 91us/step - loss: 1.7616 - acc: 0.3589 - val_loss: 1.7097 - val_acc: 0.3823\n",
      "Epoch 18/20\n",
      "40000/40000 [==============================] - 4s 91us/step - loss: 1.7643 - acc: 0.3586 - val_loss: 1.7241 - val_acc: 0.3753\n",
      "Epoch 19/20\n",
      "40000/40000 [==============================] - 4s 92us/step - loss: 1.7559 - acc: 0.3643 - val_loss: 1.7170 - val_acc: 0.3731\n",
      "Epoch 20/20\n",
      "40000/40000 [==============================] - 4s 91us/step - loss: 1.7555 - acc: 0.3647 - val_loss: 1.7125 - val_acc: 0.3777\n",
      "10000/10000 [==============================] - 0s 49us/step\n",
      "Test Loss and Accuracy ->  [1.7040549290180207, 0.38100000098347664]\n"
     ]
    },
    {
     "data": {
      "image/png": "[encoded data removed]",
      "text/plain": [
       "<Figure size 432x288 with 1 Axes>"
      ]
     },
     "metadata": {
      "needs_background": "light"
     },
     "output_type": "display_data"
    },
    {
     "data": {
      "image/png": "[encoded data removed]",
      "text/plain": [
       "<Figure size 432x288 with 1 Axes>"
      ]
     },
     "metadata": {
      "needs_background": "light"
     },
     "output_type": "display_data"
    }
   ],
   "source": [
    "if __name__ == '__main__':\n",
    "    main()"
   ]
  },
  {
   "cell_type": "code",
   "execution_count": 131,
   "metadata": {},
   "outputs": [],
   "source": [
    "#######CNN"
   ]
  },
  {
   "cell_type": "code",
   "execution_count": 20,
   "metadata": {},
   "outputs": [],
   "source": [
    "import keras"
   ]
  },
  {
   "cell_type": "code",
   "execution_count": 21,
   "metadata": {},
   "outputs": [],
   "source": [
    "from keras import models, layers"
   ]
  },
  {
   "cell_type": "code",
   "execution_count": 22,
   "metadata": {},
   "outputs": [],
   "source": [
    "from keras import backend\n",
    "from keras import datasets"
   ]
  },
  {
   "cell_type": "code",
   "execution_count": 23,
   "metadata": {},
   "outputs": [],
   "source": [
    "class CNN(models.Sequential):\n",
    "    def __init__(self, input_shape, num_classes):\n",
    "        super().__init__()\n",
    "\n",
    "        self.add(layers.Conv2D(32, kernel_size=(3, 3),\n",
    "                 activation='relu',\n",
    "                 input_shape=input_shape))\n",
    "        self.add(layers.Conv2D(64, (3, 3), activation='relu'))\n",
    "        self.add(layers.MaxPooling2D(pool_size=(2, 2)))\n",
    "        self.add(layers.Dropout(0.25))\n",
    "        self.add(layers.Flatten())\n",
    "        self.add(layers.Dense(128, activation='relu'))\n",
    "        self.add(layers.Dropout(0.5))\n",
    "        self.add(layers.Dense(num_classes, activation='softmax'))\n",
    "\n",
    "        self.compile(loss=keras.losses.categorical_crossentropy,\n",
    "                      optimizer='rmsprop',\n",
    "                      metrics=['accuracy'])"
   ]
  },
  {
   "cell_type": "code",
   "execution_count": 24,
   "metadata": {},
   "outputs": [],
   "source": [
    "class DATA():\n",
    "    def __init__(self):\n",
    "        num_classes = 10\n",
    "        (x_train, y_train), (x_test, y_test) = datasets.mnist.load_data()\n",
    "        img_rows, img_cols = x_train.shape[1:]\n",
    "        if backend.image_data_format() == 'channels_first':\n",
    "            x_train = x_train.reshape(x_train.shape[0], 1, img_rows, img_cols)\n",
    "            x_test = x_test.reshape(x_test.shape[0], 1, img_rows, img_cols)\n",
    "            input_shape = (1, img_rows, img_cols)\n",
    "        else:\n",
    "            x_train = x_train.reshape(x_train.shape[0], img_rows, img_cols, 1)\n",
    "            x_test = x_test.reshape(x_test.shape[0], img_rows, img_cols, 1)\n",
    "            input_shape = (img_rows, img_cols, 1)\n",
    "        \n",
    "        x_train = x_train.astype('float32')\n",
    "        x_test = x_test.astype('float32')\n",
    "        x_train /= 255\n",
    "        x_test /= 255\n",
    "        \n",
    "        y_train = keras.utils.to_categorical(y_train, num_classes)\n",
    "        y_test = keras.utils.to_categorical(y_test, num_classes)\n",
    "        \n",
    "        self.input_shape = input_shape\n",
    "        self.num_classes = num_classes\n",
    "        self.x_train, self.y_train = x_train, y_train\n",
    "        self.x_test, self.y_test = x_test, y_test\n",
    "        "
   ]
  },
  {
   "cell_type": "code",
   "execution_count": 25,
   "metadata": {},
   "outputs": [],
   "source": [
    "def main():\n",
    "    batch_size = 128\n",
    "    epochs = 10\n",
    "\n",
    "    data = DATA()\n",
    "    model = CNN(data.input_shape, data.num_classes)\n",
    "\n",
    "    history = model.fit(data.x_train, data.y_train,\n",
    "              batch_size=batch_size,\n",
    "              epochs=epochs,\n",
    "              validation_split=0.2)\n",
    "\n",
    "    score = model.evaluate(data.x_test, data.y_test)\n",
    "    print()\n",
    "    print('Test loss:', score[0])\n",
    "    print('Test accuracy:', score[1])\n",
    "\n",
    "    plot_loss(history)\n",
    "    plt.show()\n",
    "    plot_acc(history)\n",
    "    plt.show()\n"
   ]
  },
  {
   "cell_type": "code",
   "execution_count": 34,
   "metadata": {},
   "outputs": [
    {
     "name": "stdout",
     "output_type": "stream",
     "text": [
      "Train on 48000 samples, validate on 12000 samples\n",
      "Epoch 1/10\n",
      "48000/48000 [==============================] - 8s 170us/step - loss: 0.2493 - acc: 0.9243 - val_loss: 0.0680 - val_acc: 0.9792\n",
      "Epoch 2/10\n",
      "48000/48000 [==============================] - 7s 150us/step - loss: 0.0875 - acc: 0.9739 - val_loss: 0.0556 - val_acc: 0.9839\n",
      "Epoch 3/10\n",
      "48000/48000 [==============================] - 7s 150us/step - loss: 0.0666 - acc: 0.9803 - val_loss: 0.0460 - val_acc: 0.9867\n",
      "Epoch 4/10\n",
      "48000/48000 [==============================] - 7s 150us/step - loss: 0.0549 - acc: 0.9836 - val_loss: 0.0476 - val_acc: 0.9862\n",
      "Epoch 5/10\n",
      "48000/48000 [==============================] - 7s 149us/step - loss: 0.0491 - acc: 0.9854 - val_loss: 0.0449 - val_acc: 0.9875\n",
      "Epoch 6/10\n",
      "48000/48000 [==============================] - 7s 149us/step - loss: 0.0440 - acc: 0.9871 - val_loss: 0.0486 - val_acc: 0.9877\n",
      "Epoch 7/10\n",
      "48000/48000 [==============================] - 7s 149us/step - loss: 0.0399 - acc: 0.9886 - val_loss: 0.0372 - val_acc: 0.9887\n",
      "Epoch 8/10\n",
      "48000/48000 [==============================] - 7s 149us/step - loss: 0.0414 - acc: 0.9876 - val_loss: 0.0468 - val_acc: 0.9873\n",
      "Epoch 9/10\n",
      "48000/48000 [==============================] - 7s 149us/step - loss: 0.0397 - acc: 0.9887 - val_loss: 0.0414 - val_acc: 0.9893\n",
      "Epoch 10/10\n",
      "48000/48000 [==============================] - 7s 150us/step - loss: 0.0393 - acc: 0.9887 - val_loss: 0.0480 - val_acc: 0.9887\n",
      "10000/10000 [==============================] - 1s 84us/step\n",
      "\n",
      "Test loss: 0.03776081150873292\n",
      "Test accuracy: 0.9901\n"
     ]
    },
    {
     "data": {
      "image/png": "[encoded data removed]",
      "text/plain": [
       "<Figure size 432x288 with 1 Axes>"
      ]
     },
     "metadata": {
      "needs_background": "light"
     },
     "output_type": "display_data"
    },
    {
     "data": {
      "image/png": "[encoded data removed]",
      "text/plain": [
       "<Figure size 432x288 with 1 Axes>"
      ]
     },
     "metadata": {
      "needs_background": "light"
     },
     "output_type": "display_data"
    }
   ],
   "source": [
    "if __name__=='__main__':\n",
    "    main()"
   ]
  },
  {
   "cell_type": "code",
   "execution_count": 35,
   "metadata": {},
   "outputs": [],
   "source": [
    "###################CNN_Color"
   ]
  },
  {
   "cell_type": "code",
   "execution_count": 26,
   "metadata": {},
   "outputs": [],
   "source": [
    "from sklearn import model_selection, metrics\n",
    "from sklearn.preprocessing import MinMaxScaler\n",
    "import numpy as np\n",
    "import matplotlib.pyplot as plt\n",
    "import os"
   ]
  },
  {
   "cell_type": "code",
   "execution_count": 27,
   "metadata": {},
   "outputs": [],
   "source": [
    "from keras import backend as K\n",
    "from keras.utils import np_utils\n",
    "from keras.models import Model\n",
    "from keras.layers import Input, Conv2D, MaxPooling2D, Flatten, Dense, Dropout"
   ]
  },
  {
   "cell_type": "code",
   "execution_count": 28,
   "metadata": {},
   "outputs": [],
   "source": [
    "##학습결과 저장 함수\n",
    "import datetime\n",
    "import uuid\n",
    "import os\n",
    "\n",
    "\n",
    "def unique_filename(type='uuid'):\n",
    "    if type == 'datetime':\n",
    "        filename = datetime.datetime.now().strftime(\"%y%m%d_%H%M%S\")\n",
    "    else:  # type == \"uuid\"\n",
    "        filename = str(uuid.uuid4())\n",
    "    return filename\n",
    "\n",
    "\n",
    "def makenewfold(prefix='output_', type='datetime'):\n",
    "    suffix = unique_filename('datetime')\n",
    "    foldname = 'output_' + suffix\n",
    "    os.makedirs(foldname)\n",
    "    return foldname"
   ]
  },
  {
   "cell_type": "code",
   "execution_count": 29,
   "metadata": {},
   "outputs": [],
   "source": [
    "##학습 곡선 그리는 함수\n",
    "import numpy as np\n",
    "import matplotlib.pyplot as plt\n",
    "import os\n",
    "\n",
    "import matplotlib\n",
    "\n",
    "def save_history_history(fname, history_history, fold=''):\n",
    "    np.save(os.path.join(fold, fname), history_history)\n",
    "\n",
    "\n",
    "def load_history_history(fname, fold=''):\n",
    "    history_history = np.load(os.path.join(fold, fname)).item(0)\n",
    "    return history_history\n",
    "\n",
    "\n",
    "def plot_acc(history, title=None):\n",
    "    # summarize history for accuracy\n",
    "    if not isinstance(history, dict):\n",
    "        history = history.history\n",
    "\n",
    "    plt.plot(history['acc'])\n",
    "    plt.plot(history['val_acc'])\n",
    "    if title is not None:\n",
    "        plt.title(title)\n",
    "    plt.ylabel('Accracy')\n",
    "    plt.xlabel('Epoch')\n",
    "    plt.legend(['Training data', 'Validation data'], loc=0)\n",
    "    # plt.show()\n",
    "\n",
    "\n",
    "def plot_loss(history, title=None):\n",
    "    # summarize history for loss\n",
    "    if not isinstance(history, dict):\n",
    "        history = history.history\n",
    "\n",
    "    plt.plot(history['loss'])\n",
    "    plt.plot(history['val_loss'])\n",
    "    if title is not None:\n",
    "        plt.title(title)\n",
    "    plt.ylabel('Loss')\n",
    "    plt.xlabel('Epoch')\n",
    "    plt.legend(['Training data', 'Validation data'], loc=0)\n",
    "    # plt.show()\n",
    "\n",
    "\n",
    "def plot_history(history):\n",
    "    plt.figure(figsize=(15, 5))\n",
    "    plt.subplot(1, 2, 1)\n",
    "    plot_acc(history)\n",
    "    plt.subplot(1, 2, 2)\n",
    "    plot_loss(history)\n",
    "\n",
    "    \n",
    "def plot_loss_acc(history):\n",
    "    plot_loss(history, '(a) Loss trajectory')\n",
    "    plt.show()            \n",
    "    plot_acc(history, '(b) Accracy trajectory')\n",
    "    plt.show()\n",
    "    \n",
    "    \n",
    "def plot_acc_loss(history):\n",
    "    plot_acc(history, '(a) Accracy trajectory')\n",
    "    plt.show()\n",
    "    plot_loss(history, '(b) Loss trajectory')\n",
    "    plt.show()            "
   ]
  },
  {
   "cell_type": "code",
   "execution_count": 30,
   "metadata": {},
   "outputs": [],
   "source": [
    "class CNN(Model):\n",
    "    def __init__(model, nb_classes, in_shape=None):\n",
    "        super().__init__()\n",
    "        model.nb_classes = nb_classes\n",
    "        model.in_shape = in_shape\n",
    "        model.build_model()\n",
    "        super().__init__(model.x, model.y)\n",
    "        model.compile()\n",
    "        \n",
    "    def build_model(model):\n",
    "        nb_classes = model.nb_classes\n",
    "        in_shape = model.in_shape\n",
    "\n",
    "        x = Input(in_shape)\n",
    "\n",
    "        h = Conv2D(32, kernel_size=(3, 3), activation='relu',\n",
    "                   input_shape=in_shape)(x)\n",
    "        h = Conv2D(64, (3, 3), activation='relu')(h)\n",
    "        h = MaxPooling2D(pool_size=(2, 2))(h)\n",
    "        h = Dropout(0.25)(h)\n",
    "        h = Flatten()(h)\n",
    "        z_cl = h\n",
    "\n",
    "        h = Dense(128, activation='relu')(h)\n",
    "        h = Dropout(0.5)(h)\n",
    "        z_fl = h\n",
    "\n",
    "        y = Dense(nb_classes, activation='softmax', name='preds')(h)\n",
    "\n",
    "        model.cl_part = Model(x, z_cl)\n",
    "        model.fl_part = Model(x, z_fl)\n",
    "\n",
    "        model.x, model.y = x, y\n",
    "\n",
    "    def compile(model):\n",
    "        Model.compile(model, loss='categorical_crossentropy',\n",
    "                      optimizer='adadelta', metrics=['accuracy'])"
   ]
  },
  {
   "cell_type": "code",
   "execution_count": 31,
   "metadata": {},
   "outputs": [],
   "source": [
    "class DataSet:\n",
    "    def __init__(self, X, y, nb_classes, scaling=True, test_size=0.2, random_state=0):\n",
    "        \"\"\"\n",
    "        X is originally vector. Hence, it will be transformed\n",
    "        to 2D images with a channel (i.e, 3D).\n",
    "        \"\"\"\n",
    "        self.X = X\n",
    "        self.add_channels()\n",
    "\n",
    "        X = self.X\n",
    "        # the data, shuffled and split between train and test sets\n",
    "        X_train, X_test, y_train, y_test = model_selection.train_test_split(\n",
    "            X, y, test_size=0.2, random_state=random_state)\n",
    "\n",
    "        print(X_train.shape, y_train.shape)\n",
    "\n",
    "        X_train = X_train.astype('float32')\n",
    "        X_test = X_test.astype('float32')\n",
    "\n",
    "        if scaling:\n",
    "            # scaling to have (0, 1) for each feature (each pixel)\n",
    "            scaler = MinMaxScaler()\n",
    "            n = X_train.shape[0]\n",
    "            X_train = scaler.fit_transform(\n",
    "                X_train.reshape(n, -1)).reshape(X_train.shape)\n",
    "            n = X_test.shape[0]\n",
    "            X_test = scaler.transform(\n",
    "                X_test.reshape(n, -1)).reshape(X_test.shape)\n",
    "            self.scaler = scaler\n",
    "\n",
    "        print('X_train shape:', X_train.shape)\n",
    "        print(X_train.shape[0], 'train samples')\n",
    "        print(X_test.shape[0], 'test samples')\n",
    "\n",
    "        # convert class vectors to binary class matrices\n",
    "        Y_train = np_utils.to_categorical(y_train, nb_classes)\n",
    "        Y_test = np_utils.to_categorical(y_test, nb_classes)\n",
    "\n",
    "        self.X_train, self.X_test = X_train, X_test\n",
    "        self.Y_train, self.Y_test = Y_train, Y_test\n",
    "        self.y_train, self.y_test = y_train, y_test\n",
    "        # self.input_shape = input_shape\n",
    "\n",
    "    def add_channels(self):\n",
    "        X = self.X\n",
    "\n",
    "        if len(X.shape) == 3:\n",
    "            N, img_rows, img_cols = X.shape\n",
    "\n",
    "            if K.image_dim_ordering() == 'th':\n",
    "                X = X.reshape(X.shape[0], 1, img_rows, img_cols)\n",
    "                input_shape = (1, img_rows, img_cols)\n",
    "            else:\n",
    "                X = X.reshape(X.shape[0], img_rows, img_cols, 1)\n",
    "                input_shape = (img_rows, img_cols, 1)\n",
    "        else:\n",
    "            input_shape = X.shape[1:]  # channel is already included.\n",
    "\n",
    "        self.X = X\n",
    "        self.input_shape = input_shape"
   ]
  },
  {
   "cell_type": "code",
   "execution_count": 32,
   "metadata": {},
   "outputs": [],
   "source": [
    "class Machine():\n",
    "    def __init__(self, X, y, nb_classes=2, fig=True):\n",
    "        self.nb_classes = nb_classes\n",
    "        self.set_data(X, y)\n",
    "        self.set_model()\n",
    "        self.fig = fig\n",
    "\n",
    "    def set_data(self, X, y):\n",
    "        nb_classes = self.nb_classes\n",
    "        self.data = DataSet(X, y, nb_classes)\n",
    "        print('data.input_shape', self.data.input_shape)\n",
    "\n",
    "    def set_model(self):\n",
    "        nb_classes = self.nb_classes\n",
    "        data = self.data\n",
    "        self.model = CNN(nb_classes=nb_classes, in_shape=data.input_shape)\n",
    "       \n",
    "    def fit(self, epochs=10, batch_size=128, verbose=1):\n",
    "        data = self.data\n",
    "        model = self.model\n",
    "\n",
    "        history = model.fit(data.X_train, data.Y_train, batch_size=batch_size, epochs=epochs,\n",
    "                            verbose=verbose, validation_data=(data.X_test, data.Y_test))\n",
    "        return history\n",
    "\n",
    "    def run(self, epochs=10, batch_size=128, verbose=1):\n",
    "        data = self.data\n",
    "        model = self.model\n",
    "        fig = self.fig\n",
    "\n",
    "        history = self.fit(epochs=epochs,\n",
    "                           batch_size=batch_size, verbose=verbose)\n",
    "\n",
    "        score = model.evaluate(data.X_test, data.Y_test, verbose=0)\n",
    "\n",
    "        print('Confusion matrix')\n",
    "        Y_test_pred = model.predict(data.X_test, verbose=0)\n",
    "        y_test_pred = np.argmax(Y_test_pred, axis=1)\n",
    "        print(metrics.confusion_matrix(data.y_test, y_test_pred))\n",
    "\n",
    "        print('Test score:', score[0])\n",
    "        print('Test accuracy:', score[1])\n",
    "\n",
    "        # Save results\n",
    "        suffix = unique_filename('datatime')\n",
    "        foldname = 'output_' + suffix\n",
    "        os.makedirs(foldname)\n",
    "        save_history_history(\n",
    "            'history_history.npy', history.history, fold=foldname)\n",
    "        model.save_weights(os.path.join(foldname, 'dl_model.h5'))\n",
    "        print('Output results are saved in', foldname)\n",
    "\n",
    "        if fig:\n",
    "            plt.figure(figsize=(12, 4))\n",
    "            plt.subplot(1, 2, 1)\n",
    "            plot_acc(history)\n",
    "            plt.subplot(1, 2, 2)\n",
    "            plot_loss(history)\n",
    "            plt.show()\n",
    "\n",
    "        self.history = history\n",
    "\n",
    "        return foldname"
   ]
  },
  {
   "cell_type": "code",
   "execution_count": 33,
   "metadata": {},
   "outputs": [],
   "source": [
    "class Machinee(Machine):\n",
    "    def __init__(self):\n",
    "        (X, y), (x_test, y_test) = datasets.cifar10.load_data()\n",
    "        super().__init__(X, y, nb_classes=10)\n",
    "\n",
    "\n",
    "def main():\n",
    "    m = Machinee()\n",
    "    m.run()\n"
   ]
  },
  {
   "cell_type": "code",
   "execution_count": 58,
   "metadata": {},
   "outputs": [
    {
     "name": "stdout",
     "output_type": "stream",
     "text": [
      "(40000, 32, 32, 3) (40000, 1)\n",
      "X_train shape: (40000, 32, 32, 3)\n",
      "40000 train samples\n",
      "10000 test samples\n",
      "data.input_shape (32, 32, 3)\n",
      "Train on 40000 samples, validate on 10000 samples\n",
      "Epoch 1/10\n",
      "40000/40000 [==============================] - 9s 235us/step - loss: 1.9762 - acc: 0.2777 - val_loss: 1.5860 - val_acc: 0.4164\n",
      "Epoch 2/10\n",
      "40000/40000 [==============================] - 8s 212us/step - loss: 1.5455 - acc: 0.4437 - val_loss: 1.3415 - val_acc: 0.5148\n",
      "Epoch 3/10\n",
      "40000/40000 [==============================] - 8s 212us/step - loss: 1.3472 - acc: 0.5201 - val_loss: 1.1780 - val_acc: 0.5825\n",
      "Epoch 4/10\n",
      "40000/40000 [==============================] - 8s 212us/step - loss: 1.2080 - acc: 0.5765 - val_loss: 1.0975 - val_acc: 0.6071\n",
      "Epoch 5/10\n",
      "40000/40000 [==============================] - 8s 211us/step - loss: 1.1004 - acc: 0.6139 - val_loss: 1.0319 - val_acc: 0.6356\n",
      "Epoch 6/10\n",
      "40000/40000 [==============================] - 8s 212us/step - loss: 1.0257 - acc: 0.6442 - val_loss: 0.9667 - val_acc: 0.6611\n",
      "Epoch 7/10\n",
      "40000/40000 [==============================] - 8s 212us/step - loss: 0.9517 - acc: 0.6671 - val_loss: 0.9711 - val_acc: 0.6573\n",
      "Epoch 8/10\n",
      "40000/40000 [==============================] - 8s 212us/step - loss: 0.8985 - acc: 0.6872 - val_loss: 0.9766 - val_acc: 0.6638\n",
      "Epoch 9/10\n",
      "40000/40000 [==============================] - 9s 213us/step - loss: 0.8426 - acc: 0.7067 - val_loss: 0.8992 - val_acc: 0.6905\n",
      "Epoch 10/10\n",
      "40000/40000 [==============================] - 9s 213us/step - loss: 0.7939 - acc: 0.7222 - val_loss: 0.9081 - val_acc: 0.6864\n",
      "Confusion matrix\n",
      "[[774  13  35  14  13   8   4   8 104  31]\n",
      " [ 48 767   5  13   4   3   6   2  39  99]\n",
      " [ 87   7 564  57 129  74  27  36  26   9]\n",
      " [ 47   9  69 544  66 193  26  37  26  13]\n",
      " [ 50   4  67  51 658  34  23  68   8   4]\n",
      " [ 15   2  82 194  53 598  11  39  16   6]\n",
      " [ 15   8  51  94 112  42 607   3  13   8]\n",
      " [ 10   5  32  47  84  69   2 723  10  17]\n",
      " [ 82  30  15  16   2   6   2   3 816  17]\n",
      " [ 56  89   3  15   7   4   2  17  34 813]]\n",
      "Test score: 0.9080753895759582\n",
      "Test accuracy: 0.6864\n",
      "Output results are saved in output_997b9507-21c7-4769-a9af-e4555d6435ab\n"
     ]
    },
    {
     "data": {
      "image/png": "[encoded data removed]",
      "text/plain": [
       "<Figure size 864x288 with 2 Axes>"
      ]
     },
     "metadata": {
      "needs_background": "light"
     },
     "output_type": "display_data"
    }
   ],
   "source": [
    "if __name__ == '__main__':\n",
    "    main()"
   ]
  },
  {
   "cell_type": "code",
   "execution_count": null,
   "metadata": {},
   "outputs": [],
   "source": [
    "###RNN "
   ]
  },
  {
   "cell_type": "code",
   "execution_count": 7,
   "metadata": {},
   "outputs": [],
   "source": [
    "from __future__ import print_function\n",
    "from keras.preprocessing import sequence\n",
    "from keras.datasets import imdb\n",
    "from keras import layers, models"
   ]
  },
  {
   "cell_type": "code",
   "execution_count": 2,
   "metadata": {},
   "outputs": [],
   "source": [
    "class Data:\n",
    "    def __init__(self, max_features=20000, maxlen=80):\n",
    "        (x_train, y_train), (x_test, y_test) = imdb.load_data(\n",
    "            num_words=max_features)\n",
    "        x_train = sequence.pad_sequences(x_train, maxlen=maxlen)\n",
    "        x_test = sequence.pad_sequences(x_test, maxlen=maxlen)\n",
    "\n",
    "        self.x_train, self.y_train = x_train, y_train\n",
    "        self.x_test, self.y_test = x_test, y_test"
   ]
  },
  {
   "cell_type": "code",
   "execution_count": 3,
   "metadata": {},
   "outputs": [],
   "source": [
    "class RNN_LSTM(models.Model):\n",
    "    def __init__(self, max_features, maxlen):\n",
    "        x = layers.Input((maxlen,))\n",
    "        h = layers.Embedding(max_features, 128)(x)\n",
    "        h = layers.LSTM(128, dropout=0.2, recurrent_dropout=0.2)(h)\n",
    "        y = layers.Dense(1, activation='sigmoid')(h)\n",
    "        super().__init__(x, y)\n",
    "\n",
    "        # try using different optimizers and different optimizer configs\n",
    "        self.compile(loss='binary_crossentropy',\n",
    "                     optimizer='adam', metrics=['accuracy'])"
   ]
  },
  {
   "cell_type": "code",
   "execution_count": 4,
   "metadata": {},
   "outputs": [],
   "source": [
    "class Machine:\n",
    "    def __init__(self,\n",
    "                 max_features=20000,\n",
    "                 maxlen=80):\n",
    "        self.data = Data(max_features, maxlen)\n",
    "        self.model = RNN_LSTM(max_features, maxlen)\n",
    "\n",
    "    def run(self, epochs=3, batch_size=32):\n",
    "        data = self.data\n",
    "        model = self.model\n",
    "        print('Training stage')\n",
    "        print('==============')\n",
    "        model.fit(data.x_train, data.y_train,\n",
    "                  batch_size=batch_size,\n",
    "                  epochs=epochs,\n",
    "                  validation_data=(data.x_test, data.y_test))\n",
    "\n",
    "        score, acc = model.evaluate(data.x_test, data.y_test,\n",
    "                                    batch_size=batch_size)\n",
    "        print('Test performance: accuracy={0}, loss={1}'.format(acc, score))"
   ]
  },
  {
   "cell_type": "code",
   "execution_count": 5,
   "metadata": {},
   "outputs": [],
   "source": [
    "def main():\n",
    "    m = Machine()\n",
    "    m.run()"
   ]
  },
  {
   "cell_type": "code",
   "execution_count": 6,
   "metadata": {},
   "outputs": [
    {
     "name": "stdout",
     "output_type": "stream",
     "text": [
      "Downloading data from https://s3.amazonaws.com/text-datasets/imdb.npz\n",
      "17465344/17464789 [==============================] - 12s 1us/step\n",
      "Training stage\n",
      "==============\n",
      "Train on 25000 samples, validate on 25000 samples\n",
      "Epoch 1/3\n",
      "25000/25000 [==============================] - 182s 7ms/step - loss: 0.4601 - acc: 0.7823 - val_loss: 0.4041 - val_acc: 0.8183\n",
      "Epoch 2/3\n",
      "25000/25000 [==============================] - 168s 7ms/step - loss: 0.3000 - acc: 0.8764 - val_loss: 0.3720 - val_acc: 0.8362\n",
      "Epoch 3/3\n",
      "25000/25000 [==============================] - 168s 7ms/step - loss: 0.2166 - acc: 0.9158 - val_loss: 0.4048 - val_acc: 0.8306\n",
      "25000/25000 [==============================] - 40s 2ms/step\n",
      "Test performance: accuracy=0.83064, loss=0.4048199745941162\n"
     ]
    }
   ],
   "source": [
    "if __name__ == '__main__':\n",
    "    main()"
   ]
  },
  {
   "cell_type": "code",
   "execution_count": null,
   "metadata": {},
   "outputs": [],
   "source": [
    "###COLOR RNN"
   ]
  },
  {
   "cell_type": "code",
   "execution_count": 9,
   "metadata": {},
   "outputs": [],
   "source": [
    "import pandas as pd\n",
    "import numpy as np\n",
    "import seaborn as sns\n",
    "import matplotlib.pyplot as plt"
   ]
  },
  {
   "cell_type": "code",
   "execution_count": 17,
   "metadata": {},
   "outputs": [],
   "source": [
    "from sklearn import model_selection\n",
    "from keras import models, layers"
   ]
  },
  {
   "cell_type": "code",
   "execution_count": 18,
   "metadata": {},
   "outputs": [],
   "source": [
    "def main():\n",
    "    machine = Machine()\n",
    "    machine.run(epochs=400)"
   ]
  },
  {
   "cell_type": "code",
   "execution_count": 59,
   "metadata": {},
   "outputs": [],
   "source": [
    "class Machine():\n",
    "    def __init__(self):\n",
    "        self.data = Dataset()\n",
    "        shape = self.data.X.shape[1:]\n",
    "        self.model = rnn_model(shape)\n",
    "    \n",
    "    def run(self, epochs=400):\n",
    "        d = self.data\n",
    "        X_train, X_test, y_train, y_test = d.X_train, d.X_test, d.y_train, d.y_test\n",
    "        X, y = d.X, d.y\n",
    "        m = self.model\n",
    "        h = m.fit(X_train, y_train, epochs=epochs, validation_data=[X_test, y_test], verbose=0)\n",
    "        \n",
    "        plot_loss(h)\n",
    "        plt.title('History of training')\n",
    "        plt.show()\n",
    "        \n",
    "        yp = m.predict(X_test)\n",
    "        print('Loss: ', m.evaluate(X_test, y_test))\n",
    "        plt.plot(yp, label='Origial')\n",
    "        plt.plot(y_test, label='Prediction')\n",
    "        plt.legend(loc=0)\n",
    "        plt.title('Validation Results')\n",
    "        plt.show()\n",
    "        \n",
    "        yp = m.predict(X_test).reshape(-1)\n",
    "        print('Loss: ', m.evaluate(X_test, y_test))\n",
    "        print(yp.shape, y_test.shape)\n",
    "        \n",
    "        df = pd.DataFrame()\n",
    "        df['Sample'] = list(range(len(y_test))) * 2\n",
    "        df['Normalized #Passengers'] = np.concatenate([y_test, yp], axis=0)\n",
    "        df['Type'] = ['Original'] * len(y_test) + ['Prediction'] * len(yp)\n",
    "        \n",
    "        plt.figure(figsize=(7, 5))\n",
    "        sns.barplot(x=\"Sample\", y=\"Normalized #Passengers\", \n",
    "                    hue=\"Type\", data=df)\n",
    "        plt.ylabel('Normalized #Passengers')\n",
    "        plt.show()\n",
    "        \n",
    "        yp = m.predict(X)\n",
    "\n",
    "        plt.plot(yp, label='Origial')\n",
    "        plt.plot(y, label='Prediction')\n",
    "        plt.legend(loc=0)\n",
    "        plt.title('All Results')\n",
    "        plt.show()\n",
    "    \n",
    "   "
   ]
  },
  {
   "cell_type": "code",
   "execution_count": 60,
   "metadata": {},
   "outputs": [],
   "source": [
    " def rnn_model(shape):\n",
    "        m_x = layers.Input(shape=shape) #X.shape[1:]\n",
    "        m_h = layers.LSTM(10)(m_x)\n",
    "        m_y = layers.Dense(1)(m_h)\n",
    "        m = models.Model(m_x, m_y)\n",
    "    \n",
    "        m.compile('adam', 'mean_squared_error')\n",
    "    \n",
    "        m.summary()\n",
    "    \n",
    "        return m\n",
    "        "
   ]
  },
  {
   "cell_type": "code",
   "execution_count": 61,
   "metadata": {},
   "outputs": [],
   "source": [
    "class Dataset:\n",
    "    def __init__(self, fname='international-airline-passengers.csv', D=12):\n",
    "        data_dn = load_data(fname=fname)\n",
    "        X, y = get_Xy(data_dn, D=D)\n",
    "        X_train, X_test, y_train, y_test = model_selection.train_test_split(X, y, test_size=0.2, random_state=42)  \n",
    "        \n",
    "        self.X, self.y = X, y\n",
    "        self.X_train, self.X_test, self.y_train, self.y_test = X_train, X_test, y_train, y_test "
   ]
  },
  {
   "cell_type": "code",
   "execution_count": 62,
   "metadata": {},
   "outputs": [],
   "source": [
    "def load_data(fname='international-airline-passengers.csv'):\n",
    "    dataset = pd.read_csv(fname, usecols=[1], engine='python', skipfooter=3)\n",
    "    data = dataset.values.reshape(-1)\n",
    "    plt.plot(data)\n",
    "    plt.xlabel('Time'); plt.ylabel('#Passengers')\n",
    "    plt.title('Original Data')\n",
    "    plt.show()\n",
    "\n",
    "    # data normalize\n",
    "    data_dn = (data - np.mean(data)) / np.std(data) / 5\n",
    "    plt.plot(data_dn)\n",
    "    plt.xlabel('Time'); plt.ylabel('Normalized #Passengers')\n",
    "    plt.title('Normalized data by $E[]$ and $5\\sigma$')\n",
    "    plt.show()\n",
    "    \n",
    "    return data_dn"
   ]
  },
  {
   "cell_type": "code",
   "execution_count": 63,
   "metadata": {},
   "outputs": [],
   "source": [
    "def get_Xy(data, D=12):\n",
    "    # make X and y\n",
    "    X_l = []\n",
    "    y_l = []\n",
    "    N = len(data)\n",
    "    assert N > D, \"N should be larger than D, where N is len(data)\"\n",
    "    for ii in range(N-D-1):\n",
    "        X_l.append(data[ii:ii+D])\n",
    "        y_l.append(data[ii+D])\n",
    "    X = np.array(X_l)\n",
    "    X = X.reshape(X.shape[0], X.shape[1], 1)\n",
    "    y = np.array(y_l)\n",
    "    print(X.shape, y.shape)\n",
    "    return X, y"
   ]
  },
  {
   "cell_type": "code",
   "execution_count": 64,
   "metadata": {},
   "outputs": [
    {
     "data": {
      "image/png": "[encoded data removed]",
      "text/plain": [
       "<Figure size 432x288 with 1 Axes>"
      ]
     },
     "metadata": {
      "needs_background": "light"
     },
     "output_type": "display_data"
    },
    {
     "data": {
      "image/png": "[encoded data removed]",
      "text/plain": [
       "<Figure size 432x288 with 1 Axes>"
      ]
     },
     "metadata": {
      "needs_background": "light"
     },
     "output_type": "display_data"
    },
    {
     "name": "stdout",
     "output_type": "stream",
     "text": [
      "(128, 12, 1) (128,)\n",
      "_________________________________________________________________\n",
      "Layer (type)                 Output Shape              Param #   \n",
      "=================================================================\n",
      "input_15 (InputLayer)        (None, 12, 1)             0         \n",
      "_________________________________________________________________\n",
      "lstm_15 (LSTM)               (None, 10)                480       \n",
      "_________________________________________________________________\n",
      "dense_15 (Dense)             (None, 1)                 11        \n",
      "=================================================================\n",
      "Total params: 491\n",
      "Trainable params: 491\n",
      "Non-trainable params: 0\n",
      "_________________________________________________________________\n"
     ]
    },
    {
     "data": {
      "image/png": "[encoded data removed]",
      "text/plain": [
       "<Figure size 432x288 with 1 Axes>"
      ]
     },
     "metadata": {
      "needs_background": "light"
     },
     "output_type": "display_data"
    },
    {
     "name": "stdout",
     "output_type": "stream",
     "text": [
      "26/26 [==============================] - 0s 345us/step\n",
      "Loss:  0.0016050926642492414\n"
     ]
    },
    {
     "data": {
      "image/png": "[encoded data removed]",
      "text/plain": [
       "<Figure size 432x288 with 1 Axes>"
      ]
     },
     "metadata": {
      "needs_background": "light"
     },
     "output_type": "display_data"
    },
    {
     "name": "stdout",
     "output_type": "stream",
     "text": [
      "26/26 [==============================] - 0s 307us/step\n",
      "Loss:  0.0016050926642492414\n",
      "(26,) (26,)\n"
     ]
    },
    {
     "data": {
      "image/png": "[encoded data removed]",
      "text/plain": [
       "<Figure size 504x360 with 1 Axes>"
      ]
     },
     "metadata": {
      "needs_background": "light"
     },
     "output_type": "display_data"
    },
    {
     "data": {
      "image/png": "[encoded data removed]",
      "text/plain": [
       "<Figure size 432x288 with 1 Axes>"
      ]
     },
     "metadata": {
      "needs_background": "light"
     },
     "output_type": "display_data"
    }
   ],
   "source": [
    "if __name__ == '__main__':\n",
    "    main()"
   ]
  },
  {
   "cell_type": "code",
   "execution_count": null,
   "metadata": {},
   "outputs": [],
   "source": []
  }
 ],
 "metadata": {
  "kernelspec": {
   "display_name": "Python 3",
   "language": "python",
   "name": "python3"
  },
  "language_info": {
   "codemirror_mode": {
    "name": "ipython",
    "version": 3
   },
   "file_extension": ".py",
   "mimetype": "text/x-python",
   "name": "python",
   "nbconvert_exporter": "python",
   "pygments_lexer": "ipython3",
   "version": "3.5.3"
  }
 },
 "nbformat": 4,
 "nbformat_minor": 2
}
