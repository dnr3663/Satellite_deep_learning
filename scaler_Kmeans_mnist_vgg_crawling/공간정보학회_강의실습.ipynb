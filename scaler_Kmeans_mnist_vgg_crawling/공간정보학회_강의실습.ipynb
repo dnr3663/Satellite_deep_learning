{
 "cells": [
  {
   "cell_type": "code",
   "execution_count": 120,
   "metadata": {},
   "outputs": [],
   "source": [
    "from sklearn.preprocessing import MinMaxScaler"
   ]
  },
  {
   "cell_type": "code",
   "execution_count": 121,
   "metadata": {},
   "outputs": [
    {
     "name": "stdout",
     "output_type": "stream",
     "text": [
      "MinMaxScaler(copy=True, feature_range=(0, 1))\n"
     ]
    }
   ],
   "source": [
    "data = [[-1, 2], [-0.5, 6], [0, 10], [1, 18]]\n",
    "scaler = MinMaxScaler()\n",
    "print(scaler.fit(data))\n"
   ]
  },
  {
   "cell_type": "code",
   "execution_count": 3,
   "metadata": {},
   "outputs": [
    {
     "name": "stdout",
     "output_type": "stream",
     "text": [
      "[ 1. 18.]\n",
      "[[0.   0.  ]\n",
      " [0.25 0.25]\n",
      " [0.5  0.5 ]\n",
      " [1.   1.  ]]\n",
      "[[1.5 0. ]]\n"
     ]
    }
   ],
   "source": [
    "print(scaler.data_max_)\n",
    "\n",
    "print(scaler.transform(data))\n",
    "\n",
    "print(scaler.transform([[2, 2]]))"
   ]
  },
  {
   "cell_type": "code",
   "execution_count": 4,
   "metadata": {},
   "outputs": [
    {
     "data": {
      "text/plain": [
       "array([[ 0.5, -1. ,  1. ],\n",
       "       [ 1. ,  0. ,  0. ],\n",
       "       [ 0. ,  1. , -0.5]])"
      ]
     },
     "execution_count": 4,
     "metadata": {},
     "output_type": "execute_result"
    }
   ],
   "source": [
    "from sklearn.preprocessing import MaxAbsScaler\n",
    "\n",
    "X = [[ 1., -1.,  2.],[ 2.,  0.,  0.],[ 0.,  1., -1.]]\n",
    "\n",
    "transformer = MaxAbsScaler().fit(X)\n",
    "transformer\n",
    "\n",
    "transformer.transform(X)"
   ]
  },
  {
   "cell_type": "code",
   "execution_count": 5,
   "metadata": {},
   "outputs": [
    {
     "name": "stdout",
     "output_type": "stream",
     "text": [
      "StandardScaler(copy=True, with_mean=True, with_std=True)\n",
      "[0.5 0.5]\n",
      "[[-1. -1.]\n",
      " [-1. -1.]\n",
      " [ 1.  1.]\n",
      " [ 1.  1.]]\n",
      "[[3. 3.]]\n"
     ]
    }
   ],
   "source": [
    "from sklearn.preprocessing import StandardScaler\n",
    "\n",
    "data = [[0, 0], [0, 0], [1, 1], [1, 1]]\n",
    "\n",
    "scaler = StandardScaler()\n",
    "\n",
    "print(scaler.fit(data))\n",
    "\n",
    "print(scaler.mean_)\n",
    "\n",
    "print(scaler.transform(data))\n",
    "\n",
    "print(scaler.transform([[2, 2]]))"
   ]
  },
  {
   "cell_type": "code",
   "execution_count": 6,
   "metadata": {},
   "outputs": [],
   "source": [
    "######################### 6 "
   ]
  },
  {
   "cell_type": "code",
   "execution_count": 66,
   "metadata": {},
   "outputs": [],
   "source": [
    "from sklearn.cluster import KMeans\n",
    "import numpy as np\n",
    "import pandas as pd\n",
    "import seaborn as sb\n",
    "import matplotlib.pyplot as plt\n",
    "import tensorflow as tf\n",
    "from random import *"
   ]
  },
  {
   "cell_type": "code",
   "execution_count": 67,
   "metadata": {},
   "outputs": [
    {
     "data": {
      "text/html": [
       "<div>\n",
       "<style scoped>\n",
       "    .dataframe tbody tr th:only-of-type {\n",
       "        vertical-align: middle;\n",
       "    }\n",
       "\n",
       "    .dataframe tbody tr th {\n",
       "        vertical-align: top;\n",
       "    }\n",
       "\n",
       "    .dataframe thead th {\n",
       "        text-align: right;\n",
       "    }\n",
       "</style>\n",
       "<table border=\"1\" class=\"dataframe\">\n",
       "  <thead>\n",
       "    <tr style=\"text-align: right;\">\n",
       "      <th></th>\n",
       "      <th>x</th>\n",
       "      <th>y</th>\n",
       "    </tr>\n",
       "  </thead>\n",
       "  <tbody>\n",
       "  </tbody>\n",
       "</table>\n",
       "</div>"
      ],
      "text/plain": [
       "Empty DataFrame\n",
       "Columns: [x, y]\n",
       "Index: []"
      ]
     },
     "execution_count": 67,
     "metadata": {},
     "output_type": "execute_result"
    }
   ],
   "source": [
    "df = pd.DataFrame(columns=['x' , 'y'])\n",
    "\n",
    "df.head(30)"
   ]
  },
  {
   "cell_type": "code",
   "execution_count": 68,
   "metadata": {
    "scrolled": true
   },
   "outputs": [],
   "source": [
    "for i in range(0,1000) :\n",
    "    a = randint(1,800)\n",
    "    b = randint(1,500)\n",
    "    df.loc[i] = [a,b]\n",
    "    "
   ]
  },
  {
   "cell_type": "code",
   "execution_count": 61,
   "metadata": {
    "scrolled": true
   },
   "outputs": [
    {
     "data": {
      "text/html": [
       "<div>\n",
       "<style scoped>\n",
       "    .dataframe tbody tr th:only-of-type {\n",
       "        vertical-align: middle;\n",
       "    }\n",
       "\n",
       "    .dataframe tbody tr th {\n",
       "        vertical-align: top;\n",
       "    }\n",
       "\n",
       "    .dataframe thead th {\n",
       "        text-align: right;\n",
       "    }\n",
       "</style>\n",
       "<table border=\"1\" class=\"dataframe\">\n",
       "  <thead>\n",
       "    <tr style=\"text-align: right;\">\n",
       "      <th></th>\n",
       "      <th>x</th>\n",
       "      <th>y</th>\n",
       "      <th>cluster</th>\n",
       "    </tr>\n",
       "  </thead>\n",
       "  <tbody>\n",
       "    <tr>\n",
       "      <th>0</th>\n",
       "      <td>488</td>\n",
       "      <td>420</td>\n",
       "      <td>0</td>\n",
       "    </tr>\n",
       "    <tr>\n",
       "      <th>1</th>\n",
       "      <td>458</td>\n",
       "      <td>348</td>\n",
       "      <td>0</td>\n",
       "    </tr>\n",
       "    <tr>\n",
       "      <th>2</th>\n",
       "      <td>314</td>\n",
       "      <td>168</td>\n",
       "      <td>2</td>\n",
       "    </tr>\n",
       "    <tr>\n",
       "      <th>3</th>\n",
       "      <td>406</td>\n",
       "      <td>222</td>\n",
       "      <td>2</td>\n",
       "    </tr>\n",
       "    <tr>\n",
       "      <th>4</th>\n",
       "      <td>330</td>\n",
       "      <td>437</td>\n",
       "      <td>0</td>\n",
       "    </tr>\n",
       "    <tr>\n",
       "      <th>5</th>\n",
       "      <td>432</td>\n",
       "      <td>62</td>\n",
       "      <td>2</td>\n",
       "    </tr>\n",
       "    <tr>\n",
       "      <th>6</th>\n",
       "      <td>24</td>\n",
       "      <td>232</td>\n",
       "      <td>1</td>\n",
       "    </tr>\n",
       "    <tr>\n",
       "      <th>7</th>\n",
       "      <td>316</td>\n",
       "      <td>301</td>\n",
       "      <td>0</td>\n",
       "    </tr>\n",
       "    <tr>\n",
       "      <th>8</th>\n",
       "      <td>233</td>\n",
       "      <td>279</td>\n",
       "      <td>3</td>\n",
       "    </tr>\n",
       "    <tr>\n",
       "      <th>9</th>\n",
       "      <td>229</td>\n",
       "      <td>288</td>\n",
       "      <td>3</td>\n",
       "    </tr>\n",
       "    <tr>\n",
       "      <th>10</th>\n",
       "      <td>405</td>\n",
       "      <td>451</td>\n",
       "      <td>0</td>\n",
       "    </tr>\n",
       "    <tr>\n",
       "      <th>11</th>\n",
       "      <td>148</td>\n",
       "      <td>130</td>\n",
       "      <td>1</td>\n",
       "    </tr>\n",
       "    <tr>\n",
       "      <th>12</th>\n",
       "      <td>277</td>\n",
       "      <td>441</td>\n",
       "      <td>0</td>\n",
       "    </tr>\n",
       "    <tr>\n",
       "      <th>13</th>\n",
       "      <td>330</td>\n",
       "      <td>468</td>\n",
       "      <td>0</td>\n",
       "    </tr>\n",
       "    <tr>\n",
       "      <th>14</th>\n",
       "      <td>90</td>\n",
       "      <td>174</td>\n",
       "      <td>1</td>\n",
       "    </tr>\n",
       "    <tr>\n",
       "      <th>15</th>\n",
       "      <td>27</td>\n",
       "      <td>192</td>\n",
       "      <td>1</td>\n",
       "    </tr>\n",
       "    <tr>\n",
       "      <th>16</th>\n",
       "      <td>484</td>\n",
       "      <td>332</td>\n",
       "      <td>0</td>\n",
       "    </tr>\n",
       "    <tr>\n",
       "      <th>17</th>\n",
       "      <td>225</td>\n",
       "      <td>85</td>\n",
       "      <td>1</td>\n",
       "    </tr>\n",
       "    <tr>\n",
       "      <th>18</th>\n",
       "      <td>305</td>\n",
       "      <td>342</td>\n",
       "      <td>0</td>\n",
       "    </tr>\n",
       "    <tr>\n",
       "      <th>19</th>\n",
       "      <td>163</td>\n",
       "      <td>29</td>\n",
       "      <td>1</td>\n",
       "    </tr>\n",
       "    <tr>\n",
       "      <th>20</th>\n",
       "      <td>451</td>\n",
       "      <td>100</td>\n",
       "      <td>2</td>\n",
       "    </tr>\n",
       "    <tr>\n",
       "      <th>21</th>\n",
       "      <td>24</td>\n",
       "      <td>456</td>\n",
       "      <td>3</td>\n",
       "    </tr>\n",
       "    <tr>\n",
       "      <th>22</th>\n",
       "      <td>8</td>\n",
       "      <td>400</td>\n",
       "      <td>3</td>\n",
       "    </tr>\n",
       "    <tr>\n",
       "      <th>23</th>\n",
       "      <td>495</td>\n",
       "      <td>105</td>\n",
       "      <td>2</td>\n",
       "    </tr>\n",
       "    <tr>\n",
       "      <th>24</th>\n",
       "      <td>188</td>\n",
       "      <td>491</td>\n",
       "      <td>3</td>\n",
       "    </tr>\n",
       "    <tr>\n",
       "      <th>25</th>\n",
       "      <td>90</td>\n",
       "      <td>413</td>\n",
       "      <td>3</td>\n",
       "    </tr>\n",
       "    <tr>\n",
       "      <th>26</th>\n",
       "      <td>105</td>\n",
       "      <td>112</td>\n",
       "      <td>1</td>\n",
       "    </tr>\n",
       "    <tr>\n",
       "      <th>27</th>\n",
       "      <td>100</td>\n",
       "      <td>25</td>\n",
       "      <td>1</td>\n",
       "    </tr>\n",
       "    <tr>\n",
       "      <th>28</th>\n",
       "      <td>70</td>\n",
       "      <td>229</td>\n",
       "      <td>1</td>\n",
       "    </tr>\n",
       "    <tr>\n",
       "      <th>29</th>\n",
       "      <td>358</td>\n",
       "      <td>371</td>\n",
       "      <td>0</td>\n",
       "    </tr>\n",
       "    <tr>\n",
       "      <th>...</th>\n",
       "      <td>...</td>\n",
       "      <td>...</td>\n",
       "      <td>...</td>\n",
       "    </tr>\n",
       "    <tr>\n",
       "      <th>970</th>\n",
       "      <td>361</td>\n",
       "      <td>115</td>\n",
       "      <td>2</td>\n",
       "    </tr>\n",
       "    <tr>\n",
       "      <th>971</th>\n",
       "      <td>421</td>\n",
       "      <td>403</td>\n",
       "      <td>0</td>\n",
       "    </tr>\n",
       "    <tr>\n",
       "      <th>972</th>\n",
       "      <td>78</td>\n",
       "      <td>483</td>\n",
       "      <td>3</td>\n",
       "    </tr>\n",
       "    <tr>\n",
       "      <th>973</th>\n",
       "      <td>379</td>\n",
       "      <td>260</td>\n",
       "      <td>0</td>\n",
       "    </tr>\n",
       "    <tr>\n",
       "      <th>974</th>\n",
       "      <td>387</td>\n",
       "      <td>341</td>\n",
       "      <td>0</td>\n",
       "    </tr>\n",
       "    <tr>\n",
       "      <th>975</th>\n",
       "      <td>21</td>\n",
       "      <td>94</td>\n",
       "      <td>1</td>\n",
       "    </tr>\n",
       "    <tr>\n",
       "      <th>976</th>\n",
       "      <td>400</td>\n",
       "      <td>245</td>\n",
       "      <td>2</td>\n",
       "    </tr>\n",
       "    <tr>\n",
       "      <th>977</th>\n",
       "      <td>254</td>\n",
       "      <td>117</td>\n",
       "      <td>2</td>\n",
       "    </tr>\n",
       "    <tr>\n",
       "      <th>978</th>\n",
       "      <td>192</td>\n",
       "      <td>224</td>\n",
       "      <td>1</td>\n",
       "    </tr>\n",
       "    <tr>\n",
       "      <th>979</th>\n",
       "      <td>293</td>\n",
       "      <td>408</td>\n",
       "      <td>0</td>\n",
       "    </tr>\n",
       "    <tr>\n",
       "      <th>980</th>\n",
       "      <td>185</td>\n",
       "      <td>279</td>\n",
       "      <td>3</td>\n",
       "    </tr>\n",
       "    <tr>\n",
       "      <th>981</th>\n",
       "      <td>326</td>\n",
       "      <td>275</td>\n",
       "      <td>0</td>\n",
       "    </tr>\n",
       "    <tr>\n",
       "      <th>982</th>\n",
       "      <td>23</td>\n",
       "      <td>440</td>\n",
       "      <td>3</td>\n",
       "    </tr>\n",
       "    <tr>\n",
       "      <th>983</th>\n",
       "      <td>217</td>\n",
       "      <td>433</td>\n",
       "      <td>3</td>\n",
       "    </tr>\n",
       "    <tr>\n",
       "      <th>984</th>\n",
       "      <td>292</td>\n",
       "      <td>450</td>\n",
       "      <td>0</td>\n",
       "    </tr>\n",
       "    <tr>\n",
       "      <th>985</th>\n",
       "      <td>439</td>\n",
       "      <td>482</td>\n",
       "      <td>0</td>\n",
       "    </tr>\n",
       "    <tr>\n",
       "      <th>986</th>\n",
       "      <td>410</td>\n",
       "      <td>188</td>\n",
       "      <td>2</td>\n",
       "    </tr>\n",
       "    <tr>\n",
       "      <th>987</th>\n",
       "      <td>400</td>\n",
       "      <td>86</td>\n",
       "      <td>2</td>\n",
       "    </tr>\n",
       "    <tr>\n",
       "      <th>988</th>\n",
       "      <td>425</td>\n",
       "      <td>30</td>\n",
       "      <td>2</td>\n",
       "    </tr>\n",
       "    <tr>\n",
       "      <th>989</th>\n",
       "      <td>380</td>\n",
       "      <td>424</td>\n",
       "      <td>0</td>\n",
       "    </tr>\n",
       "    <tr>\n",
       "      <th>990</th>\n",
       "      <td>469</td>\n",
       "      <td>82</td>\n",
       "      <td>2</td>\n",
       "    </tr>\n",
       "    <tr>\n",
       "      <th>991</th>\n",
       "      <td>464</td>\n",
       "      <td>205</td>\n",
       "      <td>2</td>\n",
       "    </tr>\n",
       "    <tr>\n",
       "      <th>992</th>\n",
       "      <td>92</td>\n",
       "      <td>94</td>\n",
       "      <td>1</td>\n",
       "    </tr>\n",
       "    <tr>\n",
       "      <th>993</th>\n",
       "      <td>63</td>\n",
       "      <td>336</td>\n",
       "      <td>3</td>\n",
       "    </tr>\n",
       "    <tr>\n",
       "      <th>994</th>\n",
       "      <td>200</td>\n",
       "      <td>455</td>\n",
       "      <td>3</td>\n",
       "    </tr>\n",
       "    <tr>\n",
       "      <th>995</th>\n",
       "      <td>162</td>\n",
       "      <td>499</td>\n",
       "      <td>3</td>\n",
       "    </tr>\n",
       "    <tr>\n",
       "      <th>996</th>\n",
       "      <td>81</td>\n",
       "      <td>194</td>\n",
       "      <td>1</td>\n",
       "    </tr>\n",
       "    <tr>\n",
       "      <th>997</th>\n",
       "      <td>358</td>\n",
       "      <td>288</td>\n",
       "      <td>0</td>\n",
       "    </tr>\n",
       "    <tr>\n",
       "      <th>998</th>\n",
       "      <td>375</td>\n",
       "      <td>155</td>\n",
       "      <td>2</td>\n",
       "    </tr>\n",
       "    <tr>\n",
       "      <th>999</th>\n",
       "      <td>408</td>\n",
       "      <td>424</td>\n",
       "      <td>0</td>\n",
       "    </tr>\n",
       "  </tbody>\n",
       "</table>\n",
       "<p>1000 rows × 3 columns</p>\n",
       "</div>"
      ],
      "text/plain": [
       "       x    y  cluster\n",
       "0    488  420        0\n",
       "1    458  348        0\n",
       "2    314  168        2\n",
       "3    406  222        2\n",
       "4    330  437        0\n",
       "5    432   62        2\n",
       "6     24  232        1\n",
       "7    316  301        0\n",
       "8    233  279        3\n",
       "9    229  288        3\n",
       "10   405  451        0\n",
       "11   148  130        1\n",
       "12   277  441        0\n",
       "13   330  468        0\n",
       "14    90  174        1\n",
       "15    27  192        1\n",
       "16   484  332        0\n",
       "17   225   85        1\n",
       "18   305  342        0\n",
       "19   163   29        1\n",
       "20   451  100        2\n",
       "21    24  456        3\n",
       "22     8  400        3\n",
       "23   495  105        2\n",
       "24   188  491        3\n",
       "25    90  413        3\n",
       "26   105  112        1\n",
       "27   100   25        1\n",
       "28    70  229        1\n",
       "29   358  371        0\n",
       "..   ...  ...      ...\n",
       "970  361  115        2\n",
       "971  421  403        0\n",
       "972   78  483        3\n",
       "973  379  260        0\n",
       "974  387  341        0\n",
       "975   21   94        1\n",
       "976  400  245        2\n",
       "977  254  117        2\n",
       "978  192  224        1\n",
       "979  293  408        0\n",
       "980  185  279        3\n",
       "981  326  275        0\n",
       "982   23  440        3\n",
       "983  217  433        3\n",
       "984  292  450        0\n",
       "985  439  482        0\n",
       "986  410  188        2\n",
       "987  400   86        2\n",
       "988  425   30        2\n",
       "989  380  424        0\n",
       "990  469   82        2\n",
       "991  464  205        2\n",
       "992   92   94        1\n",
       "993   63  336        3\n",
       "994  200  455        3\n",
       "995  162  499        3\n",
       "996   81  194        1\n",
       "997  358  288        0\n",
       "998  375  155        2\n",
       "999  408  424        0\n",
       "\n",
       "[1000 rows x 3 columns]"
      ]
     },
     "execution_count": 61,
     "metadata": {},
     "output_type": "execute_result"
    }
   ],
   "source": [
    "df"
   ]
  },
  {
   "cell_type": "code",
   "execution_count": 69,
   "metadata": {},
   "outputs": [
    {
     "data": {
      "text/plain": [
       "Text(3.799999999999997, 0.5, 'y')"
      ]
     },
     "execution_count": 69,
     "metadata": {},
     "output_type": "execute_result"
    },
    {
     "data": {
      "image/png": "[encoded data removed]",
      "text/plain": [
       "<Figure size 360x360 with 1 Axes>"
      ]
     },
     "metadata": {
      "needs_background": "light"
     },
     "output_type": "display_data"
    }
   ],
   "source": [
    "sb.lmplot('x' , 'y' , data=df, fit_reg=False, scatter_kws={\"s\": 10})\n",
    "plt.title('K-means Example')\n",
    "plt.xlabel('x')\n",
    "plt.ylabel('y')"
   ]
  },
  {
   "cell_type": "code",
   "execution_count": 74,
   "metadata": {},
   "outputs": [
    {
     "data": {
      "text/plain": [
       "array([[4.42733333e+02, 4.11893333e+02, 2.00000000e+00],\n",
       "       [5.06557377e+01, 2.34196721e+02, 2.50819672e+00],\n",
       "       [5.93442623e+02, 7.98688525e+01, 1.33226763e-15],\n",
       "       [2.69500000e+02, 6.89189189e+01, 1.00000000e+00],\n",
       "       [6.70454545e+02, 3.19151515e+02, 1.63636364e+00],\n",
       "       [1.60590909e+02, 3.21500000e+02, 3.00000000e+00],\n",
       "       [3.15677419e+02, 2.75645161e+02, 1.87096774e+00],\n",
       "       [8.20588235e+01, 6.76078431e+01, 1.00000000e+00],\n",
       "       [4.18868852e+02, 2.18803279e+02, 1.26229508e+00],\n",
       "       [7.40775510e+02, 2.27938776e+02, 2.22044605e-16],\n",
       "       [5.90700000e+02, 4.20216667e+02, 2.00000000e+00],\n",
       "       [7.33581818e+02, 6.84909091e+01, 8.88178420e-16],\n",
       "       [1.76730769e+02, 1.76269231e+02, 1.15384615e+00],\n",
       "       [4.49653846e+02, 6.84615385e+01, 3.65384615e-01],\n",
       "       [2.93846154e+02, 4.22615385e+02, 2.92307692e+00],\n",
       "       [7.41525424e+01, 4.35254237e+02, 3.00000000e+00],\n",
       "       [7.25292683e+02, 4.27073171e+02, 2.00000000e+00],\n",
       "       [5.67620690e+02, 2.38206897e+02, 7.93103448e-01]])"
      ]
     },
     "execution_count": 74,
     "metadata": {},
     "output_type": "execute_result"
    }
   ],
   "source": [
    "points = df.values\n",
    "kmeans = KMeans(n_clusters=18).fit(points)\n",
    "kmeans.cluster_centers_"
   ]
  },
  {
   "cell_type": "code",
   "execution_count": 75,
   "metadata": {
    "scrolled": true
   },
   "outputs": [
    {
     "data": {
      "text/plain": [
       "array([ 2,  9,  0,  1, 13, 17,  3, 15, 13, 12, 17, 11, 13, 14, 14, 16,  3,\n",
       "       14,  2,  3, 11, 15, 14, 15,  2, 15,  7,  5, 12,  7,  6, 14,  0,  0,\n",
       "       17,  7,  7, 17,  8,  7, 17, 16,  8,  4, 12,  8,  1, 12,  3, 11, 16,\n",
       "        6,  9,  2, 12,  4, 13, 17, 14,  7,  3,  9,  8,  9,  3,  8,  9, 17,\n",
       "        6,  1,  2, 15, 15,  5,  9,  5,  7,  7,  2,  2,  1,  7, 17, 17, 11,\n",
       "        0, 11,  9,  1, 10,  7,  0,  6, 14, 14, 16,  6,  2, 11, 14,  8,  6,\n",
       "       16,  6,  4,  4,  6, 13, 12,  0, 17,  0,  6, 13, 10,  4, 15,  6, 10,\n",
       "        7, 10, 10,  6,  9, 14, 17, 17, 12,  6,  0, 11, 12,  0,  9,  6,  0,\n",
       "       16,  1, 15,  9, 13, 10, 12, 11, 17, 10,  6,  0,  8, 12, 15,  3,  7,\n",
       "        3,  5,  1,  1,  0, 13,  8, 14,  5, 14,  0, 17,  0, 11,  2, 12,  1,\n",
       "       13, 10, 10, 14,  8,  6,  3,  0, 13, 10, 10,  3,  6,  0,  3, 11,  0,\n",
       "       11,  3,  8, 14, 11,  1,  7,  0,  5,  4, 13, 12,  9, 10,  9,  8,  7,\n",
       "        5,  9, 12, 16, 15,  9,  8,  9, 13, 16,  9,  3, 10, 11, 16,  1, 16,\n",
       "       11, 14,  4,  9,  4, 12, 15,  2,  0, 13,  9,  9, 12,  3, 14, 13,  0,\n",
       "        7, 13,  3, 13,  3, 17,  3,  3, 15,  7,  0,  5,  9,  6, 14,  0, 13,\n",
       "        4, 10, 12, 16, 17,  7,  8,  3, 12, 12,  1,  4,  1,  0, 12, 17,  7,\n",
       "        4,  4, 11,  7,  5,  8, 15, 17, 15,  9, 12,  6, 10,  5,  5, 14, 11,\n",
       "        1, 17,  3,  1,  8,  8,  2,  1, 17,  6, 15,  5, 16, 13,  7, 17, 12,\n",
       "        1,  4,  7, 10,  5,  3,  7,  3, 15,  2, 12,  6, 10, 10,  8,  4, 10,\n",
       "       17,  6, 11,  3,  6,  3, 14, 15,  5, 11,  0, 17,  9,  0,  1,  8, 14,\n",
       "        2,  1, 16, 15,  9,  0,  8,  3, 13, 17, 14, 13, 15,  5,  8,  4, 17,\n",
       "       12,  8,  4,  0, 11,  3, 12,  8, 10,  8,  1,  0,  1, 10, 16,  2, 12,\n",
       "       17,  6,  8,  0, 10, 15,  8, 16,  0,  7, 15,  0,  9, 16,  3,  0, 16,\n",
       "        5, 10,  2,  5, 14, 14,  5, 12,  3,  6,  3,  6,  8,  1, 11,  3,  6,\n",
       "        2, 13,  9,  6,  7,  8, 14, 10, 15, 12, 17,  0, 17,  7,  3, 14, 11,\n",
       "       15,  0,  0,  4, 13,  0, 17, 11, 12, 12,  5,  7, 15, 14,  8, 11, 17,\n",
       "       15,  6, 15,  2,  3,  3,  3,  5,  2, 13, 10, 11,  0,  4,  9,  4, 10,\n",
       "       17,  2,  5,  9,  4, 14,  6,  6,  3,  1, 16, 17, 14,  0, 11,  5,  5,\n",
       "        2,  1,  7,  6,  6,  8,  5,  9, 16,  3, 15, 10,  2, 12, 15,  9,  5,\n",
       "        1,  8,  8, 12, 10, 16, 11,  5, 17, 17, 10,  2,  8, 15, 13, 11,  0,\n",
       "       12,  8,  9, 17, 17,  8,  7,  6,  1,  6,  0, 17, 12,  2,  9, 17, 17,\n",
       "        9,  5, 12, 17, 10, 14,  4,  2, 11, 11, 15, 14, 10,  2,  7,  4,  5,\n",
       "        3,  8, 10,  7, 10,  7,  4,  1,  0, 16, 12, 17,  8, 16,  6,  6, 10,\n",
       "        0, 12, 10,  3, 12,  1, 13,  0, 13,  0,  2, 10,  9,  1,  2, 12,  2,\n",
       "        3, 17, 17,  6,  3, 10, 16,  2,  6,  3, 12, 11,  6,  2, 11,  2, 13,\n",
       "        0,  3,  3,  2, 15, 11, 12, 15,  2,  1,  6,  3,  5, 15,  6, 13, 15,\n",
       "        0, 14,  3, 10,  9,  0,  8,  2, 14, 16,  1, 17, 10,  3, 10, 17,  3,\n",
       "       17, 11,  8, 16,  5, 17,  6,  8,  0,  1,  1,  2,  4,  6,  8,  1, 15,\n",
       "       15, 13,  8, 14, 10,  6, 15,  1, 16,  6,  3,  1,  1,  3,  6,  0,  3,\n",
       "       13,  2, 12, 10,  4,  2,  0, 15,  6, 10,  5,  7,  2,  4,  0,  2,  2,\n",
       "        0,  2,  8, 11,  1,  8,  5, 11, 13,  1, 13,  2,  8,  0,  8,  2, 10,\n",
       "        7, 13,  5,  0,  9,  1,  7, 13,  8, 13,  8, 12,  2,  6,  0,  7,  0,\n",
       "       16,  2,  1,  1,  0, 15, 13,  1,  0, 16,  5,  7,  7, 11,  8, 15, 12,\n",
       "       10,  1,  2,  9,  6,  6,  0,  0, 13, 10, 11,  9,  6, 10,  6,  0, 15,\n",
       "        1, 10, 10,  0, 14,  3,  2,  3,  6,  3, 11,  8,  6,  1, 12,  2,  3,\n",
       "        4, 14, 16, 15, 15, 11, 10, 16, 15, 16,  8, 14,  0,  1,  9,  7, 13,\n",
       "        3, 11, 17,  0, 14,  7,  4, 14, 17, 11, 10,  6,  3, 14,  7, 10, 12,\n",
       "       10, 15,  7, 16,  5, 15,  3,  1,  1, 11,  6, 14,  2, 12,  2,  9,  7,\n",
       "       11,  1,  3,  3, 14,  0, 15,  8,  1,  1, 14,  5, 15, 17,  9, 13,  0,\n",
       "        3, 17, 11, 13,  9,  3,  3, 11, 17,  3, 10, 13, 15, 15,  3,  0,  8,\n",
       "        7, 14, 11, 13, 15, 14, 16,  3,  7,  9,  3,  2,  2,  5, 11, 15, 12,\n",
       "        3, 15,  2, 13, 11,  0,  9, 12,  0,  1,  1, 11,  0,  2, 11,  0,  4,\n",
       "       14, 10,  8,  3, 13,  3,  2,  1, 12,  3,  5,  8,  2,  6, 13,  3,  5,\n",
       "       16,  5,  1,  2,  7,  6, 13,  8, 17,  8, 13,  1, 10,  8, 14,  4,  0,\n",
       "       14,  1,  3, 13, 17, 14, 17,  8,  4,  7,  9, 15,  3, 11, 12,  0,  2,\n",
       "       14, 15,  5, 12, 15,  9,  6,  9,  9, 16,  9, 10,  6,  1, 11, 13, 17,\n",
       "        6, 17,  6, 16,  8,  7,  3, 14,  1, 16,  7, 14,  4, 10,  5, 14,  7,\n",
       "        0, 13,  9,  1,  8, 16,  2,  7,  2, 11, 11, 10, 13, 17,  0, 15,  5,\n",
       "       15,  8, 16, 15,  5, 10,  7,  2,  4, 13, 12, 16, 16, 11])"
      ]
     },
     "execution_count": 75,
     "metadata": {},
     "output_type": "execute_result"
    }
   ],
   "source": [
    "kmeans.labels_"
   ]
  },
  {
   "cell_type": "code",
   "execution_count": 76,
   "metadata": {},
   "outputs": [
    {
     "data": {
      "text/html": [
       "<div>\n",
       "<style scoped>\n",
       "    .dataframe tbody tr th:only-of-type {\n",
       "        vertical-align: middle;\n",
       "    }\n",
       "\n",
       "    .dataframe tbody tr th {\n",
       "        vertical-align: top;\n",
       "    }\n",
       "\n",
       "    .dataframe thead th {\n",
       "        text-align: right;\n",
       "    }\n",
       "</style>\n",
       "<table border=\"1\" class=\"dataframe\">\n",
       "  <thead>\n",
       "    <tr style=\"text-align: right;\">\n",
       "      <th></th>\n",
       "      <th>x</th>\n",
       "      <th>y</th>\n",
       "      <th>cluster</th>\n",
       "    </tr>\n",
       "  </thead>\n",
       "  <tbody>\n",
       "    <tr>\n",
       "      <th>0</th>\n",
       "      <td>575</td>\n",
       "      <td>76</td>\n",
       "      <td>2</td>\n",
       "    </tr>\n",
       "    <tr>\n",
       "      <th>1</th>\n",
       "      <td>795</td>\n",
       "      <td>159</td>\n",
       "      <td>9</td>\n",
       "    </tr>\n",
       "    <tr>\n",
       "      <th>2</th>\n",
       "      <td>500</td>\n",
       "      <td>450</td>\n",
       "      <td>0</td>\n",
       "    </tr>\n",
       "    <tr>\n",
       "      <th>3</th>\n",
       "      <td>112</td>\n",
       "      <td>217</td>\n",
       "      <td>1</td>\n",
       "    </tr>\n",
       "    <tr>\n",
       "      <th>4</th>\n",
       "      <td>365</td>\n",
       "      <td>62</td>\n",
       "      <td>13</td>\n",
       "    </tr>\n",
       "  </tbody>\n",
       "</table>\n",
       "</div>"
      ],
      "text/plain": [
       "     x    y  cluster\n",
       "0  575   76        2\n",
       "1  795  159        9\n",
       "2  500  450        0\n",
       "3  112  217        1\n",
       "4  365   62       13"
      ]
     },
     "execution_count": 76,
     "metadata": {},
     "output_type": "execute_result"
    }
   ],
   "source": [
    "df['cluster'] = kmeans.labels_\n",
    "df.head(5)   "
   ]
  },
  {
   "cell_type": "code",
   "execution_count": 77,
   "metadata": {
    "scrolled": true
   },
   "outputs": [
    {
     "data": {
      "text/plain": [
       "Text(27.662239583333346, 0.5, 'y')"
      ]
     },
     "execution_count": 77,
     "metadata": {},
     "output_type": "execute_result"
    },
    {
     "data": {
      "image/png": "[encoded data removed]",
      "text/plain": [
       "<Figure size 408.75x360 with 1 Axes>"
      ]
     },
     "metadata": {
      "needs_background": "light"
     },
     "output_type": "display_data"
    }
   ],
   "source": [
    "sb.lmplot('x' , 'y' , data=df, fit_reg=False, scatter_kws={\"s\": 50}, hue=\"cluster\")\n",
    "plt.title('K-means Example')\n",
    "plt.xlabel('x')\n",
    "plt.ylabel('y')"
   ]
  },
  {
   "cell_type": "code",
   "execution_count": 78,
   "metadata": {},
   "outputs": [],
   "source": [
    "#############7_K-means_iris"
   ]
  },
  {
   "cell_type": "code",
   "execution_count": 124,
   "metadata": {},
   "outputs": [],
   "source": [
    "from sklearn import datasets\n",
    "import pandas as pd\n",
    "iris = datasets.load_iris()"
   ]
  },
  {
   "cell_type": "code",
   "execution_count": 125,
   "metadata": {},
   "outputs": [],
   "source": [
    "labels = pd.DataFrame(iris.target)\n",
    "labels.columns=['labels']\n",
    "data = pd.DataFrame(iris.data)\n",
    "data.columns=['Sepal length','Sepal width','Petal length','Petal width']\n",
    "data = pd.concat([data,labels],axis=1)"
   ]
  },
  {
   "cell_type": "code",
   "execution_count": 126,
   "metadata": {
    "scrolled": true
   },
   "outputs": [
    {
     "data": {
      "text/html": [
       "<div>\n",
       "<style scoped>\n",
       "    .dataframe tbody tr th:only-of-type {\n",
       "        vertical-align: middle;\n",
       "    }\n",
       "\n",
       "    .dataframe tbody tr th {\n",
       "        vertical-align: top;\n",
       "    }\n",
       "\n",
       "    .dataframe thead th {\n",
       "        text-align: right;\n",
       "    }\n",
       "</style>\n",
       "<table border=\"1\" class=\"dataframe\">\n",
       "  <thead>\n",
       "    <tr style=\"text-align: right;\">\n",
       "      <th></th>\n",
       "      <th>Sepal length</th>\n",
       "      <th>Sepal width</th>\n",
       "      <th>Petal length</th>\n",
       "      <th>Petal width</th>\n",
       "      <th>labels</th>\n",
       "    </tr>\n",
       "  </thead>\n",
       "  <tbody>\n",
       "    <tr>\n",
       "      <th>0</th>\n",
       "      <td>5.1</td>\n",
       "      <td>3.5</td>\n",
       "      <td>1.4</td>\n",
       "      <td>0.2</td>\n",
       "      <td>0</td>\n",
       "    </tr>\n",
       "    <tr>\n",
       "      <th>1</th>\n",
       "      <td>4.9</td>\n",
       "      <td>3.0</td>\n",
       "      <td>1.4</td>\n",
       "      <td>0.2</td>\n",
       "      <td>0</td>\n",
       "    </tr>\n",
       "    <tr>\n",
       "      <th>2</th>\n",
       "      <td>4.7</td>\n",
       "      <td>3.2</td>\n",
       "      <td>1.3</td>\n",
       "      <td>0.2</td>\n",
       "      <td>0</td>\n",
       "    </tr>\n",
       "    <tr>\n",
       "      <th>3</th>\n",
       "      <td>4.6</td>\n",
       "      <td>3.1</td>\n",
       "      <td>1.5</td>\n",
       "      <td>0.2</td>\n",
       "      <td>0</td>\n",
       "    </tr>\n",
       "    <tr>\n",
       "      <th>4</th>\n",
       "      <td>5.0</td>\n",
       "      <td>3.6</td>\n",
       "      <td>1.4</td>\n",
       "      <td>0.2</td>\n",
       "      <td>0</td>\n",
       "    </tr>\n",
       "    <tr>\n",
       "      <th>5</th>\n",
       "      <td>5.4</td>\n",
       "      <td>3.9</td>\n",
       "      <td>1.7</td>\n",
       "      <td>0.4</td>\n",
       "      <td>0</td>\n",
       "    </tr>\n",
       "    <tr>\n",
       "      <th>6</th>\n",
       "      <td>4.6</td>\n",
       "      <td>3.4</td>\n",
       "      <td>1.4</td>\n",
       "      <td>0.3</td>\n",
       "      <td>0</td>\n",
       "    </tr>\n",
       "    <tr>\n",
       "      <th>7</th>\n",
       "      <td>5.0</td>\n",
       "      <td>3.4</td>\n",
       "      <td>1.5</td>\n",
       "      <td>0.2</td>\n",
       "      <td>0</td>\n",
       "    </tr>\n",
       "    <tr>\n",
       "      <th>8</th>\n",
       "      <td>4.4</td>\n",
       "      <td>2.9</td>\n",
       "      <td>1.4</td>\n",
       "      <td>0.2</td>\n",
       "      <td>0</td>\n",
       "    </tr>\n",
       "    <tr>\n",
       "      <th>9</th>\n",
       "      <td>4.9</td>\n",
       "      <td>3.1</td>\n",
       "      <td>1.5</td>\n",
       "      <td>0.1</td>\n",
       "      <td>0</td>\n",
       "    </tr>\n",
       "    <tr>\n",
       "      <th>10</th>\n",
       "      <td>5.4</td>\n",
       "      <td>3.7</td>\n",
       "      <td>1.5</td>\n",
       "      <td>0.2</td>\n",
       "      <td>0</td>\n",
       "    </tr>\n",
       "    <tr>\n",
       "      <th>11</th>\n",
       "      <td>4.8</td>\n",
       "      <td>3.4</td>\n",
       "      <td>1.6</td>\n",
       "      <td>0.2</td>\n",
       "      <td>0</td>\n",
       "    </tr>\n",
       "    <tr>\n",
       "      <th>12</th>\n",
       "      <td>4.8</td>\n",
       "      <td>3.0</td>\n",
       "      <td>1.4</td>\n",
       "      <td>0.1</td>\n",
       "      <td>0</td>\n",
       "    </tr>\n",
       "    <tr>\n",
       "      <th>13</th>\n",
       "      <td>4.3</td>\n",
       "      <td>3.0</td>\n",
       "      <td>1.1</td>\n",
       "      <td>0.1</td>\n",
       "      <td>0</td>\n",
       "    </tr>\n",
       "    <tr>\n",
       "      <th>14</th>\n",
       "      <td>5.8</td>\n",
       "      <td>4.0</td>\n",
       "      <td>1.2</td>\n",
       "      <td>0.2</td>\n",
       "      <td>0</td>\n",
       "    </tr>\n",
       "    <tr>\n",
       "      <th>15</th>\n",
       "      <td>5.7</td>\n",
       "      <td>4.4</td>\n",
       "      <td>1.5</td>\n",
       "      <td>0.4</td>\n",
       "      <td>0</td>\n",
       "    </tr>\n",
       "    <tr>\n",
       "      <th>16</th>\n",
       "      <td>5.4</td>\n",
       "      <td>3.9</td>\n",
       "      <td>1.3</td>\n",
       "      <td>0.4</td>\n",
       "      <td>0</td>\n",
       "    </tr>\n",
       "    <tr>\n",
       "      <th>17</th>\n",
       "      <td>5.1</td>\n",
       "      <td>3.5</td>\n",
       "      <td>1.4</td>\n",
       "      <td>0.3</td>\n",
       "      <td>0</td>\n",
       "    </tr>\n",
       "    <tr>\n",
       "      <th>18</th>\n",
       "      <td>5.7</td>\n",
       "      <td>3.8</td>\n",
       "      <td>1.7</td>\n",
       "      <td>0.3</td>\n",
       "      <td>0</td>\n",
       "    </tr>\n",
       "    <tr>\n",
       "      <th>19</th>\n",
       "      <td>5.1</td>\n",
       "      <td>3.8</td>\n",
       "      <td>1.5</td>\n",
       "      <td>0.3</td>\n",
       "      <td>0</td>\n",
       "    </tr>\n",
       "    <tr>\n",
       "      <th>20</th>\n",
       "      <td>5.4</td>\n",
       "      <td>3.4</td>\n",
       "      <td>1.7</td>\n",
       "      <td>0.2</td>\n",
       "      <td>0</td>\n",
       "    </tr>\n",
       "    <tr>\n",
       "      <th>21</th>\n",
       "      <td>5.1</td>\n",
       "      <td>3.7</td>\n",
       "      <td>1.5</td>\n",
       "      <td>0.4</td>\n",
       "      <td>0</td>\n",
       "    </tr>\n",
       "    <tr>\n",
       "      <th>22</th>\n",
       "      <td>4.6</td>\n",
       "      <td>3.6</td>\n",
       "      <td>1.0</td>\n",
       "      <td>0.2</td>\n",
       "      <td>0</td>\n",
       "    </tr>\n",
       "    <tr>\n",
       "      <th>23</th>\n",
       "      <td>5.1</td>\n",
       "      <td>3.3</td>\n",
       "      <td>1.7</td>\n",
       "      <td>0.5</td>\n",
       "      <td>0</td>\n",
       "    </tr>\n",
       "    <tr>\n",
       "      <th>24</th>\n",
       "      <td>4.8</td>\n",
       "      <td>3.4</td>\n",
       "      <td>1.9</td>\n",
       "      <td>0.2</td>\n",
       "      <td>0</td>\n",
       "    </tr>\n",
       "    <tr>\n",
       "      <th>25</th>\n",
       "      <td>5.0</td>\n",
       "      <td>3.0</td>\n",
       "      <td>1.6</td>\n",
       "      <td>0.2</td>\n",
       "      <td>0</td>\n",
       "    </tr>\n",
       "    <tr>\n",
       "      <th>26</th>\n",
       "      <td>5.0</td>\n",
       "      <td>3.4</td>\n",
       "      <td>1.6</td>\n",
       "      <td>0.4</td>\n",
       "      <td>0</td>\n",
       "    </tr>\n",
       "    <tr>\n",
       "      <th>27</th>\n",
       "      <td>5.2</td>\n",
       "      <td>3.5</td>\n",
       "      <td>1.5</td>\n",
       "      <td>0.2</td>\n",
       "      <td>0</td>\n",
       "    </tr>\n",
       "    <tr>\n",
       "      <th>28</th>\n",
       "      <td>5.2</td>\n",
       "      <td>3.4</td>\n",
       "      <td>1.4</td>\n",
       "      <td>0.2</td>\n",
       "      <td>0</td>\n",
       "    </tr>\n",
       "    <tr>\n",
       "      <th>29</th>\n",
       "      <td>4.7</td>\n",
       "      <td>3.2</td>\n",
       "      <td>1.6</td>\n",
       "      <td>0.2</td>\n",
       "      <td>0</td>\n",
       "    </tr>\n",
       "  </tbody>\n",
       "</table>\n",
       "</div>"
      ],
      "text/plain": [
       "    Sepal length  Sepal width  Petal length  Petal width  labels\n",
       "0            5.1          3.5           1.4          0.2       0\n",
       "1            4.9          3.0           1.4          0.2       0\n",
       "2            4.7          3.2           1.3          0.2       0\n",
       "3            4.6          3.1           1.5          0.2       0\n",
       "4            5.0          3.6           1.4          0.2       0\n",
       "5            5.4          3.9           1.7          0.4       0\n",
       "6            4.6          3.4           1.4          0.3       0\n",
       "7            5.0          3.4           1.5          0.2       0\n",
       "8            4.4          2.9           1.4          0.2       0\n",
       "9            4.9          3.1           1.5          0.1       0\n",
       "10           5.4          3.7           1.5          0.2       0\n",
       "11           4.8          3.4           1.6          0.2       0\n",
       "12           4.8          3.0           1.4          0.1       0\n",
       "13           4.3          3.0           1.1          0.1       0\n",
       "14           5.8          4.0           1.2          0.2       0\n",
       "15           5.7          4.4           1.5          0.4       0\n",
       "16           5.4          3.9           1.3          0.4       0\n",
       "17           5.1          3.5           1.4          0.3       0\n",
       "18           5.7          3.8           1.7          0.3       0\n",
       "19           5.1          3.8           1.5          0.3       0\n",
       "20           5.4          3.4           1.7          0.2       0\n",
       "21           5.1          3.7           1.5          0.4       0\n",
       "22           4.6          3.6           1.0          0.2       0\n",
       "23           5.1          3.3           1.7          0.5       0\n",
       "24           4.8          3.4           1.9          0.2       0\n",
       "25           5.0          3.0           1.6          0.2       0\n",
       "26           5.0          3.4           1.6          0.4       0\n",
       "27           5.2          3.5           1.5          0.2       0\n",
       "28           5.2          3.4           1.4          0.2       0\n",
       "29           4.7          3.2           1.6          0.2       0"
      ]
     },
     "execution_count": 126,
     "metadata": {},
     "output_type": "execute_result"
    }
   ],
   "source": [
    "data.head(30)"
   ]
  },
  {
   "cell_type": "code",
   "execution_count": 127,
   "metadata": {},
   "outputs": [
    {
     "data": {
      "text/html": [
       "<div>\n",
       "<style scoped>\n",
       "    .dataframe tbody tr th:only-of-type {\n",
       "        vertical-align: middle;\n",
       "    }\n",
       "\n",
       "    .dataframe tbody tr th {\n",
       "        vertical-align: top;\n",
       "    }\n",
       "\n",
       "    .dataframe thead th {\n",
       "        text-align: right;\n",
       "    }\n",
       "</style>\n",
       "<table border=\"1\" class=\"dataframe\">\n",
       "  <thead>\n",
       "    <tr style=\"text-align: right;\">\n",
       "      <th></th>\n",
       "      <th>Sepal length</th>\n",
       "      <th>Sepal width</th>\n",
       "    </tr>\n",
       "  </thead>\n",
       "  <tbody>\n",
       "    <tr>\n",
       "      <th>0</th>\n",
       "      <td>5.1</td>\n",
       "      <td>3.5</td>\n",
       "    </tr>\n",
       "    <tr>\n",
       "      <th>1</th>\n",
       "      <td>4.9</td>\n",
       "      <td>3.0</td>\n",
       "    </tr>\n",
       "    <tr>\n",
       "      <th>2</th>\n",
       "      <td>4.7</td>\n",
       "      <td>3.2</td>\n",
       "    </tr>\n",
       "    <tr>\n",
       "      <th>3</th>\n",
       "      <td>4.6</td>\n",
       "      <td>3.1</td>\n",
       "    </tr>\n",
       "    <tr>\n",
       "      <th>4</th>\n",
       "      <td>5.0</td>\n",
       "      <td>3.6</td>\n",
       "    </tr>\n",
       "  </tbody>\n",
       "</table>\n",
       "</div>"
      ],
      "text/plain": [
       "   Sepal length  Sepal width\n",
       "0           5.1          3.5\n",
       "1           4.9          3.0\n",
       "2           4.7          3.2\n",
       "3           4.6          3.1\n",
       "4           5.0          3.6"
      ]
     },
     "execution_count": 127,
     "metadata": {},
     "output_type": "execute_result"
    }
   ],
   "source": [
    "feature = data[ ['Sepal length','Sepal width']]\n",
    "feature.head()"
   ]
  },
  {
   "cell_type": "code",
   "execution_count": 202,
   "metadata": {},
   "outputs": [],
   "source": [
    "from sklearn.cluster import KMeans\n",
    "import matplotlib.pyplot  as plt\n",
    "import seaborn as sns"
   ]
  },
  {
   "cell_type": "code",
   "execution_count": 203,
   "metadata": {},
   "outputs": [],
   "source": [
    "model = KMeans(n_clusters=3,algorithm='auto')\n",
    "model.fit(feature)\n",
    "predict = pd.DataFrame(model.predict(feature))\n",
    "predict.columns=['predict']"
   ]
  },
  {
   "cell_type": "code",
   "execution_count": 204,
   "metadata": {
    "scrolled": true
   },
   "outputs": [
    {
     "name": "stdout",
     "output_type": "stream",
     "text": [
      "     Sepal length  Sepal width  predict\n",
      "0             5.1          3.5        2\n",
      "1             4.9          3.0        2\n",
      "2             4.7          3.2        2\n",
      "3             4.6          3.1        2\n",
      "4             5.0          3.6        2\n",
      "5             5.4          3.9        2\n",
      "6             4.6          3.4        2\n",
      "7             5.0          3.4        2\n",
      "8             4.4          2.9        2\n",
      "9             4.9          3.1        2\n",
      "10            5.4          3.7        2\n",
      "11            4.8          3.4        2\n",
      "12            4.8          3.0        2\n",
      "13            4.3          3.0        2\n",
      "14            5.8          4.0        2\n",
      "15            5.7          4.4        2\n",
      "16            5.4          3.9        2\n",
      "17            5.1          3.5        2\n",
      "18            5.7          3.8        2\n",
      "19            5.1          3.8        2\n",
      "20            5.4          3.4        2\n",
      "21            5.1          3.7        2\n",
      "22            4.6          3.6        2\n",
      "23            5.1          3.3        2\n",
      "24            4.8          3.4        2\n",
      "25            5.0          3.0        2\n",
      "26            5.0          3.4        2\n",
      "27            5.2          3.5        2\n",
      "28            5.2          3.4        2\n",
      "29            4.7          3.2        2\n",
      "..            ...          ...      ...\n",
      "120           6.9          3.2        1\n",
      "121           5.6          2.8        0\n",
      "122           7.7          2.8        1\n",
      "123           6.3          2.7        0\n",
      "124           6.7          3.3        1\n",
      "125           7.2          3.2        1\n",
      "126           6.2          2.8        0\n",
      "127           6.1          3.0        0\n",
      "128           6.4          2.8        1\n",
      "129           7.2          3.0        1\n",
      "130           7.4          2.8        1\n",
      "131           7.9          3.8        1\n",
      "132           6.4          2.8        1\n",
      "133           6.3          2.8        0\n",
      "134           6.1          2.6        0\n",
      "135           7.7          3.0        1\n",
      "136           6.3          3.4        1\n",
      "137           6.4          3.1        1\n",
      "138           6.0          3.0        0\n",
      "139           6.9          3.1        1\n",
      "140           6.7          3.1        1\n",
      "141           6.9          3.1        1\n",
      "142           5.8          2.7        0\n",
      "143           6.8          3.2        1\n",
      "144           6.7          3.3        1\n",
      "145           6.7          3.0        1\n",
      "146           6.3          2.5        0\n",
      "147           6.5          3.0        1\n",
      "148           6.2          3.4        1\n",
      "149           5.9          3.0        0\n",
      "\n",
      "[150 rows x 3 columns]\n"
     ]
    }
   ],
   "source": [
    "r = pd.concat([feature,predict],axis=1)\n",
    "print(r)"
   ]
  },
  {
   "cell_type": "code",
   "execution_count": 205,
   "metadata": {},
   "outputs": [
    {
     "data": {
      "text/plain": [
       "Text(26.52604166666668, 0.5, 'y')"
      ]
     },
     "execution_count": 205,
     "metadata": {},
     "output_type": "execute_result"
    },
    {
     "data": {
      "image/png": "[encoded data removed]",
      "text/plain": [
       "<Figure size 403.125x360 with 1 Axes>"
      ]
     },
     "metadata": {
      "needs_background": "light"
     },
     "output_type": "display_data"
    }
   ],
   "source": [
    "sb.lmplot('Sepal length' , 'Sepal width' , data=r, fit_reg=False, scatter_kws={\"s\": 50}, hue=\"predict\")\n",
    "plt.title('K-means Example')\n",
    "plt.xlabel('x')\n",
    "plt.ylabel('y')"
   ]
  },
  {
   "cell_type": "code",
   "execution_count": 206,
   "metadata": {},
   "outputs": [
    {
     "data": {
      "image/png": "[encoded data removed]",
      "text/plain": [
       "<Figure size 432x288 with 1 Axes>"
      ]
     },
     "metadata": {
      "needs_background": "light"
     },
     "output_type": "display_data"
    }
   ],
   "source": [
    "\n",
    "centers = pd.DataFrame(model.cluster_centers_,columns=['Sepal length','Sepal width'])\n",
    "center_x = centers['Sepal length']\n",
    "center_y = centers['Sepal width']\n",
    "\n",
    "plt.scatter(r['Sepal length'],r['Sepal width'],c=r['predict'],alpha=0.5)\n",
    "plt.scatter(center_x,center_y,s=50,marker='D',c='r')\n",
    "plt.show()\n"
   ]
  },
  {
   "cell_type": "code",
   "execution_count": 207,
   "metadata": {},
   "outputs": [
    {
     "name": "stdout",
     "output_type": "stream",
     "text": [
      "predict   0   1   2\n",
      "labels             \n",
      "0         0   0  50\n",
      "1        38  12   0\n",
      "2        15  35   0\n"
     ]
    }
   ],
   "source": [
    "ct = pd.crosstab(data['labels'],r['predict'])\n",
    "print (ct)"
   ]
  },
  {
   "cell_type": "code",
   "execution_count": 208,
   "metadata": {},
   "outputs": [],
   "source": [
    "from sklearn.pipeline import make_pipeline\n",
    "from sklearn.preprocessing import StandardScaler\n",
    "from sklearn.cluster import KMeans\n",
    "\n",
    "scaler = StandardScaler()\n",
    "model = KMeans(n_clusters=5)\n",
    "pipeline = make_pipeline(scaler,model)\n",
    "pipeline.fit(feature)\n",
    "predict = pd.DataFrame(pipeline.predict(feature))\n",
    "predict.columns=['predict']"
   ]
  },
  {
   "cell_type": "code",
   "execution_count": 209,
   "metadata": {},
   "outputs": [
    {
     "name": "stdout",
     "output_type": "stream",
     "text": [
      "predict   0   1   2   3   4\n",
      "labels                     \n",
      "0         0  24   1  25   0\n",
      "1        10   0  15   1  24\n",
      "2        30   0   3   0  17\n"
     ]
    },
    {
     "data": {
      "image/png": "[encoded data removed]",
      "text/plain": [
       "<Figure size 432x288 with 2 Axes>"
      ]
     },
     "metadata": {
      "needs_background": "light"
     },
     "output_type": "display_data"
    }
   ],
   "source": [
    "r = pd.concat([feature,predict],axis=1)\n",
    "\n",
    "ct = pd.crosstab(data['labels'],r['predict'])\n",
    "print (ct)\n",
    "\n",
    "import matplotlib.pyplot  as plt\n",
    "\n",
    "plt.subplot(1,2,1)\n",
    "plt.hist(data['Sepal length'])\n",
    "plt.title('Sepal length')\n",
    "plt.subplot(1,2,2)\n",
    "plt.hist(data['Sepal width'])\n",
    "plt.title('Sepal width')\n",
    "plt.show()\n"
   ]
  },
  {
   "cell_type": "code",
   "execution_count": 210,
   "metadata": {},
   "outputs": [],
   "source": [
    "ks = range(1,10)\n",
    "inertias = []\n"
   ]
  },
  {
   "cell_type": "code",
   "execution_count": 211,
   "metadata": {},
   "outputs": [
    {
     "data": {
      "image/png": "[encoded data removed]",
      "text/plain": [
       "<Figure size 432x288 with 1 Axes>"
      ]
     },
     "metadata": {
      "needs_background": "light"
     },
     "output_type": "display_data"
    }
   ],
   "source": [
    "for k in ks:\n",
    "    model = KMeans(n_clusters=k)\n",
    "    model.fit(feature)\n",
    "    inertias.append(model.inertia_)\n",
    "    \n",
    "plt.plot(ks, inertias, '-o')\n",
    "plt.xlabel('number of clusters, k')\n",
    "plt.ylabel('inertia')\n",
    "plt.xticks(ks)\n",
    "plt.show()"
   ]
  },
  {
   "cell_type": "code",
   "execution_count": 212,
   "metadata": {},
   "outputs": [],
   "source": [
    "#################8-Hierachical clustering"
   ]
  },
  {
   "cell_type": "code",
   "execution_count": 213,
   "metadata": {},
   "outputs": [],
   "source": [
    "from sklearn import datasets\n",
    "import pandas as pd\n",
    "iris = datasets.load_iris()\n",
    "\n",
    "labels = pd.DataFrame(iris.target)\n",
    "labels.columns=['labels']\n",
    "data = pd.DataFrame(iris.data)\n",
    "data.columns=['Sepal length','Sepal width','Petal length','Petal width']\n",
    "data = pd.concat([data,labels],axis=1)"
   ]
  },
  {
   "cell_type": "code",
   "execution_count": 214,
   "metadata": {},
   "outputs": [
    {
     "data": {
      "text/html": [
       "<div>\n",
       "<style scoped>\n",
       "    .dataframe tbody tr th:only-of-type {\n",
       "        vertical-align: middle;\n",
       "    }\n",
       "\n",
       "    .dataframe tbody tr th {\n",
       "        vertical-align: top;\n",
       "    }\n",
       "\n",
       "    .dataframe thead th {\n",
       "        text-align: right;\n",
       "    }\n",
       "</style>\n",
       "<table border=\"1\" class=\"dataframe\">\n",
       "  <thead>\n",
       "    <tr style=\"text-align: right;\">\n",
       "      <th></th>\n",
       "      <th>Sepal length</th>\n",
       "      <th>Sepal width</th>\n",
       "      <th>Petal length</th>\n",
       "      <th>Petal width</th>\n",
       "      <th>labels</th>\n",
       "    </tr>\n",
       "  </thead>\n",
       "  <tbody>\n",
       "    <tr>\n",
       "      <th>0</th>\n",
       "      <td>5.1</td>\n",
       "      <td>3.5</td>\n",
       "      <td>1.4</td>\n",
       "      <td>0.2</td>\n",
       "      <td>0</td>\n",
       "    </tr>\n",
       "    <tr>\n",
       "      <th>1</th>\n",
       "      <td>4.9</td>\n",
       "      <td>3.0</td>\n",
       "      <td>1.4</td>\n",
       "      <td>0.2</td>\n",
       "      <td>0</td>\n",
       "    </tr>\n",
       "    <tr>\n",
       "      <th>2</th>\n",
       "      <td>4.7</td>\n",
       "      <td>3.2</td>\n",
       "      <td>1.3</td>\n",
       "      <td>0.2</td>\n",
       "      <td>0</td>\n",
       "    </tr>\n",
       "    <tr>\n",
       "      <th>3</th>\n",
       "      <td>4.6</td>\n",
       "      <td>3.1</td>\n",
       "      <td>1.5</td>\n",
       "      <td>0.2</td>\n",
       "      <td>0</td>\n",
       "    </tr>\n",
       "    <tr>\n",
       "      <th>4</th>\n",
       "      <td>5.0</td>\n",
       "      <td>3.6</td>\n",
       "      <td>1.4</td>\n",
       "      <td>0.2</td>\n",
       "      <td>0</td>\n",
       "    </tr>\n",
       "  </tbody>\n",
       "</table>\n",
       "</div>"
      ],
      "text/plain": [
       "   Sepal length  Sepal width  Petal length  Petal width  labels\n",
       "0           5.1          3.5           1.4          0.2       0\n",
       "1           4.9          3.0           1.4          0.2       0\n",
       "2           4.7          3.2           1.3          0.2       0\n",
       "3           4.6          3.1           1.5          0.2       0\n",
       "4           5.0          3.6           1.4          0.2       0"
      ]
     },
     "execution_count": 214,
     "metadata": {},
     "output_type": "execute_result"
    }
   ],
   "source": [
    "data.head()"
   ]
  },
  {
   "cell_type": "code",
   "execution_count": 215,
   "metadata": {},
   "outputs": [],
   "source": [
    "from scipy.cluster.hierarchy import linkage, dendrogram\n",
    "import matplotlib.pyplot as plt"
   ]
  },
  {
   "cell_type": "code",
   "execution_count": 216,
   "metadata": {},
   "outputs": [
    {
     "name": "stderr",
     "output_type": "stream",
     "text": [
      "c:\\users\\user\\appdata\\local\\programs\\python\\python36\\lib\\site-packages\\ipykernel_launcher.py:5: FutureWarning: Method .as_matrix will be removed in a future version. Use .values instead.\n",
      "  \"\"\"\n",
      "c:\\users\\user\\appdata\\local\\programs\\python\\python36\\lib\\site-packages\\matplotlib\\text.py:1191: FutureWarning: elementwise comparison failed; returning scalar instead, but in the future will perform elementwise comparison\n",
      "  if s != self._text:\n"
     ]
    },
    {
     "data": {
      "image/png": "[encoded data removed]",
      "text/plain": [
       "<Figure size 2880x1440 with 1 Axes>"
      ]
     },
     "metadata": {
      "needs_background": "light"
     },
     "output_type": "display_data"
    }
   ],
   "source": [
    "mergings = linkage(data,method='single')\n",
    "\n",
    "plt.figure(figsize=(40,20))\n",
    "dendrogram(mergings,\n",
    "           labels = labels.as_matrix(columns=['labels']),\n",
    "           leaf_rotation=90,\n",
    "           leaf_font_size=20,\n",
    ")\n",
    "plt.show()"
   ]
  },
  {
   "cell_type": "code",
   "execution_count": 217,
   "metadata": {},
   "outputs": [
    {
     "name": "stderr",
     "output_type": "stream",
     "text": [
      "c:\\users\\user\\appdata\\local\\programs\\python\\python36\\lib\\site-packages\\ipykernel_launcher.py:5: FutureWarning: Method .as_matrix will be removed in a future version. Use .values instead.\n",
      "  \"\"\"\n"
     ]
    },
    {
     "data": {
      "image/png": "[encoded data removed]",
      "text/plain": [
       "<Figure size 2880x1440 with 1 Axes>"
      ]
     },
     "metadata": {
      "needs_background": "light"
     },
     "output_type": "display_data"
    }
   ],
   "source": [
    "mergings2 = linkage(data, method='complete')\n",
    "\n",
    "plt.figure(figsize=(40,20))\n",
    "dendrogram(mergings2,\n",
    "           labels = labels.as_matrix(columns=['labels']),\n",
    "           leaf_rotation=90,\n",
    "           leaf_font_size=20,\n",
    ")\n",
    "plt.show()"
   ]
  },
  {
   "cell_type": "code",
   "execution_count": 218,
   "metadata": {
    "scrolled": false
   },
   "outputs": [
    {
     "name": "stderr",
     "output_type": "stream",
     "text": [
      "c:\\users\\user\\appdata\\local\\programs\\python\\python36\\lib\\site-packages\\ipykernel_launcher.py:5: FutureWarning: Method .as_matrix will be removed in a future version. Use .values instead.\n",
      "  \"\"\"\n"
     ]
    },
    {
     "data": {
      "image/png": "[encoded data removed]",
      "text/plain": [
       "<Figure size 2880x1440 with 1 Axes>"
      ]
     },
     "metadata": {
      "needs_background": "light"
     },
     "output_type": "display_data"
    }
   ],
   "source": [
    "mergings3 = linkage(data, method='average')\n",
    "\n",
    "plt.figure(figsize=(40,20))\n",
    "dendrogram(mergings3,\n",
    "           labels = labels.as_matrix(columns=['labels']),\n",
    "           leaf_rotation=90,\n",
    "           leaf_font_size=20,\n",
    ")\n",
    "plt.show()"
   ]
  },
  {
   "cell_type": "code",
   "execution_count": 219,
   "metadata": {},
   "outputs": [],
   "source": [
    "from scipy.cluster.hierarchy import fcluster\n"
   ]
  },
  {
   "cell_type": "code",
   "execution_count": 220,
   "metadata": {},
   "outputs": [
    {
     "name": "stdout",
     "output_type": "stream",
     "text": [
      "labels    0   1   2\n",
      "predict            \n",
      "1        50   0   0\n",
      "2         0   0  34\n",
      "3         0  50  16\n"
     ]
    }
   ],
   "source": [
    "predict = pd.DataFrame(fcluster(mergings2,3,criterion='distance'))\n",
    "predict.columns=['predict']\n",
    "ct = pd.crosstab(predict['predict'],labels['labels'])\n",
    "print(ct)"
   ]
  },
  {
   "cell_type": "code",
   "execution_count": 221,
   "metadata": {},
   "outputs": [],
   "source": [
    "##########9-mnist_gradientdescent"
   ]
  },
  {
   "cell_type": "code",
   "execution_count": 223,
   "metadata": {},
   "outputs": [
    {
     "name": "stdout",
     "output_type": "stream",
     "text": [
      "Successfully downloaded train-images-idx3-ubyte.gz 9912422 bytes.\n",
      "Extracting C:/Users/user/Desktop/공간정보학회 겨울학교 수업자료/train-images-idx3-ubyte.gz\n",
      "Successfully downloaded train-labels-idx1-ubyte.gz 28881 bytes.\n",
      "Extracting C:/Users/user/Desktop/공간정보학회 겨울학교 수업자료/train-labels-idx1-ubyte.gz\n",
      "Successfully downloaded t10k-images-idx3-ubyte.gz 1648877 bytes.\n",
      "Extracting C:/Users/user/Desktop/공간정보학회 겨울학교 수업자료/t10k-images-idx3-ubyte.gz\n",
      "Successfully downloaded t10k-labels-idx1-ubyte.gz 4542 bytes.\n",
      "Extracting C:/Users/user/Desktop/공간정보학회 겨울학교 수업자료/t10k-labels-idx1-ubyte.gz\n"
     ]
    }
   ],
   "source": [
    "from tensorflow.examples.tutorials.mnist import input_data\n",
    "mnist = input_data.read_data_sets(\"C:/Users/user/Desktop/공간정보학회 겨울학교 수업자료/\", one_hot=True)"
   ]
  },
  {
   "cell_type": "code",
   "execution_count": 230,
   "metadata": {},
   "outputs": [],
   "source": [
    "import tensorflow as tf"
   ]
  },
  {
   "cell_type": "code",
   "execution_count": 231,
   "metadata": {},
   "outputs": [],
   "source": [
    "x = tf.placeholder(tf.float32, [None, 784])\n",
    "W = tf.Variable(tf.zeros([784, 10]))\n",
    "b = tf.Variable(tf.zeros([10]))\n",
    "y = tf.nn.softmax(tf.matmul(x, W) + b)"
   ]
  },
  {
   "cell_type": "code",
   "execution_count": 232,
   "metadata": {},
   "outputs": [],
   "source": [
    "y_ = tf.placeholder(tf.float32, [None, 10])\n",
    "cross_entropy = tf.reduce_mean(-tf.reduce_sum(y_ * tf.log(y), reduction_indices=[1]))\n",
    "train_step = tf.train.GradientDescentOptimizer(0.5).minimize(cross_entropy)"
   ]
  },
  {
   "cell_type": "code",
   "execution_count": 233,
   "metadata": {},
   "outputs": [],
   "source": [
    "init = tf.global_variables_initializer()\n",
    "sess = tf.Session()\n",
    "sess.run(init)\n",
    "for i in range(1000):\n",
    "  batch_xs, batch_ys = mnist.train.next_batch(100)\n",
    "  sess.run(train_step, feed_dict={x: batch_xs, y_: batch_ys})"
   ]
  },
  {
   "cell_type": "code",
   "execution_count": 234,
   "metadata": {},
   "outputs": [],
   "source": [
    "correct_prediction = tf.equal(tf.argmax(y,1), tf.argmax(y_,1))"
   ]
  },
  {
   "cell_type": "code",
   "execution_count": 235,
   "metadata": {},
   "outputs": [
    {
     "name": "stdout",
     "output_type": "stream",
     "text": [
      "0.9204\n"
     ]
    }
   ],
   "source": [
    "accuracy = tf.reduce_mean(tf.cast(correct_prediction, tf.float32))\n",
    "print(sess.run(accuracy, feed_dict={x: mnist.test.images, y_: mnist.test.labels}))"
   ]
  },
  {
   "cell_type": "code",
   "execution_count": 236,
   "metadata": {},
   "outputs": [],
   "source": [
    "###############10-softmax-cross-entropy"
   ]
  },
  {
   "cell_type": "code",
   "execution_count": 283,
   "metadata": {},
   "outputs": [
    {
     "name": "stdout",
     "output_type": "stream",
     "text": [
      "Extracting C:/Users/user/Desktop/공간정보학회 겨울학교 수업자료/train-images-idx3-ubyte.gz\n",
      "Extracting C:/Users/user/Desktop/공간정보학회 겨울학교 수업자료/train-labels-idx1-ubyte.gz\n",
      "Extracting C:/Users/user/Desktop/공간정보학회 겨울학교 수업자료/t10k-images-idx3-ubyte.gz\n",
      "Extracting C:/Users/user/Desktop/공간정보학회 겨울학교 수업자료/t10k-labels-idx1-ubyte.gz\n"
     ]
    }
   ],
   "source": [
    "import tensorflow as tf\n",
    "import random\n",
    "import pandas as pd\n",
    "import matplotlib.pyplot as plt\n",
    "import seaborn as sns\n",
    "from tqdm import tqdm\n",
    "from tensorflow.examples.tutorials.mnist import input_data\n",
    "tf.set_random_seed(777)\n",
    "mnist = input_data.read_data_sets(\"C:/Users/user/Desktop/공간정보학회 겨울학교 수업자료/\", one_hot=True)"
   ]
  },
  {
   "cell_type": "code",
   "execution_count": 284,
   "metadata": {},
   "outputs": [
    {
     "data": {
      "image/png": "[encoded data removed]",
      "text/plain": [
       "<Figure size 864x576 with 8 Axes>"
      ]
     },
     "metadata": {
      "needs_background": "light"
     },
     "output_type": "display_data"
    }
   ],
   "source": [
    "count = 0\n",
    "nrows = ncols = 4\n",
    "plt.figure(figsize=(12,8))\n",
    "for n in range(0,8):\n",
    "    count += 1\n",
    "    plt.subplot(nrows, ncols, count)\n",
    "    plt.imshow(mnist.test.images[n].reshape(28, 28), cmap='Reds', interpolation='nearest')\n",
    "\n",
    "plt.tight_layout()\n",
    "plt.show()"
   ]
  },
  {
   "cell_type": "code",
   "execution_count": 285,
   "metadata": {},
   "outputs": [],
   "source": [
    "training_epochs = 30\n",
    "batch_size = 256"
   ]
  },
  {
   "cell_type": "code",
   "execution_count": 286,
   "metadata": {},
   "outputs": [],
   "source": [
    "X = tf.placeholder(tf.float32, [None, 784])\n",
    "Y = tf.placeholder(tf.float32, [None, 10])\n",
    "\n",
    "W = tf.Variable(tf.random_normal([784, 10]))\n",
    "b = tf.Variable(tf.random_normal([10]))\n",
    "\n",
    "hypothesis = tf.matmul(X, W) + b"
   ]
  },
  {
   "cell_type": "code",
   "execution_count": 291,
   "metadata": {},
   "outputs": [],
   "source": [
    "cost = tf.reduce_mean(tf.nn.softmax_cross_entropy_with_logits_v2(logits=hypothesis, labels=Y))\n",
    "optimizer = tf.train.AdamOptimizer(learning_rate=0.001).minimize(cost)\n",
    "\n",
    "prediction = tf.equal(tf.argmax(hypothesis, 1), tf.argmax(Y, 1))\n",
    "accuracy = tf.reduce_mean(tf.cast(prediction, tf.float32))"
   ]
  },
  {
   "cell_type": "code",
   "execution_count": 292,
   "metadata": {},
   "outputs": [],
   "source": [
    "sess = tf.Session()\n",
    "sess.run(tf.global_variables_initializer())"
   ]
  },
  {
   "cell_type": "code",
   "execution_count": 293,
   "metadata": {
    "scrolled": true
   },
   "outputs": [
    {
     "name": "stderr",
     "output_type": "stream",
     "text": [
      "cost : 7.311136: 100%|██████████████████████████████████████████████████████████████| 214/214 [00:00<00:00, 304.59it/s]\n",
      "cost : 3.151659: 100%|██████████████████████████████████████████████████████████████| 214/214 [00:00<00:00, 324.15it/s]\n",
      "cost : 2.030131: 100%|██████████████████████████████████████████████████████████████| 214/214 [00:00<00:00, 327.03it/s]\n",
      "cost : 1.535379: 100%|██████████████████████████████████████████████████████████████| 214/214 [00:00<00:00, 326.28it/s]\n",
      "cost : 1.258227: 100%|██████████████████████████████████████████████████████████████| 214/214 [00:00<00:00, 322.62it/s]\n",
      "cost : 1.098868: 100%|██████████████████████████████████████████████████████████████| 214/214 [00:00<00:00, 326.11it/s]\n",
      "cost : 0.961759: 100%|██████████████████████████████████████████████████████████████| 214/214 [00:00<00:00, 326.64it/s]\n",
      "cost : 0.882293: 100%|██████████████████████████████████████████████████████████████| 214/214 [00:00<00:00, 310.54it/s]\n",
      "cost : 0.810756: 100%|██████████████████████████████████████████████████████████████| 214/214 [00:00<00:00, 325.69it/s]\n",
      "cost : 0.765946: 100%|██████████████████████████████████████████████████████████████| 214/214 [00:00<00:00, 327.18it/s]\n",
      "cost : 0.716121: 100%|██████████████████████████████████████████████████████████████| 214/214 [00:00<00:00, 322.68it/s]\n",
      "cost : 0.682658: 100%|██████████████████████████████████████████████████████████████| 214/214 [00:00<00:00, 325.04it/s]\n",
      "cost : 0.649808: 100%|██████████████████████████████████████████████████████████████| 214/214 [00:00<00:00, 327.76it/s]\n",
      "cost : 0.617091: 100%|██████████████████████████████████████████████████████████████| 214/214 [00:00<00:00, 323.58it/s]\n",
      "cost : 0.590257: 100%|██████████████████████████████████████████████████████████████| 214/214 [00:00<00:00, 327.18it/s]\n",
      "cost : 0.583083: 100%|██████████████████████████████████████████████████████████████| 214/214 [00:00<00:00, 324.63it/s]\n",
      "cost : 0.552023: 100%|██████████████████████████████████████████████████████████████| 214/214 [00:00<00:00, 319.22it/s]\n",
      "cost : 0.530921: 100%|██████████████████████████████████████████████████████████████| 214/214 [00:00<00:00, 320.47it/s]\n",
      "cost : 0.526703: 100%|██████████████████████████████████████████████████████████████| 214/214 [00:00<00:00, 339.44it/s]\n",
      "cost : 0.497962: 100%|██████████████████████████████████████████████████████████████| 214/214 [00:00<00:00, 326.24it/s]\n",
      "cost : 0.488506: 100%|██████████████████████████████████████████████████████████████| 214/214 [00:00<00:00, 341.51it/s]\n",
      "cost : 0.481393: 100%|██████████████████████████████████████████████████████████████| 214/214 [00:00<00:00, 342.10it/s]\n",
      "cost : 0.468567: 100%|██████████████████████████████████████████████████████████████| 214/214 [00:00<00:00, 340.13it/s]\n",
      "cost : 0.457375: 100%|██████████████████████████████████████████████████████████████| 214/214 [00:00<00:00, 324.36it/s]\n",
      "cost : 0.442733: 100%|██████████████████████████████████████████████████████████████| 214/214 [00:00<00:00, 323.92it/s]\n",
      "cost : 0.435244: 100%|██████████████████████████████████████████████████████████████| 214/214 [00:00<00:00, 334.00it/s]\n",
      "cost : 0.425677: 100%|██████████████████████████████████████████████████████████████| 214/214 [00:00<00:00, 346.07it/s]\n",
      "cost : 0.418017: 100%|██████████████████████████████████████████████████████████████| 214/214 [00:00<00:00, 346.38it/s]\n",
      "cost : 0.416689: 100%|██████████████████████████████████████████████████████████████| 214/214 [00:00<00:00, 350.50it/s]\n",
      "cost : 0.407299: 100%|██████████████████████████████████████████████████████████████| 214/214 [00:00<00:00, 352.32it/s]\n"
     ]
    }
   ],
   "source": [
    "for epoch in range(training_epochs):\n",
    "    avg_cost = 0\n",
    "    total_batch = int(mnist.train.num_examples / batch_size)\n",
    "\n",
    "    pbar = tqdm(range(total_batch))\n",
    "    for i in pbar:\n",
    "        batch_xs, batch_ys = mnist.train.next_batch(batch_size)\n",
    "        c, _ = sess.run([cost, optimizer], feed_dict={X: batch_xs, Y: batch_ys})\n",
    "        avg_cost += c / total_batch\n",
    "        pbar.set_description(\"cost : %f\" % avg_cost)\n",
    "        "
   ]
  },
  {
   "cell_type": "code",
   "execution_count": 294,
   "metadata": {},
   "outputs": [
    {
     "name": "stdout",
     "output_type": "stream",
     "text": [
      "Accuracy: 0.8981\n"
     ]
    }
   ],
   "source": [
    "print('Accuracy:', sess.run(accuracy, feed_dict={X: mnist.test.images, Y: mnist.test.labels}))"
   ]
  },
  {
   "cell_type": "code",
   "execution_count": 295,
   "metadata": {},
   "outputs": [],
   "source": [
    "index = []\n",
    "ori = []\n",
    "pred = []"
   ]
  },
  {
   "cell_type": "code",
   "execution_count": 296,
   "metadata": {},
   "outputs": [],
   "source": [
    "labels = sess.run(tf.argmax(mnist.test.labels, 1))\n",
    "predictions = sess.run(tf.argmax(hypothesis, 1), feed_dict={X: mnist.test.images})"
   ]
  },
  {
   "cell_type": "code",
   "execution_count": 297,
   "metadata": {},
   "outputs": [],
   "source": [
    "for i in range(0,mnist.test.num_examples):\n",
    "    if labels[i] != predictions[i]:\n",
    "        index.append(i)\n",
    "        ori.append(labels[i])\n",
    "        pred.append(predictions[i])"
   ]
  },
  {
   "cell_type": "code",
   "execution_count": 300,
   "metadata": {
    "scrolled": true
   },
   "outputs": [
    {
     "data": {
      "text/html": [
       "<div>\n",
       "<style scoped>\n",
       "    .dataframe tbody tr th:only-of-type {\n",
       "        vertical-align: middle;\n",
       "    }\n",
       "\n",
       "    .dataframe tbody tr th {\n",
       "        vertical-align: top;\n",
       "    }\n",
       "\n",
       "    .dataframe thead th {\n",
       "        text-align: right;\n",
       "    }\n",
       "</style>\n",
       "<table border=\"1\" class=\"dataframe\">\n",
       "  <thead>\n",
       "    <tr style=\"text-align: right;\">\n",
       "      <th></th>\n",
       "      <th>label</th>\n",
       "      <th>predict</th>\n",
       "    </tr>\n",
       "  </thead>\n",
       "  <tbody>\n",
       "    <tr>\n",
       "      <th>8</th>\n",
       "      <td>5</td>\n",
       "      <td>6</td>\n",
       "    </tr>\n",
       "    <tr>\n",
       "      <th>33</th>\n",
       "      <td>4</td>\n",
       "      <td>6</td>\n",
       "    </tr>\n",
       "    <tr>\n",
       "      <th>47</th>\n",
       "      <td>2</td>\n",
       "      <td>6</td>\n",
       "    </tr>\n",
       "    <tr>\n",
       "      <th>53</th>\n",
       "      <td>5</td>\n",
       "      <td>3</td>\n",
       "    </tr>\n",
       "    <tr>\n",
       "      <th>77</th>\n",
       "      <td>2</td>\n",
       "      <td>7</td>\n",
       "    </tr>\n",
       "    <tr>\n",
       "      <th>78</th>\n",
       "      <td>9</td>\n",
       "      <td>8</td>\n",
       "    </tr>\n",
       "    <tr>\n",
       "      <th>114</th>\n",
       "      <td>7</td>\n",
       "      <td>2</td>\n",
       "    </tr>\n",
       "    <tr>\n",
       "      <th>144</th>\n",
       "      <td>7</td>\n",
       "      <td>9</td>\n",
       "    </tr>\n",
       "    <tr>\n",
       "      <th>149</th>\n",
       "      <td>2</td>\n",
       "      <td>9</td>\n",
       "    </tr>\n",
       "    <tr>\n",
       "      <th>151</th>\n",
       "      <td>9</td>\n",
       "      <td>8</td>\n",
       "    </tr>\n",
       "    <tr>\n",
       "      <th>159</th>\n",
       "      <td>4</td>\n",
       "      <td>9</td>\n",
       "    </tr>\n",
       "    <tr>\n",
       "      <th>187</th>\n",
       "      <td>5</td>\n",
       "      <td>8</td>\n",
       "    </tr>\n",
       "    <tr>\n",
       "      <th>193</th>\n",
       "      <td>9</td>\n",
       "      <td>3</td>\n",
       "    </tr>\n",
       "    <tr>\n",
       "      <th>195</th>\n",
       "      <td>3</td>\n",
       "      <td>5</td>\n",
       "    </tr>\n",
       "    <tr>\n",
       "      <th>217</th>\n",
       "      <td>6</td>\n",
       "      <td>5</td>\n",
       "    </tr>\n",
       "    <tr>\n",
       "      <th>240</th>\n",
       "      <td>5</td>\n",
       "      <td>8</td>\n",
       "    </tr>\n",
       "    <tr>\n",
       "      <th>241</th>\n",
       "      <td>9</td>\n",
       "      <td>8</td>\n",
       "    </tr>\n",
       "    <tr>\n",
       "      <th>247</th>\n",
       "      <td>4</td>\n",
       "      <td>6</td>\n",
       "    </tr>\n",
       "    <tr>\n",
       "      <th>259</th>\n",
       "      <td>6</td>\n",
       "      <td>0</td>\n",
       "    </tr>\n",
       "    <tr>\n",
       "      <th>280</th>\n",
       "      <td>2</td>\n",
       "      <td>1</td>\n",
       "    </tr>\n",
       "    <tr>\n",
       "      <th>300</th>\n",
       "      <td>4</td>\n",
       "      <td>1</td>\n",
       "    </tr>\n",
       "    <tr>\n",
       "      <th>313</th>\n",
       "      <td>3</td>\n",
       "      <td>5</td>\n",
       "    </tr>\n",
       "    <tr>\n",
       "      <th>318</th>\n",
       "      <td>2</td>\n",
       "      <td>3</td>\n",
       "    </tr>\n",
       "    <tr>\n",
       "      <th>320</th>\n",
       "      <td>9</td>\n",
       "      <td>7</td>\n",
       "    </tr>\n",
       "    <tr>\n",
       "      <th>321</th>\n",
       "      <td>2</td>\n",
       "      <td>7</td>\n",
       "    </tr>\n",
       "    <tr>\n",
       "      <th>324</th>\n",
       "      <td>0</td>\n",
       "      <td>3</td>\n",
       "    </tr>\n",
       "    <tr>\n",
       "      <th>336</th>\n",
       "      <td>9</td>\n",
       "      <td>4</td>\n",
       "    </tr>\n",
       "    <tr>\n",
       "      <th>340</th>\n",
       "      <td>5</td>\n",
       "      <td>3</td>\n",
       "    </tr>\n",
       "    <tr>\n",
       "      <th>352</th>\n",
       "      <td>5</td>\n",
       "      <td>0</td>\n",
       "    </tr>\n",
       "    <tr>\n",
       "      <th>358</th>\n",
       "      <td>7</td>\n",
       "      <td>1</td>\n",
       "    </tr>\n",
       "    <tr>\n",
       "      <th>...</th>\n",
       "      <td>...</td>\n",
       "      <td>...</td>\n",
       "    </tr>\n",
       "    <tr>\n",
       "      <th>684</th>\n",
       "      <td>7</td>\n",
       "      <td>3</td>\n",
       "    </tr>\n",
       "    <tr>\n",
       "      <th>689</th>\n",
       "      <td>7</td>\n",
       "      <td>9</td>\n",
       "    </tr>\n",
       "    <tr>\n",
       "      <th>691</th>\n",
       "      <td>8</td>\n",
       "      <td>4</td>\n",
       "    </tr>\n",
       "    <tr>\n",
       "      <th>707</th>\n",
       "      <td>4</td>\n",
       "      <td>9</td>\n",
       "    </tr>\n",
       "    <tr>\n",
       "      <th>714</th>\n",
       "      <td>8</td>\n",
       "      <td>5</td>\n",
       "    </tr>\n",
       "    <tr>\n",
       "      <th>717</th>\n",
       "      <td>0</td>\n",
       "      <td>6</td>\n",
       "    </tr>\n",
       "    <tr>\n",
       "      <th>720</th>\n",
       "      <td>5</td>\n",
       "      <td>2</td>\n",
       "    </tr>\n",
       "    <tr>\n",
       "      <th>740</th>\n",
       "      <td>4</td>\n",
       "      <td>9</td>\n",
       "    </tr>\n",
       "    <tr>\n",
       "      <th>741</th>\n",
       "      <td>2</td>\n",
       "      <td>8</td>\n",
       "    </tr>\n",
       "    <tr>\n",
       "      <th>760</th>\n",
       "      <td>4</td>\n",
       "      <td>9</td>\n",
       "    </tr>\n",
       "    <tr>\n",
       "      <th>781</th>\n",
       "      <td>8</td>\n",
       "      <td>5</td>\n",
       "    </tr>\n",
       "    <tr>\n",
       "      <th>791</th>\n",
       "      <td>5</td>\n",
       "      <td>8</td>\n",
       "    </tr>\n",
       "    <tr>\n",
       "      <th>800</th>\n",
       "      <td>8</td>\n",
       "      <td>5</td>\n",
       "    </tr>\n",
       "    <tr>\n",
       "      <th>810</th>\n",
       "      <td>7</td>\n",
       "      <td>3</td>\n",
       "    </tr>\n",
       "    <tr>\n",
       "      <th>827</th>\n",
       "      <td>4</td>\n",
       "      <td>8</td>\n",
       "    </tr>\n",
       "    <tr>\n",
       "      <th>839</th>\n",
       "      <td>8</td>\n",
       "      <td>3</td>\n",
       "    </tr>\n",
       "    <tr>\n",
       "      <th>844</th>\n",
       "      <td>8</td>\n",
       "      <td>7</td>\n",
       "    </tr>\n",
       "    <tr>\n",
       "      <th>877</th>\n",
       "      <td>8</td>\n",
       "      <td>2</td>\n",
       "    </tr>\n",
       "    <tr>\n",
       "      <th>881</th>\n",
       "      <td>4</td>\n",
       "      <td>9</td>\n",
       "    </tr>\n",
       "    <tr>\n",
       "      <th>890</th>\n",
       "      <td>3</td>\n",
       "      <td>5</td>\n",
       "    </tr>\n",
       "    <tr>\n",
       "      <th>898</th>\n",
       "      <td>7</td>\n",
       "      <td>9</td>\n",
       "    </tr>\n",
       "    <tr>\n",
       "      <th>924</th>\n",
       "      <td>2</td>\n",
       "      <td>7</td>\n",
       "    </tr>\n",
       "    <tr>\n",
       "      <th>938</th>\n",
       "      <td>3</td>\n",
       "      <td>5</td>\n",
       "    </tr>\n",
       "    <tr>\n",
       "      <th>939</th>\n",
       "      <td>2</td>\n",
       "      <td>8</td>\n",
       "    </tr>\n",
       "    <tr>\n",
       "      <th>947</th>\n",
       "      <td>8</td>\n",
       "      <td>9</td>\n",
       "    </tr>\n",
       "    <tr>\n",
       "      <th>950</th>\n",
       "      <td>7</td>\n",
       "      <td>2</td>\n",
       "    </tr>\n",
       "    <tr>\n",
       "      <th>951</th>\n",
       "      <td>5</td>\n",
       "      <td>4</td>\n",
       "    </tr>\n",
       "    <tr>\n",
       "      <th>952</th>\n",
       "      <td>6</td>\n",
       "      <td>0</td>\n",
       "    </tr>\n",
       "    <tr>\n",
       "      <th>956</th>\n",
       "      <td>1</td>\n",
       "      <td>6</td>\n",
       "    </tr>\n",
       "    <tr>\n",
       "      <th>965</th>\n",
       "      <td>6</td>\n",
       "      <td>0</td>\n",
       "    </tr>\n",
       "  </tbody>\n",
       "</table>\n",
       "<p>100 rows × 2 columns</p>\n",
       "</div>"
      ],
      "text/plain": [
       "     label  predict\n",
       "8        5        6\n",
       "33       4        6\n",
       "47       2        6\n",
       "53       5        3\n",
       "77       2        7\n",
       "78       9        8\n",
       "114      7        2\n",
       "144      7        9\n",
       "149      2        9\n",
       "151      9        8\n",
       "159      4        9\n",
       "187      5        8\n",
       "193      9        3\n",
       "195      3        5\n",
       "217      6        5\n",
       "240      5        8\n",
       "241      9        8\n",
       "247      4        6\n",
       "259      6        0\n",
       "280      2        1\n",
       "300      4        1\n",
       "313      3        5\n",
       "318      2        3\n",
       "320      9        7\n",
       "321      2        7\n",
       "324      0        3\n",
       "336      9        4\n",
       "340      5        3\n",
       "352      5        0\n",
       "358      7        1\n",
       "..     ...      ...\n",
       "684      7        3\n",
       "689      7        9\n",
       "691      8        4\n",
       "707      4        9\n",
       "714      8        5\n",
       "717      0        6\n",
       "720      5        2\n",
       "740      4        9\n",
       "741      2        8\n",
       "760      4        9\n",
       "781      8        5\n",
       "791      5        8\n",
       "800      8        5\n",
       "810      7        3\n",
       "827      4        8\n",
       "839      8        3\n",
       "844      8        7\n",
       "877      8        2\n",
       "881      4        9\n",
       "890      3        5\n",
       "898      7        9\n",
       "924      2        7\n",
       "938      3        5\n",
       "939      2        8\n",
       "947      8        9\n",
       "950      7        2\n",
       "951      5        4\n",
       "952      6        0\n",
       "956      1        6\n",
       "965      6        0\n",
       "\n",
       "[100 rows x 2 columns]"
      ]
     },
     "execution_count": 300,
     "metadata": {},
     "output_type": "execute_result"
    }
   ],
   "source": [
    "fail_result = pd.DataFrame({'label':ori, 'predict':pred}, index=index)\n",
    "fail_result.head(100)"
   ]
  },
  {
   "cell_type": "code",
   "execution_count": 267,
   "metadata": {},
   "outputs": [
    {
     "data": {
      "image/png": "[encoded data removed]",
      "text/plain": [
       "<Figure size 864x432 with 1 Axes>"
      ]
     },
     "metadata": {
      "needs_background": "light"
     },
     "output_type": "display_data"
    }
   ],
   "source": [
    "plt.figure(figsize=(12,6))\n",
    "plt.hist(fail_result['predict'], bins=10)\n",
    "plt.xlabel('fault_prediction')\n",
    "plt.grid()\n",
    "plt.show()"
   ]
  },
  {
   "cell_type": "code",
   "execution_count": 302,
   "metadata": {},
   "outputs": [
    {
     "data": {
      "image/png": "[encoded data removed]",
      "text/plain": [
       "<Figure size 864x432 with 1 Axes>"
      ]
     },
     "metadata": {
      "needs_background": "light"
     },
     "output_type": "display_data"
    }
   ],
   "source": [
    "plt.figure(figsize=(12,6))\n",
    "sns.violinplot(x=\"label\", y=\"predict\", data=fail_result)\n",
    "plt.xlabel('fault_prediction')\n",
    "plt.grid()\n",
    "plt.show()"
   ]
  },
  {
   "cell_type": "code",
   "execution_count": 305,
   "metadata": {},
   "outputs": [
    {
     "data": {
      "image/png": "[encoded data removed]",
      "text/plain": [
       "<Figure size 864x432 with 1 Axes>"
      ]
     },
     "metadata": {
      "needs_background": "light"
     },
     "output_type": "display_data"
    }
   ],
   "source": [
    "\n",
    "plt.figure(figsize=(12,6))\n",
    "sns.swarmplot(x=\"label\", y=\"predict\", data=fail_result)\n",
    "sns.despine(offset=10, trim=True)\n",
    "plt.xlabel('fault_prediction')\n",
    "plt.grid()\n",
    "plt.show()"
   ]
  },
  {
   "cell_type": "code",
   "execution_count": 314,
   "metadata": {},
   "outputs": [],
   "source": [
    "verifying_data = fail_result.query('label == 8').sample(n=16).index"
   ]
  },
  {
   "cell_type": "code",
   "execution_count": 315,
   "metadata": {},
   "outputs": [
    {
     "data": {
      "image/png": "[encoded data removed]",
      "text/plain": [
       "<Figure size 864x576 with 16 Axes>"
      ]
     },
     "metadata": {
      "needs_background": "light"
     },
     "output_type": "display_data"
    }
   ],
   "source": [
    "count = 0\n",
    "nrows = ncols = 4\n",
    "plt.figure(figsize=(12,8))\n",
    "for n in verifying_data:\n",
    "    count += 1\n",
    "    plt.subplot(nrows, ncols, count)\n",
    "    plt.imshow(mnist.test.images[n].reshape(28, 28), cmap='Greys', interpolation='nearest')\n",
    "    tmp = \"Label:\" + str(fail_result['label'][n]) + \", Prediction:\" + str(fail_result['predict'][n])\n",
    "    plt.title(tmp)\n",
    "\n",
    "plt.tight_layout()\n",
    "plt.show()"
   ]
  },
  {
   "cell_type": "code",
   "execution_count": 316,
   "metadata": {},
   "outputs": [],
   "source": [
    "##########Multi-Layer Perception"
   ]
  },
  {
   "cell_type": "code",
   "execution_count": 317,
   "metadata": {},
   "outputs": [],
   "source": [
    "import tensorflow as tf\n",
    "import numpy as np\n",
    "import matplotlib.pyplot as plt\n",
    "from IPython.display import Image"
   ]
  },
  {
   "cell_type": "code",
   "execution_count": 318,
   "metadata": {},
   "outputs": [
    {
     "name": "stdout",
     "output_type": "stream",
     "text": [
      "Downloading data from https://storage.googleapis.com/tensorflow/tf-keras-datasets/mnist.npz\n",
      "11493376/11490434 [==============================] - ETA:  - ETA: 28 - ETA: 26 - ETA: 22 - ETA: 18 - ETA: 15 - ETA: 13 - ETA: 11 - ETA: 10 - ETA: 8 - ETA:  - ETA:  - ETA:  - ETA:  - ETA:  - ETA:  - ETA:  - ETA:  - ETA:  - ETA:  - ETA:  - ETA:  - ETA:  - ETA:  - ETA:  - ETA:  - ETA:  - ETA:  - ETA:  - ETA:  - ETA:  - ETA:  - ETA:  - ETA:  - ETA:  - ETA:  - ETA:  - ETA:  - ETA:  - ETA:  - ETA:  - ETA:  - ETA:  - ETA:  - ETA:  - ETA:  - ETA:  - ETA:  - ETA:  - ETA:  - ETA:  - ETA:  - ETA:  - ETA:  - ETA:  - ETA:  - ETA:  - ETA:  - ETA:  - ETA:  - ETA:  - ETA:  - ETA:  - ETA:  - ETA:  - ETA:  - ETA:  - ETA:  - ETA:  - ETA:  - ETA:  - ETA:  - ETA:  - ETA:  - ETA:  - ETA:  - ETA:  - ETA:  - ETA:  - ETA:  - ETA:  - ETA:  - ETA:  - ETA:  - ETA:  - ETA:  - ETA:  - ETA:  - ETA:  - ETA:  - ETA:  - ETA:  - 5s 0us/step\n",
      "(60000, 28, 28)\n",
      "(10000, 28, 28)\n"
     ]
    }
   ],
   "source": [
    "(x_train, y_train), (x_test, y_test) = tf.keras.datasets.mnist.load_data()\n",
    "\n",
    "print(x_train.shape)\n",
    "print(x_test.shape)"
   ]
  },
  {
   "cell_type": "code",
   "execution_count": 319,
   "metadata": {},
   "outputs": [],
   "source": [
    "x_val  = x_train[50000:60000]\n",
    "x_train = x_train[0:50000]\n",
    "y_val  = y_train[50000:60000]\n",
    "y_train = y_train[0:50000]"
   ]
  },
  {
   "cell_type": "code",
   "execution_count": 320,
   "metadata": {},
   "outputs": [
    {
     "name": "stdout",
     "output_type": "stream",
     "text": [
      "train data has 50000 samples\n",
      "every train data is 28 * 28 image\n",
      "validation data has 10000 samples\n",
      "every train data is 28 * 28 image\n",
      "[  0   0   0   0   0   0   0  18 219 253 253 253 253 253 198 182 247 241\n",
      "   0   0   0   0   0   0   0   0   0   0]\n",
      "[5 0 4 1 9 2 1 3 1]\n"
     ]
    }
   ],
   "source": [
    "print(\"train data has \" + str(x_train.shape[0]) + \" samples\")\n",
    "print(\"every train data is \" + str(x_train.shape[1]) \n",
    "      + \" * \" + str(x_train.shape[2]) + \" image\")\n",
    "\n",
    "print(\"validation data has \" + str(x_val.shape[0]) + \" samples\")\n",
    "print(\"every train data is \" + str(x_val.shape[1]) \n",
    "      + \" * \" + str(x_train.shape[2]) + \" image\")\n",
    "\n",
    "print(x_train[0][8])\n",
    "\n",
    "print(y_train[0:9])"
   ]
  },
  {
   "cell_type": "code",
   "execution_count": 321,
   "metadata": {},
   "outputs": [
    {
     "name": "stdout",
     "output_type": "stream",
     "text": [
      "test data has 10000 samples\n",
      "every test data is 28 * 28 image\n",
      "(50000, 784)\n",
      "(10000, 784)\n"
     ]
    }
   ],
   "source": [
    "print(\"test data has \" + str(x_test.shape[0]) + \" samples\")\n",
    "print(\"every test data is \" + str(x_test.shape[1]) \n",
    "      + \" * \" + str(x_test.shape[2]) + \" image\")\n",
    "\n",
    "x_train = x_train.reshape(50000, 784)\n",
    "x_val = x_val.reshape(10000, 784)\n",
    "x_test = x_test.reshape(10000, 784)\n",
    "\n",
    "print(x_train.shape)\n",
    "print(x_test.shape)"
   ]
  },
  {
   "cell_type": "code",
   "execution_count": 322,
   "metadata": {},
   "outputs": [
    {
     "data": {
      "text/plain": [
       "array([[0., 0., 0., ..., 0., 0., 0.],\n",
       "       [1., 0., 0., ..., 0., 0., 0.],\n",
       "       [0., 0., 0., ..., 0., 0., 0.],\n",
       "       ...,\n",
       "       [0., 0., 0., ..., 0., 1., 0.],\n",
       "       [0., 0., 0., ..., 0., 0., 0.],\n",
       "       [0., 0., 0., ..., 0., 1., 0.]], dtype=float32)"
      ]
     },
     "execution_count": 322,
     "metadata": {},
     "output_type": "execute_result"
    }
   ],
   "source": [
    "x_train[0]\n",
    "\n",
    "x_train = x_train.astype('float32')\n",
    "x_val = x_val.astype('float32')\n",
    "x_test = x_test.astype('float32')\n",
    "\n",
    "gray_scale = 255\n",
    "x_train /= gray_scale\n",
    "x_val /= gray_scale\n",
    "x_test /= gray_scale\n",
    "\n",
    "num_classes = 10\n",
    "y_train = tf.keras.utils.to_categorical(y_train, num_classes)\n",
    "y_val = tf.keras.utils.to_categorical(y_val, num_classes)\n",
    "y_test = tf.keras.utils.to_categorical(y_test, num_classes)\n",
    "\n",
    "y_train"
   ]
  },
  {
   "cell_type": "code",
   "execution_count": 323,
   "metadata": {},
   "outputs": [],
   "source": [
    "x = tf.placeholder(tf.float32, [None, 784])\n",
    "y = tf.placeholder(tf.float32, [None, 10])"
   ]
  },
  {
   "cell_type": "code",
   "execution_count": 336,
   "metadata": {},
   "outputs": [
    {
     "data": {
      "text/plain": [
       "50000"
      ]
     },
     "execution_count": 336,
     "metadata": {},
     "output_type": "execute_result"
    }
   ],
   "source": [
    "len(x_train)"
   ]
  },
  {
   "cell_type": "code",
   "execution_count": 325,
   "metadata": {},
   "outputs": [],
   "source": [
    "def mlp(x):\n",
    "    # hidden layer1\n",
    "    w1 = tf.Variable(tf.random_uniform([784,256]))\n",
    "    b1 = tf.Variable(tf.zeros([256]))\n",
    "    h1 = tf.nn.relu(tf.matmul(x, w1) + b1)\n",
    "    # hidden layer2\n",
    "    w2 = tf.Variable(tf.random_uniform([256,128]))\n",
    "    b2 = tf.Variable(tf.zeros([128]))\n",
    "    h2 = tf.nn.relu(tf.matmul(h1, w2) + b2)\n",
    "    # output layer\n",
    "    w3 = tf.Variable(tf.random_uniform([128,10]))\n",
    "    b3 = tf.Variable(tf.zeros([10]))\n",
    "    logits= tf.matmul(h2, w3) + b3\n",
    "    \n",
    "    return logits"
   ]
  },
  {
   "cell_type": "code",
   "execution_count": 330,
   "metadata": {},
   "outputs": [],
   "source": [
    "logits = mlp(x)\n",
    "\n",
    "loss_op = tf.reduce_mean(tf.nn.softmax_cross_entropy_with_logits_v2(\n",
    "    logits=logits, labels=y))\n",
    "\n",
    "train_op = tf.train.AdamOptimizer(learning_rate=0.01).minimize(loss_op)\n",
    "\n",
    "init = tf.global_variables_initializer()\n",
    "\n",
    "epoch_cnt = 100\n",
    "batch_size = 1000\n",
    "iteration = len(x_train) // batch_size   ###50000//1000 = 50"
   ]
  },
  {
   "cell_type": "code",
   "execution_count": 331,
   "metadata": {
    "scrolled": true
   },
   "outputs": [
    {
     "name": "stdout",
     "output_type": "stream",
     "text": [
      "epoch: 0, validation accuracy: 0.2373, loss: 9623.698471679692\n",
      "epoch: 1, validation accuracy: 0.8367, loss: 242.28539421081538\n",
      "epoch: 2, validation accuracy: 0.8733, loss: 14.58062364578247\n",
      "epoch: 3, validation accuracy: 0.8864, loss: 9.64492227554321\n",
      "epoch: 4, validation accuracy: 0.8929, loss: 7.502995109558108\n",
      "epoch: 5, validation accuracy: 0.8964, loss: 6.634653997421265\n",
      "epoch: 6, validation accuracy: 0.8854, loss: 5.588056044578551\n",
      "epoch: 7, validation accuracy: 0.8625, loss: 5.660407199859619\n",
      "epoch: 8, validation accuracy: 0.8942, loss: 4.7591497564315794\n",
      "epoch: 9, validation accuracy: 0.8854, loss: 4.676339039802553\n",
      "epoch: 10, validation accuracy: 0.902, loss: 4.695535917282105\n",
      "epoch: 11, validation accuracy: 0.9131, loss: 4.286915445327758\n",
      "epoch: 12, validation accuracy: 0.9104, loss: 3.56066397190094\n",
      "epoch: 13, validation accuracy: 0.9129, loss: 3.3449073171615598\n",
      "epoch: 14, validation accuracy: 0.8893, loss: 4.422858295440674\n",
      "epoch: 15, validation accuracy: 0.8609, loss: 4.607645211219787\n",
      "epoch: 16, validation accuracy: 0.9199, loss: 4.996891202926636\n",
      "epoch: 17, validation accuracy: 0.9072, loss: 4.2397002363204965\n",
      "epoch: 18, validation accuracy: 0.8974, loss: 3.2200944733619687\n",
      "epoch: 19, validation accuracy: 0.8777, loss: 6.716147143840791\n",
      "epoch: 20, validation accuracy: 0.8986, loss: 5.505542368888856\n",
      "epoch: 21, validation accuracy: 0.9151, loss: 5.164336652755736\n",
      "epoch: 22, validation accuracy: 0.9155, loss: 3.0393697738647467\n",
      "epoch: 23, validation accuracy: 0.9165, loss: 3.138375685214997\n",
      "epoch: 24, validation accuracy: 0.9197, loss: 2.9996489191055296\n",
      "epoch: 25, validation accuracy: 0.9013, loss: 3.10858017206192\n",
      "epoch: 26, validation accuracy: 0.8998, loss: 4.735259945392609\n",
      "epoch: 27, validation accuracy: 0.906, loss: 2.974800419807434\n",
      "epoch: 28, validation accuracy: 0.9045, loss: 2.6497881484031685\n",
      "epoch: 29, validation accuracy: 0.9216, loss: 2.393817648887634\n",
      "epoch: 30, validation accuracy: 0.9202, loss: 1.798722983598709\n",
      "epoch: 31, validation accuracy: 0.9139, loss: 1.6464312767982483\n",
      "epoch: 32, validation accuracy: 0.9136, loss: 1.6091847777366644\n",
      "epoch: 33, validation accuracy: 0.9244, loss: 1.6596313440799717\n",
      "epoch: 34, validation accuracy: 0.9242, loss: 1.4518725681304931\n",
      "epoch: 35, validation accuracy: 0.9077, loss: 1.6982290339469905\n",
      "epoch: 36, validation accuracy: 0.9035, loss: 1.4803730857372281\n",
      "epoch: 37, validation accuracy: 0.8783, loss: 1.4485738265514378\n",
      "epoch: 38, validation accuracy: 0.9077, loss: 1.4891785657405847\n",
      "epoch: 39, validation accuracy: 0.9124, loss: 2.326366592645645\n",
      "epoch: 40, validation accuracy: 0.9068, loss: 1.3865794754028327\n",
      "epoch: 41, validation accuracy: 0.9125, loss: 1.0883604907989501\n",
      "epoch: 42, validation accuracy: 0.9098, loss: 0.9736012816429138\n",
      "epoch: 43, validation accuracy: 0.9054, loss: 0.946937277317047\n",
      "epoch: 44, validation accuracy: 0.9059, loss: 0.926691200733185\n",
      "epoch: 45, validation accuracy: 0.9323, loss: 0.9381488847732543\n",
      "epoch: 46, validation accuracy: 0.9371, loss: 0.7240494978427884\n",
      "epoch: 47, validation accuracy: 0.93, loss: 0.5601944136619569\n",
      "epoch: 48, validation accuracy: 0.9264, loss: 0.5081291502714158\n",
      "epoch: 49, validation accuracy: 0.9187, loss: 0.4817173263430597\n",
      "epoch: 50, validation accuracy: 0.9276, loss: 0.5205941194295883\n",
      "epoch: 51, validation accuracy: 0.9256, loss: 0.49903551608324054\n",
      "epoch: 52, validation accuracy: 0.9258, loss: 0.510133053660393\n",
      "epoch: 53, validation accuracy: 0.9309, loss: 0.48912850469350816\n",
      "epoch: 54, validation accuracy: 0.9417, loss: 0.4674993985891341\n",
      "epoch: 55, validation accuracy: 0.9401, loss: 0.3165421317517757\n",
      "epoch: 56, validation accuracy: 0.9407, loss: 0.29713288396596904\n",
      "epoch: 57, validation accuracy: 0.9464, loss: 0.2872019129991531\n",
      "epoch: 58, validation accuracy: 0.9397, loss: 0.3300870913267136\n",
      "epoch: 59, validation accuracy: 0.9409, loss: 0.32189867362380026\n",
      "epoch: 60, validation accuracy: 0.9404, loss: 0.3245198136568071\n",
      "epoch: 61, validation accuracy: 0.9399, loss: 0.3102837556600571\n",
      "epoch: 62, validation accuracy: 0.9396, loss: 0.338523786664009\n",
      "epoch: 63, validation accuracy: 0.9494, loss: 0.3011686710268259\n",
      "epoch: 64, validation accuracy: 0.9518, loss: 0.22974568679928778\n",
      "epoch: 65, validation accuracy: 0.9505, loss: 0.1492385019361973\n",
      "epoch: 66, validation accuracy: 0.9471, loss: 0.14756305597722527\n",
      "epoch: 67, validation accuracy: 0.9465, loss: 0.12939728595316408\n",
      "epoch: 68, validation accuracy: 0.9457, loss: 0.12869540572166444\n",
      "epoch: 69, validation accuracy: 0.9516, loss: 0.10393036365509031\n",
      "epoch: 70, validation accuracy: 0.9523, loss: 0.09951795978471636\n",
      "epoch: 71, validation accuracy: 0.9524, loss: 0.10076298132538793\n",
      "epoch: 72, validation accuracy: 0.9502, loss: 0.0814234776329249\n",
      "epoch: 73, validation accuracy: 0.9458, loss: 0.07728639060631397\n",
      "epoch: 74, validation accuracy: 0.9467, loss: 0.07476024547591807\n",
      "epoch: 75, validation accuracy: 0.9587, loss: 0.07070743998512627\n",
      "epoch: 76, validation accuracy: 0.9583, loss: 0.08056150516495109\n",
      "epoch: 77, validation accuracy: 0.9516, loss: 0.053452888634055847\n",
      "epoch: 78, validation accuracy: 0.9517, loss: 0.04733058867976068\n",
      "epoch: 79, validation accuracy: 0.9493, loss: 0.056131590604782095\n",
      "epoch: 80, validation accuracy: 0.952, loss: 0.04900883387774229\n",
      "epoch: 81, validation accuracy: 0.9586, loss: 0.05540127098560334\n",
      "epoch: 82, validation accuracy: 0.9571, loss: 0.029381641838699582\n",
      "epoch: 83, validation accuracy: 0.96, loss: 0.026104994267225273\n",
      "epoch: 84, validation accuracy: 0.9586, loss: 0.028008167149964718\n",
      "epoch: 85, validation accuracy: 0.958, loss: 0.02678658071439713\n",
      "epoch: 86, validation accuracy: 0.9565, loss: 0.020940580992028116\n",
      "epoch: 87, validation accuracy: 0.9589, loss: 0.0178206635871902\n",
      "epoch: 88, validation accuracy: 0.9598, loss: 0.013453991885762661\n",
      "epoch: 89, validation accuracy: 0.9596, loss: 0.015752908093854788\n",
      "epoch: 90, validation accuracy: 0.9565, loss: 0.01573326747165993\n",
      "epoch: 91, validation accuracy: 0.9618, loss: 0.015716625666245813\n",
      "epoch: 92, validation accuracy: 0.9622, loss: 0.016467493483796718\n",
      "epoch: 93, validation accuracy: 0.9625, loss: 0.012178743925760498\n",
      "epoch: 94, validation accuracy: 0.961, loss: 0.011826374873926399\n",
      "epoch: 95, validation accuracy: 0.9597, loss: 0.009456594848597887\n",
      "epoch: 96, validation accuracy: 0.9616, loss: 0.013434487743070355\n",
      "epoch: 97, validation accuracy: 0.96, loss: 0.010768581783631818\n",
      "epoch: 98, validation accuracy: 0.9613, loss: 0.013152377401129343\n",
      "epoch: 99, validation accuracy: 0.9617, loss: 0.010061452393129\n",
      "[Test Accuracy] : 0.963\n"
     ]
    }
   ],
   "source": [
    "with tf.Session() as sess:\n",
    "\n",
    "    sess.run(init)\n",
    "    for epoch in range(epoch_cnt):\n",
    "        avg_loss = 0.\n",
    "        start = 0; end = batch_size\n",
    "        \n",
    "        for i in range(iteration):\n",
    "            _, loss = sess.run([train_op, loss_op], \n",
    "                               feed_dict={x: x_train[start: end], y: y_train[start: end]})\n",
    "            start += batch_size; end += batch_size  ###batch_size 처리하는 거 때문에 +=해줌\n",
    "\n",
    "            avg_loss += loss / iteration\n",
    "            \n",
    "        preds = tf.nn.softmax(logits)  # Apply softmax to logits\n",
    "        correct_prediction = tf.equal(tf.argmax(preds, 1), tf.argmax(y, 1))\n",
    "\n",
    "        accuracy = tf.reduce_mean(tf.cast(correct_prediction, \"float\"))\n",
    "        cur_val_acc = accuracy.eval({x: x_val, y: y_val})\n",
    "        print(\"epoch: \"+str(epoch)+\", validation accuracy: \" \n",
    "              + str(cur_val_acc) +', loss: '+str(avg_loss))\n",
    "    \n",
    "\n",
    "    preds = tf.nn.softmax(logits)  # Apply softmax to logits\n",
    "    correct_prediction = tf.equal(tf.argmax(preds, 1), tf.argmax(y, 1))\n",
    "\n",
    "    accuracy = tf.reduce_mean(tf.cast(correct_prediction, \"float\"))\n",
    "    print(\"[Test Accuracy] :\", accuracy.eval({x: x_test, y: y_test}))"
   ]
  },
  {
   "cell_type": "code",
   "execution_count": 1,
   "metadata": {},
   "outputs": [],
   "source": [
    "#####################\n",
    "\n",
    "#RNN 건너뛰었고\n",
    "\n",
    "#####################"
   ]
  },
  {
   "cell_type": "code",
   "execution_count": 2,
   "metadata": {},
   "outputs": [],
   "source": [
    "#####################---CNN"
   ]
  },
  {
   "cell_type": "code",
   "execution_count": 37,
   "metadata": {},
   "outputs": [],
   "source": [
    "import tensorflow as tf"
   ]
  },
  {
   "cell_type": "code",
   "execution_count": 38,
   "metadata": {},
   "outputs": [],
   "source": [
    "(x_train, y_train), (x_test, y_test) = tf.keras.datasets.mnist.load_data()\n",
    "\n",
    "x_val  = x_train[50000:60000]\n",
    "x_train = x_train[0:50000]\n",
    "y_val  = y_train[50000:60000]\n",
    "y_train = y_train[0:50000]"
   ]
  },
  {
   "cell_type": "code",
   "execution_count": 39,
   "metadata": {},
   "outputs": [
    {
     "name": "stdout",
     "output_type": "stream",
     "text": [
      "train data has 50000 samples\n",
      "every train data is 28 * 28 image\n"
     ]
    }
   ],
   "source": [
    "print(\"train data has \" + str(x_train.shape[0]) + \" samples\")\n",
    "print(\"every train data is \" + str(x_train.shape[1]) \n",
    "      + \" * \" + str(x_train.shape[2]) + \" image\")"
   ]
  },
  {
   "cell_type": "code",
   "execution_count": 40,
   "metadata": {},
   "outputs": [
    {
     "name": "stdout",
     "output_type": "stream",
     "text": [
      "validation data has 10000 samples\n",
      "every train data is 28 * 28 image\n"
     ]
    }
   ],
   "source": [
    "print(\"validation data has \" + str(x_val.shape[0]) + \" samples\")\n",
    "print(\"every train data is \" + str(x_val.shape[1]) \n",
    "      + \" * \" + str(x_train.shape[2]) + \" image\")"
   ]
  },
  {
   "cell_type": "code",
   "execution_count": 41,
   "metadata": {},
   "outputs": [
    {
     "data": {
      "text/plain": [
       "(50000, 28, 28)"
      ]
     },
     "execution_count": 41,
     "metadata": {},
     "output_type": "execute_result"
    }
   ],
   "source": [
    "x_train.shape"
   ]
  },
  {
   "cell_type": "code",
   "execution_count": 42,
   "metadata": {},
   "outputs": [
    {
     "name": "stdout",
     "output_type": "stream",
     "text": [
      "[  0   0   0   0   0   0   0  18 219 253 253 253 253 253 198 182 247 241\n",
      "   0   0   0   0   0   0   0   0   0   0]\n",
      "[5 0 4 1 9 2 1 3 1]\n",
      "test data has 10000 samples\n",
      "every test data is 28 * 28 image\n"
     ]
    }
   ],
   "source": [
    "print(x_train[0][8])\n",
    "\n",
    "print(y_train[0:9])\n",
    "\n",
    "print(\"test data has \" + str(x_test.shape[0]) + \" samples\")\n",
    "print(\"every test data is \" + str(x_test.shape[1]) \n",
    "      + \" * \" + str(x_test.shape[2]) + \" image\")"
   ]
  },
  {
   "cell_type": "code",
   "execution_count": 43,
   "metadata": {},
   "outputs": [],
   "source": [
    "import numpy as np #########채널을 할당  (1)\n",
    "x_train = np.reshape(x_train, (50000,28,28,1))\n",
    "x_val = np.reshape(x_val, (10000,28,28,1))\n",
    "x_test = np.reshape(x_test, (10000,28,28,1))"
   ]
  },
  {
   "cell_type": "code",
   "execution_count": 44,
   "metadata": {},
   "outputs": [
    {
     "name": "stdout",
     "output_type": "stream",
     "text": [
      "(50000, 28, 28, 1)\n",
      "(10000, 28, 28, 1)\n"
     ]
    }
   ],
   "source": [
    "print(x_train.shape)\n",
    "print(x_test.shape)"
   ]
  },
  {
   "cell_type": "code",
   "execution_count": 45,
   "metadata": {},
   "outputs": [],
   "source": [
    "x_train = x_train.astype('float32')\n",
    "x_val = x_val.astype('float32')\n",
    "x_test = x_test.astype('float32')"
   ]
  },
  {
   "cell_type": "code",
   "execution_count": 46,
   "metadata": {},
   "outputs": [],
   "source": [
    "gray_scale = 255    ############Normalization\n",
    "x_train /= gray_scale\n",
    "x_val /= gray_scale\n",
    "x_test /= gray_scale"
   ]
  },
  {
   "cell_type": "code",
   "execution_count": 47,
   "metadata": {},
   "outputs": [],
   "source": [
    "num_classes = 10   ###############카탈로그 할당\n",
    "y_train = tf.keras.utils.to_categorical(y_train, num_classes)\n",
    "y_val = tf.keras.utils.to_categorical(y_val, num_classes)\n",
    "y_test = tf.keras.utils.to_categorical(y_test, num_classes)"
   ]
  },
  {
   "cell_type": "code",
   "execution_count": 48,
   "metadata": {},
   "outputs": [],
   "source": [
    "x = tf.placeholder(tf.float32, shape=[None, 28, 28, 1])\n",
    "y_ = tf.placeholder(tf.float32, shape=[None, 10])"
   ]
  },
  {
   "cell_type": "code",
   "execution_count": 54,
   "metadata": {},
   "outputs": [],
   "source": [
    "def weight_variable(shape):\n",
    "  initial = tf.random_normal(shape, stddev=0.1)   ########---W random \n",
    "  return tf.Variable(initial)\n",
    "\n",
    "def bias_variable(shape):                           #########---bias 0.1 allocation\n",
    "  initial = tf.constant(0.1, shape=shape)\n",
    "  return tf.Variable(initial)\n",
    "\n",
    "def conv2d(x, W):                                        \n",
    "  return tf.nn.conv2d(x, W, strides=[1, 1, 1, 1], padding='SAME')\n",
    "\n",
    "def max_pool_2x2(x):\n",
    "  return tf.nn.max_pool(x, ksize=[1, 2, 2, 1],\n",
    "                        strides=[1, 2, 2, 1], padding='SAME')"
   ]
  },
  {
   "cell_type": "code",
   "execution_count": 55,
   "metadata": {},
   "outputs": [],
   "source": [
    "W_conv1 = weight_variable([5, 5, 1, 16])\n",
    "b_conv1 = bias_variable([16])\n",
    "\n",
    "h_conv1 = tf.nn.relu(conv2d(x, W_conv1) + b_conv1)\n",
    "\n",
    "h_pool1 = max_pool_2x2(h_conv1)\n",
    "\n",
    "W_conv2 = weight_variable([5, 5, 16, 32])\n",
    "b_conv2 = bias_variable([32])\n",
    "\n",
    "h_conv2 = tf.nn.relu(conv2d(h_pool1, W_conv2) + b_conv2)\n",
    "h_pool2 = max_pool_2x2(h_conv2)\n",
    "\n",
    "W_fc1 = weight_variable([7 * 7 * 32, 128])\n",
    "b_fc1 = bias_variable([128])\n",
    "\n",
    "h_pool2_flat = tf.reshape(h_pool2, [-1, 7*7*32])\n",
    "h_fc1 = tf.nn.relu(tf.matmul(h_pool2_flat, W_fc1) + b_fc1)\n",
    "\n",
    "W_fc2 = weight_variable([128, 10])\n",
    "b_fc2 = bias_variable([10])\n",
    "\n",
    "y_conv = tf.matmul(h_fc1, W_fc2) + b_fc2\n",
    "\n",
    "cross_entropy = tf.reduce_mean(\n",
    "    tf.nn.softmax_cross_entropy_with_logits_v2(labels=y_, logits=y_conv))\n",
    "\n",
    "train_step = tf.train.AdamOptimizer(0.001).minimize(cross_entropy)\n",
    "\n",
    "correct_prediction = tf.equal(tf.argmax(y_conv,1), tf.argmax(y_,1))\n",
    "accuracy = tf.reduce_mean(tf.cast(correct_prediction, tf.float32))"
   ]
  },
  {
   "cell_type": "code",
   "execution_count": 56,
   "metadata": {},
   "outputs": [],
   "source": [
    "init = tf.global_variables_initializer()"
   ]
  },
  {
   "cell_type": "code",
   "execution_count": 57,
   "metadata": {},
   "outputs": [],
   "source": [
    "epoch_cnt = 3\n",
    "batch_size = 500\n",
    "iteration = len(x_train) // batch_size"
   ]
  },
  {
   "cell_type": "code",
   "execution_count": 58,
   "metadata": {},
   "outputs": [
    {
     "name": "stdout",
     "output_type": "stream",
     "text": [
      "step 0: training accuracy: 0.078\n",
      "step 10: training accuracy: 0.55\n",
      "step 20: training accuracy: 0.79\n",
      "step 30: training accuracy: 0.846\n",
      "step 40: training accuracy: 0.88\n",
      "step 50: training accuracy: 0.904\n",
      "step 60: training accuracy: 0.91\n",
      "step 70: training accuracy: 0.938\n",
      "step 80: training accuracy: 0.916\n",
      "step 90: training accuracy: 0.93\n",
      "validation accuracy: 0.9413\n",
      "step 0: training accuracy: 0.938\n",
      "step 10: training accuracy: 0.942\n",
      "step 20: training accuracy: 0.942\n",
      "step 30: training accuracy: 0.948\n",
      "step 40: training accuracy: 0.948\n",
      "step 50: training accuracy: 0.958\n",
      "step 60: training accuracy: 0.952\n",
      "step 70: training accuracy: 0.974\n",
      "step 80: training accuracy: 0.956\n",
      "step 90: training accuracy: 0.968\n",
      "validation accuracy: 0.9694\n",
      "step 0: training accuracy: 0.968\n",
      "step 10: training accuracy: 0.978\n",
      "step 20: training accuracy: 0.964\n",
      "step 30: training accuracy: 0.972\n",
      "step 40: training accuracy: 0.966\n",
      "step 50: training accuracy: 0.98\n",
      "step 60: training accuracy: 0.968\n",
      "step 70: training accuracy: 0.98\n",
      "step 80: training accuracy: 0.984\n",
      "step 90: training accuracy: 0.978\n",
      "validation accuracy: 0.9759\n",
      "test accuracy: 0.9718\n"
     ]
    }
   ],
   "source": [
    "with tf.Session() as sess:\n",
    "    tf.set_random_seed(777)\n",
    "\n",
    "    sess.run(init)\n",
    "    for epoch in range(epoch_cnt):\n",
    "        avg_loss = 0.\n",
    "        start = 0; end = batch_size\n",
    "        \n",
    "        for i in range(iteration):\n",
    "            if i%10 == 0:\n",
    "                train_accuracy = accuracy.eval(feed_dict={x:x_train[start: end], y_: y_train[start: end]})\n",
    "                print(\"step \"+ str(i) + \": training accuracy: \"+str(train_accuracy))\n",
    "            train_step.run(feed_dict={x:x_train[start: end], y_: y_train[start: end]})\n",
    "            start += batch_size; end += batch_size    \n",
    "        \n",
    "\n",
    "        val_accuracy = accuracy.eval(feed_dict={x:x_val, y_: y_val})\n",
    "        print(\"validation accuracy: \"+str(val_accuracy))\n",
    "        \n",
    "    test_accuracy = accuracy.eval(feed_dict={x:x_test, y_: y_test}) \n",
    "    print(\"test accuracy: \"+str(test_accuracy))"
   ]
  },
  {
   "cell_type": "code",
   "execution_count": 59,
   "metadata": {},
   "outputs": [],
   "source": [
    "##############--- Keras"
   ]
  },
  {
   "cell_type": "code",
   "execution_count": 60,
   "metadata": {},
   "outputs": [],
   "source": [
    "from __future__ import print_function\n",
    "import keras\n",
    "from keras.datasets import mnist\n",
    "from keras.models import Sequential\n",
    "from keras.layers import Dense, Dropout, Flatten\n",
    "from keras.layers import Conv2D, MaxPooling2D\n",
    "from keras import backend as K"
   ]
  },
  {
   "cell_type": "code",
   "execution_count": 98,
   "metadata": {},
   "outputs": [],
   "source": [
    "batch_size = 1024\n",
    "num_classes = 10\n",
    "epochs = 12\n",
    "\n",
    "img_rows, img_cols = 28, 28\n",
    "\n",
    "(x_train, y_train), (x_test, y_test) = mnist.load_data()"
   ]
  },
  {
   "cell_type": "code",
   "execution_count": 99,
   "metadata": {},
   "outputs": [
    {
     "data": {
      "text/plain": [
       "(60000, 28, 28)"
      ]
     },
     "execution_count": 99,
     "metadata": {},
     "output_type": "execute_result"
    }
   ],
   "source": [
    "x_train.shape"
   ]
  },
  {
   "cell_type": "code",
   "execution_count": 100,
   "metadata": {},
   "outputs": [],
   "source": [
    "#################채널이 앞에 있으면 뒤로 보내주는 문\n",
    "if K.image_data_format() == 'channels_first':\n",
    "    x_train = x_train.reshape(x_train.shape[0], 1, img_rows, img_cols)\n",
    "    x_test = x_test.reshape(x_test.shape[0], 1, img_rows, img_cols)\n",
    "    input_shape = (1, img_rows, img_cols)\n",
    "else:\n",
    "    x_train = x_train.reshape(x_train.shape[0], img_rows, img_cols, 1)\n",
    "    x_test = x_test.reshape(x_test.shape[0], img_rows, img_cols, 1)\n",
    "    input_shape = (img_rows, img_cols, 1)"
   ]
  },
  {
   "cell_type": "code",
   "execution_count": 101,
   "metadata": {},
   "outputs": [
    {
     "name": "stdout",
     "output_type": "stream",
     "text": [
      "x_train shape: (60000, 28, 28, 1)\n",
      "60000 train samples\n",
      "10000 test samples\n"
     ]
    }
   ],
   "source": [
    "x_train = x_train.astype('float32')\n",
    "x_test = x_test.astype('float32')\n",
    "x_train /= 255  ##########normalization \n",
    "x_test /= 255\n",
    "print('x_train shape:', x_train.shape)\n",
    "print(x_train.shape[0], 'train samples')\n",
    "print(x_test.shape[0], 'test samples')"
   ]
  },
  {
   "cell_type": "code",
   "execution_count": 102,
   "metadata": {},
   "outputs": [],
   "source": [
    "y_train = keras.utils.to_categorical(y_train, num_classes) ##########\n",
    "y_test = keras.utils.to_categorical(y_test, num_classes)"
   ]
  },
  {
   "cell_type": "code",
   "execution_count": 103,
   "metadata": {},
   "outputs": [
    {
     "data": {
      "text/plain": [
       "array([0., 0., 0., 0., 0., 1., 0., 0., 0., 0.], dtype=float32)"
      ]
     },
     "execution_count": 103,
     "metadata": {},
     "output_type": "execute_result"
    }
   ],
   "source": [
    "y_train[0]"
   ]
  },
  {
   "cell_type": "code",
   "execution_count": 104,
   "metadata": {},
   "outputs": [],
   "source": [
    "model = Sequential()\n",
    "model.add(Conv2D(32, kernel_size=(3, 3),\n",
    "                 activation='relu',\n",
    "                 input_shape=input_shape))\n",
    "model.add(Conv2D(64, (3, 3), activation='relu'))\n",
    "model.add(MaxPooling2D(pool_size=(2, 2)))\n",
    "model.add(Dropout(0.25))\n",
    "model.add(Flatten())\n",
    "model.add(Dense(128, activation='relu'))\n",
    "model.add(Dropout(0.5))\n",
    "model.add(Dense(num_classes, activation='softmax'))\n",
    "\n",
    "model.compile(loss=keras.losses.categorical_crossentropy,\n",
    "              optimizer=keras.optimizers.Adadelta(),\n",
    "              metrics=['accuracy'])"
   ]
  },
  {
   "cell_type": "code",
   "execution_count": 110,
   "metadata": {},
   "outputs": [
    {
     "name": "stdout",
     "output_type": "stream",
     "text": [
      "Train on 48000 samples, validate on 12000 samples\n",
      "Epoch 1/15\n",
      "48000/48000 [==============================] - 134s 3ms/step - loss: 0.1455 - acc: 0.9570 - val_loss: 0.0647 - val_acc: 0.9810\n",
      "Epoch 2/15\n",
      "48000/48000 [==============================] - 135s 3ms/step - loss: 0.0833 - acc: 0.9752 - val_loss: 0.0500 - val_acc: 0.9864\n",
      "Epoch 3/15\n",
      "48000/48000 [==============================] - 133s 3ms/step - loss: 0.0651 - acc: 0.9810 - val_loss: 0.0427 - val_acc: 0.9873\n",
      "Epoch 4/15\n",
      "48000/48000 [==============================] - 131s 3ms/step - loss: 0.0524 - acc: 0.9839 - val_loss: 0.0404 - val_acc: 0.9884\n",
      "Epoch 5/15\n",
      "48000/48000 [==============================] - 133s 3ms/step - loss: 0.0469 - acc: 0.9859 - val_loss: 0.0407 - val_acc: 0.9889\n",
      "Epoch 6/15\n",
      "48000/48000 [==============================] - 136s 3ms/step - loss: 0.0416 - acc: 0.9873 - val_loss: 0.0417 - val_acc: 0.9891\n",
      "Epoch 7/15\n",
      "48000/48000 [==============================] - 138s 3ms/step - loss: 0.0388 - acc: 0.9881 - val_loss: 0.0396 - val_acc: 0.9892\n",
      "Epoch 8/15\n",
      "48000/48000 [==============================] - 133s 3ms/step - loss: 0.0333 - acc: 0.9895 - val_loss: 0.0377 - val_acc: 0.9901\n",
      "Epoch 9/15\n",
      "48000/48000 [==============================] - 134s 3ms/step - loss: 0.0320 - acc: 0.9900 - val_loss: 0.0409 - val_acc: 0.9887\n",
      "Epoch 10/15\n",
      "48000/48000 [==============================] - 134s 3ms/step - loss: 0.0301 - acc: 0.9909 - val_loss: 0.0372 - val_acc: 0.9902\n",
      "Epoch 11/15\n",
      "48000/48000 [==============================] - 133s 3ms/step - loss: 0.0305 - acc: 0.9908 - val_loss: 0.0384 - val_acc: 0.9901\n",
      "Epoch 12/15\n",
      "48000/48000 [==============================] - 132s 3ms/step - loss: 0.0295 - acc: 0.9909 - val_loss: 0.0398 - val_acc: 0.9898\n",
      "Epoch 13/15\n",
      "48000/48000 [==============================] - 134s 3ms/step - loss: 0.0255 - acc: 0.9918 - val_loss: 0.0385 - val_acc: 0.9904\n",
      "Epoch 14/15\n",
      "48000/48000 [==============================] - 133s 3ms/step - loss: 0.0231 - acc: 0.9930 - val_loss: 0.0338 - val_acc: 0.9905\n",
      "Epoch 15/15\n",
      "48000/48000 [==============================] - 133s 3ms/step - loss: 0.0248 - acc: 0.9923 - val_loss: 0.0431 - val_acc: 0.9896\n",
      "10000/10000 [==============================] - 5s 531us/step\n",
      "Test loss: 0.032603409001222584\n",
      "Test accuracy: 0.9910000044107438\n"
     ]
    },
    {
     "data": {
      "image/png": "[encoded data removed]",
      "text/plain": [
       "<Figure size 432x288 with 1 Axes>"
      ]
     },
     "metadata": {
      "needs_background": "light"
     },
     "output_type": "display_data"
    },
    {
     "data": {
      "image/png": "[encoded data removed]",
      "text/plain": [
       "<Figure size 432x288 with 1 Axes>"
      ]
     },
     "metadata": {
      "needs_background": "light"
     },
     "output_type": "display_data"
    }
   ],
   "source": [
    "hist = model.fit(x_train, y_train, epochs=15, batch_size=100, validation_split=0.2)\n",
    "score = model.evaluate(x_test, y_test, batch_size=100)\n",
    "print('Test loss:', score[0])\n",
    "print('Test accuracy:', score[1])\n",
    "plot_loss(hist)\n",
    "plt.show()\n",
    "plot_acc(hist)\n",
    "plt.show()"
   ]
  },
  {
   "cell_type": "code",
   "execution_count": 106,
   "metadata": {},
   "outputs": [],
   "source": [
    "import matplotlib.pyplot as plt\n",
    "\n",
    "\n",
    "def plot_acc(history, title=None):\n",
    "    # summarize history for accuracy\n",
    "    if not isinstance(history, dict):\n",
    "        history = history.history\n",
    "\n",
    "    plt.plot(history['acc'])\n",
    "    plt.plot(history['val_acc'])\n",
    "    if title is not None:\n",
    "        plt.title(title)\n",
    "    plt.ylabel('Accuracy')\n",
    "    plt.xlabel('Epoch')\n",
    "    plt.legend(['Training', 'Verification'], loc=0)\n",
    "    # plt.show()"
   ]
  },
  {
   "cell_type": "code",
   "execution_count": 107,
   "metadata": {},
   "outputs": [],
   "source": [
    "def plot_loss(history, title=None):\n",
    "    # summarize history for loss\n",
    "    if not isinstance(history, dict):\n",
    "        history = history.history\n",
    "\n",
    "    plt.plot(history['loss'])\n",
    "    plt.plot(history['val_loss'])\n",
    "    if title is not None:\n",
    "        plt.title(title)\n",
    "    plt.ylabel('Loss')\n",
    "    plt.xlabel('Epoch')\n",
    "    plt.legend(['Training', 'Verification'], loc=0)\n",
    "    # plt.show()"
   ]
  },
  {
   "cell_type": "code",
   "execution_count": 111,
   "metadata": {},
   "outputs": [],
   "source": [
    "from icrawler.builtin import GoogleImageCrawler\n",
    "import os"
   ]
  },
  {
   "cell_type": "code",
   "execution_count": 112,
   "metadata": {},
   "outputs": [
    {
     "name": "stdout",
     "output_type": "stream",
     "text": [
      "make directory\n"
     ]
    }
   ],
   "source": [
    "download_dir=\"C:/Users/user/Desktop/Satellite_deep_learning-master/scaler_Kmeans_mnist_vgg_crawling/dog\"\n",
    "if not os.path.exists(download_dir):\n",
    "    os.makedirs(download_dir)\n",
    "    print(\"make directory\")"
   ]
  },
  {
   "cell_type": "code",
   "execution_count": 113,
   "metadata": {},
   "outputs": [],
   "source": [
    "google_crawler=GoogleImageCrawler(\n",
    "    feeder_threads=1,\n",
    "    parser_threads=1,\n",
    "    downloader_threads=4,\n",
    "    storage={'root_dir':download_dir})\n",
    "filters=dict(size='large', #이미지 크기\n",
    "            color='black',#이미지의 색깔을 필터링\n",
    "            license='commercial,modify',\n",
    "            date=((2017,1,1),(2017,12,31)))#검색하고자 하는 날짜의 범위"
   ]
  },
  {
   "cell_type": "code",
   "execution_count": 115,
   "metadata": {
    "scrolled": true
   },
   "outputs": [
    {
     "name": "stderr",
     "output_type": "stream",
     "text": [
      "2019-02-15 13:41:17,059 - INFO - icrawler.crawler - start crawling...\n",
      "2019-02-15 13:41:17,060 - INFO - icrawler.crawler - starting 1 feeder threads...\n",
      "2019-02-15 13:41:17,062 - INFO - icrawler.crawler - starting 1 parser threads...\n",
      "2019-02-15 13:41:17,063 - INFO - icrawler.crawler - starting 4 downloader threads...\n",
      "2019-02-15 13:41:17,067 - INFO - downloader - skip downloading file 000001.jpg\n",
      "2019-02-15 13:41:17,072 - INFO - downloader - skip downloading file 000002.jpg\n",
      "2019-02-15 13:41:17,077 - INFO - downloader - skip downloading file 000003.jpg\n",
      "2019-02-15 13:41:17,080 - INFO - downloader - skip downloading file 000004.jpg\n",
      "2019-02-15 13:41:17,081 - INFO - downloader - skip downloading file 000005.jpg\n",
      "2019-02-15 13:41:17,166 - INFO - downloader - image #6\thttp://www.pbs.org/wnet/nature/files/2008/08/610_dogs_breedingproblems-380x214.jpg\n",
      "2019-02-15 13:41:17,404 - INFO - downloader - image #7\thttps://static1.squarespace.com/static/55354e00e4b0037a8e7993d5/t/574de3d88a65e227ce77ceae/1464722585860/dog+separation+anxiety\n",
      "2019-02-15 13:41:17,704 - INFO - downloader - image #8\thttps://www.rover.com/blog/wp-content/uploads/2016/05/DSC_0774.jpg\n",
      "2019-02-15 13:41:17,956 - INFO - parser - parsing result page https://www.google.com/search?q=dog&ijn=5&start=500&tbs=cdr%3A1%2Ccd_min%3A01%2F01%2F2016%2Ccd_max%3A06%2F30%2F2016&tbm=isch\n",
      "2019-02-15 13:41:18,009 - INFO - downloader - skip downloading file 000009.jpg\n",
      "2019-02-15 13:41:18,010 - INFO - downloader - skip downloading file 000010.jpg\n",
      "2019-02-15 13:41:18,011 - INFO - downloader - skip downloading file 000011.jpg\n",
      "2019-02-15 13:41:18,015 - INFO - downloader - skip downloading file 000012.jpg\n",
      "2019-02-15 13:41:18,020 - INFO - downloader - skip downloading file 000013.jpg\n",
      "2019-02-15 13:41:18,023 - INFO - downloader - skip downloading file 000014.jpg\n",
      "2019-02-15 13:41:18,024 - INFO - downloader - skip downloading file 000015.jpg\n",
      "2019-02-15 13:41:18,025 - INFO - downloader - skip downloading file 000016.jpg\n",
      "2019-02-15 13:41:18,026 - INFO - downloader - skip downloading file 000017.jpg\n",
      "2019-02-15 13:41:18,027 - INFO - downloader - skip downloading file 000018.jpg\n",
      "2019-02-15 13:41:18,028 - INFO - downloader - skip downloading file 000019.jpg\n",
      "2019-02-15 13:41:18,029 - INFO - downloader - skip downloading file 000020.jpg\n",
      "2019-02-15 13:41:18,033 - INFO - downloader - skip downloading file 000021.jpg\n",
      "2019-02-15 13:41:18,035 - INFO - downloader - skip downloading file 000022.jpg\n",
      "2019-02-15 13:41:18,036 - INFO - downloader - skip downloading file 000023.jpg\n",
      "2019-02-15 13:41:18,037 - INFO - downloader - skip downloading file 000024.jpg\n",
      "2019-02-15 13:41:18,481 - INFO - downloader - image #25\thttps://cdn2.bigcommerce.com/n-zfvgw8/rfxdwc5a/product_images/uploaded_images/dog-harness-fitting.jpg?t=1465141700\n",
      "2019-02-15 13:41:18,486 - INFO - downloader - skip downloading file 000026.jpg\n",
      "2019-02-15 13:41:18,488 - INFO - downloader - skip downloading file 000027.jpg\n",
      "2019-02-15 13:41:18,637 - INFO - downloader - image #28\thttps://cdn.cnn.com/cnnnext/dam/assets/160517204622-if-dogs-could-talk-georgia-tech-mobile-orig-mss-00000418-exlarge-169.jpg\n",
      "2019-02-15 13:41:18,640 - INFO - downloader - skip downloading file 000029.jpg\n",
      "2019-02-15 13:41:18,770 - INFO - downloader - image #30\thttps://www.nps.gov/common/uploads/grid_builder/dena/crop1_1/F09D0C8A-1DD8-B71B-0B12B722BF6838E2.jpg?width=640&quality=90&mode=crop\n",
      "2019-02-15 13:41:18,773 - INFO - downloader - skip downloading file 000031.jpg\n",
      "2019-02-15 13:41:18,811 - INFO - downloader - image #32\thttps://animalsdeservebetter.org/wp-content/uploads/2016/05/adb-HOME-box-SERVICE-DOG-TRAINING.png\n",
      "2019-02-15 13:41:18,829 - ERROR - downloader - Exception caught when downloading file https://usaservicedogregistration.com/wp-content/uploads/2016/01/therapy-dog-image-300x225.jpg, error: HTTPSConnectionPool(host='usaservicedogregistration.com', port=443): Max retries exceeded with url: /wp-content/uploads/2016/01/therapy-dog-image-300x225.jpg (Caused by SSLError(SSLError(1, '[SSL: CERTIFICATE_VERIFY_FAILED] certificate verify failed (_ssl.c:833)'),)), remaining retry times: 2\n",
      "2019-02-15 13:41:19,173 - INFO - downloader - image #33\thttps://snoozerpetproducts.com/wp-content/uploads/2014/11/snoozer-dog-bed-sale-cyber-week-1024x516.jpg\n",
      "2019-02-15 13:41:19,175 - INFO - downloader - skip downloading file 000034.jpg\n",
      "2019-02-15 13:41:19,176 - INFO - downloader - skip downloading file 000035.jpg\n",
      "2019-02-15 13:41:19,352 - ERROR - downloader - Exception caught when downloading file https://usaservicedogregistration.com/wp-content/uploads/2016/01/therapy-dog-image-300x225.jpg, error: HTTPSConnectionPool(host='usaservicedogregistration.com', port=443): Max retries exceeded with url: /wp-content/uploads/2016/01/therapy-dog-image-300x225.jpg (Caused by SSLError(SSLError(1, '[SSL: CERTIFICATE_VERIFY_FAILED] certificate verify failed (_ssl.c:833)'),)), remaining retry times: 1\n",
      "2019-02-15 13:41:19,655 - ERROR - downloader - Exception caught when downloading file https://usaservicedogregistration.com/wp-content/uploads/2016/01/therapy-dog-image-300x225.jpg, error: HTTPSConnectionPool(host='usaservicedogregistration.com', port=443): Max retries exceeded with url: /wp-content/uploads/2016/01/therapy-dog-image-300x225.jpg (Caused by SSLError(SSLError(1, '[SSL: CERTIFICATE_VERIFY_FAILED] certificate verify failed (_ssl.c:833)'),)), remaining retry times: 0\n",
      "2019-02-15 13:41:19,655 - INFO - downloader - skip downloading file 000036.jpg\n",
      "2019-02-15 13:41:19,655 - INFO - downloader - skip downloading file 000037.jpg\n",
      "2019-02-15 13:41:19,907 - INFO - downloader - image #38\thttps://www.naturalbalanceinc.com/sites/naturalbalanceinc/files/product_images/DDD_TuTur_Lid_2.75oz_Tilted.png\n",
      "2019-02-15 13:41:19,907 - INFO - downloader - skip downloading file 000039.jpg\n",
      "2019-02-15 13:41:19,916 - INFO - downloader - skip downloading file 000040.jpg\n",
      "2019-02-15 13:41:19,917 - INFO - downloader - skip downloading file 000041.jpg\n",
      "2019-02-15 13:41:19,919 - INFO - downloader - skip downloading file 000042.jpg\n",
      "2019-02-15 13:41:19,919 - INFO - downloader - skip downloading file 000043.jpg\n",
      "2019-02-15 13:41:19,920 - INFO - downloader - skip downloading file 000044.jpg\n",
      "2019-02-15 13:41:19,921 - INFO - downloader - skip downloading file 000045.jpg\n",
      "2019-02-15 13:41:19,922 - INFO - downloader - skip downloading file 000046.jpg\n",
      "2019-02-15 13:41:19,923 - INFO - downloader - skip downloading file 000047.jpg\n",
      "2019-02-15 13:41:20,005 - INFO - downloader - image #48\thttps://www.zooborns.com/.a/6a010535647bf3970b01b8d1e9478c970c-800wi\n",
      "2019-02-15 13:41:20,005 - INFO - downloader - skip downloading file 000049.jpg\n",
      "2019-02-15 13:41:20,013 - INFO - downloader - skip downloading file 000050.jpg\n",
      "2019-02-15 13:41:20,014 - INFO - downloader - skip downloading file 000051.jpg\n",
      "2019-02-15 13:41:20,054 - INFO - downloader - image #52\thttps://www.communitybark.net/assets/images/team-dog.png\n",
      "2019-02-15 13:41:20,370 - INFO - downloader - image #53\thttp://byluisvenegas.com/files/292_background.gif\n",
      "2019-02-15 13:41:20,370 - INFO - downloader - skip downloading file 000054.jpg\n",
      "2019-02-15 13:41:20,376 - INFO - downloader - skip downloading file 000055.jpg\n",
      "2019-02-15 13:41:20,377 - INFO - downloader - skip downloading file 000056.jpg\n",
      "2019-02-15 13:41:20,378 - INFO - downloader - skip downloading file 000057.jpg\n",
      "2019-02-15 13:41:20,379 - INFO - downloader - skip downloading file 000058.jpg\n",
      "2019-02-15 13:41:20,502 - INFO - downloader - image #59\thttps://www.rspcapetinsurance.org.au/App_Themes/Rspca/lp/dog-grooming-guide/images/afghan-hound.png\n",
      "2019-02-15 13:41:20,502 - INFO - downloader - skip downloading file 000060.jpg\n",
      "2019-02-15 13:41:20,518 - INFO - downloader - skip downloading file 000061.jpg\n",
      "2019-02-15 13:41:20,519 - INFO - downloader - skip downloading file 000062.jpg\n",
      "2019-02-15 13:41:21,307 - INFO - downloader - image #63\thttps://www.healthychildren.org/SiteCollectionImagesArticleImages/cute_pink_dress_dog_bows.png\n",
      "2019-02-15 13:41:21,307 - INFO - downloader - skip downloading file 000064.jpg\n",
      "2019-02-15 13:41:21,318 - INFO - downloader - skip downloading file 000065.jpg\n",
      "2019-02-15 13:41:21,333 - INFO - downloader - image #66\thttps://i5.walmartimages.com/asr/97689068-2afb-4f0f-8eb0-c45c49870e89_1.43311cf1d7d1b3ac8a8678db4837eabd.jpeg\n"
     ]
    },
    {
     "name": "stderr",
     "output_type": "stream",
     "text": [
      "2019-02-15 13:41:21,337 - INFO - downloader - skip downloading file 000067.jpg\n",
      "2019-02-15 13:41:21,338 - INFO - downloader - skip downloading file 000068.jpg\n",
      "2019-02-15 13:41:21,471 - INFO - downloader - image #69\thttps://static.boredpanda.com/blog/wp-content/uploads/2016/03/firefighter-dog-burn-victim-mascot-jake-william-lindler-9.jpg\n",
      "2019-02-15 13:41:21,471 - INFO - downloader - skip downloading file 000070.jpg\n",
      "2019-02-15 13:41:21,475 - INFO - downloader - skip downloading file 000071.jpg\n",
      "2019-02-15 13:41:21,477 - INFO - downloader - skip downloading file 000072.jpg\n",
      "2019-02-15 13:41:21,697 - INFO - downloader - image #73\thttps://www.sciencealert.com/images/feb-16/dog-2.jpg\n",
      "2019-02-15 13:41:21,705 - INFO - downloader - skip downloading file 000074.jpg\n",
      "2019-02-15 13:41:21,706 - INFO - downloader - skip downloading file 000075.jpg\n",
      "2019-02-15 13:41:21,707 - INFO - downloader - skip downloading file 000076.jpg\n",
      "2019-02-15 13:41:21,708 - INFO - downloader - skip downloading file 000077.jpg\n",
      "2019-02-15 13:41:21,710 - INFO - downloader - skip downloading file 000078.jpg\n",
      "2019-02-15 13:41:21,757 - INFO - downloader - image #79\thttps://herepup.com/wp-content/uploads/2016/01/Best-Dog-Food-for-Cavalier-King-Charles-Spaniels.jpg\n",
      "2019-02-15 13:41:21,773 - INFO - downloader - skip downloading file 000080.jpg\n",
      "2019-02-15 13:41:21,775 - INFO - downloader - skip downloading file 000081.jpg\n",
      "2019-02-15 13:41:21,776 - INFO - downloader - skip downloading file 000082.jpg\n",
      "2019-02-15 13:41:21,777 - INFO - downloader - skip downloading file 000083.jpg\n",
      "2019-02-15 13:41:21,839 - INFO - downloader - image #84\thttps://www.hillspet.com.au/content/dam/pim/hills/en_au/sd/dry/sd-adult-sensitive-stomach-dog-food-dry-productShot_500.png\n",
      "2019-02-15 13:41:21,839 - INFO - downloader - skip downloading file 000085.jpg\n",
      "2019-02-15 13:41:21,983 - INFO - downloader - image #86\thttp://www.dogstarrescue.org/wp-content/uploads/2015/03/dogstarlogo.png\n",
      "2019-02-15 13:41:22,088 - INFO - downloader - image #87\thttps://images.mysecuritysign.com/img/lg/K/is-there-life-after-death-dog-sign-k2-0401.png\n",
      "2019-02-15 13:41:22,088 - INFO - downloader - skip downloading file 000088.jpg\n",
      "2019-02-15 13:41:22,095 - INFO - downloader - skip downloading file 000089.jpg\n",
      "2019-02-15 13:41:22,096 - INFO - downloader - skip downloading file 000090.jpg\n",
      "2019-02-15 13:41:22,097 - INFO - downloader - skip downloading file 000091.jpg\n",
      "2019-02-15 13:41:22,098 - INFO - downloader - skip downloading file 000092.jpg\n",
      "2019-02-15 13:41:22,099 - INFO - downloader - skip downloading file 000093.jpg\n",
      "2019-02-15 13:41:22,100 - INFO - downloader - skip downloading file 000094.jpg\n",
      "2019-02-15 13:41:22,101 - INFO - downloader - skip downloading file 000095.jpg\n",
      "2019-02-15 13:41:22,102 - INFO - downloader - skip downloading file 000096.jpg\n",
      "2019-02-15 13:41:22,103 - INFO - downloader - skip downloading file 000097.jpg\n",
      "2019-02-15 13:41:22,104 - INFO - downloader - skip downloading file 000098.jpg\n",
      "2019-02-15 13:41:22,105 - INFO - downloader - skip downloading file 000099.jpg\n",
      "2019-02-15 13:41:22,106 - INFO - downloader - skip downloading file 000100.jpg\n",
      "2019-02-15 13:41:22,108 - INFO - downloader - skip downloading file 000101.jpg\n",
      "2019-02-15 13:41:22,111 - INFO - downloader - skip downloading file 000102.jpg\n",
      "2019-02-15 13:41:22,113 - INFO - downloader - skip downloading file 000103.jpg\n",
      "2019-02-15 13:41:22,114 - INFO - downloader - skip downloading file 000104.jpg\n",
      "2019-02-15 13:41:22,115 - INFO - downloader - skip downloading file 000105.jpg\n",
      "2019-02-15 13:41:22,116 - INFO - downloader - skip downloading file 000106.jpg\n",
      "2019-02-15 13:41:22,118 - INFO - downloader - skip downloading file 000107.jpg\n",
      "2019-02-15 13:41:22,119 - INFO - downloader - skip downloading file 000108.jpg\n",
      "2019-02-15 13:41:22,120 - INFO - downloader - skip downloading file 000109.jpg\n",
      "2019-02-15 13:41:22,121 - INFO - downloader - skip downloading file 000110.jpg\n",
      "2019-02-15 13:41:22,174 - INFO - downloader - image #111\thttps://images.meredith.com/content/dam/bhg/Images/2012/10/101616385.jpg.rendition.smallest.ss.jpg\n",
      "2019-02-15 13:41:22,189 - INFO - downloader - skip downloading file 000112.jpg\n",
      "2019-02-15 13:41:22,192 - INFO - downloader - skip downloading file 000113.jpg\n",
      "2019-02-15 13:41:22,194 - INFO - downloader - skip downloading file 000114.jpg\n",
      "2019-02-15 13:41:22,194 - ERROR - downloader - Exception caught when downloading file https://creativedogtraining.com/assets/img/layout/respect-cover.png, error: HTTPSConnectionPool(host='creativedogtraining.com', port=443): Max retries exceeded with url: /assets/img/layout/respect-cover.png (Caused by SSLError(SSLError(1, '[SSL: CERTIFICATE_VERIFY_FAILED] certificate verify failed (_ssl.c:833)'),)), remaining retry times: 2\n",
      "2019-02-15 13:41:22,195 - INFO - downloader - skip downloading file 000115.jpg\n",
      "2019-02-15 13:41:22,616 - ERROR - downloader - Exception caught when downloading file https://creativedogtraining.com/assets/img/layout/respect-cover.png, error: HTTPSConnectionPool(host='creativedogtraining.com', port=443): Max retries exceeded with url: /assets/img/layout/respect-cover.png (Caused by SSLError(SSLError(1, '[SSL: CERTIFICATE_VERIFY_FAILED] certificate verify failed (_ssl.c:833)'),)), remaining retry times: 1\n",
      "2019-02-15 13:41:22,846 - INFO - downloader - image #116\thttp://bk-latam-prod.s3.amazonaws.com/sites/burgerkingaw.com/files/GRILLEDCHILIDOG_300x270px.jpg\n",
      "2019-02-15 13:41:22,924 - INFO - downloader - image #117\thttps://www.purina.ca/wp-content/uploads/2015/08/25-011.png\n",
      "2019-02-15 13:41:22,924 - INFO - downloader - skip downloading file 000118.jpg\n",
      "2019-02-15 13:41:22,930 - INFO - downloader - skip downloading file 000119.jpg\n",
      "2019-02-15 13:41:22,931 - INFO - downloader - skip downloading file 000120.jpg\n",
      "2019-02-15 13:41:22,932 - INFO - downloader - skip downloading file 000121.jpg\n",
      "2019-02-15 13:41:22,933 - INFO - downloader - skip downloading file 000122.jpg\n",
      "2019-02-15 13:41:22,933 - INFO - downloader - skip downloading file 000123.jpg\n",
      "2019-02-15 13:41:22,934 - INFO - downloader - skip downloading file 000124.jpg\n",
      "2019-02-15 13:41:22,935 - INFO - downloader - skip downloading file 000125.jpg\n",
      "2019-02-15 13:41:22,952 - INFO - parser - parsing result page https://www.google.com/search?q=dog&ijn=6&start=600&tbs=cdr%3A1%2Ccd_min%3A01%2F01%2F2016%2Ccd_max%3A06%2F30%2F2016&tbm=isch\n",
      "2019-02-15 13:41:23,023 - ERROR - downloader - Exception caught when downloading file https://creativedogtraining.com/assets/img/layout/respect-cover.png, error: HTTPSConnectionPool(host='creativedogtraining.com', port=443): Max retries exceeded with url: /assets/img/layout/respect-cover.png (Caused by SSLError(SSLError(1, '[SSL: CERTIFICATE_VERIFY_FAILED] certificate verify failed (_ssl.c:833)'),)), remaining retry times: 0\n",
      "2019-02-15 13:41:23,077 - INFO - downloader - image #126\thttps://www.nsdogtraining.org.au/wp-content/uploads/2016/03/dog-training.jpg\n",
      "2019-02-15 13:41:23,081 - INFO - downloader - skip downloading file 000127.jpg\n",
      "2019-02-15 13:41:23,082 - INFO - downloader - skip downloading file 000128.jpg\n",
      "2019-02-15 13:41:23,083 - INFO - downloader - skip downloading file 000129.jpg\n",
      "2019-02-15 13:41:23,781 - INFO - parser - parsing result page https://www.google.com/search?q=dog&ijn=7&start=700&tbs=cdr%3A1%2Ccd_min%3A01%2F01%2F2016%2Ccd_max%3A06%2F30%2F2016&tbm=isch\n",
      "2019-02-15 13:41:23,872 - INFO - downloader - image #130\thttps://www.homesalive.ca/media/magefan_blog/2/3/23-hypoallergenic-dogs.jpg\n",
      "2019-02-15 13:41:23,872 - INFO - downloader - skip downloading file 000131.jpg\n",
      "2019-02-15 13:41:23,881 - INFO - downloader - skip downloading file 000132.jpg\n",
      "2019-02-15 13:41:23,882 - INFO - downloader - skip downloading file 000133.jpg\n",
      "2019-02-15 13:41:23,941 - INFO - downloader - image #134\thttps://www.minneapolisparks.org/_asset/8yhx14/internal_banner/all_dog_parks_banner2.jpg\n",
      "2019-02-15 13:41:23,946 - INFO - downloader - skip downloading file 000135.jpg\n",
      "2019-02-15 13:41:23,948 - INFO - downloader - skip downloading file 000136.jpg\n",
      "2019-02-15 13:41:24,197 - INFO - downloader - image #137\thttps://static1.squarespace.com/static/5692a6b4c647ad3203be6d4f/5692c22c7086d724272fb2a2/569be6ecbfe87383e5df4876/1453057772815/o2M_mzRKSSHJjUGF8MkbF92lA5ukzLMrGI0C8z7nQEI.jpeg?format=500w\n"
     ]
    },
    {
     "name": "stderr",
     "output_type": "stream",
     "text": [
      "2019-02-15 13:41:24,197 - INFO - downloader - skip downloading file 000138.jpg\n",
      "2019-02-15 13:41:24,208 - INFO - downloader - skip downloading file 000139.jpg\n",
      "2019-02-15 13:41:24,209 - INFO - downloader - skip downloading file 000140.jpg\n",
      "2019-02-15 13:41:24,435 - INFO - downloader - image #141\thttps://diamondlawbc.ca/wp-content/uploads/2017/05/Why-dog-bites-happen-and-how-to-stop-dog-biting.jpg\n",
      "2019-02-15 13:41:24,727 - INFO - downloader - image #142\thttps://www.parnassusbooks.net/sites/parnassusbooks.net/files/MTL%20Staff.png\n",
      "2019-02-15 13:41:24,738 - INFO - downloader - skip downloading file 000143.jpg\n",
      "2019-02-15 13:41:24,739 - INFO - downloader - skip downloading file 000144.jpg\n",
      "2019-02-15 13:41:24,740 - INFO - downloader - skip downloading file 000145.jpg\n",
      "2019-02-15 13:41:24,741 - INFO - downloader - skip downloading file 000146.jpg\n",
      "2019-02-15 13:41:24,742 - INFO - downloader - skip downloading file 000147.jpg\n",
      "2019-02-15 13:41:24,743 - INFO - downloader - skip downloading file 000148.jpg\n",
      "2019-02-15 13:41:24,745 - INFO - downloader - skip downloading file 000149.jpg\n",
      "2019-02-15 13:41:24,888 - INFO - downloader - image #150\thttps://www.nuvet.com/images/nuvet-ds-bottle-wafers-dog-supplements-double-strength.png\n",
      "2019-02-15 13:41:25,005 - INFO - downloader - image #151\thttps://s3-eu-west-1.amazonaws.com/applaws-2016/wp-content/uploads/sites/4/2016/09/08111158/AppDogLayers_USA_ChickPumpkinWEB-e1460641053146-2.png\n",
      "2019-02-15 13:41:25,005 - INFO - downloader - skip downloading file 000152.jpg\n",
      "2019-02-15 13:41:25,014 - INFO - downloader - skip downloading file 000153.jpg\n",
      "2019-02-15 13:41:25,015 - INFO - downloader - skip downloading file 000154.jpg\n",
      "2019-02-15 13:41:25,016 - INFO - downloader - skip downloading file 000155.jpg\n",
      "2019-02-15 13:41:25,123 - INFO - downloader - image #156\thttps://notesfromadogwalker.files.wordpress.com/2011/12/dinos_iconlogo_rgb.jpg?w=360&h=298\n",
      "2019-02-15 13:41:25,123 - INFO - downloader - skip downloading file 000157.jpg\n",
      "2019-02-15 13:41:25,131 - INFO - downloader - skip downloading file 000158.jpg\n",
      "2019-02-15 13:41:25,132 - INFO - downloader - skip downloading file 000159.jpg\n",
      "2019-02-15 13:41:25,133 - INFO - downloader - skip downloading file 000160.jpg\n",
      "2019-02-15 13:41:25,134 - INFO - downloader - skip downloading file 000161.jpg\n",
      "2019-02-15 13:41:25,135 - INFO - downloader - skip downloading file 000162.jpg\n",
      "2019-02-15 13:41:25,135 - INFO - downloader - skip downloading file 000163.jpg\n",
      "2019-02-15 13:41:25,136 - INFO - downloader - skip downloading file 000164.jpg\n",
      "2019-02-15 13:41:25,138 - INFO - downloader - skip downloading file 000165.jpg\n",
      "2019-02-15 13:41:25,139 - INFO - downloader - skip downloading file 000166.jpg\n",
      "2019-02-15 13:41:25,140 - INFO - downloader - skip downloading file 000167.jpg\n",
      "2019-02-15 13:41:25,141 - INFO - downloader - skip downloading file 000168.jpg\n",
      "2019-02-15 13:41:25,177 - INFO - downloader - image #169\thttps://www.zoetisus.com/species/asset_upload_file19332_250337.jpg\n",
      "2019-02-15 13:41:25,524 - INFO - downloader - image #170\thttp://stickdogbooks.com/images/main/stickdog_animation_intro.gif\n",
      "2019-02-15 13:41:25,524 - INFO - downloader - skip downloading file 000171.jpg\n",
      "2019-02-15 13:41:25,529 - INFO - downloader - skip downloading file 000172.jpg\n",
      "2019-02-15 13:41:25,530 - INFO - downloader - skip downloading file 000173.jpg\n",
      "2019-02-15 13:41:25,532 - INFO - downloader - skip downloading file 000174.jpg\n",
      "2019-02-15 13:41:25,532 - INFO - downloader - skip downloading file 000175.jpg\n",
      "2019-02-15 13:41:25,611 - INFO - downloader - image #176\thttps://i.ytimg.com/vi/o9v820D4Mik/maxresdefault.jpg\n",
      "2019-02-15 13:41:25,973 - INFO - downloader - image #177\thttp://www.freedomdogs.org/wp-content/uploads/files/2016/01/Beth-Boys-names3.png\n",
      "2019-02-15 13:41:25,973 - INFO - downloader - skip downloading file 000178.jpg\n",
      "2019-02-15 13:41:25,989 - INFO - downloader - skip downloading file 000179.jpg\n",
      "2019-02-15 13:41:25,991 - INFO - downloader - skip downloading file 000180.jpg\n",
      "2019-02-15 13:41:25,992 - INFO - downloader - skip downloading file 000181.JPG\n",
      "2019-02-15 13:41:25,993 - INFO - downloader - skip downloading file 000182.jpg\n",
      "2019-02-15 13:41:25,995 - INFO - downloader - skip downloading file 000183.jpg\n",
      "2019-02-15 13:41:25,996 - INFO - downloader - skip downloading file 000184.jpg\n",
      "2019-02-15 13:41:25,997 - INFO - downloader - skip downloading file 000185.jpg\n",
      "2019-02-15 13:41:25,998 - INFO - downloader - skip downloading file 000186.jpg\n",
      "2019-02-15 13:41:26,218 - INFO - downloader - image #187\thttps://www.greymuzzle.org/sites/default/files/gm-bed-fund-new.png\n",
      "2019-02-15 13:41:26,387 - INFO - downloader - image #188\thttps://media1.tenor.com/images/f76f4ed51d2c9b33794610f6c638cf78/tenor.gif?itemid=4955065\n",
      "2019-02-15 13:41:26,387 - INFO - downloader - skip downloading file 000189.jpg\n",
      "2019-02-15 13:41:26,400 - INFO - downloader - skip downloading file 000190.jpg\n",
      "2019-02-15 13:41:26,401 - INFO - downloader - skip downloading file 000191.jpg\n",
      "2019-02-15 13:41:26,402 - INFO - downloader - skip downloading file 000192.jpg\n",
      "2019-02-15 13:41:26,743 - INFO - downloader - image #193\thttps://images.mysecuritysign.com/img/lg/K/trespassers-warning-beware-of-dog-sign-k2-0641.png\n",
      "2019-02-15 13:41:26,759 - INFO - downloader - skip downloading file 000194.jpg\n",
      "2019-02-15 13:41:26,759 - INFO - downloader - skip downloading file 000195.jpg\n",
      "2019-02-15 13:41:26,762 - INFO - downloader - skip downloading file 000196.jpg\n",
      "2019-02-15 13:41:26,780 - INFO - downloader - image #197\thttps://www.communitybark.net/content/staff/staff_10_staff_image.jpg\n",
      "2019-02-15 13:41:26,785 - INFO - downloader - skip downloading file 000198.jpg\n",
      "2019-02-15 13:41:26,786 - INFO - downloader - skip downloading file 000199.jpg\n",
      "2019-02-15 13:41:26,859 - INFO - downloader - image #200\thttps://images.mysecuritysign.com/img/dp/lg/dog-gate-sign.png\n",
      "2019-02-15 13:41:26,859 - INFO - downloader - skip downloading file 000201.jpg\n",
      "2019-02-15 13:41:26,871 - INFO - downloader - skip downloading file 000202.jpg\n",
      "2019-02-15 13:41:26,992 - INFO - downloader - image #203\thttps://i.ytimg.com/vi/PiF_pmLCtQM/maxresdefault.jpg\n",
      "2019-02-15 13:41:27,008 - INFO - downloader - skip downloading file 000204.jpg\n",
      "2019-02-15 13:41:27,172 - INFO - downloader - image #205\thttps://42796r1ctbz645bo223zkcdl-wpengine.netdna-ssl.com/wp-content/uploads/2016/05/1290-dog-1281x485.jpg\n",
      "2019-02-15 13:41:27,172 - INFO - downloader - skip downloading file 000206.jpg\n",
      "2019-02-15 13:41:27,247 - INFO - downloader - image #207\thttps://www.shallowcreekk9.com/images/rotator01.jpg\n",
      "2019-02-15 13:41:27,264 - INFO - downloader - skip downloading file 000208.png\n",
      "2019-02-15 13:41:27,265 - INFO - downloader - skip downloading file 000209.jpg\n",
      "2019-02-15 13:41:27,266 - INFO - downloader - skip downloading file 000210.jpg\n",
      "2019-02-15 13:41:27,267 - INFO - downloader - skip downloading file 000211.jpg\n",
      "2019-02-15 13:41:27,268 - INFO - downloader - skip downloading file 000212.jpg\n",
      "2019-02-15 13:41:27,269 - INFO - downloader - skip downloading file 000213.jpg\n",
      "2019-02-15 13:41:27,270 - INFO - downloader - skip downloading file 000214.jpg\n",
      "2019-02-15 13:41:27,271 - INFO - downloader - skip downloading file 000215.jpg\n",
      "2019-02-15 13:41:27,272 - INFO - downloader - skip downloading file 000216.jpg\n",
      "2019-02-15 13:41:27,273 - INFO - downloader - skip downloading file 000217.jpg\n",
      "2019-02-15 13:41:27,275 - INFO - downloader - skip downloading file 000218.jpg\n",
      "2019-02-15 13:41:27,276 - INFO - downloader - skip downloading file 000219.jpg\n",
      "2019-02-15 13:41:27,281 - INFO - downloader - image #220\thttp://www.animalabs.com/update/wp-content/uploads/2016/05/1_Autos_rec_1.png?x67537\n",
      "2019-02-15 13:41:27,288 - INFO - downloader - image #221\thttps://secure.i.telegraph.co.uk/multimedia/archive/03546/merkel-putin-dog_3546989b.jpg\n",
      "2019-02-15 13:41:27,294 - INFO - downloader - skip downloading file 000222.jpg\n",
      "2019-02-15 13:41:28,070 - INFO - downloader - image #223\thttp://www.mypetsbrace.com/portal/uploads/www_files/109/DSCN1635.JPG\n",
      "2019-02-15 13:41:28,070 - INFO - downloader - skip downloading file 000224.jpg\n",
      "2019-02-15 13:41:28,085 - INFO - downloader - skip downloading file 000225.jpg\n",
      "2019-02-15 13:41:28,086 - INFO - downloader - skip downloading file 000226.jpg\n"
     ]
    },
    {
     "name": "stderr",
     "output_type": "stream",
     "text": [
      "2019-02-15 13:41:28,087 - INFO - downloader - skip downloading file 000227.jpg\n",
      "2019-02-15 13:41:28,226 - INFO - downloader - image #228\thttps://www.dogster.com/wp-content/uploads/2016/01/girl-shiba-toothbrush.jpg\n",
      "2019-02-15 13:41:28,226 - INFO - downloader - skip downloading file 000229.jpg\n",
      "2019-02-15 13:41:28,239 - INFO - downloader - skip downloading file 000230.jpg\n",
      "2019-02-15 13:41:28,241 - INFO - downloader - skip downloading file 000231.jpg\n",
      "2019-02-15 13:41:28,330 - INFO - downloader - image #232\thttp://nagdu.org/newnagdu/images/revslider/guide-dog.jpg\n",
      "2019-02-15 13:41:28,330 - INFO - downloader - skip downloading file 000233.jpg\n",
      "2019-02-15 13:41:28,358 - INFO - downloader - image #234\thttps://www.zooborns.com/.a/6a010535647bf3970b01bb0902fbec970d-800wi\n",
      "2019-02-15 13:41:28,360 - INFO - downloader - skip downloading file 000235.jpg\n",
      "2019-02-15 13:41:28,362 - INFO - downloader - skip downloading file 000236.jpg\n",
      "2019-02-15 13:41:28,363 - INFO - downloader - skip downloading file 000237.jpg\n",
      "2019-02-15 13:41:28,365 - INFO - downloader - skip downloading file 000238.jpg\n",
      "2019-02-15 13:41:28,367 - INFO - downloader - skip downloading file 000239.jpg\n",
      "2019-02-15 13:41:28,368 - INFO - downloader - skip downloading file 000240.jpg\n",
      "2019-02-15 13:41:28,387 - INFO - downloader - image #241\thttps://media.tractorsupply.com/is/image/TractorSupplyCompany/5149566?$470$\n",
      "2019-02-15 13:41:28,391 - INFO - downloader - skip downloading file 000242.jpg\n",
      "2019-02-15 13:41:28,392 - INFO - downloader - skip downloading file 000243.jpg\n",
      "2019-02-15 13:41:28,393 - INFO - downloader - skip downloading file 000244.jpg\n",
      "2019-02-15 13:41:28,558 - INFO - downloader - image #245\thttps://chickensouppets.com/sites/default/files/2016-03/GF-Dog-Salmon-Story-Image-3-DRY.png\n",
      "2019-02-15 13:41:28,558 - INFO - downloader - skip downloading file 000246.JPG\n",
      "2019-02-15 13:41:28,609 - INFO - downloader - image #247\thttp://www.mypetsbrace.com/portal/uploads/www_files/118/DSCN3535%20cropped.jpg\n",
      "2019-02-15 13:41:28,612 - INFO - downloader - skip downloading file 000248.jpg\n",
      "2019-02-15 13:41:28,679 - INFO - downloader - image #249\thttps://cdn2.bigcommerce.com/server2700/hgefc/product_images/uploaded_images/dog-collar-infographic-1000.png\n",
      "2019-02-15 13:41:28,679 - INFO - downloader - skip downloading file 000250.jpg\n",
      "2019-02-15 13:41:28,690 - INFO - downloader - skip downloading file 000251.jpg\n",
      "2019-02-15 13:41:28,691 - INFO - downloader - skip downloading file 000252.jpg\n",
      "2019-02-15 13:41:28,692 - INFO - downloader - skip downloading file 000253.jpg\n",
      "2019-02-15 13:41:28,693 - INFO - downloader - skip downloading file 000254.jpg\n",
      "2019-02-15 13:41:28,694 - INFO - downloader - skip downloading file 000255.jpg\n",
      "2019-02-15 13:41:28,695 - INFO - downloader - skip downloading file 000256.jpg\n",
      "2019-02-15 13:41:28,750 - INFO - downloader - image #257\thttps://ichef.bbci.co.uk/news/660/cpsprodpb/F4F0/production/_90040726_hi033600519.jpg\n",
      "2019-02-15 13:41:28,750 - INFO - downloader - skip downloading file 000258.jpg\n",
      "2019-02-15 13:41:28,766 - INFO - downloader - skip downloading file 000259.jpg\n",
      "2019-02-15 13:41:29,144 - INFO - downloader - image #260\thttps://hesc.co.za/wp-content/uploads/2015/06/wild-dogs.jpg\n",
      "2019-02-15 13:41:29,144 - INFO - downloader - skip downloading file 000261.jpg\n",
      "2019-02-15 13:41:29,155 - INFO - downloader - skip downloading file 000262.jpg\n",
      "2019-02-15 13:41:29,230 - INFO - downloader - image #263\thttps://cdn0.wideopenpets.com/wp-content/uploads/2016/06/imageedit_68_3857163019-770x405.jpg\n",
      "2019-02-15 13:41:29,230 - INFO - downloader - skip downloading file 000264.jpg\n",
      "2019-02-15 13:41:29,244 - INFO - downloader - skip downloading file 000265.jpg\n",
      "2019-02-15 13:41:29,245 - INFO - downloader - skip downloading file 000266.jpg\n",
      "2019-02-15 13:41:29,246 - INFO - downloader - skip downloading file 000267.jpg\n",
      "2019-02-15 13:41:29,248 - INFO - downloader - skip downloading file 000268.jpg\n",
      "2019-02-15 13:41:29,249 - INFO - downloader - skip downloading file 000269.jpg\n",
      "2019-02-15 13:41:29,250 - INFO - downloader - skip downloading file 000270.jpg\n",
      "2019-02-15 13:41:29,251 - INFO - downloader - skip downloading file 000271.jpg\n",
      "2019-02-15 13:41:29,455 - INFO - downloader - image #272\thttps://www.business.qld.gov.au/__data/assets/image/0022/84406/varieties/165wh.jpg\n",
      "2019-02-15 13:41:29,471 - INFO - downloader - skip downloading file 000273.jpg\n",
      "2019-02-15 13:41:29,474 - INFO - downloader - skip downloading file 000274.jpg\n",
      "2019-02-15 13:41:29,475 - INFO - downloader - skip downloading file 000275.jpg\n",
      "2019-02-15 13:41:29,525 - INFO - downloader - image #276\thttps://www.bigdogsbrews.com/os/resources/media/word-logo.png\n",
      "2019-02-15 13:41:29,528 - INFO - downloader - skip downloading file 000277.jpg\n",
      "2019-02-15 13:41:29,530 - INFO - downloader - skip downloading file 000278.jpg\n",
      "2019-02-15 13:41:29,531 - INFO - downloader - skip downloading file 000279.jpg\n",
      "2019-02-15 13:41:29,533 - INFO - downloader - skip downloading file 000280.jpg\n",
      "2019-02-15 13:41:29,534 - INFO - downloader - skip downloading file 000281.jpg\n",
      "2019-02-15 13:41:29,535 - INFO - downloader - skip downloading file 000282.png\n",
      "2019-02-15 13:41:29,536 - INFO - downloader - skip downloading file 000283.jpg\n",
      "2019-02-15 13:41:29,537 - INFO - downloader - skip downloading file 000284.jpg\n",
      "2019-02-15 13:41:29,538 - INFO - downloader - skip downloading file 000285.jpg\n",
      "2019-02-15 13:41:29,540 - INFO - downloader - skip downloading file 000286.jpg\n",
      "2019-02-15 13:41:29,541 - INFO - downloader - skip downloading file 000287.jpg\n",
      "2019-02-15 13:41:29,542 - INFO - downloader - skip downloading file 000288.jpg\n",
      "2019-02-15 13:41:29,771 - INFO - downloader - image #289\thttps://usercontent1.hubstatic.com/7481246_f1024.jpg\n",
      "2019-02-15 13:41:29,771 - INFO - downloader - skip downloading file 000290.jpg\n",
      "2019-02-15 13:41:29,777 - INFO - downloader - skip downloading file 000291.jpg\n",
      "2019-02-15 13:41:29,778 - INFO - downloader - skip downloading file 000292.jpg\n",
      "2019-02-15 13:41:29,780 - INFO - downloader - skip downloading file 000293.jpg\n",
      "2019-02-15 13:41:29,784 - INFO - downloader - skip downloading file 000294.jpg\n",
      "2019-02-15 13:41:30,787 - INFO - downloader - image #295\thttps://images-na.ssl-images-amazon.com/images/I/51C8Iu6iZeL.jpg\n",
      "2019-02-15 13:41:30,787 - INFO - downloader - skip downloading file 000296.jpg\n",
      "2019-02-15 13:41:30,795 - INFO - downloader - skip downloading file 000297.jpg\n",
      "2019-02-15 13:41:30,795 - INFO - downloader - skip downloading file 000298.jpg\n",
      "2019-02-15 13:41:30,796 - INFO - downloader - skip downloading file 000299.jpg\n",
      "2019-02-15 13:41:30,797 - INFO - downloader - skip downloading file 000300.jpg\n",
      "2019-02-15 13:41:30,880 - INFO - downloader - image #301\thttp://www.thepawshdog.com/wp-content/uploads/2015/10/has-it-all-2-1.jpg\n",
      "2019-02-15 13:41:31,088 - INFO - parser - parsing result page https://www.google.com/search?q=dog&ijn=8&start=800&tbs=cdr%3A1%2Ccd_min%3A01%2F01%2F2016%2Ccd_max%3A06%2F30%2F2016&tbm=isch\n",
      "2019-02-15 13:41:31,136 - INFO - downloader - skip downloading file 000302.jpg\n",
      "2019-02-15 13:41:31,140 - INFO - downloader - skip downloading file 000303.png\n",
      "2019-02-15 13:41:31,141 - INFO - downloader - skip downloading file 000304.jpg\n",
      "2019-02-15 13:41:31,143 - INFO - downloader - skip downloading file 000305.jpg\n",
      "2019-02-15 13:41:31,145 - INFO - downloader - skip downloading file 000306.jpg\n",
      "2019-02-15 13:41:31,146 - INFO - downloader - skip downloading file 000307.jpg\n",
      "2019-02-15 13:41:31,146 - INFO - downloader - skip downloading file 000308.jpg\n",
      "2019-02-15 13:41:31,444 - INFO - downloader - image #309\thttps://images.mysecuritysign.com/img/lg/S/beware-of-dog-kisses-sign-s2-1318.png\n",
      "2019-02-15 13:41:31,444 - INFO - downloader - skip downloading file 000310.jpg\n",
      "2019-02-15 13:41:31,455 - INFO - downloader - skip downloading file 000311.jpg\n",
      "2019-02-15 13:41:31,457 - INFO - downloader - skip downloading file 000312.jpg\n",
      "2019-02-15 13:41:31,484 - INFO - downloader - image #313\thttps://mikeritland.com/wp-content/uploads/2016/08/mike-ritland-team-dog.jpg\n",
      "2019-02-15 13:41:31,487 - INFO - downloader - skip downloading file 000314.jpg\n",
      "2019-02-15 13:41:31,520 - INFO - downloader - image #315\thttps://media.timeout.com/images/103138889/image.jpg\n",
      "2019-02-15 13:41:32,209 - INFO - downloader - image #316\thttps://timenewsfeed.files.wordpress.com/2013/11/art-auctions-_waxm.jpg?w=746\n"
     ]
    },
    {
     "name": "stderr",
     "output_type": "stream",
     "text": [
      "2019-02-15 13:41:32,209 - INFO - downloader - skip downloading file 000317.jpg\n",
      "2019-02-15 13:41:32,225 - INFO - downloader - skip downloading file 000318.jpg\n",
      "2019-02-15 13:41:32,225 - INFO - downloader - skip downloading file 000319.jpg\n",
      "2019-02-15 13:41:32,227 - INFO - downloader - skip downloading file 000320.jpg\n",
      "2019-02-15 13:41:32,229 - INFO - downloader - skip downloading file 000321.jpg\n",
      "2019-02-15 13:41:32,230 - INFO - downloader - skip downloading file 000322.jpg\n",
      "2019-02-15 13:41:32,232 - INFO - downloader - skip downloading file 000323.jpg\n",
      "2019-02-15 13:41:32,233 - INFO - downloader - skip downloading file 000324.jpg\n",
      "2019-02-15 13:41:32,234 - INFO - downloader - skip downloading file 000325.jpg\n",
      "2019-02-15 13:41:32,236 - INFO - downloader - skip downloading file 000326.jpg\n",
      "2019-02-15 13:41:32,239 - INFO - downloader - skip downloading file 000327.jpg\n",
      "2019-02-15 13:41:32,241 - INFO - downloader - skip downloading file 000328.jpg\n",
      "2019-02-15 13:41:32,242 - INFO - downloader - skip downloading file 000329.jpg\n",
      "2019-02-15 13:41:32,243 - INFO - downloader - skip downloading file 000330.jpg\n",
      "2019-02-15 13:41:32,244 - INFO - downloader - skip downloading file 000331.jpg\n",
      "2019-02-15 13:41:32,428 - INFO - downloader - image #332\thttp://www.arrayit.com/Products/Protein_Microarrays/Pet_Allergy_Testing/dog-skin-allergy-case1.jpg\n",
      "2019-02-15 13:41:32,656 - INFO - downloader - image #333\thttp://www.animalabs.com/update/wp-content/uploads/2016/05/1_x_rec_2.png?x67537\n",
      "2019-02-15 13:41:32,656 - INFO - downloader - skip downloading file 000334.jpg\n",
      "2019-02-15 13:41:32,670 - INFO - downloader - skip downloading file 000335.jpg\n",
      "2019-02-15 13:41:32,671 - INFO - downloader - skip downloading file 000336.jpg\n",
      "2019-02-15 13:41:32,672 - INFO - downloader - skip downloading file 000337.jpg\n",
      "2019-02-15 13:41:32,673 - INFO - downloader - skip downloading file 000338.jpg\n",
      "2019-02-15 13:41:32,674 - INFO - downloader - skip downloading file 000339.jpg\n",
      "2019-02-15 13:41:32,675 - INFO - downloader - skip downloading file 000340.jpg\n",
      "2019-02-15 13:41:32,676 - INFO - downloader - skip downloading file 000341.jpg\n",
      "2019-02-15 13:41:32,677 - INFO - downloader - skip downloading file 000342.jpg\n",
      "2019-02-15 13:41:32,678 - INFO - downloader - skip downloading file 000343.jpg\n",
      "2019-02-15 13:41:32,679 - INFO - downloader - skip downloading file 000344.jpg\n",
      "2019-02-15 13:41:32,680 - INFO - downloader - skip downloading file 000345.jpg\n",
      "2019-02-15 13:41:32,681 - INFO - downloader - skip downloading file 000346.jpg\n",
      "2019-02-15 13:41:32,682 - INFO - downloader - skip downloading file 000347.jpg\n",
      "2019-02-15 13:41:32,765 - INFO - downloader - image #348\thttps://www.abc.net.au/news/image/7089682-3x2-940x627.jpg\n",
      "2019-02-15 13:41:32,781 - INFO - downloader - skip downloading file 000349.jpg\n",
      "2019-02-15 13:41:32,785 - INFO - downloader - skip downloading file 000350.jpg\n",
      "2019-02-15 13:41:32,786 - INFO - downloader - skip downloading file 000351.jpg\n",
      "2019-02-15 13:41:32,849 - INFO - parser - parsing result page https://www.google.com/search?q=dog&ijn=9&start=900&tbs=cdr%3A1%2Ccd_min%3A01%2F01%2F2016%2Ccd_max%3A06%2F30%2F2016&tbm=isch\n",
      "2019-02-15 13:41:33,181 - INFO - downloader - image #352\thttps://www.capelmanorcollege.co.uk/wp-content/uploads/2012/06/Dog-Grooming-small.jpg\n",
      "2019-02-15 13:41:33,257 - INFO - downloader - image #353\thttps://yt3.ggpht.com/a-/AAuE7mA2dkogH_3wjcjZ9qgDTHVEIjmgUFtPapiNkg=s900-mo-c-c0xffffffff-rj-k-no\n",
      "2019-02-15 13:41:33,318 - INFO - downloader - image #354\thttps://ichef.bbci.co.uk/news/624/cpsprodpb/A281/production/_89210614_gettyimages-138035190.jpg\n",
      "2019-02-15 13:41:33,365 - INFO - downloader - image #355\thttps://www.rover.com/blog/wp-content/uploads/2015/07/cancer-sunglasses-dog-300x200.jpg\n",
      "2019-02-15 13:41:33,450 - INFO - downloader - image #356\thttps://images-na.ssl-images-amazon.com/images/I/51EePykWQhL.jpg\n",
      "2019-02-15 13:41:33,472 - INFO - parser - parsing result page https://www.google.com/search?q=%EA%B0%9C&ijn=0&start=0&tbs=cdr%3A1%2Ccd_min%3A01%2F01%2F2016%2Ccd_max%3A06%2F30%2F2016&tbm=isch\n",
      "2019-02-15 13:41:33,739 - INFO - downloader - image #357\thttp://cdn.akc.org/content/hero/gsd_in_kitchen.jpg\n",
      "2019-02-15 13:41:34,193 - INFO - downloader - image #358\thttps://positively.com/files/SLIDER_DogTraining_550x300_positive_training.jpg\n",
      "2019-02-15 13:41:34,252 - INFO - downloader - image #359\thttp://www.nhptv.org/wild/images/blacktailedprairiedognps.jpg\n",
      "2019-02-15 13:41:34,537 - INFO - downloader - image #360\thttps://armyhistory.org/wp-content/uploads/2016/06/7.jpg\n",
      "2019-02-15 13:41:34,601 - INFO - downloader - image #361\thttps://media.tenor.com/images/fba48bb4aeb0c22ecac9b991fb0daa66/tenor.gif\n",
      "2019-02-15 13:41:34,685 - INFO - downloader - image #362\thttps://cdn1-www.dogtime.com/assets/uploads/gallery/labrador-retriever-dog-breed-pictures/labrador-retriever-dog-pictures-6.jpg\n",
      "2019-02-15 13:41:34,784 - INFO - downloader - image #363\thttps://media.mnn.com/assets/images/2016/05/10-windydog-ljuphoto.jpg.838x0_q80.jpg\n",
      "2019-02-15 13:41:34,899 - INFO - downloader - image #364\thttp://pet.chosun.com/images/news/healthchosun_pet_201611/20161117212109_708_1632_939.jpg\n",
      "2019-02-15 13:41:35,016 - INFO - downloader - image #365\thttps://vetstreet-brightspot.s3.amazonaws.com/b0/ec/512a2f0345b791b16dbe203574ac/great-dane-ap-tplp5m-590.jpg\n",
      "2019-02-15 13:41:35,163 - INFO - downloader - image #366\thttps://static.boredpanda.com/blog/wp-content/uploads/2016/03/dog-food-comparison-bagel-muffin-lookalike-teenybiscuit-karen-zack-52__700.jpg\n",
      "2019-02-15 13:41:35,329 - INFO - downloader - image #367\thttps://upload.wikimedia.org/wikipedia/commons/0/01/The_Indian_Pariah_Dog.jpg\n",
      "2019-02-15 13:41:35,418 - INFO - downloader - image #368\thttp://dimg.donga.com/wps/NEWS/IMAGE/2016/03/09/76907536.2.jpg\n",
      "2019-02-15 13:41:35,470 - INFO - downloader - image #369\thttps://ichef.bbci.co.uk/childrens-responsive-ichef-live/r/720/1x/cbeebies/10_folded_square_dog_make_1024_576.jpg\n",
      "2019-02-15 13:41:35,477 - INFO - downloader - image #370\thttps://cdn.cnn.com/cnnnext/dam/assets/160426145202-spain-animal-shelter-dog-transformation-orig-vstan-bpb-00000506-super-169.jpg\n",
      "2019-02-15 13:41:35,510 - INFO - downloader - image #371\thttp://postfiles14.naver.net/20140703_29/lovely_vet_1404367685633dszRp_JPEG/%BC%BC%B0%E8%BF%A1%BC%AD_%B0%A1%C0%E5_%C0%A7%C7%E8%C7%D1_%B0%B3%28%B0%AD%BE%C6%C1%F6%29%2C%BC%BC%BB%F3%BF%A1%BC%AD_%B0%A1%C0%E5%C0%A7%C7%E8%C7%D1_%B0%B3%28%B0%AD%BE%C6%C1%F6%29%2C%BC%BC%B0%E8%BF%A1%BC%AD_%C1%A6%C0%CF_%C0%A7%C7%E8%C7%D1_%B0%B3%28%B0%AD%BE%C6%C1%F6%29%2C%BC%BC%BB%F3%BF%A1%BC%AD_%C1%A6%C0%CF_%C0%A7%C7%E8%C7%D1_%B0%B3%28%B0%AD%BE%C6%C1%F6%29.%C7%CD%BA%D2%C5%D7%B8%AE%BE%EE.jpg?type=w3\n",
      "2019-02-15 13:41:35,617 - INFO - downloader - image #372\thttps://upload.wikimedia.org/wikipedia/commons/thumb/f/f0/Jeju_dog.jpg/300px-Jeju_dog.jpg\n",
      "2019-02-15 13:41:35,764 - INFO - downloader - image #373\thttps://i.ytimg.com/vi/A6wyp_OITrM/hqdefault.jpg\n",
      "2019-02-15 13:41:35,853 - INFO - downloader - image #374\thttp://newsimg.hankookilbo.com/2016/02/12/201602121194349600_1.jpg\n",
      "2019-02-15 13:41:36,124 - INFO - downloader - image #375\thttps://t1.daumcdn.net/thumb/R720x0/?fname=http://t1.daumcdn.net/brunch/service/user/w6H/image/mlBTfJpDUHjkNE-u9sglQDdjoaQ\n",
      "2019-02-15 13:41:36,250 - INFO - downloader - image #376\thttp://pet.chosun.com/images/news/healthchosun_pet_201611/20161103103122_640_1428_519.jpg\n",
      "2019-02-15 13:41:36,368 - INFO - downloader - image #377\thttps://media.tenor.com/images/856d38cabedcb94577ce9c8b4eadcfcf/tenor.gif\n",
      "2019-02-15 13:41:36,470 - INFO - downloader - image #378\thttp://file3.instiz.net/data/file3/2018/03/01/9/3/e/93e279910fe6db622b10dbe6b1161d90.jpg\n",
      "2019-02-15 13:41:36,489 - INFO - downloader - image #379\thttps://www.hillspet.com/content/dam/cp-sites/hills/hills-pet/en_us/img/article/HP_PCC_hero_dog53.jpg\n",
      "2019-02-15 13:41:36,914 - INFO - downloader - image #380\thttps://www.olchiolchi.com/wp-content/uploads/2016/01/%EC%82%AC%EC%A7%8441.png\n",
      "2019-02-15 13:41:36,972 - INFO - downloader - image #381\thttps://cdn.psychologytoday.com/sites/default/files/styles/image-article_inline_full/public/field_blog_entry_teaser_image/Jenn%20teaser_0.jpg?itok=f0KbmsYp\n",
      "2019-02-15 13:41:37,116 - INFO - downloader - image #382\thttps://s-i.huffpost.com/gen/3956860/thumbs/o-CAT-AND-DOG-570.jpg\n"
     ]
    },
    {
     "name": "stderr",
     "output_type": "stream",
     "text": [
      "2019-02-15 13:41:37,140 - INFO - downloader - image #383\thttps://vetstreet-brightspot.s3.amazonaws.com/6c/76/68325ea5421699a35377aefddc41/labrador-retriever-ap-18japo-645.jpg\n",
      "2019-02-15 13:41:37,252 - ERROR - downloader - Exception caught when downloading file https://www.guidedog.org/images/GDF/Program%20photos/IMG_9882.jpg, error: HTTPSConnectionPool(host='www.guidedog.org', port=443): Max retries exceeded with url: /images/GDF/Program%20photos/IMG_9882.jpg (Caused by ConnectTimeoutError(<urllib3.connection.VerifiedHTTPSConnection object at 0x000001FD024DEDD8>, 'Connection to www.guidedog.org timed out. (connect timeout=5)')), remaining retry times: 2\n",
      "2019-02-15 13:41:37,262 - INFO - downloader - image #384\thttp://cfile201.uf.daum.net/image/2654884856C4FAAF1B6C41\n",
      "2019-02-15 13:41:37,593 - INFO - downloader - image #385\thttps://www.cesarsway.com/sites/newcesarsway/files/styles/large_article_preview/public/Cold_Snow_0.jpg?itok=HKhkHiLY\n",
      "2019-02-15 13:41:37,702 - INFO - downloader - image #386\thttp://file3.instiz.net/data/file3/2018/03/13/7/d/7/7d7ecd41576fac5caa415224e42d4080.jpg\n",
      "2019-02-15 13:41:37,770 - INFO - downloader - image #387\thttps://cdn3-www.dogtime.com/assets/uploads/2009/06/maltese.jpg\n",
      "2019-02-15 13:41:37,900 - INFO - downloader - image #388\thttp://www.ipetnews.co.kr/news/photo/201603/1116_1412_2210.jpg\n",
      "2019-02-15 13:41:37,940 - INFO - downloader - image #389\thttps://www.wikihow.com/images/2/28/Cure-a-Dog's-Stomach-Ache-Step-20.jpg\n",
      "2019-02-15 13:41:38,036 - INFO - downloader - image #390\thttp://www.animalabs.com/update/wp-content/uploads/2016/01/g49022.png?x67537\n",
      "2019-02-15 13:41:38,137 - INFO - downloader - image #391\thttp://mblogthumb3.phinf.naver.net/20141231_82/cho08234_1420006982031CTuyM_JPEG/ad3.jpg?type=w2\n",
      "2019-02-15 13:41:38,487 - INFO - downloader - image #392\thttp://cdn0.wideopenpets.com/wp-content/uploads/2016/05/australian-shepherd.jpg\n",
      "2019-02-15 13:41:38,571 - INFO - downloader - image #393\thttps://media.mnn.com/assets/images/2016/06/dog-drinking-water.jpg.838x0_q80.jpg\n",
      "2019-02-15 13:41:38,571 - INFO - downloader - image #394\thttps://cdn.whole-dog-journal.com/media/newspics/340/p1aapo3bmfqb52lemau1sh513107.jpg\n",
      "2019-02-15 13:41:38,628 - INFO - downloader - image #395\thttps://i.ytimg.com/vi/BjPckiWHebI/maxresdefault.jpg\n",
      "2019-02-15 13:41:38,720 - INFO - downloader - image #396\thttp://img1.daumcdn.net/thumb/R720x0/?fname=http://cfile117.uf.daum.net/image/2305C441531FE4A019CB74\n",
      "2019-02-15 13:41:38,806 - INFO - downloader - image #397\thttp://cfile208.uf.daum.net/image/2353CC4856C4FAB41B046F\n",
      "2019-02-15 13:41:38,851 - INFO - downloader - image #398\thttps://s3.amazonaws.com/cdn-origin-etr.akc.org/wp-content/uploads/2016/06/25123130/dog_and_blueberries_header.jpg\n",
      "2019-02-15 13:41:38,938 - INFO - downloader - image #399\thttps://r.hswstatic.com/w_907/gif/dog-sense-11.jpg\n",
      "2019-02-15 13:41:39,053 - INFO - downloader - image #400\thttp://image.chosun.com/sitedata/image/201605/03/2016050302892_0.jpg\n",
      "2019-02-15 13:41:39,155 - INFO - downloader - image #401\thttps://i.ytimg.com/vi/WptZebve2Pc/hqdefault.jpg\n",
      "2019-02-15 13:41:39,255 - INFO - downloader - image #402\thttp://www.sciencemag.org/sites/default/files/styles/article_main_large/public/images/sn-doginsight.jpg?itok=HrjnD-iK\n",
      "2019-02-15 13:41:39,435 - INFO - downloader - image #403\thttps://fsmedia.imgix.net/e6/07/23/03/d600/4c8f/952e/fafb587cbbaa/a-raccoon-dog-in-wildpark-pforzheim.jpeg\n",
      "2019-02-15 13:41:39,491 - INFO - downloader - image #404\thttps://positively.com/files/4_pillars.jpg\n",
      "2019-02-15 13:41:39,620 - INFO - downloader - image #405\thttps://www.hillspet.com/content/dam/cp-sites/hills/hills-pet/global/brands/prescription-diet/HP_brandpage_PDdog_carousel1.jpg\n",
      "2019-02-15 13:41:39,645 - INFO - downloader - image #406\thttp://ojsfile.ohmynews.com/STD_IMG_FILE/2016/0521/IE001966007_STD.jpg\n",
      "2019-02-15 13:41:39,685 - INFO - downloader - image #407\thttp://imgnn.seoul.co.kr/img//upload/2016/02/20/SSI_20160220093152_V.jpg\n",
      "2019-02-15 13:41:39,728 - INFO - downloader - image #408\thttps://cdn-images-1.medium.com/max/1600/1*e-6uDPDQruF30S6Qs83_NA.jpeg\n",
      "2019-02-15 13:41:39,978 - INFO - downloader - image #409\thttp://cdnweb01.wikitree.co.kr/webdata/editor/201605/16/img_20160516095512_bddf2f16.jpg\n",
      "2019-02-15 13:41:40,166 - INFO - downloader - image #410\thttp://www.japan555.com/wp-content/uploads/sites/2/2017/04/akita.jpg\n",
      "2019-02-15 13:41:40,240 - INFO - downloader - image #411\thttps://cdn.psychologytoday.com/sites/default/files/styles/image-article_inline_full/public/field_blog_entry_images/Hug%20scoring%201%20Peter%20Kemmer.jpg?itok=dRyKqVxR\n",
      "2019-02-15 13:41:40,308 - INFO - downloader - image #412\thttps://vp4163n4vuv3rlg3w3yn0qx1-wpengine.netdna-ssl.com/wp-content/uploads/2012/06/household-cleaners-dnm.jpg\n",
      "2019-02-15 13:41:40,390 - INFO - downloader - image #413\thttps://upload.wikimedia.org/wikipedia/commons/thumb/4/45/Iditarod_Ceremonial_start_in_Anchorage%2C_Alaska.jpg/1200px-Iditarod_Ceremonial_start_in_Anchorage%2C_Alaska.jpg\n",
      "2019-02-15 13:41:40,412 - INFO - downloader - image #414\thttp://cfile205.uf.daum.net/image/2245AA4456C4F5C81AA906\n",
      "2019-02-15 13:41:40,487 - INFO - downloader - image #415\thttps://pbs.twimg.com/profile_images/715527181275766784/CRgV-PF2.jpg\n",
      "2019-02-15 13:41:40,730 - INFO - downloader - image #416\thttps://ichef.bbci.co.uk/news/624/cpsprodpb/83A8/production/_90040733_hi033599069.jpg\n",
      "2019-02-15 13:41:40,839 - INFO - downloader - image #417\thttp://pet.chosun.com/images/news/healthchosun_pet_201704/20170407175153_1111_2958_3622.jpg\n",
      "2019-02-15 13:41:40,865 - INFO - downloader - image #418\thttps://static.boredpanda.com/blog/wp-content/uploads/2015/06/dogs-look-like-something-else-fb__700.jpg\n",
      "2019-02-15 13:41:40,958 - INFO - downloader - image #419\thttp://newsimg.hankookilbo.com/2016/06/28/201606281451033101_1.jpg\n",
      "2019-02-15 13:41:41,369 - INFO - downloader - image #420\thttps://boyslifeorg.files.wordpress.com/2009/07/cartoondogs.jpg?w=620&h=322\n",
      "2019-02-15 13:41:41,614 - INFO - downloader - image #421\thttps://cdn.whole-dog-journal.com/media/newspics/p1ajhjkttt1moa1isr1iv5j4n1b3p6.jpg\n",
      "2019-02-15 13:41:41,649 - INFO - parser - parsing result page https://www.google.com/search?q=%EA%B0%9C&ijn=1&start=100&tbs=cdr%3A1%2Ccd_min%3A01%2F01%2F2016%2Ccd_max%3A06%2F30%2F2016&tbm=isch\n",
      "2019-02-15 13:41:42,272 - ERROR - downloader - Exception caught when downloading file https://www.guidedog.org/images/GDF/Program%20photos/IMG_9882.jpg, error: HTTPSConnectionPool(host='www.guidedog.org', port=443): Max retries exceeded with url: /images/GDF/Program%20photos/IMG_9882.jpg (Caused by ConnectTimeoutError(<urllib3.connection.VerifiedHTTPSConnection object at 0x000001FD02B25668>, 'Connection to www.guidedog.org timed out. (connect timeout=5)')), remaining retry times: 1\n",
      "2019-02-15 13:41:42,780 - INFO - downloader - image #422\thttps://get.pxhere.com/photo/puppy-dog-pet-mammal-vertebrate-dog-breed-terrier-puppies-young-dog-jack-russell-terrier-dog-like-mammal-carnivoran-dog-breed-group-russell-terrier-835154.jpg\n",
      "2019-02-15 13:41:43,112 - INFO - downloader - image #423\thttps://vetstreet-brightspot.s3.amazonaws.com/ec/70/8823f84f49a496fbfb4c0cef1d4c/german-shepherd-ap-0hh8kp-645.jpg\n",
      "2019-02-15 13:41:43,491 - INFO - downloader - image #424\thttps://pbs.twimg.com/media/BqjT8qMCAAE5kJ7.png\n",
      "2019-02-15 13:41:43,520 - INFO - downloader - image #425\thttp://m.segye.com/content/image/2016/01/14/20160114003600_0.jpg\n",
      "2019-02-15 13:41:43,656 - INFO - downloader - image #426\thttps://ichef.bbci.co.uk/news/640/cpsprodpb/32D8/production/_88761031_hi031621495.jpg\n",
      "2019-02-15 13:41:44,037 - INFO - downloader - image #427\thttp://image.zdnet.co.kr/2016/02/02/lyk_QueOAxQJl2t3KN0J.jpg\n",
      "2019-02-15 13:41:44,142 - INFO - downloader - image #428\thttp://newsimg.hankookilbo.com/2016/02/11/201602111487002432_1.jpg\n",
      "2019-02-15 13:41:44,321 - INFO - downloader - image #429\thttps://s-i.huffpost.com/gen/3999842/thumbs/o-MAIMAIJOHN-570.jpg?7\n",
      "2019-02-15 13:41:44,371 - INFO - downloader - image #430\thttps://www.olchiolchi.com/wp-content/uploads/2016/01/%EC%82%AC%EC%A7%8422.png\n",
      "2019-02-15 13:41:44,430 - INFO - downloader - image #431\thttps://upload.wikimedia.org/wikipedia/commons/2/20/Homeward_bound_Lucca_retires_120702-M-KW153-143.jpg\n",
      "2019-02-15 13:41:44,467 - INFO - downloader - image #432\thttp://cfile220.uf.daum.net/image/22025D4256C4F5EB305171\n"
     ]
    },
    {
     "name": "stderr",
     "output_type": "stream",
     "text": [
      "2019-02-15 13:41:44,623 - INFO - downloader - image #433\thttps://image-notepet.akamaized.net/seimage/20150913%2F%ED%91%B8%EB%93%A4.jpg\n",
      "2019-02-15 13:41:44,652 - INFO - downloader - image #434\thttps://pbs.twimg.com/profile_images/718798419301511168/eUV_DYBV_400x400.jpg\n",
      "2019-02-15 13:41:44,821 - INFO - downloader - image #435\thttps://www.cesarsway.com/sites/newcesarsway/files/styles/large_article_preview/public/How-to-socialize-an-overprotective-dog.jpg?itok=n-CLHjPJ\n",
      "2019-02-15 13:41:44,958 - INFO - downloader - image #436\thttps://i.ytimg.com/vi/BUkRy4iCB7U/maxresdefault.jpg\n",
      "2019-02-15 13:41:45,013 - INFO - downloader - image #437\thttp://mblogthumb2.phinf.naver.net/20160504_269/cdwoori_14623188722583vQDl_JPEG/%B1%D7%B8%B2_2.jpg?type=w2\n",
      "2019-02-15 13:41:45,221 - INFO - downloader - image #438\thttps://image-notepet.akamaized.net/resize/620x-/seimage/20160330%2F%EA%B0%9C%EC%A3%BC%EA%B0%80.jpg\n",
      "2019-02-15 13:41:45,294 - INFO - downloader - image #439\thttps://yt3.ggpht.com/a-/AAuE7mAuD0TP3oL12-wkv4cIvQhbLzmSv77tC8Ax7Q=s900-mo-c-c0xffffffff-rj-k-no\n",
      "2019-02-15 13:41:45,362 - INFO - downloader - image #440\thttps://cdn.pixabay.com/photo/2016/06/20/08/39/papillon-1468324_960_720.jpg\n",
      "2019-02-15 13:41:45,618 - INFO - downloader - image #441\thttps://i.pinimg.com/236x/d1/01/72/d1017299ae3c9860b4e8338a3087b978--green-paintings-dog-paintings.jpg?b=t\n",
      "2019-02-15 13:41:45,884 - INFO - downloader - image #442\thttps://www.pieronesydneyharbour.com.au/wp-content/uploads/POSH_DogueFinal-006-Image-by-Jarrad-Seng.jpg\n",
      "2019-02-15 13:41:45,994 - INFO - downloader - image #443\thttp://cfile204.uf.daum.net/image/274EE04256C4F5E8240244\n",
      "2019-02-15 13:41:46,361 - INFO - downloader - image #444\thttps://ae01.alicdn.com/kf/HTB1UEkNJVXXXXbIXpXXq6xXFXXXj/-.jpg_640x640.jpg\n",
      "2019-02-15 13:41:46,524 - INFO - downloader - image #445\thttps://s-i.huffpost.com/gen/4083216/thumbs/o-DOG-570.jpg?7\n",
      "2019-02-15 13:41:46,690 - INFO - downloader - image #446\thttp://image.kmib.co.kr/online_image/2016/0127/201601270002_61120010294825_1.jpg\n",
      "2019-02-15 13:41:46,779 - INFO - downloader - image #447\thttps://get.pxhere.com/photo/puppy-dog-summer-mammal-golden-retriever-ball-vertebrate-dog-breed-retriever-running-dog-playing-dog-animal-shelter-dog-walkers-ball-hunting-dog-pension-ball-junkie-street-dog-dog-like-mammal-dog-breed-group-dog-crossbreeds-kennels-apport-732873.jpg\n",
      "2019-02-15 13:41:46,831 - INFO - downloader - image #448\thttps://pds.joins.com/news/component/newsis/201601/02/NISI20151231_0011202316_web.jpg\n",
      "2019-02-15 13:41:46,890 - INFO - downloader - image #449\thttp://img.tf.co.kr/article/home/2016/01/28/201615151453961584.jpg\n",
      "2019-02-15 13:41:46,892 - INFO - downloader - image #450\thttp://mistycreekdogrescue.com/wp-content/uploads/2016/01/banner1-1250x375.png\n",
      "2019-02-15 13:41:47,229 - INFO - downloader - image #451\thttps://image.ytn.co.kr/general/jpg/2015/0201/201502011633111377_t.jpg\n",
      "2019-02-15 13:41:47,244 - INFO - downloader - image #452\thttp://file3.knowhow.or.kr/attachment/69037:L/0\n",
      "2019-02-15 13:41:47,279 - ERROR - downloader - Exception caught when downloading file https://www.guidedog.org/images/GDF/Program%20photos/IMG_9882.jpg, error: HTTPSConnectionPool(host='www.guidedog.org', port=443): Max retries exceeded with url: /images/GDF/Program%20photos/IMG_9882.jpg (Caused by ConnectTimeoutError(<urllib3.connection.VerifiedHTTPSConnection object at 0x000001FD02B209E8>, 'Connection to www.guidedog.org timed out. (connect timeout=5)')), remaining retry times: 0\n",
      "2019-02-15 13:41:47,290 - INFO - downloader - image #453\thttps://cdn.pixabay.com/photo/2016/04/11/18/53/dog-1322703_960_720.jpg\n",
      "2019-02-15 13:41:47,337 - INFO - downloader - image #454\thttps://myanimals.com/wp-content/uploads/2018/01/sad-dog.jpg\n",
      "2019-02-15 13:41:47,340 - INFO - downloader - image #455\thttps://previews.123rf.com/images/sutichak/sutichak1304/sutichak130400016/18959535-%ED%9D%B0%EC%83%89-%EB%B0%B0%EA%B2%BD%EC%97%90-%EA%B3%A0%EB%A6%BD-%EB%90%9C-%ED%8F%AC%EB%A9%94-%EA%B0%9C.jpg\n",
      "2019-02-15 13:41:47,378 - INFO - downloader - image #456\thttp://pet.chosun.com/images/news/healthchosun_pet_201704/20170411105212_1119_2990_3930.jpg\n",
      "2019-02-15 13:41:47,435 - INFO - downloader - image #457\thttp://cphoto.asiae.co.kr/listimglink/1/2016010414591965844_1.jpg\n",
      "2019-02-15 13:41:47,546 - INFO - downloader - image #458\thttps://en.pimg.jp/021/935/531/1/21935531.jpg\n",
      "2019-02-15 13:41:47,662 - INFO - downloader - image #459\thttps://cdn-images-1.medium.com/max/1600/1*nZqfL1QpbtNEC0DZptBFTA.jpeg\n",
      "2019-02-15 13:41:47,999 - INFO - downloader - image #460\thttps://pbs.twimg.com/media/Cb_dzC7UMAA7tg8.jpg\n",
      "2019-02-15 13:41:48,014 - INFO - downloader - image #461\thttps://lh5.googleusercontent.com/-ToVwZkRDYCU/V1-H3Ic9N7I/AAAAAAAAABo/HC_V0ir6ycItaAWFXn3GGMAr1VPItxc4ACL0B/w958-h539-no/IMG_5137.JPG\n",
      "2019-02-15 13:41:48,022 - INFO - downloader - image #462\thttp://c.hani.co.kr/files/attach/images/142/189/049/003/6ded526f99d89d7966710d9e76ba3c26.jpg\n",
      "2019-02-15 13:41:48,036 - INFO - downloader - image #463\thttps://pbs.twimg.com/profile_images/706362080178237440/mi-vXYDy_400x400.jpg\n",
      "2019-02-15 13:41:48,521 - INFO - downloader - image #464\thttps://i.pinimg.com/236x/a6/f5/8c/a6f58c86b0c58336ffff09f044a4796b--cool-birthday-cards-happy-birthday.jpg\n",
      "2019-02-15 13:41:48,540 - INFO - downloader - image #465\thttps://cdn.univ20.com/wp-content/uploads/2016/06/ff7fb04466e652cd2ba58208d6fac246.jpg\n",
      "2019-02-15 13:41:48,903 - INFO - downloader - image #466\thttp://mybtimes.com/data/news/1708/2049740431_hn1YezyJ_EC84B8EC8381EC9790EB8298EC819CEAB09CEB8A94EC9786EB8BA4-2.jpg\n",
      "2019-02-15 13:41:49,140 - INFO - downloader - image #467\thttps://i.ytimg.com/vi/KS4Ds0ePBJY/maxresdefault.jpg\n",
      "2019-02-15 13:41:49,169 - INFO - downloader - image #468\thttps://t1.daumcdn.net/cfile/tistory/276542345731DA920B\n",
      "2019-02-15 13:41:49,182 - INFO - downloader - image #469\thttp://pet.chosun.com/images/news/healthchosun_pet_201710/20171025165148_1399_3952_1731.jpg\n",
      "2019-02-15 13:41:49,204 - INFO - downloader - image #470\thttps://get.pxhere.com/photo/puppy-dog-mammal-vertebrate-labrador-retriever-labrador-dog-breed-retriever-labradorka-dog-like-mammal-carnivoran-719132.jpg\n",
      "2019-02-15 13:41:49,314 - INFO - downloader - image #471\thttp://image.elle.co.kr/upload/NEWS/2016/01/ncd_012024437/20160120_105203445_74510.jpg\n",
      "2019-02-15 13:41:49,325 - INFO - downloader - image #472\thttps://en.pimg.jp/023/075/322/1/23075322.jpg\n",
      "2019-02-15 13:41:49,349 - INFO - downloader - image #473\thttps://i.ytimg.com/vi/qwVqOWPafT4/maxresdefault.jpg\n",
      "2019-02-15 13:41:49,374 - INFO - downloader - image #474\thttp://pas.fnnews.com/fnwdpress/wp-content/uploads/2016/04/maggie-large_transcvuzkbwq4ehtaw0udhh_66esy-c5o5cjbt1nzxjwbd0-1.jpg\n",
      "2019-02-15 13:41:49,560 - INFO - downloader - image #475\thttp://www.topstarnews.net/news/photo/first/201602/img_180561_1.jpg\n",
      "2019-02-15 13:41:49,636 - INFO - downloader - image #476\thttps://s-i.huffpost.com/gen/3900704/thumbs/o-DOG-570.jpg?2\n",
      "2019-02-15 13:41:49,651 - INFO - downloader - image #477\thttps://image-notepet.akamaized.net/resize/620x-/seimage/20160309%2FFotolia_103515397_Subscription_Monthly_M.jpg\n",
      "2019-02-15 13:41:49,683 - INFO - downloader - image #478\thttp://image.kmib.co.kr/online_image/2016/0205/201602051319_61120010329213_1.jpg\n",
      "2019-02-15 13:41:49,845 - INFO - downloader - image #479\thttps://media-cdn.tripadvisor.com/media/photo-s/09/df/22/c0/3.jpg\n",
      "2019-02-15 13:41:49,934 - INFO - downloader - image #480\thttp://t1.daumcdn.net/liveboard/ziksir/6f7f14d3f7334d86b1e6dddd21bff4d2.jpg\n",
      "2019-02-15 13:41:50,095 - INFO - downloader - image #481\thttp://img.seoul.co.kr/img/upload/2016/02/05/SSI_20160205092853_V.jpg\n",
      "2019-02-15 13:41:50,200 - INFO - downloader - image #482\thttps://pbs.twimg.com/profile_images/727188439905406976/Doke-2CH_400x400.jpg\n",
      "2019-02-15 13:41:50,410 - INFO - downloader - image #483\thttp://img.imnews.imbc.com/n_newssas/n_story/n_story/__icsFiles/afieldfile/2016/01/09/01_1.jpg\n",
      "2019-02-15 13:41:50,531 - INFO - downloader - image #484\thttp://newsimg.hankookilbo.com/2016/06/13/201606131147451278_1.jpg\n",
      "2019-02-15 13:41:50,550 - INFO - downloader - image #485\thttp://www.koreadaily.com/_data/article_img/2016/01/28/094314020.gif\n",
      "2019-02-15 13:41:50,598 - INFO - downloader - image #486\thttps://s-i.huffpost.com/gen/4000538/thumbs/o-E-570.jpg?1\n"
     ]
    },
    {
     "name": "stderr",
     "output_type": "stream",
     "text": [
      "2019-02-15 13:41:50,669 - INFO - downloader - image #487\thttp://cphoto.asiae.co.kr/listimglink/1/2016022215553946423_1.jpg\n",
      "2019-02-15 13:41:50,781 - INFO - downloader - image #488\thttps://cdn.pixabay.com/photo/2016/04/02/00/07/dog-1301921_960_720.jpg\n",
      "2019-02-15 13:41:50,946 - INFO - downloader - image #489\thttp://dimg.donga.com/egc/CDB/WEEKLY/Article/14/59/73/68/1459736819880.jpg\n",
      "2019-02-15 13:41:51,038 - INFO - downloader - image #490\thttp://propa-ganda.co.kr/xe/files/attach/images/184/997/029/81715354862327f567c01d002ea5a0d1.jpg\n",
      "2019-02-15 13:41:51,169 - INFO - downloader - image #491\thttp://www.tiptipnews.co.kr/news/photo/201604/6125_5938_1313.PNG\n",
      "2019-02-15 13:41:51,237 - INFO - downloader - image #492\thttps://cdn.pixabay.com/photo/2016/02/02/07/58/dog-1174939_960_720.jpg\n",
      "2019-02-15 13:41:51,379 - INFO - downloader - image #493\thttps://img1.daumcdn.net/thumb/C155x225/?fname=http%3A%2F%2Ft1.daumcdn.net%2Fmovie%2F16d232cab26d320c5a736347c8b78e104484aa22\n",
      "2019-02-15 13:41:51,593 - INFO - downloader - image #494\thttp://img.imnews.imbc.com/n_newssas/n_story/n_story/__icsFiles/afieldfile/2016/01/09/02_1.jpg\n",
      "2019-02-15 13:41:51,668 - INFO - downloader - image #495\thttps://2runzzal.com/media/U3FMR01GbG8wZjlGMHBmNWtJcFBLdz09/thum.png\n",
      "2019-02-15 13:41:51,986 - INFO - downloader - image #496\thttps://ae01.alicdn.com/kf/HTB161wTLFXXXXbeXFXXq6xXFXXXk/1-25.jpg_640x640.jpg\n",
      "2019-02-15 13:41:52,099 - INFO - downloader - image #497\thttp://newsimg.hankookilbo.com/2016/03/19/201603190416917152_1.jpg\n",
      "2019-02-15 13:41:52,170 - INFO - downloader - image #498\thttps://get.pxhere.com/photo/puppy-dog-mammal-yorkshire-gold-ball-vertebrate-dog-breed-terrier-republic-of-korea-yorkshire-terrier-australian-silky-terrier-dog-like-mammal-carnivoran-australian-terrier-morkie-biewer-terrier-russkiy-toy-no-dogs-ilsan-buff-chick-936974.jpg\n",
      "2019-02-15 13:41:52,267 - INFO - downloader - image #499\thttp://pet.chosun.com/images/news/healthchosun_pet_201610/20161025183130_593_1330_2954.jpg\n",
      "2019-02-15 13:41:52,524 - INFO - downloader - image #500\thttps://i.ytimg.com/vi/lzQ3pVrV20o/maxresdefault.jpg\n",
      "2019-02-15 13:41:52,680 - INFO - downloader - image #501\thttp://pet.chosun.com/images/news/healthchosun_pet_201801/20180105165227_1504_4316_3349.jpg\n",
      "2019-02-15 13:41:53,143 - INFO - downloader - image #502\thttps://i.pinimg.com/236x/71/d1/bc/71d1bcd60ec20fe60e1c183b8661c7a2--shar-pei-puppies-cute-puppies.jpg\n",
      "2019-02-15 13:41:53,189 - INFO - downloader - image #503\thttp://pbs.twimg.com/media/CRVAAqrUkAE8wua.jpg\n",
      "2019-02-15 13:41:53,318 - INFO - downloader - image #504\thttp://newsimg.hankookilbo.com/2016/05/12/201605121482184196_1.jpg\n",
      "2019-02-15 13:41:53,497 - INFO - downloader - image #505\thttp://ojsfile.ohmynews.com/STD_IMG_FILE/2016/0521/IE001966128_STD.jpg\n",
      "2019-02-15 13:41:53,664 - INFO - downloader - image #506\thttps://cdn.pixabay.com/photo/2016/05/26/13/51/dog-1417208_960_720.png\n",
      "2019-02-15 13:41:53,863 - INFO - downloader - image #507\thttps://image-notepet.akamaized.net/resize/620x-/seimage/20160318%2F%EC%82%B0%EC%B1%85.jpg\n",
      "2019-02-15 13:41:53,984 - INFO - downloader - image #508\thttps://myanimals.co.kr/wp-content/uploads/2018/04/%EB%91%90%EB%A7%88%EB%A6%AC-%EA%B0%9C-%EB%8B%A8%EC%A0%90.jpg\n",
      "2019-02-15 13:41:54,317 - INFO - downloader - image #509\thttp://cdn.sbook.me/snap/2017/1101/2337/271ee206fc104610826f87b2da2539cb\n",
      "2019-02-15 13:41:54,389 - INFO - downloader - image #510\thttp://www.ditoday.com/upload/editor/1452753559176.jpg\n",
      "2019-02-15 13:41:54,736 - INFO - downloader - image #511\thttps://i.ytimg.com/vi/5uq_M6VSErQ/maxresdefault.jpg\n",
      "2019-02-15 13:41:54,797 - INFO - downloader - image #512\thttps://get.pxhere.com/photo/white-puppy-dog-cute-young-mammal-pets-dogs-animals-vertebrate-chihuahua-papillon-dog-breed-puppies-dog-like-mammal-carnivoran-dog-breed-group-norwegian-lundehund-toy-fox-terrier-934976.jpg\n",
      "2019-02-15 13:41:54,804 - INFO - downloader - image #513\thttp://image.kmib.co.kr/clipImage/2016/0126/20160126214019.jpg\n",
      "2019-02-15 13:41:54,856 - INFO - downloader - image #514\thttps://cdn.pixabay.com/photo/2016/04/02/09/11/boerboel-1302357_960_720.jpg\n",
      "2019-02-15 13:41:54,937 - INFO - downloader - image #515\thttps://en.pimg.jp/022/015/616/1/22015616.jpg\n",
      "2019-02-15 13:41:54,995 - INFO - downloader - image #516\thttps://image-notepet.akamaized.net/resize/620x-/seimage/20160907%2Fcat-and-dog-975023_960_720.jpg\n",
      "2019-02-15 13:41:55,072 - INFO - downloader - image #517\thttps://previews.123rf.com/images/pipapicture/pipapicture1310/pipapicture131000026/23329947-%ED%81%B0-%EB%88%88%EC%9D%84-%EA%B0%80%EC%A7%84-%EC%9E%91%EC%9D%80-%EA%B0%9C-%EA%B0%95%EC%95%84%EC%A7%80-%ED%99%94%EC%9D%B4%ED%8A%B8-%EC%B9%98%EC%99%80%EC%99%80.jpg\n",
      "2019-02-15 13:41:55,109 - INFO - downloader - image #518\thttp://img.hankyung.com/photo/201606/01.11794477.1.jpg\n",
      "2019-02-15 13:41:55,267 - INFO - downloader - image #519\thttps://myanimals.co.kr/wp-content/uploads/2018/04/amistad-entre-dos-perros-2.jpg\n",
      "2019-02-15 13:41:55,267 - INFO - downloader - image #520\thttp://www.ohfun.net/contents/article/images/2016/0218/1455758676723589.jpg\n",
      "2019-02-15 13:41:55,356 - INFO - downloader - image #521\thttps://i.ytimg.com/vi/JQjxR0fpNxA/maxresdefault.jpg\n",
      "2019-02-15 13:41:55,438 - INFO - downloader - image #522\thttp://www.visualdive.com/wp-content/uploads/2014/04/271-1.jpg\n",
      "2019-02-15 13:41:55,506 - INFO - downloader - image #523\thttps://s-i.huffpost.com/gen/4319900/thumbs/o-THE-570.jpg?7\n",
      "2019-02-15 13:41:55,635 - INFO - downloader - image #524\thttps://s-i.huffpost.com/gen/2652584/thumbs/o-YORKSHIRE-TERRIER-570.jpg?1\n",
      "2019-02-15 13:41:57,192 - INFO - downloader - image #525\thttps://cdn.pixabay.com/photo/2016/03/18/22/01/dog-1265873_960_720.jpg\n",
      "2019-02-15 13:41:57,634 - INFO - downloader - image #526\thttps://cdn.pixabay.com/photo/2016/06/12/22/53/dog-1453227_960_720.jpg\n",
      "2019-02-15 13:41:57,818 - INFO - downloader - image #527\thttps://www.inflearn.com/wp-content/uploads/objectivec001.jpg\n",
      "2019-02-15 13:41:58,174 - INFO - downloader - image #528\thttps://pbs.twimg.com/profile_images/741941218611888128/6iDrGXx2_400x400.jpg\n",
      "2019-02-15 13:41:58,429 - INFO - downloader - image #529\thttps://t1.daumcdn.net/cfile/tistory/2728315056C1515908\n",
      "2019-02-15 13:41:58,683 - INFO - downloader - image #530\thttp://newsimg.hankookilbo.com/2016/03/30/201603301425182278_1.jpg\n",
      "2019-02-15 13:41:58,868 - INFO - downloader - image #531\thttp://cdnweb01.wikitree.co.kr/webdata/editor/201606/23/img_20160623175444_72f647bf.jpg\n",
      "2019-02-15 13:41:59,022 - INFO - downloader - image #532\thttp://www.puppiz.net/kr/s/207x125/%EA%B0%9C%EB%A5%BC-%EC%8A%88%ED%8D%BC-%EC%98%81%EC%9B%85%EC%9D%84-%EC%9E%AC%EC%83%9D%ED%95%A9%EB%8B%88%EB%8B%A4.jpg\n",
      "2019-02-15 13:41:59,155 - INFO - downloader - image #533\thttp://kstatic.inven.co.kr/upload/2018/04/30/bbs/i13303583033.jpg\n",
      "2019-02-15 13:41:59,212 - INFO - downloader - image #534\thttps://image.fmkorea.com/files/attach/new/20160423/486616/2985741/359225509/7d7ba48179838105eb8522ee1f7cc1b1.jpg\n",
      "2019-02-15 13:41:59,559 - INFO - downloader - image #535\thttps://i.ytimg.com/vi/sKoPGLgCqsU/maxresdefault.jpg\n",
      "2019-02-15 13:41:59,690 - INFO - downloader - image #536\thttp://newsimg.hankookilbo.com/2016/06/30/201606301493466193_1.jpg\n",
      "2019-02-15 13:41:59,839 - INFO - downloader - image #537\thttps://i.ytimg.com/vi/q_bBTdQnrD0/maxresdefault.jpg\n",
      "2019-02-15 13:41:59,863 - INFO - downloader - image #538\thttps://get.pxhere.com/photo/puppy-dog-mammal-vertebrate-felix-2016366-dog-breed-chesapeake-bay-retriever-animal-shelter-australian-cattle-dog-street-dog-dog-like-mammal-dog-crossbreeds-louisiana-catahoula-leopard-dog-196820.jpg\n",
      "2019-02-15 13:41:59,875 - INFO - downloader - image #539\thttp://img.tf.co.kr/article/home/2016/02/01/201665261454314899.jpg\n",
      "2019-02-15 13:41:59,888 - INFO - downloader - image #540\thttp://talkimg.imbc.com/TVianUpload/tvian/TViews/image/2016/03/12/7z1QM4iWH9sZ635933475421148944.jpg\n",
      "2019-02-15 13:42:00,024 - INFO - downloader - image #541\thttps://previews.123rf.com/images/decade3d/decade3d1504/decade3d150400256/39347797-%EA%B0%9C-%ED%95%B4%EA%B3%A8-%ED%95%B4%EB%B6%80%ED%95%99-%EB%82%A8%EC%84%B1-%EA%B0%9C-%ED%95%B4%EA%B3%A8%EC%9D%98-%ED%95%B4%EB%B6%80%ED%95%99.jpg\n",
      "2019-02-15 13:42:00,110 - INFO - downloader - image #542\thttp://cdnweb01.wikitree.co.kr/webdata/editor/201605/04/img_20160504105706_700b7453.jpg\n"
     ]
    },
    {
     "name": "stderr",
     "output_type": "stream",
     "text": [
      "2019-02-15 13:42:00,257 - INFO - downloader - image #543\thttp://image.chosun.com/sitedata/image/201605/06/2016050602043_0.jpg\n",
      "2019-02-15 13:42:00,436 - INFO - downloader - image #544\thttp://www.greenfish.co.kr/shopimages/kjoo33/0010040000322.jpg?1462180728\n",
      "2019-02-15 13:42:00,636 - INFO - downloader - image #545\thttps://image.ytn.co.kr/general/jpg/2014/0830/201408300000114690_t.jpg\n",
      "2019-02-15 13:42:01,288 - INFO - downloader - image #546\thttp://www.cyberseodang.or.kr/images/search/similar/%E7%8A%AC%E7%8B%97.png\n",
      "2019-02-15 13:42:02,002 - INFO - downloader - image #547\thttps://myanimals.co.kr/wp-content/uploads/2018/04/%EC%B5%9C%EA%B3%A0%EB%A0%B9-%EA%B0%9C.jpg\n",
      "2019-02-15 13:42:02,079 - INFO - downloader - image #548\thttp://img.hankyung.com/photo/201606/01.11794486.1.jpg\n",
      "2019-02-15 13:42:02,287 - INFO - downloader - image #549\thttps://get.pxhere.com/photo/puppy-dog-animal-pet-mammal-pets-vertebrate-dog-breed-akita-hokkaido-shiba-inu-akita-inu-korean-jindo-dog-shikoku-dog-like-mammal-saarloos-wolfdog-wolfdog-carnivoran-dog-breed-group-greenland-dog-east-siberian-laika-west-siberian-laika-northern-inuit-dog-eurasier-icelandic-sheepdog-finnish-spitz-canaan-dog-kishu-norwegian-buhund-914137.jpg\n",
      "2019-02-15 13:42:02,347 - INFO - downloader - image #550\thttp://dimg.donga.com/egc/CDB/WEEKLY/Article/14/59/73/67/1459736782658.jpg\n",
      "2019-02-15 13:42:02,429 - INFO - downloader - image #551\thttp://dimg.donga.com/egc/PHOTO/udata/photonews/image/201603/10/201603100001/1.jpg\n",
      "2019-02-15 13:42:02,716 - INFO - downloader - image #552\thttp://ojsfile.ohmynews.com/STD_IMG_FILE/2016/0515/IE001963256_STD.jpg\n",
      "2019-02-15 13:42:02,751 - INFO - downloader - image #553\thttps://s-i.huffpost.com/gen/3875196/thumbs/o-PUTIN-MERKEL-DOG-570.jpg?3\n",
      "2019-02-15 13:42:03,095 - INFO - downloader - image #554\thttps://s3.ap-northeast-2.amazonaws.com/img.kormedi.com/news/article/__icsFiles/artimage/2016/02/18/c_km601/681584_540.jpg\n",
      "2019-02-15 13:42:03,164 - INFO - downloader - image #555\thttps://get.pxhere.com/photo/puppy-dog-animal-pet-mammal-pug-vertebrate-dog-breed-cute-animals-rhodesian-ridgeback-sad-eyes-red-collar-dog-like-mammal-dog-crossbreeds-tosa-broholmer-puggle-1046756.jpg\n",
      "2019-02-15 13:42:03,216 - INFO - downloader - image #556\thttp://pet.chosun.com/images/news/healthchosun_pet_201707/20170713092150_1283_3551_4845.jpg\n",
      "2019-02-15 13:42:03,281 - INFO - parser - parsing result page https://www.google.com/search?q=%EA%B0%9C&ijn=2&start=200&tbs=cdr%3A1%2Ccd_min%3A01%2F01%2F2016%2Ccd_max%3A06%2F30%2F2016&tbm=isch\n",
      "2019-02-15 13:42:03,379 - INFO - downloader - image #557\thttps://png.pngtree.com/element_pic/21/03/20/1656effc5a9e26a.jpg\n",
      "2019-02-15 13:42:03,495 - INFO - downloader - image #558\thttp://cdnweb01.wikitree.co.kr/webdata/editor/201601/12/img_20160112183243_520d6006.jpg\n",
      "2019-02-15 13:42:04,003 - INFO - downloader - image #559\thttps://www.olchiolchi.com/wp-content/uploads/2016/01/%EC%82%AC%EC%A7%8412.png\n",
      "2019-02-15 13:42:04,047 - INFO - downloader - image #560\thttps://en.pimg.jp/022/110/643/1/22110643.jpg\n",
      "2019-02-15 13:42:04,192 - INFO - downloader - image #561\thttp://www.irobotnews.com/news/photo/201606/7752_16806_733.png\n",
      "2019-02-15 13:42:04,265 - INFO - downloader - image #562\thttp://imgnn.seoul.co.kr/img//upload/2016/02/20/SSI_20160220093413_V.jpg\n",
      "2019-02-15 13:42:04,452 - INFO - downloader - image #563\thttp://image.cine21.com/resize/cine21/article/2006/0112/K0000030_10[H800-].jpg\n",
      "2019-02-15 13:42:04,547 - INFO - downloader - image #564\thttp://img2.sbs.co.kr/img/seditor/VD/2016/06/05/VD26307616_w640.jpg\n",
      "2019-02-15 13:42:04,589 - INFO - downloader - image #565\thttp://image.news1.kr/system/photos/2016/1/29/1755602/article.jpg\n",
      "2019-02-15 13:42:04,759 - INFO - downloader - image #566\thttps://s-i.huffpost.com/gen/1903839/thumbs/o-DOG-570.jpg?1\n",
      "2019-02-15 13:42:05,191 - INFO - downloader - image #567\thttps://previews.123rf.com/images/jehsomwang/jehsomwang1307/jehsomwang130700094/21163775-%EA%B0%9C-%EB%A8%B8%EB%A6%AC-%EC%95%84%EC%9D%B4%EC%BD%98-%EB%B2%A1%ED%84%B0.jpg\n",
      "2019-02-15 13:42:05,284 - INFO - downloader - image #568\thttps://i.ytimg.com/vi/YTW1qEk1llY/maxresdefault.jpg\n",
      "2019-02-15 13:42:05,342 - INFO - downloader - image #569\thttps://t1.daumcdn.net/cfile/tistory/21580E4557511C1920\n",
      "2019-02-15 13:42:05,478 - INFO - downloader - image #570\thttps://t1.daumcdn.net/cfile/tistory/21789E435783B06233\n",
      "2019-02-15 13:42:05,601 - INFO - downloader - image #571\thttps://image-notepet.akamaized.net/article/201605%2Ffb_%EA%B0%9C%EB%8A%94%EC%9E%98%EC%9E%88%EC%96%B4.jpg\n",
      "2019-02-15 13:42:05,667 - INFO - downloader - image #572\thttps://pds.joins.com/news/component/htmlphoto_mmdata/201606/21/htm_201606212629558701.jpg\n",
      "2019-02-15 13:42:06,140 - INFO - downloader - image #573\thttp://img.hani.co.kr/imgdb/resize/2016/0304/145696950705_20160304.JPG\n",
      "2019-02-15 13:42:06,577 - INFO - downloader - image #574\thttp://www.ntrexgo.com/wp-content/uploads/2016/01/34%EA%B0%9C%EC%BE%8C%EB%B3%8014.jpg\n",
      "2019-02-15 13:42:06,807 - INFO - downloader - image #575\thttp://image.kmib.co.kr/online_image/2016/0112/201601121541_61110010246645_1.jpg\n",
      "2019-02-15 13:42:06,883 - INFO - downloader - image #576\thttp://img.alicdn.com/imgextra/i4/2317351141/TB2iD_CtVXXXXcfXXXXXXXXXXXX_!!2317351141.jpg\n",
      "2019-02-15 13:42:06,936 - INFO - downloader - image #577\thttp://www.goodgag.net/_data/up/1604/c10295722c6ba6fe941242811.jpg\n",
      "2019-02-15 13:42:07,143 - INFO - downloader - image #578\thttp://newsimg.hankookilbo.com/2016/03/28/201603281126396435_1.jpg\n",
      "2019-02-15 13:42:07,180 - INFO - downloader - image #579\thttps://besuccess.com/wp-content/uploads/2016/01/share.png\n",
      "2019-02-15 13:42:07,329 - INFO - downloader - image #580\thttp://ws.cconma.com/Upload/Product/400x350/2016/01/22/56a18ac314024.jpg\n",
      "2019-02-15 13:42:07,464 - INFO - downloader - image #581\thttps://get.pxhere.com/photo/puppy-dog-mammal-nikon-hound-nose-chien-snout-vertebrate-nikonpassion-18105vr-d3200-beagle-dog-breed-dog-like-mammal-dog-crossbreeds-168142.jpg\n",
      "2019-02-15 13:42:07,645 - INFO - downloader - image #582\thttps://previews.123rf.com/images/andreykuzmin/andreykuzmin1302/andreykuzmin130200055/17847902-%EC%8B%9C%EB%B2%A0%EB%A6%AC%EC%95%88-%ED%97%88%EC%8A%A4%ED%82%A4-%EA%B0%9C-%EC%8D%B0%EB%A7%A4-%EA%B7%BC%EC%A0%91-%EC%B4%AC%EC%98%81-%EC%B4%88%EC%83%81%ED%99%94.jpg\n",
      "2019-02-15 13:42:07,827 - INFO - downloader - image #583\thttp://az837918.vo.msecnd.net/publishedimages/articles/149/ko-KR/images/1/harness-the-adventure-dog-sledding-in-lake-louise-L-5.jpg\n",
      "2019-02-15 13:42:08,714 - INFO - downloader - image #584\thttps://verkom.ru/public/7rpicb7.jpg\n",
      "2019-02-15 13:42:08,739 - INFO - downloader - image #585\thttps://image.aladin.co.kr/product/8346/77/letslook/S922535460_f.jpg\n",
      "2019-02-15 13:42:08,819 - INFO - downloader - image #586\thttps://pbs.twimg.com/profile_images/685154406065569792/Idh9jtDi_400x400.jpg\n",
      "2019-02-15 13:42:09,012 - INFO - downloader - image #587\thttps://shop.r10s.jp/flaner/cabinet/kihon3/imgrc0073109695.jpg\n",
      "2019-02-15 13:42:09,399 - INFO - downloader - image #588\thttp://cdn.gamemeca.com/gmdata/0001/042/843/%EB%A7%88%EC%84%B1%EC%9D%98%EA%B0%9C.gif\n",
      "2019-02-15 13:42:09,532 - INFO - downloader - image #589\thttps://cdn.pixabay.com/photo/2016/05/10/19/16/wolf-1384412_960_720.jpg\n",
      "2019-02-15 13:42:09,583 - INFO - downloader - image #590\thttp://www.bookhz.com/wp-content/uploads/2016/04/019.jpg\n",
      "2019-02-15 13:42:09,591 - INFO - downloader - image #591\thttps://cdn.pixabay.com/photo/2016/01/01/18/42/dog-1116936_960_720.jpg\n",
      "2019-02-15 13:42:09,734 - INFO - downloader - image #592\thttps://2runzzal.com/media/eklaUmdLMlBkSHVtZy91cUdITEIydz09/thum.jpg\n",
      "2019-02-15 13:42:09,763 - INFO - downloader - image #593\thttps://media-cdn.tripadvisor.com/media/photo-s/09/d9/02/8c/5-4-10000.jpg\n",
      "2019-02-15 13:42:10,056 - INFO - downloader - image #594\thttp://image.cine21.com/resize/cine21/article/2006/0112/K0000021_02[H800-].jpg\n",
      "2019-02-15 13:42:10,247 - INFO - downloader - image #595\thttp://kr.people.com.cn/NMediaFile/2016/0504/FOREIGN201605040935000284366353612.jpg\n",
      "2019-02-15 13:42:10,295 - INFO - downloader - image #596\thttps://myanimals.com/wp-content/uploads/2018/01/dog-eating.jpg\n",
      "2019-02-15 13:42:10,480 - INFO - downloader - image #597\thttps://img1.daumcdn.net/thumb/C155x225/?fname=http%3A%2F%2Ft1.daumcdn.net%2Fcfile%2F2345C834520273040F\n"
     ]
    },
    {
     "name": "stderr",
     "output_type": "stream",
     "text": [
      "2019-02-15 13:42:10,728 - INFO - downloader - image #598\thttps://upload.wikimedia.org/wikipedia/commons/thumb/4/47/Suborder_caniformia.jpg/250px-Suborder_caniformia.jpg\n",
      "2019-02-15 13:42:10,960 - INFO - downloader - image #599\thttps://ae01.alicdn.com/kf/HTB1915FeQCWBuNjy0Faq6xUlXXaY/1-Gag-Funny-Gag-Gift-Fake-Classic-t-funny.jpg_640x640.jpg\n",
      "2019-02-15 13:42:10,980 - INFO - downloader - image #600\thttps://lh3.googleusercontent.com/-vW_z-4vhcuw/Vwmzw_AJvtI/AAAAAAABdDQ/LyFhJH7pb3oyxZEGX0Nzni2hGzgL-Os9ACCo/s288-Ic42/20160410-002.jpg\n",
      "2019-02-15 13:42:11,085 - INFO - downloader - image #601\thttps://en.pimg.jp/021/273/788/1/21273788.jpg\n",
      "2019-02-15 13:42:11,248 - INFO - downloader - image #602\thttp://blog.inflearn.com/wp-content/uploads/2016/04/ios.jpg\n",
      "2019-02-15 13:42:11,351 - INFO - downloader - image #603\thttp://newsimg.hankookilbo.com/2016/04/14/201604141189313984_1.jpg\n",
      "2019-02-15 13:42:11,514 - INFO - downloader - image #604\thttps://justhackem.files.wordpress.com/2016/02/three.jpg?w=300&h=225\n",
      "2019-02-15 13:42:11,619 - INFO - downloader - image #605\thttp://images.veritas.kr/data/images/full/20739/couple.jpg?w=600\n",
      "2019-02-15 13:42:11,654 - INFO - downloader - image #606\thttps://get.pxhere.com/photo/nature-puppy-dog-animal-mammal-blue-wolf-predator-close-up-human-body-nose-eyes-whiskers-snout-eye-head-danger-skin-vertebrate-organ-hunting-dog-breed-dog-like-mammal-dog-breed-group-739467.jpg\n",
      "2019-02-15 13:42:11,739 - INFO - downloader - image #607\thttp://i.011st.com/ex_t/R/400x400/1/85/0/src/pd/18/5/6/7/7/9/6/rpKUC/1070567796_B.jpg\n",
      "2019-02-15 13:42:11,780 - INFO - parser - parsing result page https://www.google.com/search?q=%EA%B0%9C&ijn=3&start=300&tbs=cdr%3A1%2Ccd_min%3A01%2F01%2F2016%2Ccd_max%3A06%2F30%2F2016&tbm=isch\n",
      "2019-02-15 13:42:11,918 - INFO - downloader - image #608\thttps://lh3.googleusercontent.com/htBfuvIgrQBQnvwyLsMESKo26MBN4sN39CpTY4Nu9RTIQDgO7fuHIbkOsRhHEtm_2Q\n",
      "2019-02-15 13:42:11,973 - INFO - downloader - image #609\thttp://store.edupre.co.kr/_prozn/_data/ykmall/picture/14630185986900/14630185986900A_500.jpg\n",
      "2019-02-15 13:42:12,174 - INFO - downloader - image #610\thttps://cdn.pixabay.com/photo/2016/01/05/17/51/dog-1123016__340.jpg\n",
      "2019-02-15 13:42:12,270 - INFO - downloader - image #611\thttps://image-notepet.akamaized.net/resize/620x-/seimage/20160203%2Fdogs-152543_960_720.png\n",
      "2019-02-15 13:42:12,355 - INFO - downloader - image #612\thttp://img.imnews.imbc.com/replay/2016/nwdesk/article/__icsFiles/afieldfile/2016/06/04/desk_20160604_1_12_Large.jpg\n",
      "2019-02-15 13:42:12,533 - INFO - downloader - image #613\thttps://get.pxhere.com/photo/puppy-dog-cute-pet-mammal-animals-vertebrate-corgi-dog-breed-pup-doggy-pedigreed-welsh-corgi-dog-like-mammal-dog-breed-group-pembroke-welsh-corgi-898839.jpg\n",
      "2019-02-15 13:42:12,746 - INFO - downloader - image #614\thttps://ae01.alicdn.com/kf/HTB1aQjnKVXXXXcfXVXXq6xXFXXXh/Fixmee-10-U-608-8-30-10.jpg\n",
      "2019-02-15 13:42:12,772 - INFO - downloader - image #615\thttp://www.puppiz.net/kr/s/207x125/%EA%B0%9C-%EC%8D%B0%EB%A7%A4%EC%99%80-%EA%B2%8C%EC%9E%84.jpg\n",
      "2019-02-15 13:42:13,199 - INFO - downloader - image #616\thttp://kfem.or.kr/wp-content/uploads/2016/03/115.jpg\n",
      "2019-02-15 13:42:13,273 - INFO - downloader - image #617\thttps://i.ytimg.com/vi/HHoBnlTJX0Q/maxresdefault.jpg\n",
      "2019-02-15 13:42:13,356 - INFO - downloader - image #618\thttp://cdn.gamemeca.com/gmdata/0001/130/387/%EA%B0%9C%EC%8B%A0%EB%82%A8.gif\n",
      "2019-02-15 13:42:13,399 - INFO - downloader - image #619\thttps://seoul-p-studio.bunjang.net/product/52201064_1_1462627660_w640.jpg\n",
      "2019-02-15 13:42:13,459 - INFO - downloader - image #620\thttp://vote.ccej.or.kr/wp-content/uploads/2016/04/7.png\n",
      "2019-02-15 13:42:13,480 - INFO - downloader - image #621\thttp://image.kmib.co.kr/online_image/2016/0303/201603031405_61150010416062_1.jpg\n",
      "2019-02-15 13:42:13,521 - INFO - downloader - image #622\thttps://www.inflearn.com/wp-content/uploads/ios9_2.jpg\n",
      "2019-02-15 13:42:13,575 - INFO - downloader - image #623\thttp://file.mk.co.kr/meet/neds/2016/03/image_readtop_2016_169385_14570520732382550.jpg\n",
      "2019-02-15 13:42:13,632 - INFO - downloader - image #624\thttp://menu.mt.co.kr/ttimes/img/201604/2016041115447762767_61423_0.jpg\n",
      "2019-02-15 13:42:13,815 - INFO - downloader - image #625\thttps://www.rfa.org/korean/weekly_program/c704c131c0acc9c4-d558b298c5d0c11c-bcf8-bd81d55c/satellitenk-06152016131318.html/3-D_Cinema_main_b.jpg\n",
      "2019-02-15 13:42:13,815 - INFO - downloader - image #626\thttps://pbs.twimg.com/media/CM5ZiAUWUAI7OFY.jpg\n",
      "2019-02-15 13:42:14,203 - INFO - downloader - image #627\thttps://myanimals.co.kr/wp-content/uploads/2018/05/%EA%B0%9D%EB%A5%BC-%EC%9E%85%EC%96%91%ED%95%9C-%ED%83%9C%EA%B5%AD%EC%9D%98-%EC%99%95.jpg\n",
      "2019-02-15 13:42:14,276 - INFO - downloader - image #628\thttp://unikorea21.com/wp-content/uploads/2016/05/SR_201605_23.jpg\n",
      "2019-02-15 13:42:14,468 - INFO - downloader - image #629\thttp://phshell.com/wp-content/uploads/2016/04/15-1-%EB%AF%BC%EB%AC%BC-%ED%8C%90%EC%9E%90%EA%B0%9C-%EA%B7%80%ED%8C%A8-300x200.jpg\n",
      "2019-02-15 13:42:14,510 - INFO - downloader - image #630\thttps://s-i.huffpost.com/gen/3900702/thumbs/o-DOG-570.jpg?7\n",
      "2019-02-15 13:42:14,563 - ERROR - downloader - Exception caught when downloading file http://nagasaki-airport.jp/ko/shop/recommendimg/52image1_20160512164424.jpg, error: HTTPSConnectionPool(host='nagasaki-airport.jp', port=443): Max retries exceeded with url: /ko/shop/recommendimg/52image1_20160512164424.jpg (Caused by SSLError(SSLError(1, '[SSL: CERTIFICATE_VERIFY_FAILED] certificate verify failed (_ssl.c:833)'),)), remaining retry times: 2\n",
      "2019-02-15 13:42:14,599 - INFO - downloader - image #631\thttp://image.cine21.com/resize/IMGDB/still/2001/0424/large/102144_spe29[H800-].jpg\n",
      "2019-02-15 13:42:14,753 - INFO - downloader - image #632\thttp://www.hellodd.com/data/photos/20160311/art_1457933887.jpg\n",
      "2019-02-15 13:42:14,889 - INFO - downloader - image #633\thttps://lh3.googleusercontent.com/-hjl1nnbz6LU/VSUgRcfiAYI/AAAAAAAA-As/kWUsqbmmu7U/s800/20150406_153557.jpg\n",
      "2019-02-15 13:42:14,991 - INFO - downloader - image #634\thttps://shop.r10s.jp/pro-douguya/cabinet/bar-top/ba-fu-fp273.jpg\n",
      "2019-02-15 13:42:15,185 - INFO - downloader - image #635\thttps://t1.daumcdn.net/cfile/tistory/234CB53B57669BF819\n",
      "2019-02-15 13:42:15,211 - INFO - downloader - image #636\thttps://seoul-p-studio.bunjang.net/product/54489594_1_1493693097_w640.jpg\n",
      "2019-02-15 13:42:15,339 - ERROR - downloader - Exception caught when downloading file http://nagasaki-airport.jp/ko/shop/recommendimg/52image1_20160512164424.jpg, error: HTTPSConnectionPool(host='nagasaki-airport.jp', port=443): Max retries exceeded with url: /ko/shop/recommendimg/52image1_20160512164424.jpg (Caused by SSLError(SSLError(1, '[SSL: CERTIFICATE_VERIFY_FAILED] certificate verify failed (_ssl.c:833)'),)), remaining retry times: 1\n",
      "2019-02-15 13:42:15,613 - INFO - downloader - image #637\thttp://kr.people.com.cn/NMediaFile/2016/0504/FOREIGN201605041020000262874677395.jpg\n",
      "2019-02-15 13:42:15,739 - INFO - downloader - image #638\thttp://image.edaily.co.kr/images/Photo/files/NP/S/2016/02/PS16020100277.jpg\n",
      "2019-02-15 13:42:15,857 - INFO - downloader - image #639\thttp://nagasaki-airport.jp/ko/shop/recommendimg/52image1_20160512164424.jpg\n",
      "2019-02-15 13:42:16,053 - INFO - downloader - image #640\thttp://www.puppiz.net/kr/s/207x125/%EA%B2%8C%EC%9E%84-%EC%86%8C%EB%85%80%EC%99%80-%EA%B7%B8%EB%85%80%EC%9D%98-%EA%B0%9C%EB%A5%BC-%EC%83%89%EC%B9%A0.jpg\n",
      "2019-02-15 13:42:16,565 - INFO - downloader - image #641\thttps://farm2.staticflickr.com/1682/26325102042_e881e37b20_b.jpg\n",
      "2019-02-15 13:42:16,661 - INFO - downloader - image #642\thttp://gi.esmplus.com/lavec/folk/janggobukkeychain.jpg\n",
      "2019-02-15 13:42:16,775 - INFO - downloader - image #643\thttp://www.lotteria.com/images/event/20160615_event.jpg\n",
      "2019-02-15 13:42:16,791 - INFO - downloader - image #644\thttp://mblogthumb2.phinf.naver.net/20160226_37/alwaysneoi_1456471106808ECYh9_PNG/%C7%D1%B1%C7%C0%B8%B7%CE_%B3%A1%B3%BB%B4%C2_%C1%DF%C7%D0%BC%F6%C7%D0_%C3%D1%C1%A4%B8%AE.png?type=w2\n",
      "2019-02-15 13:42:16,895 - INFO - downloader - image #645\thttp://image.auction.co.kr/itemimage/10/55/d2/1055d24c33.jpg\n",
      "2019-02-15 13:42:16,994 - INFO - downloader - image #646\thttps://cdn.pixabay.com/photo/2016/01/25/10/46/dog-1160443_960_720.jpg\n"
     ]
    },
    {
     "name": "stderr",
     "output_type": "stream",
     "text": [
      "2019-02-15 13:42:17,058 - INFO - downloader - image #647\thttp://images.veritas.kr/data/images/full/21149/bible.jpg\n",
      "2019-02-15 13:42:17,097 - INFO - downloader - image #648\thttps://s-i.huffpost.com/gen/4000550/thumbs/o-E-570.jpg?1\n",
      "2019-02-15 13:42:17,101 - INFO - downloader - image #649\thttps://image.ytn.co.kr/general/jpg/2016/0607/201606071055471187_t.jpg\n",
      "2019-02-15 13:42:17,210 - INFO - downloader - image #650\thttps://v-vdesign.com/wp-content/uploads/2016/03/16.03.28_DCAMP_infographic_banner.png\n",
      "2019-02-15 13:42:17,226 - INFO - downloader - image #651\thttp://www.rivalnews.co.kr/news/photo/201602/153_82_759.jpg\n",
      "2019-02-15 13:42:17,483 - INFO - downloader - image #652\thttps://get.pxhere.com/photo/puppy-dog-cute-young-small-mammal-rest-baby-nose-sleep-skin-vertebrate-chihuahua-tired-fatigue-pomeranian-young-dog-small-dog-chiwawa-dog-like-mammal-718332.jpg\n",
      "2019-02-15 13:42:17,545 - INFO - downloader - image #653\thttp://img.seoul.co.kr/img/upload/2016/03/09/SSI_20160309184201.jpg\n",
      "2019-02-15 13:42:17,642 - INFO - downloader - image #654\thttp://img.etoday.co.kr/pto_db/2016/04/20160418075437_853808_550_507.jpg\n",
      "2019-02-15 13:42:17,789 - INFO - downloader - image #655\thttp://newsimg.hankookilbo.com/2016/06/28/201606281451033101_2.jpg\n",
      "2019-02-15 13:42:17,817 - INFO - downloader - image #656\thttp://unikorea21.com/wp-content/uploads/2015/10/SR_201505_16.jpg\n",
      "2019-02-15 13:42:17,871 - INFO - downloader - image #657\thttp://antalyamantolama.org/images/niche-pour-chien--E2-80-93design-bouleau-noir-ouvertures-DEAUVILLE.jpg\n",
      "2019-02-15 13:42:17,911 - INFO - downloader - image #658\thttps://pbs.twimg.com/profile_images/705738004556460033/WLXQmRYx_400x400.jpg\n",
      "2019-02-15 13:42:17,972 - INFO - downloader - image #659\thttps://en.pimg.jp/022/086/740/1/22086740.jpg\n",
      "2019-02-15 13:42:18,091 - INFO - downloader - image #660\thttp://image.cine21.com/resize/cine21/article/2006/0112/K0000026_03[H800-].jpg\n",
      "2019-02-15 13:42:18,145 - INFO - downloader - image #661\thttps://shop.r10s.jp/kodawarido/cabinet/shohin04/imgrc0063861481.jpg\n",
      "2019-02-15 13:42:18,208 - INFO - downloader - image #662\thttp://store.edupre.co.kr/_prozn/_data/ykmall/picture/14559361451600/14559361451600A_500.jpg\n",
      "2019-02-15 13:42:18,217 - INFO - downloader - image #663\thttps://image.biccamera.com/img/00000003349574_A01.jpg?sr.dw=600&sr.jqh=60&sr.dh=600&sr.mat=1\n",
      "2019-02-15 13:42:18,235 - INFO - downloader - image #664\thttp://gdimg1.gmarket.co.kr/goods_image2/shop_moreimg/561/306/561306345/561306345_00.jpg?ver=0\n",
      "2019-02-15 13:42:18,359 - INFO - downloader - image #665\thttps://helpguide.sony.net/speaker/srs-hg10/v1/ko/contents/image/i0060_49.png\n",
      "2019-02-15 13:42:18,444 - INFO - downloader - image #666\thttp://img.danawa.com/prod_img/500000/930/694/img/2694930_1.jpg?shrink=500:500&_v=20181109171320\n",
      "2019-02-15 13:42:18,457 - INFO - downloader - image #667\thttp://tenasia.hankyung.com/webwp_kr/wp-content/uploads/2016/02/2016022223181317032-540x1195.jpg\n",
      "2019-02-15 13:42:18,502 - INFO - downloader - image #668\thttp://www.fontclub.co.kr/wp-content/uploads/2016/01/428_2016-0108_designhouseposter_v2.jpg\n",
      "2019-02-15 13:42:18,563 - INFO - downloader - image #669\thttps://saracen.azureedge.net/img/template/goods/190410/f46fc58538f64699070f767c74c2412e.jpg\n",
      "2019-02-15 13:42:18,692 - INFO - downloader - image #670\thttp://www.bigboy7.com/jm_itemimg/549_1.jpg\n",
      "2019-02-15 13:42:18,841 - INFO - downloader - image #671\thttp://99mim.com/data/goods_old/product_middle/L06-065-600-0.jpg\n",
      "2019-02-15 13:42:18,991 - INFO - downloader - image #672\thttp://www.lotteria.com/images/event/20160527_buger.jpg\n",
      "2019-02-15 13:42:19,220 - INFO - downloader - image #673\thttps://media-cdn.tripadvisor.com/media/photo-s/09/fa/ec/5c/restaurace-mlejnice.jpg\n",
      "2019-02-15 13:42:19,547 - INFO - downloader - image #674\thttps://d2g44tvvp35wo2.cloudfront.net/photo/kr/2018/07/09/%E1%84%89%E1%85%A1%E1%86%B7%E1%84%89%E1%85%A5%E1%86%BC%E1%84%8C%E1%85%A5%E1%86%AB%E1%84%8C%E1%85%A1%E1%84%89%E1%85%A5%E1%84%87%E1%85%B5%E1%84%89%E1%85%B3,_%E1%84%8C%E1%85%A5%E1%86%AB%E1%84%80%E1%85%AE%E1%86%A8_11%E1%84%80%E1%85%A2_%E1%84%8C%E1%85%B5%E1%84%8B%E1%85%A7%E1%86%A8%E1%84%8B%E1%85%A6%E1%84%89%E1%85%A5_%E1%84%8C%E1%85%A2%E1%84%82%E1%85%B3%E1%86%BC%E1%84%80%E1%85%B5%E1%84%87%E1%85%AE_%E1%84%87%E1%85%A9%E1%86%BC%E1%84%89%E1%85%A1%E1%84%92%E1%85%AA%E1%86%AF%E1%84%83%E1%85%A9%E1%86%BC_%E1%84%91%E1%85%A7%E1%86%AF%E1%84%8E%E1%85%A7_160527(4).jpg\n",
      "2019-02-15 13:42:19,708 - INFO - downloader - image #675\thttp://m.newmarket.co.kr/data/goods/201601/27181823view.jpg\n",
      "2019-02-15 13:42:19,757 - INFO - downloader - image #676\thttp://www.tgrn.co.kr/shopimages/swylo/0170010000273.jpg?1527845083\n",
      "2019-02-15 13:42:19,768 - INFO - downloader - image #677\thttps://en.pimg.jp/022/231/047/1/22231047.jpg\n",
      "2019-02-15 13:42:19,849 - INFO - downloader - image #678\thttp://img.wemep.co.kr/deal/1/232/1932321/b620599f250e3c062e8bcf245a723238f72c8a57.jpg\n",
      "2019-02-15 13:42:19,930 - INFO - downloader - image #679\thttps://t1.daumcdn.net/cfile/tistory/2329E04056EA8DE70A\n",
      "2019-02-15 13:42:19,982 - INFO - downloader - image #680\thttps://media-cdn.tripadvisor.com/media/photo-s/06/00/04/e2/2.jpg\n",
      "2019-02-15 13:42:20,016 - INFO - downloader - image #681\thttps://get.pxhere.com/photo/puppy-dog-cute-young-small-mammal-rest-baby-sleep-vertebrate-chihuahua-tired-fatigue-pomeranian-young-dog-small-dog-chiwawa-dog-like-mammal-dog-breed-group-718330.jpg\n",
      "2019-02-15 13:42:20,052 - INFO - downloader - image #682\thttps://t1.daumcdn.net/cfile/tistory/2536AE3B56D1ABF217\n",
      "2019-02-15 13:42:20,083 - INFO - downloader - image #683\thttp://www.pdjournal.com/news/photo/201602/57643_51975_43.jpg\n",
      "2019-02-15 13:42:20,179 - INFO - downloader - image #684\thttps://ae01.alicdn.com/kf/HTB1ESUYJpXXXXbqXFXXq6xXFXXXa/-.jpg_640x640.jpg\n",
      "2019-02-15 13:42:20,179 - INFO - downloader - image #685\thttp://image.kmib.co.kr/online_image/2016/0603/201606030005_61120010670376_1.jpg\n",
      "2019-02-15 13:42:20,267 - INFO - downloader - image #686\thttp://d.kbs.co.kr/data/news/2016/06/15/3295552_290.jpg\n",
      "2019-02-15 13:42:20,458 - INFO - downloader - image #687\thttp://file.thisisgame.com/upload/tboard/user/2016/05/30/20160530135704_6104.jpg\n",
      "2019-02-15 13:42:20,490 - INFO - downloader - image #688\thttp://pet.chosun.com/images/news/healthchosun_pet_201803/20180306174151_1695_4883_1726.jpg\n",
      "2019-02-15 13:42:20,564 - INFO - downloader - image #689\thttp://img.khan.co.kr/news/2016/01/05/l_2016010601000472900044031.jpg\n",
      "2019-02-15 13:42:20,694 - INFO - downloader - image #690\thttps://static-s.aa-cdn.net/img/gp/20600004317305/mKUDoeJmB_mKiOf_Q2dPjkgUjep6BRi_9MNfTDsX7ltJeFvtBMEtLwOwiuLe1hnezQ=w300\n",
      "2019-02-15 13:42:20,795 - INFO - downloader - image #691\thttp://image.dongascience.com/Photo/2016/05/14629529477472.png\n",
      "2019-02-15 13:42:20,897 - INFO - downloader - image #692\thttp://img.tf.co.kr/article/home/2016/02/06/201692881454760044.jpg\n",
      "2019-02-15 13:42:20,950 - INFO - downloader - image #693\thttp://www.puppiz.net/kr/s/207x125/%EA%B0%9C-%EC%83%89%EC%B9%A0-%EA%B3%B5%EB%B6%80-%EA%B2%8C%EC%9E%84.jpg\n",
      "2019-02-15 13:42:21,205 - INFO - downloader - image #694\thttp://korea.selloutontop.com/88064-1-large_default/1-%EA%B0%9C-225x80-%EB%AF%B8%EB%A6%AC%EB%A9%94%ED%84%B0-225-%EB%AF%B8%EB%A6%AC%EB%A9%94%ED%84%B0-%EC%83%88%EB%A1%9C%EC%9A%B4-%EC%BC%80%EC%9D%B4%EC%8A%A4-%EC%BF%A8%EB%9F%AC-2-%EC%99%80%EC%9D%B4%EC%96%B4-220-%EB%B3%BC%ED%8A%B8-240-%EB%B3%BC%ED%8A%B8-%EA%B3%B5%EA%B8%B0-%ED%9D%90%EB%A6%84-%EB%B0%B0%EA%B8%B0-ac-%EB%83%89%EA%B0%81-%ED%8C%AC.jpg\n",
      "2019-02-15 13:42:21,315 - INFO - downloader - image #695\thttp://file3.instiz.net/data/file3/2018/01/31/b/2/e/b2eae0a1572dfa8766997cd215ad3113.jpg\n",
      "2019-02-15 13:42:21,430 - INFO - downloader - image #696\thttps://simage.mujikorea.net/goods/31/07/32/60/4549337516649_N_N_400.jpg\n",
      "2019-02-15 13:42:21,515 - INFO - downloader - image #697\thttps://pds.joins.com/news/component/newsis/201807/22/NISI20160418_0011599080_web.jpg\n",
      "2019-02-15 13:42:21,927 - INFO - downloader - image #698\thttps://ppss.kr/wp-content/uploads/2016/01/9.png\n",
      "2019-02-15 13:42:21,967 - INFO - downloader - image #699\thttp://www.magicblock.co.kr/shop/data/goods/1465869223100s0.gif\n",
      "2019-02-15 13:42:22,127 - INFO - downloader - image #700\thttp://image.news1.kr/system/photos/2016/3/24/1840885/article.jpg\n",
      "2019-02-15 13:42:22,160 - INFO - downloader - image #701\thttps://t1.daumcdn.net/cfile/tistory/2436193657387D690A\n"
     ]
    },
    {
     "name": "stderr",
     "output_type": "stream",
     "text": [
      "2019-02-15 13:42:22,179 - INFO - downloader - image #702\thttps://cdn.pixabay.com/photo/2016/01/11/22/38/animal-1134504_960_720.jpg\n",
      "2019-02-15 13:42:22,254 - INFO - downloader - image #703\thttp://www.ntrexgo.com/wp-content/uploads/2016/01/34%EA%B0%9C%EC%BE%8C%EB%B3%8016.jpg\n",
      "2019-02-15 13:42:22,286 - INFO - downloader - image #704\thttp://gohappypharm.com/web/upload/NNEditor/20160310/%EC%8B%9C%EC%A6%88%EC%BD%94%EA%B0%9C_shop1_134040.jpg\n",
      "2019-02-15 13:42:22,366 - INFO - downloader - image #705\thttp://vinobeans.co.kr/wp-content/uploads/2015/12/%EC%95%85%EC%96%B4%EA%B0%9C-%EC%BB%A4%ED%94%BC%EB%B2%A8%ED%8A%B8.jpg\n",
      "2019-02-15 13:42:22,375 - INFO - downloader - image #706\thttp://cdn.galleria.co.kr/uploadFile/item/500/12/4633712_500.JPG\n",
      "2019-02-15 13:42:22,426 - INFO - downloader - image #707\thttps://image.ytn.co.kr/general/jpg/2014/0910/201409100429178981_t.jpg\n",
      "2019-02-15 13:42:22,438 - INFO - downloader - image #708\thttp://gdimg.gmarket.co.kr/792807697/still/400?ver=0\n",
      "2019-02-15 13:42:22,481 - INFO - downloader - image #709\thttp://image.chosun.com/sitedata/image/201605/03/2016050301844_0.jpg\n",
      "2019-02-15 13:42:22,525 - INFO - downloader - image #710\thttp://koreasap.net/wp-content/uploads/2016/06/insiders.jpg\n",
      "2019-02-15 13:42:22,533 - INFO - downloader - image #711\thttp://store.edupre.co.kr/_prozn/_data/ykmall/picture/14616412177900/14616412177900A_500.jpg\n",
      "2019-02-15 13:42:22,555 - INFO - downloader - image #712\thttp://gdimg5.gmarket.co.kr/goods_image2/shop_moreimg/185/528/185528624/185528624_01.jpg?ver=1524624496\n",
      "2019-02-15 13:42:22,576 - INFO - downloader - image #713\thttp://img.etnews.com/photonews/1712/1026599_20171220183645_824_0001.jpg\n",
      "2019-02-15 13:42:22,712 - INFO - downloader - image #714\thttps://i.pinimg.com/236x/db/81/74/db8174091794131fdd9858fdf58a39ef--dog-wear-dog-clothing.jpg?b=t\n",
      "2019-02-15 13:42:22,941 - INFO - downloader - image #715\thttp://menu.mt.co.kr/moneyweek/thumb/2016/03/16/06/2016031617318067511_1.jpg\n",
      "2019-02-15 13:42:23,376 - INFO - downloader - image #716\thttp://iws.danawa.com/prod_img/500000/296/156/desc/prod_3156296/add_1/40076_4.jpg\n",
      "2019-02-15 13:42:23,435 - INFO - downloader - image #717\thttp://newsroom.etomato.com/userfiles/%EC%82%AC%EC%A7%842-2016%20%EC%9B%90%EC%87%BC%20%EA%B4%91%EA%B3%A0%EC%A0%9C%EC%97%90%EC%84%9C%202%EA%B0%9C%20%EC%83%81(%EB%8F%991,%20%EB%A9%94%EB%A6%AC%ED%8A%B81)%EC%9D%84%20%EC%88%98%EC%83%81%ED%95%9C%20%EC%A0%9C%EC%9D%BC%EA%B8%B0%ED%9A%8D-KT%20%EC%98%AC%EB%A0%88TV%20%EC%95%88%EB%B6%80%20%EC%95%8C%EB%A6%BC%20%EC%84%9C%EB%B9%84%EC%8A%A4%20%EC%BA%A0%ED%8E%98%EC%9D%B8.jpg\n",
      "2019-02-15 13:42:23,518 - INFO - downloader - image #718\thttps://indigo.co.kr/web/product/medium/201605/6277_shop1_493971.jpg\n",
      "2019-02-15 13:42:23,544 - INFO - downloader - image #719\thttp://president.globalwindow.org/crosseditor/binary/images/000028/%EC%84%B8%EA%B3%84%EB%A5%BC_%EB%A7%A4%ED%98%B9%EC%8B%9C%ED%82%A8_78%EA%B0%9C_%EC%8A%A4%EB%AA%B0%EB%9F%AD%EC%85%94%EB%A6%AC_%EC%83%81%ED%92%88_2.jpg\n",
      "2019-02-15 13:42:23,574 - INFO - downloader - image #720\thttps://shop.r10s.jp/yminfo/cabinet/02978710/18756.jpg\n",
      "2019-02-15 13:42:23,627 - INFO - downloader - image #721\thttp://cdn.tvple.net/public/file/267/267754.md-16x9\n",
      "2019-02-15 13:42:23,684 - INFO - downloader - image #722\thttp://img.etnews.com/photonews/1601/765353_20160120174056_327_0006.jpg\n",
      "2019-02-15 13:42:23,711 - INFO - downloader - image #723\thttps://outstanding.kr/wp-content/uploads/2016/06/insta_original-e1465818977152.jpg\n",
      "2019-02-15 13:42:23,747 - INFO - downloader - image #724\thttp://www.ntrexgo.com/wp-content/uploads/2016/01/34%EA%B0%9C%EC%BE%8C%EB%B3%8013.jpg\n",
      "2019-02-15 13:42:23,833 - INFO - downloader - image #725\thttp://thumbnail.10x10.co.kr/webimage/image/add3_600/146/A001463503_03.jpg?cmd=thumb&w=500&h=500&fit=true&ws=false\n",
      "2019-02-15 13:42:24,121 - INFO - downloader - image #726\thttp://www.ddaily.co.kr/data/photos/20160416/art_1461201431.jpg\n",
      "2019-02-15 13:42:24,187 - INFO - downloader - image #727\thttps://gif.fmkorea.com/files/attach/new/20170902/486616/223747145/763737416/b50bdee1a68cef846b1d5503f9891547.gif\n",
      "2019-02-15 13:42:24,284 - INFO - downloader - image #728\thttp://www.eabbashop.com/media/catalog/product/cache/5/image/650x650/9df78eab33525d08d6e5fb8d27136e95/_/1/_14.4v_2___.jpg\n",
      "2019-02-15 13:42:24,430 - INFO - downloader - image #729\thttps://previews.123rf.com/images/fotofront69/fotofront690711/fotofront69071100027/2120201-%EB%8F%85%EC%9D%BC-%EC%85%B0%ED%8D%BC%EB%93%9C-%EA%B0%9C.jpg\n",
      "2019-02-15 13:42:24,537 - INFO - downloader - image #730\thttp://img.etoday.co.kr/pto_db/2016/05/20160515095233_869979_748_412.jpg\n",
      "2019-02-15 13:42:24,618 - INFO - downloader - image #731\thttps://mb.ntdtv.kr/assets/uploads/2017/06/20160610-hyundai-unibus-prestige-06.jpg\n",
      "2019-02-15 13:42:24,679 - INFO - downloader - image #732\thttp://www.chunma.ne.kr/data/item/20100820103332/thumb-67mE7YOA66864KY66y07J6O7LCo57IS47Yq4_320x320.jpg\n",
      "2019-02-15 13:42:24,702 - INFO - downloader - image #733\thttps://cdn.pixabay.com/photo/2016/06/16/12/23/dog-1461239_960_720.jpg\n",
      "2019-02-15 13:42:24,750 - INFO - downloader - image #734\thttp://image.chosun.com/sitedata/image/201606/24/2016062402850_0.jpg\n",
      "2019-02-15 13:42:24,865 - INFO - downloader - image #735\thttps://mi0.rightinthebox.com/images/384x384/201503/otvmnn1426233053140.jpg\n",
      "2019-02-15 13:42:24,932 - INFO - downloader - image #736\thttps://cdn.rbth.com/web/jp-rbth/images/2016-03/extra/flowers1_b.jpg\n",
      "2019-02-15 13:42:25,050 - INFO - downloader - image #737\thttps://image-notepet.akamaized.net/seimage/20150630%2F%EA%B3%BC%EC%9D%BC%EC%95%BC%EC%B1%84.jpg\n",
      "2019-02-15 13:42:25,097 - INFO - downloader - image #738\thttp://vote.ccej.or.kr/wp-content/uploads/2016/04/3.png\n",
      "2019-02-15 13:42:25,107 - INFO - downloader - image #739\thttp://korean.commercial-foodequipment.com/photo/pl11245959-three_speed_stand_electric_food_mixer_powder_flour_electric_dough_mixer.jpg\n",
      "2019-02-15 13:42:25,109 - INFO - downloader - image #740\thttps://mi0.rightinthebox.com/images/384x384/201312/yzwaba1388399160104.jpg\n",
      "2019-02-15 13:42:25,115 - INFO - downloader - image #741\thttp://www.visualdive.com/wp-content/uploads/2014/12/2016-02-16-212925.png\n",
      "2019-02-15 13:42:25,155 - INFO - downloader - image #742\thttps://kr.ambafrance.org/IMG/arton2949.jpg?1451528654\n",
      "2019-02-15 13:42:25,251 - INFO - downloader - image #743\thttp://www.magicblock.co.kr/shop/data/goods/1457401063188i0.gif\n",
      "2019-02-15 13:42:25,312 - INFO - downloader - image #744\thttp://www.kyosu.net/news/photo/201605/32509_20250_348.jpg\n",
      "2019-02-15 13:42:25,319 - INFO - downloader - image #745\thttp://www.silverinews.com/news/photo/201703/369_268_1933.jpg\n",
      "2019-02-15 13:42:25,450 - INFO - downloader - image #746\thttps://2runzzal.com/media/c2F0ZFZSK0o1cXlmOGJkVnNKdk4zdz09/thum.jpg\n",
      "2019-02-15 13:42:25,480 - INFO - downloader - image #747\thttp://file2.instiz.net/data/cached_img/upload/2016/02/15/15/f8b22834476e4db136b4cb0e9d7950f0.jpg\n",
      "2019-02-15 13:42:25,492 - INFO - downloader - image #748\thttp://www.eqpuzzle.com/shop/Images/img3/eq491.gif\n",
      "2019-02-15 13:42:25,586 - INFO - downloader - image #749\thttp://image.kmib.co.kr/online_image/2016/0205/201602051319_61120010329213_2.jpg\n",
      "2019-02-15 13:42:25,684 - INFO - downloader - image #750\thttps://t1.daumcdn.net/cfile/tistory/210A374F56B7588E1A\n",
      "2019-02-15 13:42:25,738 - INFO - downloader - image #751\thttps://d28dpoj42hxr8c.cloudfront.net/files/topics/10881_ext_02_ko_0.jpg?v=1473387977\n",
      "2019-02-15 13:42:25,758 - INFO - downloader - image #752\thttp://www.hotelavia.net/news/photo/201601/888_1604_3323.jpg\n",
      "2019-02-15 13:42:26,087 - INFO - downloader - image #753\thttps://www.jpsmall.com/data/shop/item/1452585066_m\n",
      "2019-02-15 13:42:26,151 - INFO - downloader - image #754\thttp://1.bp.blogspot.com/-K9F7gunKV7g/VPeydbO4LbI/AAAAAAAAB30/QmSNJx2Odsw/s1600/solar%2Bcharging%2Bcontroller%2B2%EA%B0%9C%2B%EC%97%B0%EA%B2%B0%EB%B0%A9%EB%B2%95.jpg\n",
      "2019-02-15 13:42:26,158 - INFO - downloader - image #755\thttp://image.cine21.com/resize/cine21/article/2006/0112/K0000029_09[H800-].jpg\n",
      "2019-02-15 13:42:26,165 - INFO - feeder - thread feeder-001 exit\n",
      "2019-02-15 13:42:26,209 - INFO - downloader - image #756\thttp://talkimg.imbc.com/TVianUpload/tvian/TViews/image/2016/03/20/slF0qEKbz4rZ635940346092784649.jpg\n",
      "2019-02-15 13:42:26,244 - INFO - downloader - image #757\thttps://lh3.googleusercontent.com/-wvEP3IFNlL4/VyCK8AaO11I/AAAAAAABd8w/O6UgHqIjemESoXVh_lUDjrNIqHSkcivrgCCo/s800/20160427_155919.jpg\n"
     ]
    },
    {
     "name": "stderr",
     "output_type": "stream",
     "text": [
      "2019-02-15 13:42:26,321 - INFO - downloader - image #758\thttp://www.doguri.com/uploads/ww1603002/201605/bcf4829152837badb23b2d8c2569c2cc_crop.jpg\n",
      "2019-02-15 13:42:26,342 - INFO - downloader - image #759\thttp://www.segye.com/content/image/2016/05/25/20160525002601_0.jpg\n",
      "2019-02-15 13:42:26,377 - INFO - downloader - image #760\thttp://www.traveltimes.co.kr/news/photo/first/201604/img_96519_1.gif\n",
      "2019-02-15 13:42:26,421 - INFO - downloader - image #761\thttps://s-i.huffpost.com/gen/4247454/thumbs/o-TRAVEL-STYLE-570.jpg?16\n",
      "2019-02-15 13:42:26,487 - INFO - downloader - image #762\thttp://www.hellodd.com/upload/editor/201606/thumb/watermark_687x0_.jpg\n",
      "2019-02-15 13:42:26,555 - INFO - downloader - image #763\thttps://i.ytimg.com/vi/FxsNWCWrQZ8/maxresdefault.jpg\n",
      "2019-02-15 13:42:26,651 - INFO - downloader - image #764\thttp://cfile6.uf.tistory.com/image/255F544756CACB23196E7C\n",
      "2019-02-15 13:42:26,688 - INFO - downloader - image #765\thttp://img.etnews.com/photonews/1901/1147941_20190114134750_481_0001.jpg\n",
      "2019-02-15 13:42:26,716 - ERROR - downloader - Exception caught when downloading file http://nagasaki-airport.jp/ko/shop/recommendimg/50image1_20160512164337.jpg, error: HTTPSConnectionPool(host='nagasaki-airport.jp', port=443): Max retries exceeded with url: /ko/shop/recommendimg/50image1_20160512164337.jpg (Caused by SSLError(SSLError(1, '[SSL: CERTIFICATE_VERIFY_FAILED] certificate verify failed (_ssl.c:833)'),)), remaining retry times: 2\n",
      "2019-02-15 13:42:26,770 - INFO - downloader - image #766\thttps://previews.123rf.com/images/insima/insima1312/insima131200012/24549433-%EB%8F%85%EC%9D%BC-%EC%85%B0%ED%8D%BC%EB%93%9C-%EA%B0%9C-%EB%A8%B8%EB%A6%AC-%ED%9D%91%EB%B0%B1-%EA%B7%B8%EB%A6%BC.jpg\n",
      "2019-02-15 13:42:26,784 - INFO - downloader - image #767\thttps://ae01.alicdn.com/kf/HTB1yl7zLVXXXXXeXVXXq6xXFXXXi/5-1-6-barbies-bjd-play-toys.jpg_640x640.jpg\n",
      "2019-02-15 13:42:26,822 - INFO - downloader - image #768\thttps://nestle.jp/brand/kit/inbound/common/images/limited/image07.png\n",
      "2019-02-15 13:42:26,935 - INFO - downloader - image #769\thttps://image.ytn.co.kr/general/jpg/2016/0618/201606180500202280_t.jpg\n",
      "2019-02-15 13:42:27,097 - INFO - parser - parsing result page https://www.google.com/search?q=%EA%B0%9C&ijn=4&start=400&tbs=cdr%3A1%2Ccd_min%3A01%2F01%2F2016%2Ccd_max%3A06%2F30%2F2016&tbm=isch\n",
      "2019-02-15 13:42:27,097 - INFO - downloader - image #770\thttp://image.edaily.co.kr/images/Photo/files/NP/S/2016/05/PS16050200620.jpg\n",
      "2019-02-15 13:42:27,124 - INFO - downloader - image #771\thttp://www.supercoloring.com/sites/default/files/styles/coloring_medium/public/cif/2015/10/leopard-gecko-coloring-page.png\n",
      "2019-02-15 13:42:27,135 - INFO - downloader - image #772\thttp://mysquareimg.godohosting.com/mysquare_img/yello_td/500/391_500.jpg\n",
      "2019-02-15 13:42:27,157 - INFO - downloader - image #773\thttps://ae01.alicdn.com/kf/HTB1iOQDJXXXXXXkaXXXq6xXFXXXb/20-8x11-925.jpg_640x640.jpg\n",
      "2019-02-15 13:42:27,229 - INFO - downloader - image #774\thttp://www.pitchone.co.kr/wp-content/uploads/2016/01/1-e1453538989932-750x350.jpg\n",
      "2019-02-15 13:42:27,265 - ERROR - downloader - Exception caught when downloading file http://images.bebranch.com/large/61/100307161_01.jpg, error: HTTPConnectionPool(host='images.bebranch.com', port=80): Max retries exceeded with url: /large/61/100307161_01.jpg (Caused by ConnectTimeoutError(<urllib3.connection.HTTPConnection object at 0x000001FD07AA8A20>, 'Connection to images.bebranch.com timed out. (connect timeout=5)')), remaining retry times: 2\n",
      "2019-02-15 13:42:27,283 - INFO - downloader - image #775\thttp://www.catskingdom.co.kr/data/goods/1463126300778m0.jpg\n",
      "2019-02-15 13:42:27,342 - INFO - downloader - image #776\thttp://nagasaki-airport.jp/ko/shop/recommendimg/50image1_20160512164337.jpg\n",
      "2019-02-15 13:42:27,381 - INFO - downloader - image #777\thttp://image.zdnet.co.kr/2016/01/03/sontech_fDQK0lO3FVIP.jpg\n",
      "2019-02-15 13:42:27,391 - INFO - downloader - image #778\thttps://i.ytimg.com/vi/CQIaSMcfL84/maxresdefault.jpg\n",
      "2019-02-15 13:42:27,597 - INFO - downloader - image #779\thttp://www.kkomegii.com/data/goods/4/405/12_500_1204_4_1449457304.jpg\n",
      "2019-02-15 13:42:27,634 - INFO - downloader - image #780\thttps://365dayschallenge.files.wordpress.com/2012/02/access-exchange.jpg?w=880\n",
      "2019-02-15 13:42:27,814 - INFO - downloader - image #781\thttp://img.hankyung.com/photo/201606/AA.11763956.1.jpg\n",
      "2019-02-15 13:42:27,849 - INFO - downloader - image #782\thttp://sbiznews.com/img2/newsimg/sbiznewspress/160503/12345.JPG\n",
      "2019-02-15 13:42:27,858 - INFO - downloader - image #783\thttp://m.kc-os.co.kr/mobile/images/joint/img_joint01.png\n",
      "2019-02-15 13:42:27,907 - INFO - downloader - image #784\thttp://www.inews365.com/data/photos/20160623/art_14654619209001.jpg\n",
      "2019-02-15 13:42:28,129 - INFO - downloader - image #785\thttp://cdnweb01.wikitree.co.kr/webdata/editor/201605/17/img_20160517143455_f2d635c6.jpg\n",
      "2019-02-15 13:42:28,393 - INFO - downloader - image #786\thttp://www.hbrkorea.com/upload_dir/board/0%EC%84%A0%EC%9D%BC0/4New%20Folder/16_04_29.png\n",
      "2019-02-15 13:42:28,415 - INFO - downloader - image #787\thttps://alphahousing.vn/wp-content/uploads/2018/06/Alpha-022-2.jpg\n",
      "2019-02-15 13:42:28,485 - INFO - downloader - image #788\thttps://i.pinimg.com/236x/9b/44/cc/9b44ccb51286441ecaee944231f110a7.jpg\n",
      "2019-02-15 13:42:28,505 - INFO - downloader - image #789\thttp://dongryeo.org/dr/data/file/dr_4org/1029963558_xcGvERjH_org1.gif\n",
      "2019-02-15 13:42:28,509 - INFO - downloader - image #790\thttps://besuccess.com/wp-content/uploads/2016/06/1-419x600.jpg\n",
      "2019-02-15 13:42:28,550 - INFO - downloader - image #791\thttp://phshell.com/wp-content/uploads/2016/04/8-6-%EB%A0%88%EB%93%9C-%ED%8C%90%EC%9E%90%EA%B0%9C-A-300x200.jpg\n",
      "2019-02-15 13:42:28,655 - INFO - downloader - image #792\thttps://shop.r10s.jp/roseoftheparty/cabinet/04637392/04637393/imgrc0065840214.jpg\n",
      "2019-02-15 13:42:28,670 - INFO - downloader - image #793\thttp://www.venturesquare.net/wp-content/uploads/2015/04/%EC%8A%A4%EB%A7%88%EC%9D%BC%EA%B2%8C%EC%9D%B4%ED%8A%B8-%ED%9D%AC%EB%A7%9D%EC%8A%A4%ED%8A%9C%EB%94%94%EC%98%A4%EC%98%A4%EB%A0%8C%EC%A7%80%ED%8C%9C-%EC%8B%A0%EC%B4%8C%EC%84%BC%ED%84%B0-%EA%B0%9C%EC%86%8C%EC%8B%9D.jpg\n",
      "2019-02-15 13:42:28,682 - INFO - downloader - image #794\thttp://www.jw.or.kr/sites/default/files/40yrsJW.jpg\n",
      "2019-02-15 13:42:28,706 - INFO - downloader - image #795\thttp://www.thebk.co.kr/news/photo/201602/180147_38055_1439.jpg\n",
      "2019-02-15 13:42:28,716 - INFO - downloader - image #796\thttps://file.namu.moe/file/8bc9e381797334eb33da66e3ba501be1158a530ac8c9a4360e50b53bff630640cb27533e6696b8054f6e9357225ec139064a8174e681c621c13f827267b3e4011396125f395acf081cf31e953e075f7ecebcf940e235d09d80c39799a19675fc\n",
      "2019-02-15 13:42:28,762 - INFO - downloader - image #797\thttps://t1.daumcdn.net/cfile/tistory/26783C3356A8AA570F\n",
      "2019-02-15 13:42:29,025 - INFO - downloader - image #798\thttps://t1.daumcdn.net/cfile/tistory/240922395730121201\n",
      "2019-02-15 13:42:29,067 - INFO - downloader - image #799\thttps://www.dogdrip.net/files/attach/dvs/16/02/29/78/233/417/092/73db640bbf5f378bb36805f20a6586b5.png\n",
      "2019-02-15 13:42:29,218 - INFO - downloader - image #800\thttp://image.fnnews.com/resource/media/image/2016/05/15/201605151728324554_l.jpg\n",
      "2019-02-15 13:42:29,250 - INFO - parser - parsing result page https://www.google.com/search?q=%EA%B0%9C&ijn=5&start=500&tbs=cdr%3A1%2Ccd_min%3A01%2F01%2F2016%2Ccd_max%3A06%2F30%2F2016&tbm=isch\n",
      "2019-02-15 13:42:29,700 - INFO - downloader - image #801\thttp://www.storybiz.co.kr/wp-content/uploads/2016/05/%EA%B0%9C%EC%86%8C%EC%8B%9D_%EC%84%AC%EB%84%A4%EC%9D%BC.png\n",
      "2019-02-15 13:42:29,700 - ERROR - downloader - Exception caught when downloading file http://myslovnik.cz/n_comu/data/tmp/KJmH9vTc1PGqFi47.jpg, error: HTTPConnectionPool(host='myslovnik.cz', port=80): Max retries exceeded with url: /n_comu/data/tmp/KJmH9vTc1PGqFi47.jpg (Caused by NewConnectionError('<urllib3.connection.HTTPConnection object at 0x000001FD029677F0>: Failed to establish a new connection: [Errno 11001] getaddrinfo failed',)), remaining retry times: 2\n",
      "2019-02-15 13:42:29,775 - INFO - downloader - image #802\thttp://www.hanbit.co.kr/data/books/B6091101354_l.jpg\n",
      "2019-02-15 13:42:29,905 - INFO - downloader - image #803\thttp://kfem.or.kr/wp-content/uploads/2016/06/%EA%B3%B5%EB%A6%89%EC%B2%9C%ED%9C%B4%EC%95%94%EB%B3%B4.bmp\n"
     ]
    },
    {
     "name": "stderr",
     "output_type": "stream",
     "text": [
      "2019-02-15 13:42:30,021 - ERROR - downloader - Exception caught when downloading file http://myslovnik.cz/n_comu/data/tmp/KJmH9vTc1PGqFi47.jpg, error: HTTPConnectionPool(host='myslovnik.cz', port=80): Max retries exceeded with url: /n_comu/data/tmp/KJmH9vTc1PGqFi47.jpg (Caused by NewConnectionError('<urllib3.connection.HTTPConnection object at 0x000001FD07C09DA0>: Failed to establish a new connection: [Errno 11001] getaddrinfo failed',)), remaining retry times: 1\n",
      "2019-02-15 13:42:30,055 - ERROR - downloader - Exception caught when downloading file http://myslovnik.cz/n_comu/data/tmp/KJmH9vTc1PGqFi47.jpg, error: HTTPConnectionPool(host='myslovnik.cz', port=80): Max retries exceeded with url: /n_comu/data/tmp/KJmH9vTc1PGqFi47.jpg (Caused by NewConnectionError('<urllib3.connection.HTTPConnection object at 0x000001FD07BB0EF0>: Failed to establish a new connection: [Errno 11001] getaddrinfo failed',)), remaining retry times: 0\n",
      "2019-02-15 13:42:30,083 - INFO - downloader - image #804\thttp://smile.seoul.kr/wp-content/themes/smile/images/sub/img_graph_2014s2.png\n",
      "2019-02-15 13:42:30,094 - INFO - downloader - image #805\thttp://gdimg.gmarket.co.kr/782466440/still/280\n",
      "2019-02-15 13:42:30,106 - INFO - downloader - image #806\thttp://dimg.donga.com/wps/NEWS/IMAGE/2016/01/18/75982152.1.jpg\n",
      "2019-02-15 13:42:30,300 - INFO - downloader - image #807\thttp://dimg.donga.com/egc/CDB/SHINDONGA/Article/14/64/15/16/1464151683264.jpg\n",
      "2019-02-15 13:42:30,300 - INFO - downloader - image #808\thttp://t1.daumcdn.net/liveboard/newsade/e8abf248d2ad483089030c8f95667714.jpg\n",
      "2019-02-15 13:42:30,500 - INFO - downloader - image #809\thttp://cdn.emetro.co.kr/imagebank/2016/04/18/0480/20160418000147.jpg\n",
      "2019-02-15 13:42:30,520 - INFO - downloader - image #810\thttp://www.ddaily.co.kr/data/photos/20160622/art_1464831628.jpg\n",
      "2019-02-15 13:42:30,547 - INFO - downloader - image #811\thttp://monamipet.com/shopimages/monami0153/001007000596.jpg?1456726388\n",
      "2019-02-15 13:42:30,601 - INFO - downloader - image #812\thttp://www.visualdive.com/wp-content/uploads/2015/04/ab159_thumbs.jpg\n",
      "2019-02-15 13:42:30,644 - INFO - downloader - image #813\thttp://channelfc.com/wp-content/uploads/2016/03/gh.png\n",
      "2019-02-15 13:42:30,673 - INFO - downloader - image #814\thttps://indigo.co.kr/web/product/medium/201605/6234_shop1_558966.jpg\n",
      "2019-02-15 13:42:30,741 - INFO - downloader - image #815\thttps://image.lawtimes.co.kr/images/99635(1).jpg\n",
      "2019-02-15 13:42:30,811 - INFO - downloader - image #816\thttp://i1.ruliweb.com/img/5/6/A/9/56A99D893B31220041\n",
      "2019-02-15 13:42:30,876 - INFO - downloader - image #817\thttp://azkoreapost.com/files/attach/images/161/461/001/2591c6328f7e91cf6f07315b0a0b6f4f.JPG\n",
      "2019-02-15 13:42:30,891 - INFO - downloader - image #818\thttps://file.bodnara.co.kr/webedit/news/2015/1462156311-libatt.png\n",
      "2019-02-15 13:42:30,898 - INFO - downloader - image #819\thttp://curlychoi.me/image/1b47f1d/food-english.jpg\n",
      "2019-02-15 13:42:31,382 - INFO - downloader - image #820\thttp://korean.roadconstruction-machine.com/photo/pl11847641-high_powered_3_stage_mast_6_tons_diesel_engine_forklift_trucks_for_warehouse.jpg\n",
      "2019-02-15 13:42:31,975 - INFO - downloader - image #821\thttp://image.kmib.co.kr/online_image/2016/0313/201603131109_61110010442144_1.jpg\n",
      "2019-02-15 13:42:32,044 - INFO - downloader - image #822\thttp://file3.knowhow.or.kr/attachment/11077:L/1\n",
      "2019-02-15 13:42:32,090 - INFO - downloader - image #823\thttp://www.mbcsportsplus.com/data/board/attach/2016/06/20160620101338_kiblnlpc.jpg\n",
      "2019-02-15 13:42:32,145 - INFO - downloader - image #824\thttps://indigo.co.kr/web/product/medium/201603/6070_shop1_448477.jpg\n",
      "2019-02-15 13:42:32,272 - ERROR - downloader - Exception caught when downloading file http://images.bebranch.com/large/61/100307161_01.jpg, error: HTTPConnectionPool(host='images.bebranch.com', port=80): Max retries exceeded with url: /large/61/100307161_01.jpg (Caused by ConnectTimeoutError(<urllib3.connection.HTTPConnection object at 0x000001FD0781B978>, 'Connection to images.bebranch.com timed out. (connect timeout=5)')), remaining retry times: 1\n",
      "2019-02-15 13:42:32,272 - INFO - downloader - image #825\thttp://cphoto.asiae.co.kr/listimglink/1/2016041218000621322_1.jpg\n",
      "2019-02-15 13:42:32,485 - INFO - downloader - image #826\thttp://www.zestsports.kr/data/goods/1/2017/05/784_2017051310071415.jpg\n",
      "2019-02-15 13:42:32,501 - INFO - downloader - image #827\thttp://www.inews365.com/data/photos/20160521/art_14639885372732.jpg\n",
      "2019-02-15 13:42:32,537 - INFO - downloader - image #828\thttp://www.locknlockmall.com/data/base/goods/big/201614761358082.jpg\n",
      "2019-02-15 13:42:32,549 - INFO - downloader - image #829\thttp://shadedcommunity.com/wp-content/uploads/2017/10/%EC%84%A0-%EC%84%B8%EC%85%98%EC%8A%A4.jpg\n",
      "2019-02-15 13:42:32,583 - INFO - downloader - image #830\thttp://store.edupre.co.kr/_prozn/_data/ykmall/picture/14630179136900/14630179136900A_500.jpg\n",
      "2019-02-15 13:42:32,612 - INFO - downloader - image #831\thttp://img.danawa.com/cp_images/service/162/3527336/151609527421807753781.jpg\n",
      "2019-02-15 13:42:32,619 - INFO - downloader - image #832\thttp://image.kyobobook.co.kr/newimages/giftshop_new/goods/400/1020/S1455854832274.jpg\n",
      "2019-02-15 13:42:32,704 - INFO - downloader - image #833\thttps://www.claychannel.co.kr/clay_mall/upload/goods/a15803_%B8%AE%BA%BB%C5%E4%B3%A2%28%B0%EF%BB%F6%29.jpg\n",
      "2019-02-15 13:42:32,758 - INFO - downloader - image #834\thttp://www.tool79.com/data/goods/201607/1212_24182440view.jpg\n",
      "2019-02-15 13:42:32,799 - INFO - downloader - image #835\thttp://www.ntrexgo.com/wp-content/uploads/2016/01/34-ICT-%EA%B0%9C04.png\n",
      "2019-02-15 13:42:32,841 - INFO - downloader - image #836\thttp://www.i-screammall.co.kr/data/sigong/images/product_new/18/00/50/m_180050.gif\n",
      "2019-02-15 13:42:32,944 - INFO - downloader - image #837\thttp://cri.snu.ac.kr/cri_board/board_download.php?nocount=1&code=notice&num=312\n",
      "2019-02-15 13:42:33,027 - INFO - downloader - image #838\thttp://tong.joins.com/wp-content/uploads/sites/3/2015/12/JOE_8493-1_-1024x572.jpg\n",
      "2019-02-15 13:42:33,070 - INFO - downloader - image #839\thttp://img.hani.co.kr/imgdb/resize/2016/0518/00520860401_20160518.JPG\n",
      "2019-02-15 13:42:33,144 - INFO - downloader - image #840\thttp://www.lovesbeauty.co.kr/news/photo/201606/25092_36068_5016.jpg\n",
      "2019-02-15 13:42:33,193 - WARNING - urllib3.connectionpool - Failed to parse headers (url=https://www.kict.re.kr:443/data/board/3/20160329/c677e89f2387778c4d87f20fbea6b3c2b.jpg): [MissingHeaderBodySeparatorDefect()], unparsed data: 'Server : Wow 3.8\\r\\nContent-Type: image/jpeg\\r\\nContent-Length: 431397\\r\\nLast-Modified: Tue, 29 Mar 2016 10:06:41 GMT\\r\\nETag: \"69525-52f2d2f88f794\"\\r\\nAccept-Ranges: bytes\\r\\nKeep-Alive: timeout=5\\r\\nConnection: Keep-Alive\\r\\n\\r\\n'\n",
      "Traceback (most recent call last):\n",
      "  File \"c:\\users\\user\\appdata\\local\\programs\\python\\python36\\lib\\site-packages\\urllib3\\connectionpool.py\", line 396, in _make_request\n",
      "    assert_header_parsing(httplib_response.msg)\n",
      "  File \"c:\\users\\user\\appdata\\local\\programs\\python\\python36\\lib\\site-packages\\urllib3\\util\\response.py\", line 72, in assert_header_parsing\n",
      "    raise HeaderParsingError(defects=defects, unparsed_data=unparsed_data)\n",
      "urllib3.exceptions.HeaderParsingError: [MissingHeaderBodySeparatorDefect()], unparsed data: 'Server : Wow 3.8\\r\\nContent-Type: image/jpeg\\r\\nContent-Length: 431397\\r\\nLast-Modified: Tue, 29 Mar 2016 10:06:41 GMT\\r\\nETag: \"69525-52f2d2f88f794\"\\r\\nAccept-Ranges: bytes\\r\\nKeep-Alive: timeout=5\\r\\nConnection: Keep-Alive\\r\\n\\r\\n'\n",
      "2019-02-15 13:42:33,221 - INFO - downloader - image #841\thttp://www.ecouponville.com/files/attach/images/9282/319/017/e1c552b86b276bd8f6e1d1df07ebc0ea.png\n",
      "2019-02-15 13:42:33,223 - INFO - downloader - image #842\thttp://labortoday.co.kr/news/photo/201606/138419_61150_2054.jpg\n",
      "2019-02-15 13:42:33,274 - INFO - downloader - image #843\thttps://www.kaap.or.kr/images/signdog_4.jpg\n",
      "2019-02-15 13:42:33,284 - INFO - downloader - image #844\thttp://newsfield.net/wp-content/uploads/2017/10/UN_emblem.jpg\n",
      "2019-02-15 13:42:33,322 - INFO - downloader - image #845\thttps://img1.yna.co.kr/photo/yna/YH/2016/02/24/PYH2016022403630001300_P2.jpg\n",
      "2019-02-15 13:42:33,395 - INFO - downloader - image #846\thttp://vote.ccej.or.kr/wp-content/uploads/2016/04/1.png\n"
     ]
    },
    {
     "name": "stderr",
     "output_type": "stream",
     "text": [
      "2019-02-15 13:42:33,417 - INFO - downloader - image #847\thttp://img.gqkorea.co.kr/gq/2016/05/style_573f227caca3a.jpg\n",
      "2019-02-15 13:42:33,442 - INFO - downloader - image #848\thttp://www.concretekorea.com/shop/data/goods/1463060216933m0.jpg\n",
      "2019-02-15 13:42:33,489 - INFO - downloader - image #849\thttp://thumbnail.10x10.co.kr/webimage/image/add1_600/146/A001463503_01.jpg?cmd=thumb&w=500&h=500&fit=true&ws=false\n",
      "2019-02-15 13:42:33,544 - INFO - downloader - image #850\thttp://img.hani.co.kr/imgdb/resize/2016/0503/146218526849_20160503.JPG\n",
      "2019-02-15 13:42:33,572 - INFO - downloader - image #851\thttp://vote.ccej.or.kr/wp-content/uploads/2016/04/5.png\n",
      "2019-02-15 13:42:33,606 - INFO - downloader - image #852\thttps://media-cdn.tripadvisor.com/media/photo-s/09/fa/ec/70/restaurace-mlejnice.jpg\n",
      "2019-02-15 13:42:33,662 - INFO - downloader - image #853\thttp://president.globalwindow.org/crosseditor/binary/images/000028/%EC%84%B8%EA%B3%84%EB%A5%BC_%EB%A7%A4%ED%98%B9%EC%8B%9C%ED%82%A8_78%EA%B0%9C_%EC%8A%A4%EB%AA%B0%EB%9F%AD%EC%85%94%EB%A6%AC_%EC%83%81%ED%92%88_%EB%AA%A9%EC%B0%A82.jpg\n",
      "2019-02-15 13:42:33,947 - INFO - downloader - image #854\thttps://image.ytn.co.kr/general/jpg/2016/0218/201602181550062440_t.jpg\n",
      "2019-02-15 13:42:34,264 - INFO - downloader - image #855\thttps://www.netmark.or.kr/fdir/homepage/photo/20160422142128_4t63xm4alfv2h6e8.jpg\n",
      "2019-02-15 13:42:34,313 - INFO - downloader - image #856\thttp://www.jlcxwb.com.cn/sports/img/attachement/jpg/site3/20160317/90fba600ab9918546a4905.jpg\n",
      "2019-02-15 13:42:34,360 - INFO - downloader - image #857\thttp://www.alddri.co.kr/data/goodsImage/middle/bar_2036700000109_%ED%99%8D%EC%98%A5%EC%82%AC%EA%B3%BC_1%EA%B0%9C.jpg\n",
      "2019-02-15 13:42:34,388 - INFO - downloader - image #858\thttp://www.nalgaehospital.com/m/img/sub2/con1_1_4.jpg\n",
      "2019-02-15 13:42:34,524 - INFO - downloader - image #859\thttps://www.boannews.com/media/upFiles/0105-bank.jpg\n",
      "2019-02-15 13:42:34,552 - INFO - downloader - image #860\thttp://www.khgames.co.kr/news/photo/201806/113063_71663_2819.jpg\n",
      "2019-02-15 13:42:34,690 - INFO - downloader - image #861\thttp://image.auction.co.kr/itemimage/e0/82/8b/e0828bda3.jpg\n",
      "2019-02-15 13:42:34,794 - INFO - downloader - image #862\thttp://toolmt.co.kr/autocart/co_img/item_big_361205_gw0050L.jpg\n",
      "2019-02-15 13:42:34,842 - INFO - downloader - image #863\thttps://www.afterschool.go.kr/resource/images/contents/afterschoolPrize/afterschool_prize_img.gif\n",
      "2019-02-15 13:42:34,976 - INFO - downloader - image #864\thttp://tkfile.yes24.com/upload2/PerfBlog/201601/20160111/20160111-20151214-20151116-22451_1[1][1].jpg\n",
      "2019-02-15 13:42:35,093 - INFO - downloader - image #865\thttp://www.looah.com/images//avatar/015/9839af5de2d03d786126eb520fa4ee23_s.jpg?1466528436\n",
      "2019-02-15 13:42:35,178 - INFO - downloader - image #866\thttps://image.ytn.co.kr/general/jpg/2016/0425/201604251101526752_t.jpg\n",
      "2019-02-15 13:42:35,178 - INFO - downloader - image #867\thttp://az837918.vo.msecnd.net/publishedimages/articles/194/ko-KR/images/1/dog-sledding-in-alberta-is-wild-and-wonderful-L-8.jpg\n",
      "2019-02-15 13:42:35,217 - INFO - downloader - image #868\thttps://i.pinimg.com/236x/cb/a5/5d/cba55dffe64342ab7e7defa0d5a8e3b8--dog-tattoos-sausage-dogs.jpg\n",
      "2019-02-15 13:42:35,281 - INFO - downloader - image #869\thttp://www.sbiz.or.kr/fcs/images/img_fcs1_2.png\n",
      "2019-02-15 13:42:35,331 - INFO - downloader - image #870\thttp://www.cnmh.go.kr/cnmh/jsp/download_image.jsp?physical_name=/2016/05/20160515200947853028_1.jpg\n",
      "2019-02-15 13:42:35,347 - INFO - downloader - image #871\thttps://pds.joins.com/news/component/JTBC/201605/12/201605121145116136.jpg\n",
      "2019-02-15 13:42:35,372 - INFO - downloader - image #872\thttps://pds.joins.com/news/component/newsis/201606/30/NISI20160630_0011866822_web.jpg\n",
      "2019-02-15 13:42:35,446 - INFO - downloader - image #873\thttp://www.allrighthosp.kr/uploads/bw1509002/201602/a9938b82da6ae833cdaae24796def1a8_crop.jpg?t=152f21ca45d\n",
      "2019-02-15 13:42:35,560 - INFO - downloader - image #874\thttps://www.pulmuoneshop.co.kr/upload/images/goods/6333/20160114042508937.jpg\n",
      "2019-02-15 13:42:35,740 - INFO - downloader - image #875\thttp://kr.people.com.cn/NMediaFile/2016/0218/FOREIGN201602180849000398342707541.jpg\n",
      "2019-02-15 13:42:36,001 - INFO - downloader - image #876\thttp://pet.chosun.com/images/news/healthchosun_pet_201801/20180111173226_1529_4365_2229.jpg\n",
      "2019-02-15 13:42:36,158 - INFO - downloader - image #877\thttp://img.wemep.co.kr/deal/7/909/2579097/214c97da908a829b26165e17d4d50e3c2e82bd45.jpg\n",
      "2019-02-15 13:42:36,234 - INFO - downloader - image #878\thttps://ncache.ilbe.com/files/attach/new/20160616/377678/4373387777/8241053404/6dfc078062c04faf111bac4318965227.jpg\n",
      "2019-02-15 13:42:36,361 - INFO - downloader - image #879\thttp://img.tf.co.kr/article/home/2016/02/13/201635491455365327.jpg\n",
      "2019-02-15 13:42:36,619 - INFO - downloader - image #880\thttps://c1.staticflickr.com/2/1527/26325101922_8a5edbddf6_b.jpg\n",
      "2019-02-15 13:42:36,729 - INFO - downloader - image #881\thttps://ae01.alicdn.com/kf/HTB1dP2iKpXXXXbfXVXXq6xXFXXXs/1-58.jpg_640x640.jpg\n",
      "2019-02-15 13:42:36,729 - INFO - downloader - image #882\thttp://iws.danawa.com/prod_img/500000/956/558/desc/prod_2558956/add_2/0.750409001430878511.jpg\n",
      "2019-02-15 13:42:36,784 - INFO - downloader - image #883\thttp://www.topstarnews.net/news/photo/first/201601/img_176424_1_org.jpg\n",
      "2019-02-15 13:42:36,848 - INFO - downloader - image #884\thttps://www.kipost.net/news/photo/old/238291401_1540527677.7981.jpg\n",
      "2019-02-15 13:42:36,960 - INFO - downloader - image #885\thttps://images.kbench.com/kbench/article/2017_07/k179947p1n1.jpg\n",
      "2019-02-15 13:42:37,032 - INFO - downloader - image #886\thttp://www.jutek.kr/uploadFile/20150805//201508051744524c2abce3-f9e4-4378-b1e8-b58771e52c12.jpg\n",
      "2019-02-15 13:42:37,066 - INFO - downloader - image #887\thttps://img.travel.rakuten.co.jp/mytrip/content/trend/hotaru/images/key.jpg\n",
      "2019-02-15 13:42:37,163 - INFO - downloader - image #888\thttp://img.etnews.com/photonews/1604/791670_20160412150236_909_0001.jpg\n",
      "2019-02-15 13:42:37,235 - INFO - downloader - image #889\thttp://kr.people.com.cn/NMediaFile/2016/0517/FOREIGN201605170851000041718774181.jpg\n",
      "2019-02-15 13:42:37,247 - INFO - downloader - image #890\thttp://www.allrighthosp.kr/uploads/bw1509002/201602/b7959d7578b6fdc1425913d99dbf5814_crop.jpg?t=15318160b8b\n",
      "2019-02-15 13:42:37,285 - ERROR - downloader - Exception caught when downloading file http://images.bebranch.com/large/61/100307161_01.jpg, error: HTTPConnectionPool(host='images.bebranch.com', port=80): Max retries exceeded with url: /large/61/100307161_01.jpg (Caused by ConnectTimeoutError(<urllib3.connection.HTTPConnection object at 0x000001FD02DC5518>, 'Connection to images.bebranch.com timed out. (connect timeout=5)')), remaining retry times: 0\n",
      "2019-02-15 13:42:37,466 - INFO - downloader - image #891\thttp://image.zdnet.co.kr/2016/06/20/sontech_t2LIg6J8mpGm.jpg\n",
      "2019-02-15 13:42:37,477 - INFO - downloader - image #892\thttp://menu.mt.co.kr/moneyweek/thumb/2016/04/20/06/2016042017358021209_1.jpg\n",
      "2019-02-15 13:42:37,523 - INFO - downloader - image #893\thttp://img.kbs.co.kr/cms/2tv/enter/gagman/about/program/__icsFiles/artimage/2016/05/17/wmegm011/plan.jpg\n",
      "2019-02-15 13:42:37,615 - INFO - downloader - image #894\thttp://www.4seasonwrap.com/files/attach/images/1359/689/013/4b7bd4ea611e6acc68567150a75a6207.jpg\n",
      "2019-02-15 13:42:37,793 - INFO - downloader - image #895\thttps://www.jbplaza.com/data/shop/item/1425884584_l1\n",
      "2019-02-15 13:42:37,872 - INFO - downloader - image #896\thttp://www.doguri.com/uploads/ww1603002/201603/bfb9330104e484e7e89121f86899c684_crop.png\n",
      "2019-02-15 13:42:37,964 - INFO - downloader - image #897\thttp://postfiles6.naver.net/20160303_261/shoulderfoot_14569693797240Wv9C_JPEG/%BE%EE%B1%FA_%C8%B8%C0%FC%B1%D9%B0%B3_%C6%C4%BF%AD.png?type=w1\n",
      "2019-02-15 13:42:38,252 - INFO - downloader - image #898\thttp://images.veritas.kr/data/images/full/20704/child_01.png?w=600\n",
      "2019-02-15 13:42:38,296 - INFO - downloader - image #899\thttps://ae01.alicdn.com/kf/HTB12UFKSpXXXXciXXXXq6xXFXXXS/3-4.jpg\n",
      "2019-02-15 13:42:38,303 - INFO - downloader - image #900\thttp://www.storybiz.co.kr/wp-content/uploads/2016/05/%EA%B0%9C%EC%86%8C%EC%8B%9D_%EC%A2%85%EC%9D%B4%EB%8F%BC%EC%A7%80%EB%A8%B8%EB%A6%AC.png\n",
      "2019-02-15 13:42:38,364 - INFO - downloader - image #901\thttp://img009.feelway.com/goods_image/fpho_2019_bd16pd2019238621ed2/Ot_2%EC%83%89%EC%83%81%EC%9D%84_%EA%B0%80%EC%A7%84_%EB%B8%94%EB%A3%A8%EC%B9%BC%EC%84%B8%EB%8F%84%EB%8B%88%EC%99%80_%EB%8B%A4%EC%9D%B4%EC%95%8426%EA%B0%9C%EC%85%8B%ED%8C%85_%ED%99%94%EC%9D%B4%ED%8A%B8%EA%B3%A8%EB%93%9C2%EB%8F%88%EB%B0%98%EC%A7%80_2.jpg\n"
     ]
    },
    {
     "name": "stderr",
     "output_type": "stream",
     "text": [
      "2019-02-15 13:42:38,387 - INFO - downloader - image #902\thttp://www.foodtoday.or.kr/data/photos/20150314/art_1427762147.jpg\n",
      "2019-02-15 13:42:38,481 - INFO - downloader - image #903\thttps://t1.daumcdn.net/cfile/tistory/2365E94E571953160D\n",
      "2019-02-15 13:42:38,508 - INFO - downloader - image #904\thttp://store.edupre.co.kr/_prozn/_data/ykmall/picture/14594129451500/14594129451500A_500.jpg\n",
      "2019-02-15 13:42:38,541 - INFO - downloader - image #905\thttps://seoulsolution.kr/sites/default/files/images/%EC%8A%A4%EB%A7%88%ED%8A%B8%ED%8F%B0.JPG\n",
      "2019-02-15 13:42:38,548 - INFO - downloader - image #906\thttps://image.biccamera.com/img/00000001827244_A01.jpg?sr.dw=600&sr.jqh=60&sr.dh=600&sr.mat=1\n",
      "2019-02-15 13:42:38,883 - INFO - downloader - image #907\thttps://lh3.googleusercontent.com/-wfi0KSxlONI/VPAkCoNcV3I/AAAAAAAA18c/THq_e0M4Bfs/s800-Ic42/20150227_102241.jpg\n",
      "2019-02-15 13:42:39,045 - INFO - downloader - image #908\thttps://www.kict.re.kr/data/board/3/20160329/c677e89f2387778c4d87f20fbea6b3c2b.jpg\n",
      "2019-02-15 13:42:39,242 - INFO - downloader - image #909\thttps://cdn-images-1.medium.com/max/1024/1*Rn_CSy25p9YvkV-v185h2g.jpeg\n",
      "2019-02-15 13:42:39,504 - INFO - downloader - image #910\thttp://img.etoday.co.kr/pto_db/2016/05/20160517101223_871515_770_1185.jpg\n",
      "2019-02-15 13:42:39,519 - INFO - downloader - image #911\thttp://www.frans.co.kr/data/file/total/1794397261_3mClOpwi_EC9DB8ECA69DECA09C.png\n",
      "2019-02-15 13:42:39,569 - INFO - downloader - image #912\thttp://img.seoul.co.kr/img/upload/2016/04/21/SSI_20160421143600_V.jpg\n",
      "2019-02-15 13:42:39,605 - INFO - downloader - image #913\thttp://www.ntrexgo.com/wp-content/uploads/2016/01/34%EA%B0%9C%EC%BE%8C%EB%B3%8026.jpg\n",
      "2019-02-15 13:42:39,902 - INFO - downloader - image #914\thttps://image.aladin.co.kr/product/3760/73/letslook/8925542285_f.jpg\n",
      "2019-02-15 13:42:40,045 - INFO - downloader - image #915\thttps://mi0.rightinthebox.com/images/384x384/201604/slfegf1461746347902.jpg\n",
      "2019-02-15 13:42:40,073 - INFO - downloader - image #916\thttp://file.thisisgame.com/upload/tboard/user/2016/01/30/20160130170443_5370.jpg\n",
      "2019-02-15 13:42:40,112 - INFO - downloader - image #917\thttps://get.pxhere.com/photo/hair-white-puppy-dog-animal-cute-canine-pet-fur-small-mammal-haircut-salon-domestic-dog-breed-lhasa-apso-cavapoo-maltese-grooming-miniature-poodle-cockapoo-toy-poodle-groomer-pet-grooming-dog-grooming-havanese-dog-like-mammal-dog-breed-group-schnoodle-dandie-dinmont-terrier-dog-crossbreeds-cavachon-poodle-crossbreed-678977.jpg\n",
      "2019-02-15 13:42:40,404 - INFO - downloader - image #918\thttp://www.magicblock.co.kr/shop/data/goods/145688397245s0.gif\n",
      "2019-02-15 13:42:40,441 - INFO - downloader - image #919\thttp://seoul-os.co.kr/files/attach/images/155/233/a8c54e566022e03fbc5d9b1636637d60.jpg\n",
      "2019-02-15 13:42:40,517 - INFO - downloader - image #920\thttp://www.pttimes.com//news/photo/201602/37112_37613_5412.jpg\n",
      "2019-02-15 13:42:40,554 - INFO - downloader - image #921\thttp://medigatenews.com/file/news/22617\n",
      "2019-02-15 13:42:40,618 - INFO - downloader - image #922\thttp://www.puppiz.net/kr/s/207x125/%EA%B0%9C-%EC%B9%B4%ED%8E%98%EC%9D%98-%EC%A7%91%ED%95%A9%EC%9D%98-%EA%B0%9C%EB%B0%9C.jpg\n",
      "2019-02-15 13:42:40,618 - INFO - downloader - image #923\thttp://www.ilovepc.co.kr/news/photo/201602/12436_8065_2653.jpg\n",
      "2019-02-15 13:42:40,749 - INFO - downloader - image #924\thttp://mall.livart.co.kr/UserFiles/data/image/detail/PRO133/PRO13396/PRO13396_00000000_detail1_ORIGIN.jpg\n",
      "2019-02-15 13:42:40,912 - ERROR - downloader - Exception caught when downloading file https://www.lensfree.net/media/catalog/product/cache/4/thumbnail/9df78eab33525d08d6e5fb8d27136e95/i/m/img_fl1r_2.jpg, error: ('Connection aborted.', ConnectionResetError(10054, '현재 연결은 원격 호스트에 의해 강제로 끊겼습니다', None, 10054, None)), remaining retry times: 2\n",
      "2019-02-15 13:42:41,033 - ERROR - downloader - Exception caught when downloading file https://www.lensfree.net/media/catalog/product/cache/4/thumbnail/9df78eab33525d08d6e5fb8d27136e95/i/m/img_fl1r_2.jpg, error: ('Connection aborted.', ConnectionResetError(10054, '현재 연결은 원격 호스트에 의해 강제로 끊겼습니다', None, 10054, None)), remaining retry times: 1\n",
      "2019-02-15 13:42:41,066 - INFO - downloader - image #925\thttps://news.samsung.com/kr/wp-content/uploads/2016/05/%ED%81%AC%EA%B8%B0%EB%B3%80%ED%99%982_01-3.jpg\n",
      "2019-02-15 13:42:41,101 - ERROR - downloader - Exception caught when downloading file https://www.lensfree.net/media/catalog/product/cache/4/thumbnail/9df78eab33525d08d6e5fb8d27136e95/i/m/img_fl1r_2.jpg, error: ('Connection aborted.', ConnectionResetError(10054, '현재 연결은 원격 호스트에 의해 강제로 끊겼습니다', None, 10054, None)), remaining retry times: 0\n",
      "2019-02-15 13:42:41,324 - INFO - downloader - image #926\thttp://toolmt.co.kr/autocart/co_img/item_big_360708_gw0015L.jpg\n",
      "2019-02-15 13:42:41,527 - INFO - downloader - image #927\thttp://customerfile.incruit.com/2016/brand/20160309_4.png\n",
      "2019-02-15 13:42:41,527 - INFO - downloader - image #928\thttps://www.unicef.or.kr/upload/ckeditor/280/liberia_2(0).jpg\n",
      "2019-02-15 13:42:41,572 - INFO - downloader - image #929\thttp://cgne.co.kr/wp-content/uploads/2016/02/%EC%A1%B0%EC%84%A0%EA%B8%B0%EC%9E%90%EC%9E%AC.jpg\n",
      "2019-02-15 13:42:41,669 - INFO - downloader - image #930\thttp://img.hani.co.kr/imgdb/resize/2016/0610/146545107291_20160610.JPG\n",
      "2019-02-15 13:42:41,713 - INFO - downloader - image #931\thttp://www.consumerwide.com/news/photo/201605/9722_14801_1525.jpg\n",
      "2019-02-15 13:42:41,757 - INFO - downloader - image #932\thttp://www.nsdi.go.kr/lxportal/images/introduce/cont0204-img1-1.jpg\n",
      "2019-02-15 13:42:41,811 - INFO - downloader - image #933\thttp://www.korea-press-production.com/wp-content/uploads/2016/06/fusion-region.jpg\n",
      "2019-02-15 13:42:41,901 - INFO - downloader - image #934\thttp://gi.esmplus.com/silkriverfd/dokdo/topokki/oldnew/B_1_5.jpg\n",
      "2019-02-15 13:42:41,970 - INFO - downloader - image #935\thttps://upload.wikimedia.org/wikipedia/commons/thumb/f/f7/Gatlin_Green_by_Gage_Skidmore.jpg/250px-Gatlin_Green_by_Gage_Skidmore.jpg\n",
      "2019-02-15 13:42:41,987 - INFO - downloader - image #936\thttp://www.jajusibo.com/imgdata/jajuilbo_com/201605/201605300347237.jpg\n",
      "2019-02-15 13:42:42,226 - INFO - downloader - image #937\thttps://s-i.huffpost.com/gen/3853418/thumbs/o-KENDRA-TRENT-570.jpg?7\n",
      "2019-02-15 13:42:42,283 - INFO - downloader - image #938\thttp://www.newsmin.co.kr/news/wp-content/uploads/2016/06/%EC%88%98%EC%84%B1%EA%B5%AC01-1.jpg\n",
      "2019-02-15 13:42:42,400 - INFO - downloader - image #939\thttps://i.ytimg.com/vi/NzJKcb6nbHk/maxresdefault.jpg\n",
      "2019-02-15 13:42:42,411 - INFO - downloader - image #940\thttp://kfem.or.kr/wp-content/uploads/2016/03/%EC%A0%95%EC%B1%85%EB%89%B4%EC%8A%A4%EC%B9%B4%EB%93%9C2-11.jpg\n",
      "2019-02-15 13:42:42,422 - INFO - downloader - image #941\thttp://farm8.staticflickr.com/7351/12313753553_6bbde4afaf_b.jpg\n",
      "2019-02-15 13:42:42,445 - INFO - downloader - image #942\thttp://www.4seasonwrap.com/files/attach/images/1359/874/008/3d9223751c0b2b5747b0c5d313ccc390.jpg\n",
      "2019-02-15 13:42:42,960 - INFO - downloader - image #943\thttp://cdnweb01.wikitree.co.kr/webdata/editor/201604/27/img_20160427100602_0ed4ce46.jpg\n",
      "2019-02-15 13:42:43,065 - INFO - downloader - image #944\thttp://img.newspim.com/news/2016/02/23/1602231427119100.jpg\n",
      "2019-02-15 13:42:43,166 - INFO - downloader - image #945\thttp://www.pressm.kr/news/photo/201605/8001_4219_396.jpg\n",
      "2019-02-15 13:42:43,222 - INFO - downloader - image #946\thttp://news.unist.ac.kr/kor/wp-content/uploads/2016/06/%EA%B3%BC%EA%B8%B0%ED%8A%B9%EC%84%B1%ED%99%94%EB%8C%80-%EC%B4%9D%EC%9E%A5%ED%98%91%EC%9D%98%ED%9A%8C1.jpg\n",
      "2019-02-15 13:42:43,236 - INFO - downloader - image #947\thttp://www.hantoday.net/news/photo/201610/img_14054_7394_13834.jpg\n",
      "2019-02-15 13:42:43,364 - INFO - downloader - image #948\thttps://shop.r10s.jp/kimusato/cabinet/03614326/03620591/kumamoncrunch3.jpg\n",
      "2019-02-15 13:42:43,369 - INFO - downloader - image #949\thttp://gi.esmplus.com/oneplusm/images2/thumbnail_photo/00331.jpg\n",
      "2019-02-15 13:42:43,539 - INFO - downloader - image #950\thttp://image.auction.co.kr/itemimage/f4/df/1e/f4df1e9e0.jpg\n",
      "2019-02-15 13:42:43,602 - INFO - downloader - image #951\thttp://image.cine21.com/resize/cine21/still/2006/0310/M0020060_eightbelow_still05[H800-].jpg\n",
      "2019-02-15 13:42:43,619 - INFO - downloader - image #952\thttp://www.amn.kr/imgdata/dj_hinews_asia/201604/2016041307227135.jpg\n"
     ]
    },
    {
     "name": "stderr",
     "output_type": "stream",
     "text": [
      "2019-02-15 13:42:43,669 - INFO - downloader - image #953\thttp://www.itworld.co.kr/sites/default/files/image/2016/01/play-store-malware-apps-100637206-large.png\n",
      "2019-02-15 13:42:43,685 - INFO - downloader - image #954\thttp://platum.kr/wp-content/uploads/2016/02/The-Unicorn-List.jpeg\n",
      "2019-02-15 13:42:43,694 - INFO - downloader - image #955\thttp://image.zdnet.co.kr/2016/01/26/jysong_wPRKBRXVyX84t.jpg\n",
      "2019-02-15 13:42:43,737 - INFO - downloader - image #956\thttp://blog.cheil.com/wp-content/uploads/2016/05/20160517_020833.jpg\n",
      "2019-02-15 13:42:43,772 - INFO - parser - parsing result page https://www.google.com/search?q=%EA%B0%9C&ijn=6&start=600&tbs=cdr%3A1%2Ccd_min%3A01%2F01%2F2016%2Ccd_max%3A06%2F30%2F2016&tbm=isch\n",
      "2019-02-15 13:42:43,818 - INFO - downloader - image #957\thttp://pbs.twimg.com/media/CPvMLIHUkAAxm-N.jpg\n",
      "2019-02-15 13:42:43,850 - INFO - downloader - image #958\thttp://www.weeklycart.com/data/item/t322761_m\n",
      "2019-02-15 13:42:43,956 - INFO - downloader - image #959\thttp://www.wdynews.co.kr/news/photo/201603/459091_4422_5741.jpg\n",
      "2019-02-15 13:42:44,027 - INFO - downloader - image #960\thttp://www.controlmart.co.kr/shop/product/ati-tsro2hvr-DIY-7R-10V15S-10S3160/LargePictureB/ati-tsro2hvr-DIY-7R-10V15S-10S3160_1.jpg\n",
      "2019-02-15 13:42:44,050 - INFO - downloader - image #961\thttps://image.webtoonguide.com/xe/attach/images/187/509/009/16b7e03fe9aac23030eb6dff90aa8df5.jpg\n",
      "2019-02-15 13:42:44,143 - INFO - downloader - image #962\thttp://menu.mt.co.kr/moneyweek/thumb/2016/03/14/06/2016031410108080291_1.jpg\n",
      "2019-02-15 13:42:44,157 - INFO - downloader - image #963\thttp://president.globalwindow.org/crosseditor/binary/images/000028/%EC%84%B8%EA%B3%84%EB%A5%BC_%EB%A7%A4%ED%98%B9%EC%8B%9C%ED%82%A8_78%EA%B0%9C_%EC%8A%A4%EB%AA%B0%EB%9F%AD%EC%85%94%EB%A6%AC_%EC%83%81%ED%92%88_%EB%AA%A9%EC%B0%A87.jpg\n",
      "2019-02-15 13:42:44,240 - INFO - downloader - image #964\thttps://t1.daumcdn.net/cfile/tistory/255CAD4E5719531708\n",
      "2019-02-15 13:42:44,378 - INFO - downloader - image #965\thttps://www.sbs.com.au/yourlanguage/sites/sbs.com.au.yourlanguage/files/podcasts//site_197_Korean_495546.JPG\n",
      "2019-02-15 13:42:44,423 - INFO - downloader - image #966\thttp://img.khan.co.kr/news/2015/06/24/khan_ccP95e.jpg\n",
      "2019-02-15 13:42:44,463 - INFO - downloader - image #967\thttp://img.hani.co.kr/imgdb/resize/2016/0407/00554898401_20160407.JPG\n",
      "2019-02-15 13:42:44,523 - INFO - downloader - image #968\thttp://cscience.skku.edu/_res/_upload_image/2016-04/weqrvwnrensl.jpg\n",
      "2019-02-15 13:42:44,571 - INFO - downloader - image #969\thttps://travelblog.expedia.co.kr/wp-content/uploads/2015/11/01.png\n",
      "2019-02-15 13:42:44,611 - INFO - downloader - image #970\thttps://mi0.rightinthebox.com/images/384x384/201605/qgwiab1462498354518.jpg\n",
      "2019-02-15 13:42:44,664 - INFO - downloader - image #971\thttp://www.gametoc.co.kr/news/photo/201605/39700_73358_1337.jpg\n",
      "2019-02-15 13:42:44,683 - INFO - downloader - image #972\thttp://img.danawa.com/prod_img/500000/436/467/img/1467436_1.jpg?shrink=500:500&_v=20170203163319\n",
      "2019-02-15 13:42:44,699 - INFO - downloader - image #973\thttp://image.edaily.co.kr/images/Photo/files/NP/S/2016/04/PS16041800547.jpg\n",
      "2019-02-15 13:42:44,783 - INFO - downloader - image #974\thttp://hellodd.com/data/photos/20160102/art_1452751891.jpg\n",
      "2019-02-15 13:42:45,057 - INFO - downloader - image #975\thttp://globalkoreanews.com/wp-content/uploads/2016/03/%EC%84%B1%EC%9D%B8%EA%B6%8C%EA%B5%90%EC%9C%A1.png\n",
      "2019-02-15 13:42:45,058 - INFO - downloader - image #976\thttp://image.chosun.com/sitedata/image/201605/20/2016052000205_0.jpg\n",
      "2019-02-15 13:42:45,259 - INFO - downloader - image #977\thttp://safe100.or.kr/wp-content/uploads/%EC%95%88%EA%B7%9C%EB%B0%B1-%EC%84%A0%EA%B1%B0%EC%82%AC%EB%AC%B4%EC%86%8C-%EA%B0%9C%EC%86%8C%EC%8B%9D-425x600.jpg\n",
      "2019-02-15 13:42:45,325 - INFO - downloader - image #978\thttps://ae01.alicdn.com/kf/HTB1532cOXXXXXaEXFXXq6xXFXXXh/1-80-x.jpg_640x640.jpg\n",
      "2019-02-15 13:42:45,337 - INFO - downloader - image #979\thttps://img.siksinhot.com/place/1470413107820134.jpg\n",
      "2019-02-15 13:42:45,369 - INFO - downloader - image #980\thttp://www.pentabreed.com/upload/post/201601/20160122_49344566.jpg\n",
      "2019-02-15 13:42:45,413 - INFO - downloader - image #981\thttp://img1.daumcdn.net/thumb/R720x0/?fname=http://cfile16.uf.daum.net/image/145EB03750A4E97212F506\n",
      "2019-02-15 13:42:45,489 - INFO - downloader - image #982\thttps://www.dogdrip.net/files/attach/dvs/16/02/08/78/597/855/090/07c3555ddad8b80c48e7e35c4a2675f6.jpg\n",
      "2019-02-15 13:42:45,489 - INFO - downloader - image #983\thttp://www.crepack.co.kr/data/rental/goods/small/6(7).jpg\n"
     ]
    },
    {
     "ename": "KeyboardInterrupt",
     "evalue": "",
     "output_type": "error",
     "traceback": [
      "\u001b[1;31m---------------------------------------------------------------------------\u001b[0m",
      "\u001b[1;31mKeyboardInterrupt\u001b[0m                         Traceback (most recent call last)",
      "\u001b[1;32m<ipython-input-115-8c37ead32368>\u001b[0m in \u001b[0;36m<module>\u001b[1;34m\u001b[0m\n\u001b[0;32m      2\u001b[0m                      \u001b[0mfilters\u001b[0m\u001b[1;33m=\u001b[0m\u001b[1;33m{\u001b[0m\u001b[1;34m'date'\u001b[0m\u001b[1;33m:\u001b[0m\u001b[1;33m(\u001b[0m\u001b[1;33m(\u001b[0m\u001b[1;36m2016\u001b[0m\u001b[1;33m,\u001b[0m\u001b[1;36m1\u001b[0m\u001b[1;33m,\u001b[0m\u001b[1;36m1\u001b[0m\u001b[1;33m)\u001b[0m\u001b[1;33m,\u001b[0m\u001b[1;33m(\u001b[0m\u001b[1;36m2016\u001b[0m\u001b[1;33m,\u001b[0m\u001b[1;36m6\u001b[0m\u001b[1;33m,\u001b[0m\u001b[1;36m30\u001b[0m\u001b[1;33m)\u001b[0m\u001b[1;33m)\u001b[0m\u001b[1;33m}\u001b[0m\u001b[1;33m,\u001b[0m\u001b[1;33m\u001b[0m\u001b[0m\n\u001b[0;32m      3\u001b[0m                      \u001b[0mmax_num\u001b[0m\u001b[1;33m=\u001b[0m\u001b[1;36m1000\u001b[0m\u001b[1;33m,\u001b[0m\u001b[1;33m\u001b[0m\u001b[0m\n\u001b[1;32m----> 4\u001b[1;33m                      file_idx_offset=0)\n\u001b[0m",
      "\u001b[1;32mc:\\users\\user\\appdata\\local\\programs\\python\\python36\\lib\\site-packages\\icrawler\\builtin\\google.py\u001b[0m in \u001b[0;36mcrawl\u001b[1;34m(self, keyword, filters, offset, max_num, min_size, max_size, language, file_idx_offset, overwrite)\u001b[0m\n\u001b[0;32m    199\u001b[0m             overwrite=overwrite)\n\u001b[0;32m    200\u001b[0m         super(GoogleImageCrawler, self).crawl(\n\u001b[1;32m--> 201\u001b[1;33m             feeder_kwargs=feeder_kwargs, downloader_kwargs=downloader_kwargs)\n\u001b[0m",
      "\u001b[1;32mc:\\users\\user\\appdata\\local\\programs\\python\\python36\\lib\\site-packages\\icrawler\\crawler.py\u001b[0m in \u001b[0;36mcrawl\u001b[1;34m(self, feeder_kwargs, parser_kwargs, downloader_kwargs)\u001b[0m\n\u001b[0;32m    193\u001b[0m             \u001b[1;32mif\u001b[0m \u001b[1;32mnot\u001b[0m \u001b[0mself\u001b[0m\u001b[1;33m.\u001b[0m\u001b[0mdownloader\u001b[0m\u001b[1;33m.\u001b[0m\u001b[0mis_alive\u001b[0m\u001b[1;33m(\u001b[0m\u001b[1;33m)\u001b[0m\u001b[1;33m:\u001b[0m\u001b[1;33m\u001b[0m\u001b[0m\n\u001b[0;32m    194\u001b[0m                 \u001b[1;32mbreak\u001b[0m\u001b[1;33m\u001b[0m\u001b[0m\n\u001b[1;32m--> 195\u001b[1;33m             \u001b[0mtime\u001b[0m\u001b[1;33m.\u001b[0m\u001b[0msleep\u001b[0m\u001b[1;33m(\u001b[0m\u001b[1;36m1\u001b[0m\u001b[1;33m)\u001b[0m\u001b[1;33m\u001b[0m\u001b[0m\n\u001b[0m\u001b[0;32m    196\u001b[0m \u001b[1;33m\u001b[0m\u001b[0m\n\u001b[0;32m    197\u001b[0m         \u001b[1;32mif\u001b[0m \u001b[1;32mnot\u001b[0m \u001b[0mself\u001b[0m\u001b[1;33m.\u001b[0m\u001b[0mfeeder\u001b[0m\u001b[1;33m.\u001b[0m\u001b[0min_queue\u001b[0m\u001b[1;33m.\u001b[0m\u001b[0mempty\u001b[0m\u001b[1;33m(\u001b[0m\u001b[1;33m)\u001b[0m\u001b[1;33m:\u001b[0m\u001b[1;33m\u001b[0m\u001b[0m\n",
      "\u001b[1;31mKeyboardInterrupt\u001b[0m: "
     ]
    }
   ],
   "source": [
    "google_crawler.crawl(keyword='개',\n",
    "                     filters={'date':((2016,1,1),(2016,6,30))},\n",
    "                     max_num=1000,\n",
    "                     file_idx_offset=0)\n"
   ]
  },
  {
   "cell_type": "code",
   "execution_count": 116,
   "metadata": {},
   "outputs": [],
   "source": [
    "#######################---image classification"
   ]
  },
  {
   "cell_type": "code",
   "execution_count": 117,
   "metadata": {},
   "outputs": [],
   "source": [
    "from keras.models import Sequential\n",
    "from keras.layers import Convolution2D\n",
    "from keras.layers import MaxPooling2D\n",
    "from keras.layers import Flatten\n",
    "from keras.layers import Dense\n",
    "from keras.callbacks import EarlyStopping, TensorBoard\n",
    "from datetime import datetime"
   ]
  },
  {
   "cell_type": "code",
   "execution_count": 124,
   "metadata": {},
   "outputs": [],
   "source": [
    "classifier = Sequential()\n",
    "classifier.add(Convolution2D(32, (3, 3), input_shape = (64, 64, 3), activation = 'relu'))\n",
    "classifier.add(MaxPooling2D(pool_size = (2, 2)))\n",
    "classifier.add(Convolution2D(32, (3, 3), activation = 'relu'))\n",
    "classifier.add(MaxPooling2D(pool_size = (2, 2)))\n",
    "classifier.add(Flatten())\n",
    "classifier.add(Dense(units = 128, activation = \"relu\"))\n",
    "classifier.add(Dense(units = 1, activation = 'sigmoid'))\n",
    "\n",
    "classifier.compile(optimizer = 'adam', loss = 'binary_crossentropy', metrics = ['accuracy'])"
   ]
  },
  {
   "cell_type": "code",
   "execution_count": 125,
   "metadata": {},
   "outputs": [],
   "source": [
    "from keras.preprocessing.image import ImageDataGenerator\n",
    "\n",
    "train_datagen = ImageDataGenerator(rescale = 1./255,\n",
    "                                   shear_range = 0.2,\n",
    "                                   zoom_range = 0.2,\n",
    "                                   horizontal_flip = True)"
   ]
  },
  {
   "cell_type": "code",
   "execution_count": 132,
   "metadata": {
    "scrolled": true
   },
   "outputs": [
    {
     "name": "stdout",
     "output_type": "stream",
     "text": [
      "Found 1570 images belonging to 2 classes.\n"
     ]
    }
   ],
   "source": [
    "test_datagen = ImageDataGenerator(rescale = 1./255)\n",
    "\n",
    "training_set = train_datagen.flow_from_directory('C:/Users/user/Desktop/Satellite_deep_learning-master/scaler_Kmeans_mnist_vgg_crawling/AutoCrawler-master/download/training_set',\n",
    "                                                 target_size = (64, 64),\n",
    "                                                 batch_size = 32,\n",
    "                                                 class_mode = 'binary')\n"
   ]
  },
  {
   "cell_type": "code",
   "execution_count": 133,
   "metadata": {},
   "outputs": [
    {
     "name": "stdout",
     "output_type": "stream",
     "text": [
      "Found 1883 images belonging to 2 classes.\n"
     ]
    }
   ],
   "source": [
    "test_set = test_datagen.flow_from_directory('C:/Users/user/Desktop/Satellite_deep_learning-master/scaler_Kmeans_mnist_vgg_crawling/AutoCrawler-master/test_set',\n",
    "                                            target_size = (64, 64),\n",
    "                                            batch_size = 32,\n",
    "                                            class_mode = 'binary')\n"
   ]
  },
  {
   "cell_type": "code",
   "execution_count": 134,
   "metadata": {
    "scrolled": true
   },
   "outputs": [
    {
     "name": "stderr",
     "output_type": "stream",
     "text": [
      "c:\\users\\user\\appdata\\local\\programs\\python\\python36\\lib\\site-packages\\ipykernel_launcher.py:5: UserWarning: The semantics of the Keras 2 argument `steps_per_epoch` is not the same as the Keras 1 argument `samples_per_epoch`. `steps_per_epoch` is the number of batches to draw from the generator at each epoch. Basically steps_per_epoch = samples_per_epoch/batch_size. Similarly `nb_val_samples`->`validation_steps` and `val_samples`->`steps` arguments have changed. Update your method calls accordingly.\n",
      "  \"\"\"\n",
      "c:\\users\\user\\appdata\\local\\programs\\python\\python36\\lib\\site-packages\\ipykernel_launcher.py:5: UserWarning: Update your `fit_generator` call to the Keras 2 API: `fit_generator(<keras_pre..., validation_data=<keras_pre..., steps_per_epoch=62, epochs=10, validation_steps=500)`\n",
      "  \"\"\"\n"
     ]
    },
    {
     "name": "stdout",
     "output_type": "stream",
     "text": [
      "Epoch 1/10\n",
      "62/62 [==============================] - 44s 707ms/step - loss: 0.7893 - acc: 0.5096 - val_loss: 0.8616 - val_acc: 0.5262\n",
      "Epoch 2/10\n",
      "62/62 [==============================] - 41s 666ms/step - loss: 0.7232 - acc: 0.4830 - val_loss: 0.7831 - val_acc: 0.5037\n",
      "Epoch 3/10\n",
      "62/62 [==============================] - 43s 689ms/step - loss: 0.7009 - acc: 0.4985 - val_loss: 0.7757 - val_acc: 0.5055\n",
      "Epoch 4/10\n",
      "62/62 [==============================] - 43s 691ms/step - loss: 0.7002 - acc: 0.4754 - val_loss: 0.7717 - val_acc: 0.5056\n",
      "Epoch 5/10\n",
      "62/62 [==============================] - 43s 697ms/step - loss: 0.7007 - acc: 0.4728 - val_loss: 0.7548 - val_acc: 0.4904\n",
      "Epoch 6/10\n",
      "62/62 [==============================] - 42s 670ms/step - loss: 0.7070 - acc: 0.5100 - val_loss: 0.7545 - val_acc: 0.4901\n",
      "Epoch 7/10\n",
      "62/62 [==============================] - 41s 668ms/step - loss: 0.6995 - acc: 0.5135 - val_loss: 0.7594 - val_acc: 0.4913\n",
      "Epoch 8/10\n",
      "62/62 [==============================] - 41s 667ms/step - loss: 0.6997 - acc: 0.5111 - val_loss: 0.7582 - val_acc: 0.4904\n",
      "Epoch 9/10\n",
      "62/62 [==============================] - 42s 673ms/step - loss: 0.6997 - acc: 0.5155 - val_loss: 0.7602 - val_acc: 0.4909\n",
      "Epoch 10/10\n",
      "62/62 [==============================] - 45s 721ms/step - loss: 0.6992 - acc: 0.5160 - val_loss: 0.7583 - val_acc: 0.4920\n"
     ]
    },
    {
     "data": {
      "text/plain": [
       "<keras.callbacks.History at 0x1fd01b74c18>"
      ]
     },
     "execution_count": 134,
     "metadata": {},
     "output_type": "execute_result"
    }
   ],
   "source": [
    "classifier.fit_generator(training_set,\n",
    "                         samples_per_epoch = 2000,\n",
    "                         nb_epoch = 10,\n",
    "                         validation_data = test_set,\n",
    "                         nb_val_samples = 500)"
   ]
  },
  {
   "cell_type": "code",
   "execution_count": 135,
   "metadata": {},
   "outputs": [
    {
     "name": "stdout",
     "output_type": "stream",
     "text": [
      "Saved classifier to disk\n"
     ]
    }
   ],
   "source": [
    "classifier_json = classifier.to_json()\n",
    "with open(\"classifier.json\", \"w\") as json_file : \n",
    "    json_file.write(classifier_json)\n",
    "\n",
    "classifier.save_weights(\"classifier_model.hdf5\")\n",
    "print(\"Saved classifier to disk\")"
   ]
  },
  {
   "cell_type": "code",
   "execution_count": 205,
   "metadata": {},
   "outputs": [
    {
     "name": "stdout",
     "output_type": "stream",
     "text": [
      "dog\n",
      "[[0.5069371]]\n"
     ]
    }
   ],
   "source": [
    "import numpy as np\n",
    "from keras.preprocessing import image\n",
    "test_image = image.load_img('cat.jpg', target_size = (64, 64))\n",
    "test_image = image.img_to_array(test_image)\n",
    "test_image = np.expand_dims(test_image, axis = 0)\n",
    "result = classifier.predict(test_image)\n",
    "training_set.class_indices\n",
    " \n",
    "if result[0][0] >= 0.5:\n",
    "    prediction = 'dog'\n",
    "else:\n",
    "    prediction = 'cat'\n",
    "print(prediction)\n",
    "print(result)"
   ]
  },
  {
   "cell_type": "code",
   "execution_count": 206,
   "metadata": {},
   "outputs": [
    {
     "name": "stdout",
     "output_type": "stream",
     "text": [
      "0.5069371\n"
     ]
    }
   ],
   "source": [
    "print(result[0][0])"
   ]
  },
  {
   "cell_type": "code",
   "execution_count": 207,
   "metadata": {},
   "outputs": [],
   "source": [
    "##############################___VGGNet"
   ]
  },
  {
   "cell_type": "code",
   "execution_count": 1,
   "metadata": {},
   "outputs": [
    {
     "name": "stderr",
     "output_type": "stream",
     "text": [
      "Using TensorFlow backend.\n"
     ]
    },
    {
     "name": "stdout",
     "output_type": "stream",
     "text": [
      "A local file was found, but it seems to be incomplete or outdated because the auto file hash does not match the original value of 64373286793e3c8b2b4e3219cbf3544b so we will re-download the data.\n",
      "Downloading data from https://github.com/fchollet/deep-learning-models/releases/download/v0.1/vgg16_weights_tf_dim_ordering_tf_kernels.h5\n",
      "553467904/553467096 [==============================] - 260s 0us/step\n",
      "_________________________________________________________________\n",
      "Layer (type)                 Output Shape              Param #   \n",
      "=================================================================\n",
      "input_1 (InputLayer)         (None, 224, 224, 3)       0         \n",
      "_________________________________________________________________\n",
      "block1_conv1 (Conv2D)        (None, 224, 224, 64)      1792      \n",
      "_________________________________________________________________\n",
      "block1_conv2 (Conv2D)        (None, 224, 224, 64)      36928     \n",
      "_________________________________________________________________\n",
      "block1_pool (MaxPooling2D)   (None, 112, 112, 64)      0         \n",
      "_________________________________________________________________\n",
      "block2_conv1 (Conv2D)        (None, 112, 112, 128)     73856     \n",
      "_________________________________________________________________\n",
      "block2_conv2 (Conv2D)        (None, 112, 112, 128)     147584    \n",
      "_________________________________________________________________\n",
      "block2_pool (MaxPooling2D)   (None, 56, 56, 128)       0         \n",
      "_________________________________________________________________\n",
      "block3_conv1 (Conv2D)        (None, 56, 56, 256)       295168    \n",
      "_________________________________________________________________\n",
      "block3_conv2 (Conv2D)        (None, 56, 56, 256)       590080    \n",
      "_________________________________________________________________\n",
      "block3_conv3 (Conv2D)        (None, 56, 56, 256)       590080    \n",
      "_________________________________________________________________\n",
      "block3_pool (MaxPooling2D)   (None, 28, 28, 256)       0         \n",
      "_________________________________________________________________\n",
      "block4_conv1 (Conv2D)        (None, 28, 28, 512)       1180160   \n",
      "_________________________________________________________________\n",
      "block4_conv2 (Conv2D)        (None, 28, 28, 512)       2359808   \n",
      "_________________________________________________________________\n",
      "block4_conv3 (Conv2D)        (None, 28, 28, 512)       2359808   \n",
      "_________________________________________________________________\n",
      "block4_pool (MaxPooling2D)   (None, 14, 14, 512)       0         \n",
      "_________________________________________________________________\n",
      "block5_conv1 (Conv2D)        (None, 14, 14, 512)       2359808   \n",
      "_________________________________________________________________\n",
      "block5_conv2 (Conv2D)        (None, 14, 14, 512)       2359808   \n",
      "_________________________________________________________________\n",
      "block5_conv3 (Conv2D)        (None, 14, 14, 512)       2359808   \n",
      "_________________________________________________________________\n",
      "block5_pool (MaxPooling2D)   (None, 7, 7, 512)         0         \n",
      "_________________________________________________________________\n",
      "flatten (Flatten)            (None, 25088)             0         \n",
      "_________________________________________________________________\n",
      "fc1 (Dense)                  (None, 4096)              102764544 \n",
      "_________________________________________________________________\n",
      "fc2 (Dense)                  (None, 4096)              16781312  \n",
      "_________________________________________________________________\n",
      "predictions (Dense)          (None, 1000)              4097000   \n",
      "=================================================================\n",
      "Total params: 138,357,544\n",
      "Trainable params: 138,357,544\n",
      "Non-trainable params: 0\n",
      "_________________________________________________________________\n",
      "None\n"
     ]
    },
    {
     "ename": "FileNotFoundError",
     "evalue": "[Errno 2] No such file or directory: 'beer.jpg'",
     "output_type": "error",
     "traceback": [
      "\u001b[1;31m---------------------------------------------------------------------------\u001b[0m",
      "\u001b[1;31mFileNotFoundError\u001b[0m                         Traceback (most recent call last)",
      "\u001b[1;32m<ipython-input-1-1ab5166bcbee>\u001b[0m in \u001b[0;36m<module>\u001b[1;34m\u001b[0m\n\u001b[0;32m      8\u001b[0m \u001b[1;33m\u001b[0m\u001b[0m\n\u001b[0;32m      9\u001b[0m \u001b[1;32mfrom\u001b[0m \u001b[0mkeras\u001b[0m\u001b[1;33m.\u001b[0m\u001b[0mpreprocessing\u001b[0m\u001b[1;33m.\u001b[0m\u001b[0mimage\u001b[0m \u001b[1;32mimport\u001b[0m \u001b[0mload_img\u001b[0m\u001b[1;33m\u001b[0m\u001b[0m\n\u001b[1;32m---> 10\u001b[1;33m \u001b[0mimage\u001b[0m \u001b[1;33m=\u001b[0m \u001b[0mload_img\u001b[0m\u001b[1;33m(\u001b[0m\u001b[1;34m'beer.jpg'\u001b[0m\u001b[1;33m,\u001b[0m \u001b[0mtarget_size\u001b[0m\u001b[1;33m=\u001b[0m\u001b[1;33m(\u001b[0m\u001b[1;36m224\u001b[0m\u001b[1;33m,\u001b[0m \u001b[1;36m224\u001b[0m\u001b[1;33m)\u001b[0m\u001b[1;33m)\u001b[0m\u001b[1;33m\u001b[0m\u001b[0m\n\u001b[0m\u001b[0;32m     11\u001b[0m \u001b[1;33m\u001b[0m\u001b[0m\n\u001b[0;32m     12\u001b[0m \u001b[1;32mfrom\u001b[0m \u001b[0mkeras\u001b[0m\u001b[1;33m.\u001b[0m\u001b[0mpreprocessing\u001b[0m\u001b[1;33m.\u001b[0m\u001b[0mimage\u001b[0m \u001b[1;32mimport\u001b[0m \u001b[0mimg_to_array\u001b[0m\u001b[1;33m\u001b[0m\u001b[0m\n",
      "\u001b[1;32mc:\\users\\user\\appdata\\local\\programs\\python\\python36\\lib\\site-packages\\keras_preprocessing\\image\\utils.py\u001b[0m in \u001b[0;36mload_img\u001b[1;34m(path, grayscale, color_mode, target_size, interpolation)\u001b[0m\n\u001b[0;32m    102\u001b[0m         raise ImportError('Could not import PIL.Image. '\n\u001b[0;32m    103\u001b[0m                           'The use of `array_to_img` requires PIL.')\n\u001b[1;32m--> 104\u001b[1;33m     \u001b[0mimg\u001b[0m \u001b[1;33m=\u001b[0m \u001b[0mpil_image\u001b[0m\u001b[1;33m.\u001b[0m\u001b[0mopen\u001b[0m\u001b[1;33m(\u001b[0m\u001b[0mpath\u001b[0m\u001b[1;33m)\u001b[0m\u001b[1;33m\u001b[0m\u001b[0m\n\u001b[0m\u001b[0;32m    105\u001b[0m     \u001b[1;32mif\u001b[0m \u001b[0mcolor_mode\u001b[0m \u001b[1;33m==\u001b[0m \u001b[1;34m'grayscale'\u001b[0m\u001b[1;33m:\u001b[0m\u001b[1;33m\u001b[0m\u001b[0m\n\u001b[0;32m    106\u001b[0m         \u001b[1;32mif\u001b[0m \u001b[0mimg\u001b[0m\u001b[1;33m.\u001b[0m\u001b[0mmode\u001b[0m \u001b[1;33m!=\u001b[0m \u001b[1;34m'L'\u001b[0m\u001b[1;33m:\u001b[0m\u001b[1;33m\u001b[0m\u001b[0m\n",
      "\u001b[1;32mc:\\users\\user\\appdata\\local\\programs\\python\\python36\\lib\\site-packages\\PIL\\Image.py\u001b[0m in \u001b[0;36mopen\u001b[1;34m(fp, mode)\u001b[0m\n\u001b[0;32m   2632\u001b[0m \u001b[1;33m\u001b[0m\u001b[0m\n\u001b[0;32m   2633\u001b[0m     \u001b[1;32mif\u001b[0m \u001b[0mfilename\u001b[0m\u001b[1;33m:\u001b[0m\u001b[1;33m\u001b[0m\u001b[0m\n\u001b[1;32m-> 2634\u001b[1;33m         \u001b[0mfp\u001b[0m \u001b[1;33m=\u001b[0m \u001b[0mbuiltins\u001b[0m\u001b[1;33m.\u001b[0m\u001b[0mopen\u001b[0m\u001b[1;33m(\u001b[0m\u001b[0mfilename\u001b[0m\u001b[1;33m,\u001b[0m \u001b[1;34m\"rb\"\u001b[0m\u001b[1;33m)\u001b[0m\u001b[1;33m\u001b[0m\u001b[0m\n\u001b[0m\u001b[0;32m   2635\u001b[0m         \u001b[0mexclusive_fp\u001b[0m \u001b[1;33m=\u001b[0m \u001b[1;32mTrue\u001b[0m\u001b[1;33m\u001b[0m\u001b[0m\n\u001b[0;32m   2636\u001b[0m \u001b[1;33m\u001b[0m\u001b[0m\n",
      "\u001b[1;31mFileNotFoundError\u001b[0m: [Errno 2] No such file or directory: 'beer.jpg'"
     ]
    }
   ],
   "source": [
    "from keras.applications.vgg16 import VGG16\n",
    "model = VGG16()\n",
    "\n",
    "print(model.summary())\n",
    "\n",
    "from keras.applications.vgg16 import VGG16\n",
    "model = VGG16()\n",
    "\n",
    "from keras.preprocessing.image import load_img\n",
    "image = load_img('beer.jpg', target_size=(224, 224))\n",
    "\n",
    "from keras.preprocessing.image import img_to_array\n",
    "image = img_to_array(image)\n",
    "\n",
    "image = image.reshape((1, image.shape[0], image.shape[1], image.shape[2]))\n",
    "\n",
    "from keras.applications.vgg16 import preprocess_input\n",
    "image = preprocess_input(image)\n",
    "\n",
    "yhat = model.predict(image)\n",
    "\n",
    "from keras.applications.vgg16 import decode_predictions\n",
    "\n",
    "label = decode_predictions(yhat)\n",
    "\n",
    "label = label[0][0]\n",
    "\n",
    "print('%s (%.2f%%)' % (label[1], label[2]*100))"
   ]
  },
  {
   "cell_type": "code",
   "execution_count": null,
   "metadata": {},
   "outputs": [],
   "source": []
  }
 ],
 "metadata": {
  "kernelspec": {
   "display_name": "Python 3",
   "language": "python",
   "name": "python3"
  },
  "language_info": {
   "codemirror_mode": {
    "name": "ipython",
    "version": 3
   },
   "file_extension": ".py",
   "mimetype": "text/x-python",
   "name": "python",
   "nbconvert_exporter": "python",
   "pygments_lexer": "ipython3",
   "version": "3.6.5"
  }
 },
 "nbformat": 4,
 "nbformat_minor": 2
}
